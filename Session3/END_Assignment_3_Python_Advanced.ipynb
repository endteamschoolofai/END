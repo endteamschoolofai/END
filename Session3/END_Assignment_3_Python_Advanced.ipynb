{
  "nbformat": 4,
  "nbformat_minor": 0,
  "metadata": {
    "colab": {
      "name": "END_Assignment_3_Python_Advanced.ipynb",
      "provenance": [],
      "collapsed_sections": [],
      "include_colab_link": true
    },
    "kernelspec": {
      "name": "python3",
      "display_name": "Python 3"
    }
  },
  "cells": [
    {
      "cell_type": "markdown",
      "metadata": {
        "id": "view-in-github",
        "colab_type": "text"
      },
      "source": [
        "<a href=\"https://colab.research.google.com/github/endteamschoolofai/END/blob/main/Session3/END_Assignment_3_Python_Advanced.ipynb\" target=\"_parent\"><img src=\"https://colab.research.google.com/assets/colab-badge.svg\" alt=\"Open In Colab\"/></a>"
      ]
    },
    {
      "cell_type": "markdown",
      "metadata": {
        "id": "yWNGasydXF2G"
      },
      "source": [
        "### **Team Members**\n",
        "\n",
        "Ayushee Mittal (ayusheemittal530@gmail.com)   \n",
        "Smita Sasindran (smitasasindran@gmail.com)   \n",
        "Vidhya Madhavi (vidhya.madhavi@gmail.com)   \n",
        "Vikas Kumar     "
      ]
    },
    {
      "cell_type": "markdown",
      "metadata": {
        "id": "99fBmDSqbUzx"
      },
      "source": [
        "### **Question 1**\n",
        "Write a function using only list filter lambda that can tell whether a number is a Fibonacci number or not. You can use a pre-calculated list/dict to store fab numbers till 10000 PTS:100"
      ]
    },
    {
      "cell_type": "code",
      "metadata": {
        "id": "lPOPkQcQbKRQ",
        "outputId": "acf1d2d3-4170-4abe-acbc-12c1c776d1e4",
        "colab": {
          "base_uri": "https://localhost:8080/"
        }
      },
      "source": [
        "from functools import reduce\n",
        "fib_numbers = lambda y: reduce(lambda x, _: x + [x[-1] + x[-2]], range(y - 2), [0, 1])\n",
        "\n",
        "fib_set = fib_numbers(100)\n",
        "print(fib_set)\n",
        "\n",
        "def check_fib(number):\n",
        "  return number in fib_set\n",
        "\n",
        "check_fib(10)  \n"
      ],
      "execution_count": 2,
      "outputs": [
        {
          "output_type": "stream",
          "text": [
            "[0, 1, 1, 2, 3, 5, 8, 13, 21, 34, 55, 89, 144, 233, 377, 610, 987, 1597, 2584, 4181, 6765, 10946, 17711, 28657, 46368, 75025, 121393, 196418, 317811, 514229, 832040, 1346269, 2178309, 3524578, 5702887, 9227465, 14930352, 24157817, 39088169, 63245986, 102334155, 165580141, 267914296, 433494437, 701408733, 1134903170, 1836311903, 2971215073, 4807526976, 7778742049, 12586269025, 20365011074, 32951280099, 53316291173, 86267571272, 139583862445, 225851433717, 365435296162, 591286729879, 956722026041, 1548008755920, 2504730781961, 4052739537881, 6557470319842, 10610209857723, 17167680177565, 27777890035288, 44945570212853, 72723460248141, 117669030460994, 190392490709135, 308061521170129, 498454011879264, 806515533049393, 1304969544928657, 2111485077978050, 3416454622906707, 5527939700884757, 8944394323791464, 14472334024676221, 23416728348467685, 37889062373143906, 61305790721611591, 99194853094755497, 160500643816367088, 259695496911122585, 420196140727489673, 679891637638612258, 1100087778366101931, 1779979416004714189, 2880067194370816120, 4660046610375530309, 7540113804746346429, 12200160415121876738, 19740274219868223167, 31940434634990099905, 51680708854858323072, 83621143489848422977, 135301852344706746049, 218922995834555169026]\n"
          ],
          "name": "stdout"
        },
        {
          "output_type": "execute_result",
          "data": {
            "text/plain": [
              "False"
            ]
          },
          "metadata": {
            "tags": []
          },
          "execution_count": 2
        }
      ]
    },
    {
      "cell_type": "markdown",
      "metadata": {
        "id": "hBC8GztkbU4G"
      },
      "source": [
        "### **Question 2**\n",
        "Using list comprehension (and zip/lambda/etc if required) write five different expressions that:\n",
        "1. add 2 iterables a and b such that a is even and b is odd\n",
        "2. strips every vowel from a string provided (tsai>>t s)\n",
        "3. acts like a ReLU function for a 1D array\n",
        "4. acts like a sigmoid function for a 1D array\n",
        "5. takes a small character string and shifts all characters by 5 (handle boundary conditions) tsai>>yxfn\n",
        "\n",
        "\n"
      ]
    },
    {
      "cell_type": "code",
      "metadata": {
        "id": "5Cmmv0xHcOvv",
        "outputId": "9cdc3733-77d0-4ab9-8bbf-4afedb841337",
        "colab": {
          "base_uri": "https://localhost:8080/"
        }
      },
      "source": [
        "#2.1: add 2 iterables a and b such that a is even and b is odd\n",
        "\n",
        "from itertools import zip_longest\n",
        "\n",
        "# select all even numbers create even iterable\n",
        "even_iterablelist = [i  for i in range(1,10) if i%2==0]\n",
        "print(even_iterablelist)\n",
        "\n",
        "# create odd iterable\n",
        "odd_iterablelist = [i  for i in range(3, 17) if i%3==0]\n",
        "print(odd_iterablelist)\n",
        "\n",
        "print('len of even_iterablelist:', len(even_iterablelist))\n",
        "print('len of odd_iterablelist: ', len(odd_iterablelist))\n",
        "\n",
        "#add even and odd  list#add 2 iterables\n",
        "res = [i+j for i, j in zip_longest(even_iterablelist, odd_iterablelist, fillvalue=0)]\n",
        "\n",
        "print(res)"
      ],
      "execution_count": 3,
      "outputs": [
        {
          "output_type": "stream",
          "text": [
            "[2, 4, 6, 8]\n",
            "[3, 6, 9, 12, 15]\n",
            "len of even_iterablelist: 4\n",
            "len of odd_iterablelist:  5\n",
            "[5, 10, 15, 20, 15]\n"
          ],
          "name": "stdout"
        }
      ]
    },
    {
      "cell_type": "code",
      "metadata": {
        "id": "i6vepdedWGUo",
        "outputId": "36fea46c-a9a8-4eb2-d94f-be6a328022a5",
        "colab": {
          "base_uri": "https://localhost:8080/"
        }
      },
      "source": [
        "#2.2: strips every vowel from a string provided (tsai>>t s)\n",
        "\n",
        "example = 'Natural Language Processing'\n",
        "vowels = \"AaEeIiOoUu\"\n",
        "res=[]\n",
        "res.extend([x if not x in vowels else ' ' for x in example ])\n",
        "print(''.join(res))"
      ],
      "execution_count": 4,
      "outputs": [
        {
          "output_type": "stream",
          "text": [
            "N t r l L ng  g  Pr c ss ng\n"
          ],
          "name": "stdout"
        }
      ]
    },
    {
      "cell_type": "code",
      "metadata": {
        "id": "Sm36JViTWPvQ",
        "outputId": "f7bf6869-ee32-442d-e2ef-e44ff53f29b0",
        "colab": {
          "base_uri": "https://localhost:8080/"
        }
      },
      "source": [
        "# 2.3: acts like a ReLU function for a 1D array\n",
        "l = [-1, -2, 0, 4, 5]\n",
        "list(map(lambda x: x if x >= 0 else 0, l))"
      ],
      "execution_count": 5,
      "outputs": [
        {
          "output_type": "execute_result",
          "data": {
            "text/plain": [
              "[0, 0, 0, 4, 5]"
            ]
          },
          "metadata": {
            "tags": []
          },
          "execution_count": 5
        }
      ]
    },
    {
      "cell_type": "code",
      "metadata": {
        "id": "iWEkC1otWU7T",
        "outputId": "95f6d5f1-3088-4618-82b4-b3dff94567ef",
        "colab": {
          "base_uri": "https://localhost:8080/"
        }
      },
      "source": [
        "# 2.4: acts like a sigmoid function for a 1D array\n",
        "\n",
        "import math\n",
        "l = [-1, -2, 0, 4, 5]\n",
        "list(map(lambda x: 1/(1 + math.exp(-x)) , l))"
      ],
      "execution_count": 6,
      "outputs": [
        {
          "output_type": "execute_result",
          "data": {
            "text/plain": [
              "[0.2689414213699951,\n",
              " 0.11920292202211755,\n",
              " 0.5,\n",
              " 0.9820137900379085,\n",
              " 0.9933071490757153]"
            ]
          },
          "metadata": {
            "tags": []
          },
          "execution_count": 6
        }
      ]
    },
    {
      "cell_type": "code",
      "metadata": {
        "id": "WjOLlDbPWbAR",
        "outputId": "bd2c7603-66a5-4ca7-c719-86866a14b84b",
        "colab": {
          "base_uri": "https://localhost:8080/"
        }
      },
      "source": [
        "# 2.5: #takes a small character string and shifts all characters by 5 (handle boundary conditions) tsai>>yxfn\n",
        "\n",
        "example = 'Natural Language Processing'\n",
        "res=[]\n",
        "res.extend([chr(ord(x)+5) for x in example])\n",
        "print(''.join(res))\n",
        "# chr(ord(x)+5)"
      ],
      "execution_count": 7,
      "outputs": [
        {
          "output_type": "stream",
          "text": [
            "Sfyzwfq%Qfslzflj%Uwthjxxnsl\n"
          ],
          "name": "stdout"
        }
      ]
    },
    {
      "cell_type": "code",
      "metadata": {
        "id": "7Q4_Cl79WezF",
        "outputId": "5c02f359-fb38-4f41-8e8c-3200e3e2edcd",
        "colab": {
          "base_uri": "https://localhost:8080/"
        }
      },
      "source": [
        "# 2.5: #takes a small character string and shifts all characters by 5 (handle boundary conditions) tsai>>yxfn\n",
        "\n",
        "example = 'Natural Language Processing YYYxxxVVVzzzWWW'\n",
        "res=[]\n",
        "res.extend([chr(ord(x)+5) if x!= ' ' else ' ' for x in example])\n",
        "idx = 0\n",
        "while (idx < len(res)):\n",
        "  if(97 <= ord(res[idx]) <= 122 or 65 <= ord(res[idx]) <= 90):\n",
        "    pass\n",
        "    #print(res[idx])\n",
        "\n",
        "  elif(91 <= ord(res[idx]) <= 96):\n",
        "    res[idx] = chr(ord(res[idx]) - 90 + 65 - 1)\n",
        "    #print(res[idx])\n",
        "\n",
        "  elif (123 <= ord(res[idx]) <= 127):\n",
        "    res[idx] = chr(ord(res[idx]) - 122 + 97 - 1)\n",
        "    #print(res[idx])\n",
        "    \n",
        "  idx = idx + 1\n",
        "\n",
        "string = ''.join(res)\n",
        "\n",
        "print(example)\n",
        "print(string)"
      ],
      "execution_count": 8,
      "outputs": [
        {
          "output_type": "stream",
          "text": [
            "Natural Language Processing YYYxxxVVVzzzWWW\n",
            "Sfyzwfq Qfslzflj Uwthjxxnsl DDDcccAAAeeeBBB\n"
          ],
          "name": "stdout"
        }
      ]
    },
    {
      "cell_type": "markdown",
      "metadata": {
        "id": "Ju-7tKkEcHtA"
      },
      "source": [
        "### **Question 3**\n",
        "\n",
        "A list comprehension expression that takes a ~200 word paragraph (write your own paragraph to check), and checks whether it has any of the swear words mentioned in https://github.com/RobertJGabriel/Google-profanity-words/blob/master/list.txt PTS:200"
      ]
    },
    {
      "cell_type": "code",
      "metadata": {
        "id": "q4ALLiU8cNoj",
        "outputId": "4eb8c661-9f35-42da-aa98-140029edcf53",
        "colab": {
          "base_uri": "https://localhost:8080/"
        }
      },
      "source": [
        "!git clone https://github.com/RobertJGabriel/Google-profanity-words.git\n"
      ],
      "execution_count": 9,
      "outputs": [
        {
          "output_type": "stream",
          "text": [
            "Cloning into 'Google-profanity-words'...\n",
            "remote: Enumerating objects: 9, done.\u001b[K\n",
            "remote: Counting objects: 100% (9/9), done.\u001b[K\n",
            "remote: Compressing objects: 100% (9/9), done.\u001b[K\n",
            "remote: Total 25 (delta 2), reused 0 (delta 0), pack-reused 16\u001b[K\n",
            "Unpacking objects: 100% (25/25), done.\n"
          ],
          "name": "stdout"
        }
      ]
    },
    {
      "cell_type": "code",
      "metadata": {
        "id": "KcFYquzP_QWz",
        "outputId": "8bbde92b-33b8-4c67-d98b-5622c7576518",
        "colab": {
          "base_uri": "https://localhost:8080/"
        }
      },
      "source": [
        "!pip install nltk"
      ],
      "execution_count": 10,
      "outputs": [
        {
          "output_type": "stream",
          "text": [
            "Requirement already satisfied: nltk in /usr/local/lib/python3.6/dist-packages (3.2.5)\n",
            "Requirement already satisfied: six in /usr/local/lib/python3.6/dist-packages (from nltk) (1.15.0)\n"
          ],
          "name": "stdout"
        }
      ]
    },
    {
      "cell_type": "code",
      "metadata": {
        "id": "U8AOLjzv_kBa"
      },
      "source": [
        "# Text, add bigger text\n",
        "text = \"\"\"Pundits have spent months pontificating about the “Trump Effect.” They have applied the term to the president’s impact on economic markets, the European political landscape, a spike in bullying, and more. But one of Trump’s broadest, most-obvious achievements has been expanding the reach of vulgarities.\n",
        "\n",
        "No American president has championed coarse, cruel, and dangerous language as Trump has. Whether it has been his what he has said in private (“Grab ‘em by the pussy”) or in public (“Wouldn’t you love to see one of these NFL owners, when somebody disrespects our flag, to say, ‘Get that son of a bitch off the field right now’”), his words have led the charge of an explosion of profanity, sexual innuendo, and racial slurs from State Houses to high school classrooms to the streets. All the while, newspapers have wrestled with how to report on the language and its implications.Trump and his mouth (and tweets) have dominated headlines, but scores of leading politicians have added to the chorus of crude and lewd discourse. Earlier this year, Sen. Kirsten Gillibrand told New York Magazine, “If we’re not helping people, we should go the fuck home.” This summer, White House communications director Anthony Scaramucci left a voicemail for a New Yorker writer saying, among other things, “I’m not Steve Bannon, I’m not trying to suck my own cock.” From Trump to Democratic National Committee Chairman Tom Perez (who seems to be having a love affair with the word “shit”), obscenities proliferate. For major print media outlets, this language isn’t commonplace but most will print it. For smaller papers, regional and family papers, the words can be the subject of long, thoughtful editorial meetings.\n",
        "\n",
        "“Oh, this kind of language often makes for some entertaining discussions in the newsroom,” said Judith Meyer, the executive editor of the Sun Journal in Lewiston, Maine. “Even though the world around us is changing, we are sticking to our standards here. This means we look at a quote and ask if it is really necessary to tell the story or is it just there to titillate or shock.”\n",
        "\n",
        "Those standards are largely inline with traditional family paper practices. Typically, this means maybe a “damn” or an “ass” is kept in a quote if it provides context, but it’s not used to be sensational. Yes, “damn” is pretty tame, but unlike the New York Magazine or your average sitcom, the newspaper industry has always pushed back against our increasingly ribald world. However, that push back seems to be slowly losing force in the Trump era.\n",
        "\n",
        "“I remember writing a column and using the word ‘damn’ and having somebody tell me I can’t publish it, and this was when I was at the Boston Globe,” Portland Press Herald managing editor Steve Greenlee said. “I also remember people asking to me change ‘hell’ to ‘heck.’ But as language changes so do newspapers and we are seeing an increasing amount of crassness in political discourse and we have to deal with it more often.”\n",
        "\n",
        "Greenlee and the Portland Press Herald have been ahead of the curve in dealing with vulgar politicians. Back before Trump was even a candidate, Maine governor Paul LePage leapt across the border separating decorum and indecency. In 2013, the Press Herald ran with a headline that read: “LePage draws fire for sexual remark; He says a legislator critical of his budget is ‘the first one to give it to the people without providing Vaseline.’”\n",
        "\n",
        "“When (LePage) or Trump or any politician uses language like that you need to bring your news judgment to bear,” Greenlee said. “When Trump was running for president he said, ‘I would bomb the shit out of ’em’ (about ISIL). This is kind of quote we would publish now but wouldn’t a few years ago. But that doesn’t mean everyone just gets to say ‘shit’ and we’ll print it.”\n",
        "\n",
        "For some editors, quoting language verbatim is an important part of telling the truth. LePage’s Vaseline remark is crude, but quoting it allows readers to ponder the misogynistic, homophobic, and sexually abusive overtones of the phrase. Trump’s speech often wanders, often gallops, into similar territory: miso\n",
        "gyny, sexually aggressive or inappropriate innuendo, racial slurs.\n",
        "\n",
        "For Shannon Shaw Duty, editor of the Osage News, a tribal publication in northeast Oklahoma, redacting or paraphrasing language can excuse or mask hate speech.\n",
        "\n",
        "“Our policy is to publish comments in full because we feel is important to let our readers now exactly how the person we are quoting chooses to express himself,” Duty said. “The kind of language a person chooses to use reveals the kind of person they are. It shows their character, their integrity, their decorum and couth. If I am listening to a politician use expletives over and over again, that’s going to tell me a lot about him.”\n",
        "\"\"\"\n",
        "\n"
      ],
      "execution_count": 11,
      "outputs": []
    },
    {
      "cell_type": "code",
      "metadata": {
        "id": "ilw9ngbSDAgP"
      },
      "source": [
        "with open('Google-profanity-words/list.txt') as f:\n",
        "  content = f.readlines()\n",
        "swear_words = [s.strip() for s in content]  "
      ],
      "execution_count": 12,
      "outputs": []
    },
    {
      "cell_type": "code",
      "metadata": {
        "id": "h41YrhBn6wt-",
        "outputId": "0e8b85ce-8e22-41f3-914c-23d8063299a5",
        "colab": {
          "base_uri": "https://localhost:8080/"
        }
      },
      "source": [
        "import nltk\n",
        "from nltk import sent_tokenize\n",
        "from nltk import word_tokenize\n",
        "nltk.download('punkt')\n",
        "\n",
        "swear_words = set(swear_words)\n",
        "has_swear = False\n",
        "words = word_tokenize(text)\n",
        "\n",
        "print(len(words))\n",
        "\n",
        "for w in words:\n",
        "  if w.lower() in swear_words:\n",
        "    has_swear = True\n",
        "    #print(w)\n",
        "    break\n",
        "\n",
        "print(\"Has swear words = \", has_swear)\n"
      ],
      "execution_count": 13,
      "outputs": [
        {
          "output_type": "stream",
          "text": [
            "[nltk_data] Downloading package punkt to /root/nltk_data...\n",
            "[nltk_data]   Unzipping tokenizers/punkt.zip.\n",
            "983\n",
            "Has swear words =  True\n"
          ],
          "name": "stdout"
        }
      ]
    },
    {
      "cell_type": "markdown",
      "metadata": {
        "id": "4TutaYNCcN66"
      },
      "source": [
        "### **Question 4**\n",
        "\n",
        " Using reduce functions: PTS:100\n",
        "\n",
        "    - add only even numbers in a list\n",
        "    - find the biggest character in a string (printable ascii characters)\n",
        "    - adds every 3rd number in a list\n",
        "\n"
      ]
    },
    {
      "cell_type": "code",
      "metadata": {
        "id": "S8kweDDEc0eO",
        "outputId": "2ec08400-869a-45c8-b702-3bfa1a9c2482",
        "colab": {
          "base_uri": "https://localhost:8080/"
        }
      },
      "source": [
        "# 4.1: - add only even numbers in a list\n",
        "\n",
        "import functools \n",
        "\n",
        "def add_even(input_list):\n",
        "  #even = [e for e in input_list if e % 2 == 0]\n",
        "  #result = functools.reduce(lambda a, b: a + b, even, 0)\n",
        "  result = functools.reduce(lambda a, b: a + b if b % 2 == 0 else a, input_list, 0)\n",
        "  print(result)\n",
        "  return result\n",
        "\n",
        "list1 = [2, 5, 7, 12, 5]\n",
        "add_even(list1)\n",
        "\n",
        "list2 = [1, 3, 1, 5, 7, 11]\n",
        "add_even(list2)\n"
      ],
      "execution_count": 14,
      "outputs": [
        {
          "output_type": "stream",
          "text": [
            "14\n",
            "0\n"
          ],
          "name": "stdout"
        },
        {
          "output_type": "execute_result",
          "data": {
            "text/plain": [
              "0"
            ]
          },
          "metadata": {
            "tags": []
          },
          "execution_count": 14
        }
      ]
    },
    {
      "cell_type": "code",
      "metadata": {
        "id": "WUonCTEuyNdT",
        "outputId": "36c39128-b145-475b-823d-cc22471ec68f",
        "colab": {
          "base_uri": "https://localhost:8080/",
          "height": 103
        }
      },
      "source": [
        "# 4.2: - find the biggest character in a string (printable ascii characters)\n",
        "\n",
        "import functools\n",
        "import string\n",
        "\n",
        "printable = set(string.printable)\n",
        "\n",
        "def valid_char(ch, a):\n",
        "  return ch if ch in printable else a\n",
        "\n",
        "def get_max_char(input_str):\n",
        "  # Optimize, call valid char only once\n",
        "  result = functools.reduce(lambda a, b: a if a >= valid_char(b, a) else valid_char(b, a), input_str, \"\")\n",
        "  print(\"Result is: \" + result + \", ord=\" + str(ord(result)))\n",
        "  return result\n",
        "\n",
        "print(\"Printable chars: \" + string.printable) # Not sorted\n",
        "input1 = \"42lkjlr)24Z\"\n",
        "get_max_char(input1)\n",
        "\n",
        "input2 = \"034(åéîøü)567\"\n",
        "get_max_char(input2)\n"
      ],
      "execution_count": 15,
      "outputs": [
        {
          "output_type": "stream",
          "text": [
            "Printable chars: 0123456789abcdefghijklmnopqrstuvwxyzABCDEFGHIJKLMNOPQRSTUVWXYZ!\"#$%&'()*+,-./:;<=>?@[\\]^_`{|}~ \t\n",
            "\r\u000b\f\n",
            "Result is: r, ord=114\n",
            "Result is: 7, ord=55\n"
          ],
          "name": "stdout"
        },
        {
          "output_type": "execute_result",
          "data": {
            "application/vnd.google.colaboratory.intrinsic+json": {
              "type": "string"
            },
            "text/plain": [
              "'7'"
            ]
          },
          "metadata": {
            "tags": []
          },
          "execution_count": 15
        }
      ]
    },
    {
      "cell_type": "code",
      "metadata": {
        "id": "9lvWEFZfuLfE",
        "outputId": "d3588c11-eaf6-4d9f-fc7c-72f0b2cb0ab6",
        "colab": {
          "base_uri": "https://localhost:8080/"
        }
      },
      "source": [
        "# 4.3: - adds every 3rd number in a list\n",
        "\n",
        "import functools\n",
        "\n",
        "def add_third(input_list):\n",
        "  #third = [e for i, e in enumerate(input_list) if (i +1)%3 == 0]\n",
        "  #result = functools.reduce(lambda a, b: a + b, third, 0)\n",
        "  result = functools.reduce(lambda a, b: a + b[1] if (b[0] + 1) % 3 == 0 else a, enumerate(input_list), 0)\n",
        "  print(result)\n",
        "  return result\n",
        "\n",
        "list1 = [1, 2, 3, 4, 5, 6, 7]\n",
        "add_third(list1)  \n",
        "\n",
        "list2 = [0, 4, 1, 4, 4, 5, 1, 6, 7, 8]\n",
        "add_third(list2)"
      ],
      "execution_count": 16,
      "outputs": [
        {
          "output_type": "stream",
          "text": [
            "9\n",
            "13\n"
          ],
          "name": "stdout"
        },
        {
          "output_type": "execute_result",
          "data": {
            "text/plain": [
              "13"
            ]
          },
          "metadata": {
            "tags": []
          },
          "execution_count": 16
        }
      ]
    },
    {
      "cell_type": "markdown",
      "metadata": {
        "id": "bCYLKhgjm1Wq"
      },
      "source": [
        "### **Question 5**\n",
        "Using randint, random.choice and list comprehensions, write an expression that generates 15 random KADDAADDDD number plates, where KA is fixed, D stands for a digit, and A stands for Capital alphabets. 10<<DD<<99 & 1000<<DDDD<<9999 "
      ]
    },
    {
      "cell_type": "code",
      "metadata": {
        "id": "mJS7A7jvm1nI",
        "outputId": "cb27099f-fdf9-489f-8117-6936e8bb9377",
        "colab": {
          "base_uri": "https://localhost:8080/"
        }
      },
      "source": [
        "import random\n",
        "import string\n",
        "\n",
        "def get_digit():\n",
        "  return str(random.randrange(0, 9))\n",
        "\n",
        "def get_letter():\n",
        "  return random.choice(string.ascii_uppercase)\n",
        "\n",
        "def generate_license():\n",
        "  prefix='KA'\n",
        "  first = get_digit() + get_digit()\n",
        "  second = get_letter() + get_letter()\n",
        "  third = get_digit() + get_digit() + get_digit() + get_digit()\n",
        "  license = prefix + first + second + third\n",
        "  print(license)\n",
        "  return license\n",
        "\n",
        "for _ in range(15):\n",
        "  generate_license()"
      ],
      "execution_count": 17,
      "outputs": [
        {
          "output_type": "stream",
          "text": [
            "KA37FL0720\n",
            "KA60CW2503\n",
            "KA05XF7821\n",
            "KA18RJ8065\n",
            "KA61PF8388\n",
            "KA42XT3052\n",
            "KA44NN4816\n",
            "KA44SG5855\n",
            "KA67MB8036\n",
            "KA14IB3247\n",
            "KA27TY6640\n",
            "KA01UW5117\n",
            "KA25KH4033\n",
            "KA66WD1038\n",
            "KA54ZP2735\n"
          ],
          "name": "stdout"
        }
      ]
    },
    {
      "cell_type": "markdown",
      "metadata": {
        "id": "BXLVrujEpMMM"
      },
      "source": [
        "### **Question 6**\n",
        "\n",
        "Write the above again from scratch where KA can be changed to DL, and 1000/9999 ranges can be provided"
      ]
    },
    {
      "cell_type": "code",
      "metadata": {
        "id": "YSXUDEWHpMV6",
        "outputId": "1058733e-f400-4d8b-c9c0-b0145ff60362",
        "colab": {
          "base_uri": "https://localhost:8080/",
          "height": 103
        }
      },
      "source": [
        "def generate_license(prefix='KA', numbers=None):\n",
        "  # Prefix only KA or DL. Default is KA\n",
        "  if prefix not in ['KA', 'DL']:\n",
        "    prefix = 'KA'\n",
        "  first = get_digit() + get_digit()\n",
        "  second = get_letter() + get_letter()\n",
        "  if numbers and str(numbers).isnumeric() and len(str(numbers)) == 4:\n",
        "    third = str(numbers)\n",
        "  else:  \n",
        "    third = get_digit() + get_digit() + get_digit() + get_digit()\n",
        "  license = prefix + first + second + third\n",
        "  print(license)\n",
        "  return license\n",
        "\n",
        "generate_license('DL')\n",
        "generate_license('KA', 9230)\n",
        "generate_license('DL', 'abcd')\n",
        "generate_license('KA', 944)"
      ],
      "execution_count": 18,
      "outputs": [
        {
          "output_type": "stream",
          "text": [
            "DL57YY6145\n",
            "KA46CX9230\n",
            "DL83IG8602\n",
            "KA32BJ7775\n"
          ],
          "name": "stdout"
        },
        {
          "output_type": "execute_result",
          "data": {
            "application/vnd.google.colaboratory.intrinsic+json": {
              "type": "string"
            },
            "text/plain": [
              "'KA32BJ7775'"
            ]
          },
          "metadata": {
            "tags": []
          },
          "execution_count": 18
        }
      ]
    }
  ]
}