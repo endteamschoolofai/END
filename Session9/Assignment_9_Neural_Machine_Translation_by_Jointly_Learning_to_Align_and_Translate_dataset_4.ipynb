{
  "nbformat": 4,
  "nbformat_minor": 0,
  "metadata": {
    "kernelspec": {
      "display_name": "Python 3",
      "language": "python",
      "name": "python3"
    },
    "language_info": {
      "codemirror_mode": {
        "name": "ipython",
        "version": 3
      },
      "file_extension": ".py",
      "mimetype": "text/x-python",
      "name": "python",
      "nbconvert_exporter": "python",
      "pygments_lexer": "ipython3",
      "version": "3.8.2"
    },
    "colab": {
      "name": "Assignment 9 - Neural Machine Translation by Jointly Learning to Align and Translate dataset 4.ipynb",
      "provenance": [],
      "collapsed_sections": [],
      "include_colab_link": true
    },
    "accelerator": "GPU"
  },
  "cells": [
    {
      "cell_type": "markdown",
      "metadata": {
        "id": "view-in-github",
        "colab_type": "text"
      },
      "source": [
        "<a href=\"https://colab.research.google.com/github/endteamschoolofai/END/blob/main/Session9/Assignment_9_Neural_Machine_Translation_by_Jointly_Learning_to_Align_and_Translate_dataset_4.ipynb\" target=\"_parent\"><img src=\"https://colab.research.google.com/assets/colab-badge.svg\" alt=\"Open In Colab\"/></a>"
      ]
    },
    {
      "cell_type": "markdown",
      "metadata": {
        "id": "_GgLPTpV9ejD"
      },
      "source": [
        "# 3 - Neural Machine Translation by Jointly Learning to Align and Translate\n",
        "\n",
        "In this third notebook on sequence-to-sequence models using PyTorch and TorchText, we'll be implementing the model from [Neural Machine Translation by Jointly Learning to Align and Translate](https://arxiv.org/abs/1409.0473). This model achives our best perplexity yet, ~27 compared to ~34 for the previous model.*italicized text*\n",
        "\n",
        "## Introduction\n",
        "\n",
        "As a reminder, here is the general encoder-decoder model:\n",
        "\n",
        "![](https://github.com/bentrevett/pytorch-seq2seq/blob/master/assets/seq2seq1.png?raw=1)\n",
        "\n",
        "In the previous model, our architecture was set-up in a way to reduce \"information compression\" by explicitly passing the context vector, $z$, to the decoder at every time-step and by passing both the context vector and embedded input word, $d(y_t)$, along with the hidden state, $s_t$, to the linear layer, $f$, to make a prediction.\n",
        "\n",
        "![](https://github.com/bentrevett/pytorch-seq2seq/blob/master/assets/seq2seq7.png?raw=1)\n",
        "\n",
        "Even though we have reduced some of this compression, our context vector still needs to contain all of the information about the source sentence. The model implemented in this notebook avoids this compression by allowing the decoder to look at the entire source sentence (via its hidden states) at each decoding step! How does it do this? It uses *attention*. \n",
        "\n",
        "Attention works by first, calculating an attention vector, $a$, that is the length of the source sentence. The attention vector has the property that each element is between 0 and 1, and the entire vector sums to 1. We then calculate a weighted sum of our source sentence hidden states, $H$, to get a weighted source vector, $w$. \n",
        "\n",
        "$$w = \\sum_{i}a_ih_i$$\n",
        "\n",
        "We calculate a new weighted source vector every time-step when decoding, using it as input to our decoder RNN as well as the linear layer to make a prediction. We'll explain how to do all of this during the session.\n",
        "\n",
        "## Preparing Data\n",
        "\n",
        "Again, the preparation is similar to last time.\n",
        "\n",
        "First we import all the required modules."
      ]
    },
    {
      "cell_type": "code",
      "metadata": {
        "id": "rySJ5AJb9ejE"
      },
      "source": [
        "import torch\n",
        "import torch.nn as nn\n",
        "import torch.optim as optim\n",
        "import torch.nn.functional as F\n",
        "\n",
        "from torchtext.datasets import Multi30k\n",
        "from torchtext import data \n",
        "from torchtext.data import Field, BucketIterator\n",
        "\n",
        "import spacy\n",
        "import numpy as np\n",
        "\n",
        "import random\n",
        "import math\n",
        "import time\n",
        "import pandas as pd"
      ],
      "execution_count": 1,
      "outputs": []
    },
    {
      "cell_type": "markdown",
      "metadata": {
        "id": "BtqKGxNO9ejF"
      },
      "source": [
        "Define the device."
      ]
    },
    {
      "cell_type": "code",
      "metadata": {
        "id": "u1LTuU1zAuJF"
      },
      "source": [
        "device = torch.device(\"cuda\" if torch.cuda.is_available() else \"cpu\")"
      ],
      "execution_count": 2,
      "outputs": []
    },
    {
      "cell_type": "markdown",
      "metadata": {
        "id": "rD1fj0R39ejE"
      },
      "source": [
        "Set the random seeds for reproducability."
      ]
    },
    {
      "cell_type": "code",
      "metadata": {
        "colab": {
          "base_uri": "https://localhost:8080/"
        },
        "id": "Q00ZZY9gUY2d",
        "outputId": "45670031-9419-4c95-c38f-83080f5dff89"
      },
      "source": [
        "device"
      ],
      "execution_count": 3,
      "outputs": [
        {
          "output_type": "execute_result",
          "data": {
            "text/plain": [
              "device(type='cuda')"
            ]
          },
          "metadata": {
            "tags": []
          },
          "execution_count": 3
        }
      ]
    },
    {
      "cell_type": "code",
      "metadata": {
        "id": "uZJrN5ry9ejE"
      },
      "source": [
        "SEED = 1234\n",
        "\n",
        "random.seed(SEED)\n",
        "np.random.seed(SEED)\n",
        "torch.manual_seed(SEED)\n",
        "torch.cuda.manual_seed(SEED)\n",
        "torch.backends.cudnn.deterministic = True"
      ],
      "execution_count": 4,
      "outputs": []
    },
    {
      "cell_type": "markdown",
      "metadata": {
        "id": "0bvnhAAcNm-7"
      },
      "source": [
        "# Dataset 4 - Customer Support on Twitter:"
      ]
    },
    {
      "cell_type": "code",
      "metadata": {
        "id": "Rkt4BH1sFxXR",
        "colab": {
          "base_uri": "https://localhost:8080/"
        },
        "outputId": "ebb19fc7-34e5-4e93-ca6c-dc4f427491d8"
      },
      "source": [
        "from google.colab import drive\r\n",
        "drive.mount('/content/drive')"
      ],
      "execution_count": 5,
      "outputs": [
        {
          "output_type": "stream",
          "text": [
            "Mounted at /content/drive\n"
          ],
          "name": "stdout"
        }
      ]
    },
    {
      "cell_type": "code",
      "metadata": {
        "id": "8412pANeFxRw",
        "colab": {
          "base_uri": "https://localhost:8080/"
        },
        "outputId": "f79c2044-2c2a-4ca8-b2e9-b523638cfa21"
      },
      "source": [
        "!unzip /content/drive/MyDrive/end/archive.zip"
      ],
      "execution_count": 6,
      "outputs": [
        {
          "output_type": "stream",
          "text": [
            "Archive:  /content/drive/MyDrive/end/archive.zip\n",
            "  inflating: sample.csv              \n",
            "  inflating: twcs/twcs.csv           \n"
          ],
          "name": "stdout"
        }
      ]
    },
    {
      "cell_type": "code",
      "metadata": {
        "colab": {
          "base_uri": "https://localhost:8080/",
          "height": 359
        },
        "id": "410nzWLW4ICb",
        "outputId": "69033030-0144-4efc-bf99-8f3e7f283d2f"
      },
      "source": [
        "train_df_fourth = pd.read_csv('twcs/twcs.csv')\r\n",
        "train_df_fourth.head(10)"
      ],
      "execution_count": 7,
      "outputs": [
        {
          "output_type": "execute_result",
          "data": {
            "text/html": [
              "<div>\n",
              "<style scoped>\n",
              "    .dataframe tbody tr th:only-of-type {\n",
              "        vertical-align: middle;\n",
              "    }\n",
              "\n",
              "    .dataframe tbody tr th {\n",
              "        vertical-align: top;\n",
              "    }\n",
              "\n",
              "    .dataframe thead th {\n",
              "        text-align: right;\n",
              "    }\n",
              "</style>\n",
              "<table border=\"1\" class=\"dataframe\">\n",
              "  <thead>\n",
              "    <tr style=\"text-align: right;\">\n",
              "      <th></th>\n",
              "      <th>tweet_id</th>\n",
              "      <th>author_id</th>\n",
              "      <th>inbound</th>\n",
              "      <th>created_at</th>\n",
              "      <th>text</th>\n",
              "      <th>response_tweet_id</th>\n",
              "      <th>in_response_to_tweet_id</th>\n",
              "    </tr>\n",
              "  </thead>\n",
              "  <tbody>\n",
              "    <tr>\n",
              "      <th>0</th>\n",
              "      <td>1</td>\n",
              "      <td>sprintcare</td>\n",
              "      <td>False</td>\n",
              "      <td>Tue Oct 31 22:10:47 +0000 2017</td>\n",
              "      <td>@115712 I understand. I would like to assist y...</td>\n",
              "      <td>2</td>\n",
              "      <td>3.0</td>\n",
              "    </tr>\n",
              "    <tr>\n",
              "      <th>1</th>\n",
              "      <td>2</td>\n",
              "      <td>115712</td>\n",
              "      <td>True</td>\n",
              "      <td>Tue Oct 31 22:11:45 +0000 2017</td>\n",
              "      <td>@sprintcare and how do you propose we do that</td>\n",
              "      <td>NaN</td>\n",
              "      <td>1.0</td>\n",
              "    </tr>\n",
              "    <tr>\n",
              "      <th>2</th>\n",
              "      <td>3</td>\n",
              "      <td>115712</td>\n",
              "      <td>True</td>\n",
              "      <td>Tue Oct 31 22:08:27 +0000 2017</td>\n",
              "      <td>@sprintcare I have sent several private messag...</td>\n",
              "      <td>1</td>\n",
              "      <td>4.0</td>\n",
              "    </tr>\n",
              "    <tr>\n",
              "      <th>3</th>\n",
              "      <td>4</td>\n",
              "      <td>sprintcare</td>\n",
              "      <td>False</td>\n",
              "      <td>Tue Oct 31 21:54:49 +0000 2017</td>\n",
              "      <td>@115712 Please send us a Private Message so th...</td>\n",
              "      <td>3</td>\n",
              "      <td>5.0</td>\n",
              "    </tr>\n",
              "    <tr>\n",
              "      <th>4</th>\n",
              "      <td>5</td>\n",
              "      <td>115712</td>\n",
              "      <td>True</td>\n",
              "      <td>Tue Oct 31 21:49:35 +0000 2017</td>\n",
              "      <td>@sprintcare I did.</td>\n",
              "      <td>4</td>\n",
              "      <td>6.0</td>\n",
              "    </tr>\n",
              "    <tr>\n",
              "      <th>5</th>\n",
              "      <td>6</td>\n",
              "      <td>sprintcare</td>\n",
              "      <td>False</td>\n",
              "      <td>Tue Oct 31 21:46:24 +0000 2017</td>\n",
              "      <td>@115712 Can you please send us a private messa...</td>\n",
              "      <td>5,7</td>\n",
              "      <td>8.0</td>\n",
              "    </tr>\n",
              "    <tr>\n",
              "      <th>6</th>\n",
              "      <td>8</td>\n",
              "      <td>115712</td>\n",
              "      <td>True</td>\n",
              "      <td>Tue Oct 31 21:45:10 +0000 2017</td>\n",
              "      <td>@sprintcare is the worst customer service</td>\n",
              "      <td>9,6,10</td>\n",
              "      <td>NaN</td>\n",
              "    </tr>\n",
              "    <tr>\n",
              "      <th>7</th>\n",
              "      <td>11</td>\n",
              "      <td>sprintcare</td>\n",
              "      <td>False</td>\n",
              "      <td>Tue Oct 31 22:10:35 +0000 2017</td>\n",
              "      <td>@115713 This is saddening to hear. Please shoo...</td>\n",
              "      <td>NaN</td>\n",
              "      <td>12.0</td>\n",
              "    </tr>\n",
              "    <tr>\n",
              "      <th>8</th>\n",
              "      <td>12</td>\n",
              "      <td>115713</td>\n",
              "      <td>True</td>\n",
              "      <td>Tue Oct 31 22:04:47 +0000 2017</td>\n",
              "      <td>@sprintcare You gonna magically change your co...</td>\n",
              "      <td>11,13,14</td>\n",
              "      <td>15.0</td>\n",
              "    </tr>\n",
              "    <tr>\n",
              "      <th>9</th>\n",
              "      <td>15</td>\n",
              "      <td>sprintcare</td>\n",
              "      <td>False</td>\n",
              "      <td>Tue Oct 31 20:03:31 +0000 2017</td>\n",
              "      <td>@115713 We understand your concerns and we'd l...</td>\n",
              "      <td>12</td>\n",
              "      <td>16.0</td>\n",
              "    </tr>\n",
              "  </tbody>\n",
              "</table>\n",
              "</div>"
            ],
            "text/plain": [
              "   tweet_id   author_id  ...  response_tweet_id in_response_to_tweet_id\n",
              "0         1  sprintcare  ...                  2                     3.0\n",
              "1         2      115712  ...                NaN                     1.0\n",
              "2         3      115712  ...                  1                     4.0\n",
              "3         4  sprintcare  ...                  3                     5.0\n",
              "4         5      115712  ...                  4                     6.0\n",
              "5         6  sprintcare  ...                5,7                     8.0\n",
              "6         8      115712  ...             9,6,10                     NaN\n",
              "7        11  sprintcare  ...                NaN                    12.0\n",
              "8        12      115713  ...           11,13,14                    15.0\n",
              "9        15  sprintcare  ...                 12                    16.0\n",
              "\n",
              "[10 rows x 7 columns]"
            ]
          },
          "metadata": {
            "tags": []
          },
          "execution_count": 7
        }
      ]
    },
    {
      "cell_type": "code",
      "metadata": {
        "colab": {
          "base_uri": "https://localhost:8080/"
        },
        "id": "rt4uO6w1NGFx",
        "outputId": "823f6985-83e2-4210-9e19-418b4ee00897"
      },
      "source": [
        "len(train_df_fourth)"
      ],
      "execution_count": 8,
      "outputs": [
        {
          "output_type": "execute_result",
          "data": {
            "text/plain": [
              "2811774"
            ]
          },
          "metadata": {
            "tags": []
          },
          "execution_count": 8
        }
      ]
    },
    {
      "cell_type": "code",
      "metadata": {
        "colab": {
          "base_uri": "https://localhost:8080/",
          "height": 359
        },
        "id": "PA-WWw2VcqfI",
        "outputId": "a8b591d1-4722-403d-a7be-e66c1391d599"
      },
      "source": [
        "df = train_df_fourth.dropna() #math.isnan(train_df_fourth.response_tweet_id[1])\r\n",
        "df.head(10)"
      ],
      "execution_count": 9,
      "outputs": [
        {
          "output_type": "execute_result",
          "data": {
            "text/html": [
              "<div>\n",
              "<style scoped>\n",
              "    .dataframe tbody tr th:only-of-type {\n",
              "        vertical-align: middle;\n",
              "    }\n",
              "\n",
              "    .dataframe tbody tr th {\n",
              "        vertical-align: top;\n",
              "    }\n",
              "\n",
              "    .dataframe thead th {\n",
              "        text-align: right;\n",
              "    }\n",
              "</style>\n",
              "<table border=\"1\" class=\"dataframe\">\n",
              "  <thead>\n",
              "    <tr style=\"text-align: right;\">\n",
              "      <th></th>\n",
              "      <th>tweet_id</th>\n",
              "      <th>author_id</th>\n",
              "      <th>inbound</th>\n",
              "      <th>created_at</th>\n",
              "      <th>text</th>\n",
              "      <th>response_tweet_id</th>\n",
              "      <th>in_response_to_tweet_id</th>\n",
              "    </tr>\n",
              "  </thead>\n",
              "  <tbody>\n",
              "    <tr>\n",
              "      <th>0</th>\n",
              "      <td>1</td>\n",
              "      <td>sprintcare</td>\n",
              "      <td>False</td>\n",
              "      <td>Tue Oct 31 22:10:47 +0000 2017</td>\n",
              "      <td>@115712 I understand. I would like to assist y...</td>\n",
              "      <td>2</td>\n",
              "      <td>3.0</td>\n",
              "    </tr>\n",
              "    <tr>\n",
              "      <th>2</th>\n",
              "      <td>3</td>\n",
              "      <td>115712</td>\n",
              "      <td>True</td>\n",
              "      <td>Tue Oct 31 22:08:27 +0000 2017</td>\n",
              "      <td>@sprintcare I have sent several private messag...</td>\n",
              "      <td>1</td>\n",
              "      <td>4.0</td>\n",
              "    </tr>\n",
              "    <tr>\n",
              "      <th>3</th>\n",
              "      <td>4</td>\n",
              "      <td>sprintcare</td>\n",
              "      <td>False</td>\n",
              "      <td>Tue Oct 31 21:54:49 +0000 2017</td>\n",
              "      <td>@115712 Please send us a Private Message so th...</td>\n",
              "      <td>3</td>\n",
              "      <td>5.0</td>\n",
              "    </tr>\n",
              "    <tr>\n",
              "      <th>4</th>\n",
              "      <td>5</td>\n",
              "      <td>115712</td>\n",
              "      <td>True</td>\n",
              "      <td>Tue Oct 31 21:49:35 +0000 2017</td>\n",
              "      <td>@sprintcare I did.</td>\n",
              "      <td>4</td>\n",
              "      <td>6.0</td>\n",
              "    </tr>\n",
              "    <tr>\n",
              "      <th>5</th>\n",
              "      <td>6</td>\n",
              "      <td>sprintcare</td>\n",
              "      <td>False</td>\n",
              "      <td>Tue Oct 31 21:46:24 +0000 2017</td>\n",
              "      <td>@115712 Can you please send us a private messa...</td>\n",
              "      <td>5,7</td>\n",
              "      <td>8.0</td>\n",
              "    </tr>\n",
              "    <tr>\n",
              "      <th>8</th>\n",
              "      <td>12</td>\n",
              "      <td>115713</td>\n",
              "      <td>True</td>\n",
              "      <td>Tue Oct 31 22:04:47 +0000 2017</td>\n",
              "      <td>@sprintcare You gonna magically change your co...</td>\n",
              "      <td>11,13,14</td>\n",
              "      <td>15.0</td>\n",
              "    </tr>\n",
              "    <tr>\n",
              "      <th>9</th>\n",
              "      <td>15</td>\n",
              "      <td>sprintcare</td>\n",
              "      <td>False</td>\n",
              "      <td>Tue Oct 31 20:03:31 +0000 2017</td>\n",
              "      <td>@115713 We understand your concerns and we'd l...</td>\n",
              "      <td>12</td>\n",
              "      <td>16.0</td>\n",
              "    </tr>\n",
              "    <tr>\n",
              "      <th>10</th>\n",
              "      <td>16</td>\n",
              "      <td>115713</td>\n",
              "      <td>True</td>\n",
              "      <td>Tue Oct 31 20:00:43 +0000 2017</td>\n",
              "      <td>@sprintcare Since I signed up with you....Sinc...</td>\n",
              "      <td>15</td>\n",
              "      <td>17.0</td>\n",
              "    </tr>\n",
              "    <tr>\n",
              "      <th>11</th>\n",
              "      <td>17</td>\n",
              "      <td>sprintcare</td>\n",
              "      <td>False</td>\n",
              "      <td>Tue Oct 31 19:59:13 +0000 2017</td>\n",
              "      <td>@115713 H there! We'd definitely like to work ...</td>\n",
              "      <td>16</td>\n",
              "      <td>18.0</td>\n",
              "    </tr>\n",
              "    <tr>\n",
              "      <th>15</th>\n",
              "      <td>21</td>\n",
              "      <td>Ask_Spectrum</td>\n",
              "      <td>False</td>\n",
              "      <td>Tue Oct 31 22:14:37 +0000 2017</td>\n",
              "      <td>@115716 What information is incorrect? ^JK</td>\n",
              "      <td>22,23</td>\n",
              "      <td>24.0</td>\n",
              "    </tr>\n",
              "  </tbody>\n",
              "</table>\n",
              "</div>"
            ],
            "text/plain": [
              "    tweet_id     author_id  ...  response_tweet_id in_response_to_tweet_id\n",
              "0          1    sprintcare  ...                  2                     3.0\n",
              "2          3        115712  ...                  1                     4.0\n",
              "3          4    sprintcare  ...                  3                     5.0\n",
              "4          5        115712  ...                  4                     6.0\n",
              "5          6    sprintcare  ...                5,7                     8.0\n",
              "8         12        115713  ...           11,13,14                    15.0\n",
              "9         15    sprintcare  ...                 12                    16.0\n",
              "10        16        115713  ...                 15                    17.0\n",
              "11        17    sprintcare  ...                 16                    18.0\n",
              "15        21  Ask_Spectrum  ...              22,23                    24.0\n",
              "\n",
              "[10 rows x 7 columns]"
            ]
          },
          "metadata": {
            "tags": []
          },
          "execution_count": 9
        }
      ]
    },
    {
      "cell_type": "code",
      "metadata": {
        "colab": {
          "base_uri": "https://localhost:8080/"
        },
        "id": "nVkJh0Y7cx7g",
        "outputId": "43e6d117-6ce7-495c-df13-fa2a652f13bc"
      },
      "source": [
        "len(df)"
      ],
      "execution_count": 10,
      "outputs": [
        {
          "output_type": "execute_result",
          "data": {
            "text/plain": [
              "976810"
            ]
          },
          "metadata": {
            "tags": []
          },
          "execution_count": 10
        }
      ]
    },
    {
      "cell_type": "code",
      "metadata": {
        "id": "akLhF6JWdLHr",
        "colab": {
          "base_uri": "https://localhost:8080/",
          "height": 545
        },
        "outputId": "039f1e3d-a8ea-46b9-c4af-788ad51b6459"
      },
      "source": [
        "df = df.set_index(\"tweet_id\")\r\n",
        "df.head(15)"
      ],
      "execution_count": 11,
      "outputs": [
        {
          "output_type": "execute_result",
          "data": {
            "text/html": [
              "<div>\n",
              "<style scoped>\n",
              "    .dataframe tbody tr th:only-of-type {\n",
              "        vertical-align: middle;\n",
              "    }\n",
              "\n",
              "    .dataframe tbody tr th {\n",
              "        vertical-align: top;\n",
              "    }\n",
              "\n",
              "    .dataframe thead th {\n",
              "        text-align: right;\n",
              "    }\n",
              "</style>\n",
              "<table border=\"1\" class=\"dataframe\">\n",
              "  <thead>\n",
              "    <tr style=\"text-align: right;\">\n",
              "      <th></th>\n",
              "      <th>author_id</th>\n",
              "      <th>inbound</th>\n",
              "      <th>created_at</th>\n",
              "      <th>text</th>\n",
              "      <th>response_tweet_id</th>\n",
              "      <th>in_response_to_tweet_id</th>\n",
              "    </tr>\n",
              "    <tr>\n",
              "      <th>tweet_id</th>\n",
              "      <th></th>\n",
              "      <th></th>\n",
              "      <th></th>\n",
              "      <th></th>\n",
              "      <th></th>\n",
              "      <th></th>\n",
              "    </tr>\n",
              "  </thead>\n",
              "  <tbody>\n",
              "    <tr>\n",
              "      <th>1</th>\n",
              "      <td>sprintcare</td>\n",
              "      <td>False</td>\n",
              "      <td>Tue Oct 31 22:10:47 +0000 2017</td>\n",
              "      <td>@115712 I understand. I would like to assist y...</td>\n",
              "      <td>2</td>\n",
              "      <td>3.0</td>\n",
              "    </tr>\n",
              "    <tr>\n",
              "      <th>3</th>\n",
              "      <td>115712</td>\n",
              "      <td>True</td>\n",
              "      <td>Tue Oct 31 22:08:27 +0000 2017</td>\n",
              "      <td>@sprintcare I have sent several private messag...</td>\n",
              "      <td>1</td>\n",
              "      <td>4.0</td>\n",
              "    </tr>\n",
              "    <tr>\n",
              "      <th>4</th>\n",
              "      <td>sprintcare</td>\n",
              "      <td>False</td>\n",
              "      <td>Tue Oct 31 21:54:49 +0000 2017</td>\n",
              "      <td>@115712 Please send us a Private Message so th...</td>\n",
              "      <td>3</td>\n",
              "      <td>5.0</td>\n",
              "    </tr>\n",
              "    <tr>\n",
              "      <th>5</th>\n",
              "      <td>115712</td>\n",
              "      <td>True</td>\n",
              "      <td>Tue Oct 31 21:49:35 +0000 2017</td>\n",
              "      <td>@sprintcare I did.</td>\n",
              "      <td>4</td>\n",
              "      <td>6.0</td>\n",
              "    </tr>\n",
              "    <tr>\n",
              "      <th>6</th>\n",
              "      <td>sprintcare</td>\n",
              "      <td>False</td>\n",
              "      <td>Tue Oct 31 21:46:24 +0000 2017</td>\n",
              "      <td>@115712 Can you please send us a private messa...</td>\n",
              "      <td>5,7</td>\n",
              "      <td>8.0</td>\n",
              "    </tr>\n",
              "    <tr>\n",
              "      <th>12</th>\n",
              "      <td>115713</td>\n",
              "      <td>True</td>\n",
              "      <td>Tue Oct 31 22:04:47 +0000 2017</td>\n",
              "      <td>@sprintcare You gonna magically change your co...</td>\n",
              "      <td>11,13,14</td>\n",
              "      <td>15.0</td>\n",
              "    </tr>\n",
              "    <tr>\n",
              "      <th>15</th>\n",
              "      <td>sprintcare</td>\n",
              "      <td>False</td>\n",
              "      <td>Tue Oct 31 20:03:31 +0000 2017</td>\n",
              "      <td>@115713 We understand your concerns and we'd l...</td>\n",
              "      <td>12</td>\n",
              "      <td>16.0</td>\n",
              "    </tr>\n",
              "    <tr>\n",
              "      <th>16</th>\n",
              "      <td>115713</td>\n",
              "      <td>True</td>\n",
              "      <td>Tue Oct 31 20:00:43 +0000 2017</td>\n",
              "      <td>@sprintcare Since I signed up with you....Sinc...</td>\n",
              "      <td>15</td>\n",
              "      <td>17.0</td>\n",
              "    </tr>\n",
              "    <tr>\n",
              "      <th>17</th>\n",
              "      <td>sprintcare</td>\n",
              "      <td>False</td>\n",
              "      <td>Tue Oct 31 19:59:13 +0000 2017</td>\n",
              "      <td>@115713 H there! We'd definitely like to work ...</td>\n",
              "      <td>16</td>\n",
              "      <td>18.0</td>\n",
              "    </tr>\n",
              "    <tr>\n",
              "      <th>21</th>\n",
              "      <td>Ask_Spectrum</td>\n",
              "      <td>False</td>\n",
              "      <td>Tue Oct 31 22:14:37 +0000 2017</td>\n",
              "      <td>@115716 What information is incorrect? ^JK</td>\n",
              "      <td>22,23</td>\n",
              "      <td>24.0</td>\n",
              "    </tr>\n",
              "    <tr>\n",
              "      <th>22</th>\n",
              "      <td>115716</td>\n",
              "      <td>True</td>\n",
              "      <td>Tue Oct 31 22:16:48 +0000 2017</td>\n",
              "      <td>@Ask_Spectrum Would you like me to email you a...</td>\n",
              "      <td>25</td>\n",
              "      <td>21.0</td>\n",
              "    </tr>\n",
              "    <tr>\n",
              "      <th>25</th>\n",
              "      <td>Ask_Spectrum</td>\n",
              "      <td>False</td>\n",
              "      <td>Tue Oct 31 22:18:28 +0000 2017</td>\n",
              "      <td>@115716 Our department is part of the corporat...</td>\n",
              "      <td>26</td>\n",
              "      <td>22.0</td>\n",
              "    </tr>\n",
              "    <tr>\n",
              "      <th>26</th>\n",
              "      <td>115716</td>\n",
              "      <td>True</td>\n",
              "      <td>Tue Oct 31 22:19:56 +0000 2017</td>\n",
              "      <td>@Ask_Spectrum I received this from your corpor...</td>\n",
              "      <td>27</td>\n",
              "      <td>25.0</td>\n",
              "    </tr>\n",
              "    <tr>\n",
              "      <th>24</th>\n",
              "      <td>115716</td>\n",
              "      <td>True</td>\n",
              "      <td>Tue Oct 31 22:13:02 +0000 2017</td>\n",
              "      <td>@Ask_Spectrum That is INCORRECT information I ...</td>\n",
              "      <td>21</td>\n",
              "      <td>28.0</td>\n",
              "    </tr>\n",
              "    <tr>\n",
              "      <th>28</th>\n",
              "      <td>Ask_Spectrum</td>\n",
              "      <td>False</td>\n",
              "      <td>Tue Oct 31 22:05:37 +0000 2017</td>\n",
              "      <td>@115716 The information pertaining to the acco...</td>\n",
              "      <td>24</td>\n",
              "      <td>29.0</td>\n",
              "    </tr>\n",
              "  </tbody>\n",
              "</table>\n",
              "</div>"
            ],
            "text/plain": [
              "             author_id  inbound  ... response_tweet_id in_response_to_tweet_id\n",
              "tweet_id                         ...                                          \n",
              "1           sprintcare    False  ...                 2                     3.0\n",
              "3               115712     True  ...                 1                     4.0\n",
              "4           sprintcare    False  ...                 3                     5.0\n",
              "5               115712     True  ...                 4                     6.0\n",
              "6           sprintcare    False  ...               5,7                     8.0\n",
              "12              115713     True  ...          11,13,14                    15.0\n",
              "15          sprintcare    False  ...                12                    16.0\n",
              "16              115713     True  ...                15                    17.0\n",
              "17          sprintcare    False  ...                16                    18.0\n",
              "21        Ask_Spectrum    False  ...             22,23                    24.0\n",
              "22              115716     True  ...                25                    21.0\n",
              "25        Ask_Spectrum    False  ...                26                    22.0\n",
              "26              115716     True  ...                27                    25.0\n",
              "24              115716     True  ...                21                    28.0\n",
              "28        Ask_Spectrum    False  ...                24                    29.0\n",
              "\n",
              "[15 rows x 6 columns]"
            ]
          },
          "metadata": {
            "tags": []
          },
          "execution_count": 11
        }
      ]
    },
    {
      "cell_type": "code",
      "metadata": {
        "colab": {
          "base_uri": "https://localhost:8080/"
        },
        "id": "_6UtmQcUFid2",
        "outputId": "14f41f93-33eb-4468-b061-3bf4a324c507"
      },
      "source": [
        "df = df.head(30000)\r\n",
        "len(df)"
      ],
      "execution_count": 12,
      "outputs": [
        {
          "output_type": "execute_result",
          "data": {
            "text/plain": [
              "30000"
            ]
          },
          "metadata": {
            "tags": []
          },
          "execution_count": 12
        }
      ]
    },
    {
      "cell_type": "code",
      "metadata": {
        "id": "gTcNcb71dzyR"
      },
      "source": [
        "questions = []\r\n",
        "answers = []\r\n",
        "for i in df.index:\r\n",
        "  responses = df.response_tweet_id[i].split(',')\r\n",
        "  responses = [int(j) for j in responses]\r\n",
        "  for res in responses:\r\n",
        "    if (res in df.index):\r\n",
        "      ques = df.text[i]\r\n",
        "      #print(ques)\r\n",
        "      ans = df.text[res]\r\n",
        "      #print(ans)\r\n",
        "      questions.append(ques)\r\n",
        "      answers.append(ans)\r\n",
        "    "
      ],
      "execution_count": 13,
      "outputs": []
    },
    {
      "cell_type": "code",
      "metadata": {
        "colab": {
          "base_uri": "https://localhost:8080/"
        },
        "id": "D_M4atnXisVl",
        "outputId": "477a73de-56d8-441c-e4cf-8eb9b3616a13"
      },
      "source": [
        "len(questions), len(answers)"
      ],
      "execution_count": 14,
      "outputs": [
        {
          "output_type": "execute_result",
          "data": {
            "text/plain": [
              "(20495, 20495)"
            ]
          },
          "metadata": {
            "tags": []
          },
          "execution_count": 14
        }
      ]
    },
    {
      "cell_type": "code",
      "metadata": {
        "colab": {
          "base_uri": "https://localhost:8080/"
        },
        "id": "07jbXNbdjAeX",
        "outputId": "9f7e80f3-7724-40a1-be35-981c75c8db5a"
      },
      "source": [
        "questions[:15], answers[:15]"
      ],
      "execution_count": 15,
      "outputs": [
        {
          "output_type": "execute_result",
          "data": {
            "text/plain": [
              "(['@sprintcare I have sent several private messages and no one is responding as usual',\n",
              "  '@115712 Please send us a Private Message so that we can further assist you. Just click ‘Message’ at the top of your profile.',\n",
              "  '@sprintcare I did.',\n",
              "  '@115712 Can you please send us a private message, so that I can gain further details about your account?',\n",
              "  \"@115713 We understand your concerns and we'd like for you to please send us a Direct Message, so that we can further assist you. -AA\",\n",
              "  '@sprintcare Since I signed up with you....Since day 1',\n",
              "  \"@115713 H there! We'd definitely like to work with you on this, how long have you been experiencing this issue? -AA\",\n",
              "  '@115716 What information is incorrect? ^JK',\n",
              "  '@Ask_Spectrum Would you like me to email you a copy of one since Spectrum is not updating your training?',\n",
              "  \"@115716 Our department is part of the corporate office.  If you're particular area has gone to this format, we were unawa... https://t.co/P7XCmTzPQj\",\n",
              "  '@Ask_Spectrum That is INCORRECT information I have the form in front of me that is faxed over-maybe you need to maintain up to date information',\n",
              "  '@115716 The information pertaining to the account assumption is correct.  This does need to be done at a local outlet wit... https://t.co/P7XCmTzPQj',\n",
              "  '@115719 Help has arrived! We are sorry to see that you are having trouble. How can we help?\\n^HSB',\n",
              "  '@115721 Please follow and DM us so that we can look into this order. \\n^HSB',\n",
              "  '@VerizonSupport What else can I provide? They refuse to help me because they cannot validate the account...'],\n",
              " ['@115712 I understand. I would like to assist you. We would need to get you into a private secured link to further assist.',\n",
              "  '@sprintcare I have sent several private messages and no one is responding as usual',\n",
              "  '@115712 Please send us a Private Message so that we can further assist you. Just click ‘Message’ at the top of your profile.',\n",
              "  '@sprintcare I did.',\n",
              "  '@sprintcare You gonna magically change your connectivity for me and my whole family ? 🤥 💯',\n",
              "  \"@115713 We understand your concerns and we'd like for you to please send us a Direct Message, so that we can further assist you. -AA\",\n",
              "  '@sprintcare Since I signed up with you....Since day 1',\n",
              "  '@Ask_Spectrum Would you like me to email you a copy of one since Spectrum is not updating your training?',\n",
              "  \"@115716 Our department is part of the corporate office.  If you're particular area has gone to this format, we were unawa... https://t.co/P7XCmTzPQj\",\n",
              "  '@Ask_Spectrum I received this from your corporate office would you like a copy?',\n",
              "  '@115716 What information is incorrect? ^JK',\n",
              "  '@Ask_Spectrum That is INCORRECT information I have the form in front of me that is faxed over-maybe you need to maintain up to date information',\n",
              "  '@VerizonSupport I finally got someone that helped me, thanks!',\n",
              "  '@VerizonSupport What else can I provide? They refuse to help me because they cannot validate the account...',\n",
              "  '@115721 We would not be able to verify anything without authenticating your account.\\n^JAY'])"
            ]
          },
          "metadata": {
            "tags": []
          },
          "execution_count": 15
        }
      ]
    },
    {
      "cell_type": "code",
      "metadata": {
        "id": "oohiesy8mH57"
      },
      "source": [
        "Questions_Fourth = data.Field(sequential = True, tokenize = 'spacy', batch_first =True)#, include_lengths=True)\r\n",
        "Answers_Fourth = data.Field(tokenize ='spacy', is_target=True, batch_first =True)#, sequential =False)"
      ],
      "execution_count": 16,
      "outputs": []
    },
    {
      "cell_type": "code",
      "metadata": {
        "id": "qec_UUccmH04"
      },
      "source": [
        "fields = [('questions_fourth', Questions_Fourth),('answers_fourth', Answers_Fourth)]"
      ],
      "execution_count": 17,
      "outputs": []
    },
    {
      "cell_type": "code",
      "metadata": {
        "id": "ndcPiVOVmHoQ"
      },
      "source": [
        "example = [data.Example.fromlist([questions[i],answers[i]], fields) for i in range(len(questions))] "
      ],
      "execution_count": 18,
      "outputs": []
    },
    {
      "cell_type": "code",
      "metadata": {
        "id": "ndIzGHl2mHj3"
      },
      "source": [
        "twitterDataset = data.Dataset(example, fields)"
      ],
      "execution_count": 19,
      "outputs": []
    },
    {
      "cell_type": "code",
      "metadata": {
        "id": "fpwKHDpnmHfd"
      },
      "source": [
        "(Train_Dataset_Fourth, Valid_Dataset_Fourth) = twitterDataset.split(split_ratio=[0.85, 0.15], random_state=random.seed(SEED))"
      ],
      "execution_count": 20,
      "outputs": []
    },
    {
      "cell_type": "code",
      "metadata": {
        "colab": {
          "base_uri": "https://localhost:8080/"
        },
        "id": "-h0Hisr4m6-Y",
        "outputId": "ccc4b98b-80fe-4ac9-aad4-0637f6bbb166"
      },
      "source": [
        "(len(Train_Dataset_Fourth), len(Valid_Dataset_Fourth))"
      ],
      "execution_count": 21,
      "outputs": [
        {
          "output_type": "execute_result",
          "data": {
            "text/plain": [
              "(17421, 3074)"
            ]
          },
          "metadata": {
            "tags": []
          },
          "execution_count": 21
        }
      ]
    },
    {
      "cell_type": "code",
      "metadata": {
        "colab": {
          "base_uri": "https://localhost:8080/"
        },
        "id": "PjUMdb_Hm9X4",
        "outputId": "cbb9d92c-8f27-4709-b9b4-c24c7410be34"
      },
      "source": [
        "print(vars(Train_Dataset_Fourth.examples[0]))\r\n",
        "print(vars(Valid_Dataset_Fourth.examples[0]))"
      ],
      "execution_count": 22,
      "outputs": [
        {
          "output_type": "stream",
          "text": [
            "{'questions_fourth': ['@130679', 'I', \"'m\", 'sorry', 'for', 'that', 'error', '.', 'Our', 'application', 'is', 'safe', '.', 'Please', 'try', 'reinstalling', 'it', '.', '^RW'], 'answers_fourth': ['@AmazonHelp', 'I', 'reinstalled', 'it', '&', 'amp', ';', 'it', \"'s\", 'working', 'fine', '.', 'But', 'how', 'did', 'it', 'happen', 'in', 'the', 'first', 'place', '?']}\n",
            "{'questions_fourth': ['@116690', 'We', \"'re\", 'always', 'here', 'to', 'help', ',', 'and', 'only', 'a', 'DM', 'away', '!', 'Just', 'let', 'us', 'know', 'what', 'you', 'need', 'and', 'we', \"'ll\", 'assist', ':)', '*', 'JohnWard'], 'answers_fourth': ['@115911', '@116690', 'I', 'need', 'my', 'pic', 'to', 'upload']}\n"
          ],
          "name": "stdout"
        }
      ]
    },
    {
      "cell_type": "code",
      "metadata": {
        "id": "iWbiickjm9PW"
      },
      "source": [
        "Questions_Fourth.build_vocab(Train_Dataset_Fourth, min_freq = 2)\r\n",
        "Answers_Fourth.build_vocab(Train_Dataset_Fourth, min_freq = 2)"
      ],
      "execution_count": 23,
      "outputs": []
    },
    {
      "cell_type": "code",
      "metadata": {
        "colab": {
          "base_uri": "https://localhost:8080/"
        },
        "id": "u2VUFCn9m9MQ",
        "outputId": "2b9b2d2d-5382-40d6-e4e4-a56347d5ec26"
      },
      "source": [
        "print('Size of input vocab : ', len(Questions_Fourth.vocab))\r\n",
        "print('Size of label vocab : ', len(Answers_Fourth.vocab))\r\n",
        "print('Top 10 words appreared repeatedly :', list(Questions_Fourth.vocab.freqs.most_common(10)))\r\n",
        "print('Labels : ', Answers_Fourth.vocab.stoi)"
      ],
      "execution_count": 24,
      "outputs": [
        {
          "output_type": "stream",
          "text": [
            "Size of input vocab :  12896\n",
            "Size of label vocab :  12194\n",
            "Top 10 words appreared repeatedly : [('.', 18015), ('to', 10337), ('the', 10133), ('you', 9487), (',', 9285), ('I', 6587), ('?', 6494), ('a', 4701), ('and', 4483), ('for', 4480)]\n",
            "Labels :  defaultdict(<function _default_unk_index at 0x7f7c4a522f28>, {'<unk>': 0, '<pad>': 1, '.': 2, 'the': 3, 'to': 4, ',': 5, 'I': 6, 'you': 7, '?': 8, 'a': 9, 'and': 10, 'for': 11, 'it': 12, '!': 13, 'is': 14, 'your': 15, 'this': 16, 'on': 17, 'in': 18, 'have': 19, 'that': 20, '@AmazonHelp': 21, 'of': 22, 'my': 23, 'with': 24, 'we': 25, 'not': 26, 'be': 27, 'can': 28, 'We': 29, 'do': 30, 'me': 31, '-': 32, \"n't\": 33, 'us': 34, 'was': 35, 'are': 36, \"'s\": 37, 'but': 38, 'will': 39, ' ': 40, 'get': 41, 'at': 42, 'so': 43, 'as': 44, 'from': 45, 'Thanks': 46, 'if': 47, 'no': 48, ':': 49, 'Please': 50, 'out': 51, 'It': 52, 'an': 53, 'our': 54, 'or': 55, 'there': 56, 'Hi': 57, 'just': 58, 'help': 59, '\\n': 60, 'know': 61, 'here': 62, 'been': 63, 'DM': 64, 'now': 65, \"'ll\": 66, 'back': 67, 'up': 68, 'n’t': 69, '...': 70, 'they': 71, 'any': 72, 'please': 73, 'i': 74, 'has': 75, 'email': 76, '#': 77, 'time': 78, ';': 79, 'all': 80, 'would': 81, 'like': 82, 'when': 83, 'what': 84, 'The': 85, 'still': 86, \"'re\": 87, 'about': 88, 'issue': 89, 'did': 90, \"'m\": 91, '’s': 92, 'You': 93, 'service': 94, '&': 95, 'by': 96, '@AppleSupport': 97, 'Thank': 98, 'one': 99, 'number': 100, \"'ve\": 101, 'If': 102, 'check': 103, ')': 104, 'need': 105, 'team': 106, 'account': 107, 'see': 108, 'am': 109, '(': 110, 'more': 111, 'No': 112, 'details': 113, 'phone': 114, '\"': 115, 'link': 116, 'order': 117, 'sorry': 118, 'had': 119, 'amp': 120, '@sainsburys': 121, '@Uber_Support': 122, 'again': 123, 'call': 124, 'look': 125, 'ca': 126, '@Tesco': 127, 'Can': 128, 'does': 129, 'then': 130, 'update': 131, 'into': 132, 'same': 133, 'What': 134, 'contact': 135, 'how': 136, 'want': 137, 'customer': 138, 'able': 139, 'them': 140, 'let': 141, 'got': 142, 'app': 143, 'only': 144, 'send': 145, '..': 146, 'Yes': 147, '@O2': 148, '2': 149, 'sent': 150, '_': 151, 'further': 152, 'which': 153, 'Sorry': 154, \"'d\": 155, '/': 156, 'store': 157, 'should': 158, 'reply': 159, 'via': 160, 'after': 161, 'take': 162, 'This': 163, 'day': 164, 'today': 165, 'de': 166, '@SpotifyCares': 167, 'could': 168, 'already': 169, 'work': 170, 'delivery': 171, 'address': 172, 'refund': 173, 'why': 174, 'received': 175, 'Have': 176, 'working': 177, '@British_Airways': 178, '@GWRHelp': 179, '@idea_cares': 180, 'soon': 181, 'hear': 182, 'were': 183, '’m': 184, 'response': 185, 'using': 186, 'going': 187, 'go': 188, 'That': 189, 'make': 190, 'problem': 191, 'also': 192, '*': 193, 'info': 194, 'other': 195, 'some': 196, '@VirginTrains': 197, 'So': 198, 'use': 199, 'And': 200, 'information': 201, 'Amazon': 202, 'days': 203, 'try': 204, 'Do': 205, 'through': 206, 'sure': 207, 'My': 208, 'assist': 209, 'thanks': 210, 'new': 211, 'Is': 212, 'over': 213, 'tried': 214, 'u': 215, 'Just': 216, '’ve': 217, 'last': 218, 'reach': 219, 'before': 220, 'support': 221, 'But': 222, 'getting': 223, 'way': 224, 'than': 225, 'much': 226, 'even': 227, 'being': 228, 'available': 229, 'flight': 230, '\\n\\n': 231, 'done': 232, 'understand': 233, '@Morrisons': 234, 'message': 235, 'off': 236, 'may': 237, 'nt': 238, 'yet': 239, 'said': 240, '@VerizonSupport': 241, 'provide': 242, 'Let': 243, \"'\": 244, 'too': 245, '@MicrosoftHelps': 246, '3': 247, '@Delta': 248, 'How': 249, '1': 250, 'date': 251, 'issues': 252, 'give': 253, 'Not': 254, ':)': 255, 'find': 256, 'people': 257, 'times': 258, '2/2': 259, 'anything': 260, 'very': 261, '@marksandspencer': 262, 'card': 263, 'good': 264, 'because': 265, 'guys': 266, 'keep': 267, '@AmericanAir': 268, 'follow': 269, 'since': 270, 'request': 271, 'As': 272, 'que': 273, 'They': 274, 'another': 275, 'told': 276, 'wo': 277, 'Hello': 278, 'concern': 279, 'provided': 280, '4': 281, '@Ask_Spectrum': 282, 'delay': 283, 'right': 284, 'Kindly': 285, 'really': 286, 'train': 287, 'wait': 288, '@AirAsiaSupport': 289, 'case': 290, 'change': 291, 'hours': 292, 'says': 293, 'having': 294, 'Are': 295, 'money': 296, 'name': 297, 'next': 298, 'who': 299, 'share': 300, 'waiting': 301, 'these': 302, 'touch': 303, 'nothing': 304, 'thank': 305, 'think': 306, 'website': 307, 'tell': 308, 'customers': 309, 'happy': 310, 'version': 311, 'delivered': 312, '@GloCare': 313, 'access': 314, 'error': 315, 'updated': 316, '10': 317, '@TMobileHelp': 318, 'Hey': 319, '@Safaricom_Care': 320, 'always': 321, 'assistance': 322, 'long': 323, 'never': 324, '😂': 325, 'iOS': 326, 'item': 327, '@SW_Help': 328, 'full': 329, 'mail': 330, 'ticket': 331, 'trying': 332, 'When': 333, '....': 334, 'There': 335, '@comcastcares': 336, 'feedback': 337, 'free': 338, '@AskeBay': 339, 'la': 340, 'option': 341, 'possible': 342, 'Your': 343, 'return': 344, 'well': 345, 'Did': 346, 'chat': 347, 'due': 348, '@SouthwestAir': 349, '@XboxSupport': 350, '@sprintcare': 351, 'Why': 352, 'device': 353, 'where': 354, 'checked': 355, 'data': 356, 'great': 357, 'iPhone': 358, 'say': 359, 'services': 360, '@hulu_support': 361, '@AldiUK': 362, 'confirm': 363, 'currently': 364, 'first': 365, '@ArgosHelpers': 366, 'Could': 367, 'product': 368, 'receive': 369, 'their': 370, '5': 371, '@AskPlayStation': 372, 'he': 373, 'its': 374, 'best': 375, 'pay': 376, '。': 377, 'better': 378, 'morning': 379, '@ChipotleTweets': 380, 'made': 381, 'someone': 382, 'earlier': 383, 'different': 384, 'online': 385, '“': 386, 'called': 387, 'en': 388, 'experience': 389, 'given': 390, 'trouble': 391, 'week': 392, 'Our': 393, 'Still': 394, 'late': 395, '”': 396, 'page': 397, 'something': 398, 'down': 399, 'resolution': 400, 'though': 401, '@AdobeCare': 402, 'care': 403, 'end': 404, 'home': 405, 'thing': 406, 'appreciate': 407, 'ask': 408, 'line': 409, 'yesterday': 410, '’ll': 411, 'ur': 412, 'Regards': 413, 'Twitter': 414, 'gt': 415, 'until': 416, 'tomorrow': 417, 'A': 418, 'hope': 419, 'month': 420, 'steps': 421, '@ATVIAssist': 422, 'ago': 423, 'every': 424, 'inconvenience': 425, 'le': 426, 'two': 427, 'network': 428, 'without': 429, 'saying': 430, 'else': 431, 'staff': 432, '7': 433, 'Ok': 434, 'fine': 435, 'system': 436, '’re': 437, 'Apologies': 438, 'e': 439, 'minutes': 440, 'resolved': 441, 'code': 442, 'm': 443, 'screen': 444, '1/2': 445, 'Will': 446, 'offer': 447, 'un': 448, '@117249': 449, 'come': 450, 'connection': 451, 'once': 452, 'used': 453, 'options': 454, 'wrong': 455, '£': 456, 'question': 457, '@airtel_care': 458, 'Oh': 459, 'following': 460, 'happened': 461, 'running': 462, 'doing': 463, 'love': 464, 'In': 465, 'left': 466, 'open': 467, '$': 468, 'around': 469, 'buy': 470, 'many': 471, 'package': 472, '@117246': 473, '@117250': 474, '6': 475, '@117248': 476, 'Also': 477, 'both': 478, 'happening': 479, 'internet': 480, 'looking': 481, 'site': 482, 'All': 483, 'fix': 484, 'patience': 485, 'reason': 486, 'while': 487, '@AzureSupport': 488, 'correspondence': 489, 'few': 490, 'Now': 491, 'asked': 492, 'show': 493, 'unable': 494, 'caused': 495, 'delayed': 496, 'purchase': 497, 'seems': 498, 'For': 499, 'apologize': 500, 'idea': 501, 'most': 502, 'stock': 503, 'Which': 504, 'away': 505, 'form': 506, 'happens': 507, 'pass': 508, 'point': 509, 'within': 510, '👍': 511, '@LondonMidland': 512, 'asking': 513, '@117251': 514, '@AskAmex': 515, 'actually': 516, 'directly': 517, 'el': 518, 'regarding': 519, 'vous': 520, 'months': 521, 'put': 522, 'she': 523, 'trains': 524, 'yes': 525, 'Here': 526, 'booking': 527, 'fixed': 528, 'her': 529, 'mobile': 530, 'updates': 531, '@BofA_Help': 532, 'correct': 533, 'n': 534, 'resolve': 535, 'y': 536, 'Does': 537, 'area': 538, 'showing': 539, 'weeks': 540, '8': 541, 'Any': 542, 'Spotify': 543, 'review': 544, '11.1': 545, 'Well': 546, 'apps': 547, 'cancel': 548, 'everything': 549, 'found': 550, 'carrier': 551, 'connect': 552, 'feel': 553, 'longer': 554, 'set': 555, 'tracking': 556, 'under': 557, '️': 558, '@117241': 559, 'continue': 560, 'either': 561, 'mean': 562, 'plan': 563, 'those': 564, 'works': 565, 'box': 566, 'business': 567, 'kindly': 568, 'posted': 569, 'respond': 570, 'shared': 571, 'later': 572, 'member': 573, 'run': 574, 'complaint': 575, 'earliest': 576, 'flights': 577, 'ordered': 578, 'things': 579, ':(': 580, 'Send': 581, 'Would': 582, 'bad': 583, 'book': 584, 'happen': 585, 'night': 586, 'payment': 587, 'per': 588, 'post': 589, 'sorted': 590, 'start': 591, 'till': 592, 'year': 593, '@CoxHelp': 594, 'amazon': 595, 'contacted': 596, 'credit': 597, 'es': 598, 'live': 599, 'pm': 600, 'screenshot': 601, '@115913': 602, '@GreggsOfficial': 603, 'game': 604, 'https://t.co/GDrqU22YpT': 605, 'o': 606, 'place': 607, 'seller': 608, '’d': 609, 'replied': 610, 'tickets': 611, 'travel': 612, '@115850': 613, 'answer': 614, 'apologies': 615, 'cancelled': 616, 'claim': 617, 'hard': 618, 'à': 619, 'expect': 620, 'helps': 621, 'log': 622, 'old': 623, 'taken': 624, '24': 625, 'Was': 626, 'd': 627, 'driver': 628, 'je': 629, 'lost': 630, 'price': 631, '30': 632, '@115851': 633, 'Got': 634, 'instead': 635, 'items': 636, 'office': 637, 'paid': 638, 'I️': 639, 'bought': 640, 'latest': 641, 'local': 642, 'play': 643, 'solution': 644, '+': 645, 'Rgds': 646, 'definitely': 647, 'hour': 648, 'receipt': 649, 'welcome': 650, 'ever': 651, 'far': 652, 'fill': 653, 'lot': 654, 'multiple': 655, 'prime': 656, 'reset': 657, 'went': 658, '12': 659, '@VirginAtlantic': 660, 'However': 661, 'bank': 662, 'charged': 663, 'company': 664, 'confirmation': 665, 'must': 666, 'non': 667, 'type': 668, 'London': 669, 'To': 670, 'emails': 671, 'future': 672, 'moment': 673, 'status': 674, 'stop': 675, 'tweet': 676, '😊': 677, '%': 678, '@AskTarget': 679, 'charge': 680, 'pas': 681, 'person': 682, 'poor': 683, 'previous': 684, 'process': 685, 'such': 686, 'taking': 687, '@nationalrailenq': 688, 'On': 689, 'TV': 690, 'additional': 691, 'battery': 692, 'hold': 693, 'making': 694, 'messages': 695, 'missing': 696, 'pick': 697, 'reported': 698, '@DropboxSupport': 699, 'ID': 700, 'afraid': 701, 'allow': 702, 'amount': 703, 'arrive': 704, 'calling': 705, 'calls': 706, 'changed': 707, 'mind': 708, 'ok': 709, 'part': 710, 'speak': 711, '@117243': 712, 'Appreciate': 713, 'Great': 714, 'agent': 715, 'expected': 716, 'laptop': 717, 'por': 718, 'reaching': 719, 'upgrade': 720, 'wanted': 721, '20': 722, 'Good': 723, 'Windows': 724, 'add': 725, 'computer': 726, 'deliver': 727, 'enough': 728, 'matter': 729, 'replacement': 730, 'report': 731, 's': 732, 'shows': 733, 'worked': 734, 'Idea': 735, 'Prime': 736, 'Unfortunately': 737, 'extra': 738, 'location': 739, 'questions': 740, '@117244': 741, 'OK': 742, 'bill': 743, 'console': 744, 'devices': 745, 'gone': 746, 'might': 747, 'note': 748, 'orders': 749, 'own': 750, 'requested': 751, 'seeing': 752, 'specific': 753, 'votre': 754, '@117247': 755, 'Hope': 756, 'deal': 757, 'heard': 758, 'looks': 759, 'paying': 760, 'personal': 761, 'started': 762, 'trip': 763, '@117128': 764, '@117242': 765, 'Customer': 766, 'Done': 767, 'Keep': 768, 'Then': 769, 'advise': 770, 'chance': 771, 'clarify': 772, 'closer': 773, 'et': 774, 'helpful': 775, 'journey': 776, 're': 777, 'shortly': 778, 'suggest': 779, 'years': 780, '😉': 781, 'airport': 782, 'bag': 783, 'between': 784, 'click': 785, 'current': 786, 'glad': 787, 'leave': 788, 'list': 789, 'problems': 790, 'read': 791, 'reference': 792, 'router': 793, 'shipping': 794, 'Friday': 795, 'G': 796, 'advised': 797, 'booked': 798, 'changes': 799, 'concerns': 800, 'direct': 801, 'least': 802, 'mins': 803, 'past': 804, 'plus': 805, 'registered': 806, 'seat': 807, 'station': 808, '😍': 809, 'BA': 810, 'Yeah': 811, 'assured': 812, 'board': 813, 'coming': 814, 'lo': 815, 'needs': 816, 'sign': 817, 'Only': 818, 'X': 819, 'bit': 820, 'file': 821, 'informed': 822, 'media': 823, 'missed': 824, 'music': 825, 'text': 826, '11': 827, 'U': 828, 'anyone': 829, 'aware': 830, 'para': 831, 'plane': 832, 'sending': 833, 'sharing': 834, 'telling': 835, 'took': 836, '15': 837, '@AirbnbHelp': 838, '@DellCares': 839, 'Okay': 840, 'action': 841, 'close': 842, 'download': 843, 'needed': 844, 'purchased': 845, 'responded': 846, 'seats': 847, 'test': 848, 'video': 849, 'visit': 850, '😹': 851, 'One': 852, 'cost': 853, 'forward': 854, 'however': 855, 'manager': 856, 'mentioned': 857, 'packaging': 858, 'understanding': 859, 'whole': 860, 'Check': 861, 'Tried': 862, '^PA': 863, 'checking': 864, 'clear': 865, 'comments': 866, 'during': 867, 'each': 868, 'letting': 869, 'little': 870, 'ones': 871, 'quick': 872, 'stores': 873, 'Already': 874, 'Phil': 875, 'almost': 876, 'means': 877, 'nice': 878, 'rather': 879, 'real': 880, 'shipped': 881, 'side': 882, 'speed': 883, '100': 884, '@116590': 885, 'Its': 886, 'TY': 887, 'WiFi': 888, 'believe': 889, 'closed': 890, 'fault': 891, 'https://t.co/JzP7hlA23B': 892, 'points': 893, 'pre': 894, 'recommend': 895, 'social': 896, 'watch': 897, '’': 898, '🤔': 899, '11.0.3': 900, 'App': 901, 'Apple': 902, 'Once': 903, 'above': 904, 'arrange': 905, 'compensation': 906, 'courier': 907, 'die': 908, 'dm': 909, 'drop': 910, 'exact': 911, 'food': 912, 'gave': 913, 'guess': 914, 'him': 915, 'public': 916, 'second': 917, 'write': 918, '@115821': 919, '@117627': 920, '@Ask_WellsFargo': 921, 'He': 922, 'Service': 923, '^CB': 924, '^MM': 925, 'broken': 926, 'button': 927, 'da': 928, 'fast': 929, 'gate': 930, 'giving': 931, 'goes': 932, 'normal': 933, 'passengers': 934, 'power': 935, 'situation': 936, 'top': 937, 'twice': 938, 'web': 939, 'After': 940, 'Request': 941, 'arrived': 942, 'delays': 943, 'his': 944, 'ich': 945, 'keeps': 946, 'logged': 947, 'looked': 948, 'okay': 949, 'party': 950, 'ready': 951, 'shit': 952, 'wish': 953, '‘': 954, 'Has': 955, 'Or': 956, 'Sure': 957, 'added': 958, 'certainly': 959, 'experiencing': 960, 'frustrating': 961, 'less': 962, 'password': 963, 'pretty': 964, 'select': 965, 'tv': 966, 'value': 967, '  ': 968, '@115911': 969, '@UPSHelp': 970, 'Even': 971, 'Really': 972, 'Where': 973, 'accounts': 974, 'came': 975, 'difference': 976, 'du': 977, 'ensure': 978, 'evening': 979, 'exactly': 980, 'gift': 981, 'kind': 982, 'pour': 983, 'se': 984, 'seen': 985, 'talk': 986, 'ASAP': 987, 'At': 988, 'Christmas': 989, 'Nope': 990, 'Paddington': 991, 'See': 992, 'Since': 993, 'Team': 994, 'UK': 995, 'charges': 996, 'con': 997, 'delete': 998, 'disappointed': 999, 'files': 1000, 'lol': 1001, 'modem': 1002, 'parcel': 1003, 'passed': 1004, 'required': 1005, 'safe': 1006, 'si': 1007, 'spoke': 1008, 'thought': 1009, 'three': 1010, 'x': 1011, '1st': 1012, '50': 1013, 'May': 1014, 'US': 1015, 'active': 1016, 'ahead': 1017, 'al': 1018, 'anymore': 1019, 'comes': 1020, 'complete': 1021, 'confirming': 1022, 'das': 1023, 'family': 1024, 'feature': 1025, 'il': 1026, 'makes': 1027, 'mode': 1028, 'platform': 1029, 'reached': 1030, 'receiving': 1031, 'record': 1032, 'rest': 1033, 'results': 1034, 'settings': 1035, '9': 1036, '@129526': 1037, '@AskPayPal': 1038, 'Ca': 1039, 'Maybe': 1040, 'Nothing': 1041, '^MB': 1042, 'big': 1043, 'cause': 1044, 'connected': 1045, 'frustration': 1046, 'gets': 1047, 'na': 1048, 'numbers': 1049, 'pls': 1050, 'recently': 1051, 'route': 1052, 'seem': 1053, 'shall': 1054, 'single': 1055, 'sort': 1056, 'sound': 1057, 'turn': 1058, '@115858': 1059, '@ChaseSupport': 1060, 'Settings': 1061, 'Store': 1062, 'Xbox': 1063, 'center': 1064, 'copy': 1065, 'disappointment': 1066, 'early': 1067, 'finally': 1068, 'nicht': 1069, 'previously': 1070, 'ride': 1071, 'several': 1072, 'solve': 1073, 'stuck': 1074, 'tonight': 1075, 'track': 1076, 'twitter': 1077, '😡': 1078, '@120576': 1079, '@AlaskaAir': 1080, 'Pls': 1081, 'Same': 1082, 'consider': 1083, 'etc': 1084, 'https://t.co/GIJyeYqKE0': 1085, 'https://t.co/beaaDm0muc': 1086, 'providing': 1087, 'rep': 1088, 'replying': 1089, 'restarting': 1090, 'signal': 1091, 'similar': 1092, 'submit': 1093, 'supposed': 1094, 'worry': 1095, '❤': 1096, '@NortonSupport': 1097, 'Hmm': 1098, 'O2': 1099, 'She': 1100, 'accept': 1101, 'addressed': 1102, 'along': 1103, 'appear': 1104, 'car': 1105, 'explain': 1106, 'eye': 1107, 'filled': 1108, 'fly': 1109, 'half': 1110, 'https://t.co/hApLpMlfHN': 1111, 'life': 1112, 'ne': 1113, 'policy': 1114, 'private': 1115, 'recent': 1116, 'release': 1117, 'sale': 1118, 'takes': 1119, 'unfortunately': 1120, 'waste': 1121, 'ya': 1122, '2017': 1123, '3rd': 1124, '@122232': 1125, '@NikeSupport': 1126, 'Looks': 1127, 'Tesco': 1128, 'UPS': 1129, 'Were': 1130, 'Who': 1131, 'apparently': 1132, 'baggage': 1133, 'browser': 1134, 'busy': 1135, 'cancellation': 1136, 'controller': 1137, 'couple': 1138, 'drivers': 1139, 'hrs': 1140, 'https://t.co/LBfZgLCSfr': 1141, 'install': 1142, 'investigate': 1143, 'les': 1144, 'logging': 1145, 'miss': 1146, 'pop': 1147, 'responding': 1148, 'revert': 1149, 'shown': 1150, 'slow': 1151, 'song': 1152, 'spoken': 1153, 'stated': 1154, 'usually': 1155, '😩': 1156, '😭': 1157, '\\n ': 1158, '2nd': 1159, 'Ah': 1160, 'CC': 1161, 'Josh': 1162, 'Mariya': 1163, 'Monday': 1164, 'More': 1165, 'Order': 1166, 'Support': 1167, 'backup': 1168, 'changing': 1169, 'discuss': 1170, 'emailed': 1171, 'est': 1172, 'followed': 1173, 'ha': 1174, 'https://t.co/MdMtnTlX6H': 1175, 'improve': 1176, 'installed': 1177, 'listed': 1178, 'login': 1179, 'move': 1180, 'pedido': 1181, 'pies': 1182, 'query': 1183, 'r': 1184, 'ridiculous': 1185, 'talking': 1186, 'travelling': 1187, '¿': 1188, '@116589': 1189, 'Manager': 1190, 'attached': 1191, 'automated': 1192, 'class': 1193, 'ist': 1194, 'itself': 1195, 'job': 1196, 'luck': 1197, 'main': 1198, 'meet': 1199, 'near': 1200, 'original': 1201, 'picture': 1202, 'released': 1203, 'require': 1204, 'save': 1205, 'scheduled': 1206, 'submitted': 1207, 'together': 1208, 'und': 1209, 'une': 1210, '.....': 1211, '48': 1212, '@122277': 1213, '@129524': 1214, '@129525': 1215, 'Dan': 1216, 'India': 1217, 'Lewis': 1218, 'Message': 1219, 'amazing': 1220, 'balance': 1221, 'below': 1222, 'bring': 1223, 'colleague': 1224, 'commande': 1225, 'completely': 1226, 'content': 1227, 'folder': 1228, 'maybe': 1229, 'meant': 1230, 'others': 1231, 'outage': 1232, 'outside': 1233, 'playing': 1234, 'removed': 1235, 'returned': 1236, 'security': 1237, 'shop': 1238, 'sold': 1239, 'third': 1240, 'है': 1241, '…': 1242, '3/3': 1243, '@117252': 1244, '@129521': 1245, '@TacoBellTeam': 1246, 'Rach': 1247, 'Steven': 1248, 'cable': 1249, 'completed': 1250, 'concerned': 1251, 'daily': 1252, 'departure': 1253, 'hand': 1254, 'high': 1255, 'joke': 1256, 'man': 1257, 'não': 1258, 'photo': 1259, 'placed': 1260, 'prior': 1261, 'probably': 1262, 'products': 1263, 'quickly': 1264, 'reboot': 1265, 'search': 1266, 'software': 1267, 'user': 1268, 'worries': 1269, 'worst': 1270, '！': 1271, '@115714': 1272, '@122569': 1273, 'Direct': 1274, 'Had': 1275, 'Jordan': 1276, 'New': 1277, 'November': 1278, 'Robbie': 1279, 'Sent': 1280, 'Try': 1281, 'Yep': 1282, 'avoid': 1283, 'city': 1284, 'collect': 1285, 'course': 1286, 'dispatched': 1287, 'escalated': 1288, 'fare': 1289, 'iTunes': 1290, 'letter': 1291, 'mais': 1292, 'pathetic': 1293, 'promised': 1294, 'reasons': 1295, 'remember': 1296, 'room': 1297, 'solved': 1298, 'state': 1299, 'uber': 1300, 'view': 1301, 'visible': 1302, 'w/': 1303, 'wireless': 1304, '😃': 1305, '@116588': 1306, 'Because': 1307, 'First': 1308, 'MY': 1309, 'Many': 1310, 'Should': 1311, 'T': 1312, '^HS': 1313, '^JH': 1314, '^MA': 1315, '^NHP': 1316, 'airline': 1317, 'associated': 1318, 'boarding': 1319, 'contacting': 1320, 'country': 1321, 'deleted': 1322, 'flying': 1323, 'house': 1324, 'instructions': 1325, 'internally': 1326, 'literally': 1327, 'mistake': 1328, 'moved': 1329, 'news': 1330, 'notice': 1331, 'onto': 1332, 'restart': 1333, 'self': 1334, 'size': 1335, 'spent': 1336, 'stuff': 1337, '😁': 1338, '11.1.2': 1339, '@116136': 1340, 'Android': 1341, 'Euston': 1342, 'General': 1343, 'PC': 1344, 'Very': 1345, 'accordingly': 1346, 'allowed': 1347, 'anytime': 1348, 'anyway': 1349, 'attempt': 1350, 'barcode': 1351, 'bonus': 1352, 'bottom': 1353, 'cache': 1354, 'ce': 1355, 'confirmed': 1356, 'eBay': 1357, 'everyone': 1358, 'fed': 1359, 'guarantee': 1360, 'guide': 1361, 'guy': 1362, 'helping': 1363, 'inform': 1364, 'located': 1365, 'los': 1366, 'mention': 1367, 'method': 1368, 'notre': 1369, 'offered': 1370, 'packages': 1371, 'postcode': 1372, 'refunded': 1373, 'sell': 1374, 'signed': 1375, 'simple': 1376, 'stopped': 1377, 'stream': 1378, 'street': 1379, 'supervisor': 1380, 'switch': 1381, 'tech': 1382, 'users': 1383, 'wife': 1384, 'wifi': 1385, 'worth': 1386, '🙄': 1387, '@129518': 1388, 'About': 1389, 'December': 1390, 'Feel': 1391, 'From': 1392, 'Je': 1393, 'Lauren': 1394, 'Mark': 1395, 'OS': 1396, 'Verizon': 1397, '^JA': 1398, 'answers': 1399, 'apply': 1400, 'attention': 1401, 'bags': 1402, 'bear': 1403, 'behind': 1404, 'branch': 1405, 'channel': 1406, 'clearly': 1407, 'create': 1408, 'di': 1409, 'elsewhere': 1410, 'enjoy': 1411, 'fact': 1412, 'fair': 1413, 'friend': 1414, 'friends': 1415, 'g': 1416, 'gives': 1417, 'gon': 1418, 'lady': 1419, 'leaving': 1420, 'linked': 1421, 'managed': 1422, 'noticed': 1423, 'offers': 1424, 'pie': 1425, 'quite': 1426, 'sense': 1427, 'space': 1428, 'terrible': 1429, 'unless': 1430, 'w': 1431, 'wired': 1432, '🏻': 1433, '🙂': 1434, '18': 1435, '2018': 1436, '40': 1437, ':/': 1438, ';)': 1439, '@116331': 1440, '@ATT': 1441, '@AskLyft': 1442, '@JetBlue': 1443, 'Happy': 1444, 'Mobile': 1445, 'NOT': 1446, 'SO': 1447, 'Sunday': 1448, '^BT': 1449, '^CO': 1450, 'advance': 1451, 'cards': 1452, 'carry': 1453, 'colis': 1454, 'complain': 1455, 'dates': 1456, 'desktop': 1457, 'despite': 1458, 'disappointing': 1459, 'discussed': 1460, 'double': 1461, 'forwarded': 1462, 'gotten': 1463, 'hell': 1464, 'important': 1465, 'including': 1466, 'mincepiewars': 1467, 'minute': 1468, 'none': 1469, 'particular': 1470, 'prefer': 1471, 'saw': 1472, 'small': 1473, 'transaction': 1474, 'truly': 1475, 've': 1476, '@115873': 1477, 'Dear': 1478, 'Help': 1479, 'Last': 1480, 'Nectar': 1481, 'Network': 1482, 'Never': 1483, 'Thx': 1484, 'Today': 1485, '^AP': 1486, '^AW': 1487, 'appropriate': 1488, 'black': 1489, 'contract': 1490, 'crew': 1491, 'damage': 1492, 'eligible': 1493, 'empty': 1494, 'expensive': 1495, 'failed': 1496, 'für': 1497, 'helped': 1498, 'hi': 1499, 'hoping': 1500, 'lines': 1501, 'manage': 1502, 'model': 1503, 'nor': 1504, 'passenger': 1505, 'photos': 1506, 'plans': 1507, 'regular': 1508, 'restarted': 1509, 'restore': 1510, 'section': 1511, 'sim': 1512, 'sounds': 1513, 'subscription': 1514, 'te': 1515, 'true': 1516, 'tweets': 1517, 'window': 1518, 'wondering': 1519, 'worse': 1520, '👎': 1521, '@116230': 1522, '@123288': 1523, '@2793': 1524, '@2794': 1525, '@HPSupport': 1526, 'Be': 1527, 'Lol': 1528, 'Plus': 1529, 'Social': 1530, 'These': 1531, '^BV': 1532, '^JJ': 1533, '^JRA': 1534, '^LC': 1535, '^SB': 1536, '^SH': 1537, '^SI': 1538, '^SV': 1539, '^TS': 1540, 'afternoon': 1541, 'annoying': 1542, 'anywhere': 1543, 'article': 1544, 'caso': 1545, 'centre': 1546, 'colleagues': 1547, 'conversation': 1548, 'damaged': 1549, 'entire': 1550, 'equipment': 1551, 'estimated': 1552, 'fee': 1553, 'feed': 1554, 'fees': 1555, 'limited': 1556, 'mi': 1557, 'myself': 1558, 'necessary': 1559, 'odd': 1560, 'opened': 1561, 'opportunity': 1562, 'pero': 1563, 'pic': 1564, 'plz': 1565, 'port': 1566, 'provider': 1567, 'qui': 1568, 'relevant': 1569, 'remove': 1570, 'resetting': 1571, 'seconds': 1572, 'shopping': 1573, 'songs': 1574, 'spam': 1575, 'spotify': 1576, 'thinking': 1577, 'totally': 1578, 'um': 1579, 'updating': 1580, 'usual': 1581, 'whether': 1582, 'yourself': 1583, '6s': 1584, '@119433': 1585, '@119696': 1586, 'Cheers': 1587, 'David': 1588, 'Delivery': 1589, 'Hopefully': 1590, 'Hulu': 1591, 'IT': 1592, 'K': 1593, 'SAV': 1594, 'USPS': 1595, 'Uber': 1596, '^AK': 1597, '^HP': 1598, '^KA': 1599, '^MI': 1600, '^RR': 1601, '^SY': 1602, 'acct': 1603, 'alternative': 1604, 'answered': 1605, 'appears': 1606, 'confusion': 1607, 'created': 1608, 'door': 1609, 'drive': 1610, 'eu': 1611, 'fraud': 1612, 'funds': 1613, 'holiday': 1614, 'hopefully': 1615, 'https://t.co/8DAc10S7ww': 1616, 'huge': 1617, 'internal': 1618, 'kept': 1619, 'lies': 1620, 'mine': 1621, 'nearest': 1622, 'notification': 1623, 'par': 1624, 'present': 1625, 'prices': 1626, 'proper': 1627, 'raised': 1628, 'referring': 1629, 'reservation': 1630, 'result': 1631, 'rude': 1632, 'sales': 1633, 'short': 1634, 'showed': 1635, 'stay': 1636, 'suggested': 1637, 'talked': 1638, 'transfer': 1639, 'troubleshooting': 1640, 'tu': 1641, 'turned': 1642, 'upload': 1643, 'upset': 1644, 'useless': 1645, 'word': 1646, 'yeah': 1647, 'é': 1648, '🏼': 1649, '😀': 1650, '200': 1651, '25': 1652, '@': 1653, '@120586': 1654, '@132727': 1655, 'Been': 1656, 'Comcast': 1657, 'Day': 1658, 'Delta': 1659, 'Every': 1660, 'Ich': 1661, 'Music': 1662, 'Nov': 1663, 'S': 1664, 'Saturday': 1665, 'TO': 1666, 'Wow': 1667, '^BK': 1668, 'absolutely': 1669, 'across': 1670, 'asap': 1671, 'availability': 1672, 'awesome': 1673, 'buying': 1674, 'codes': 1675, 'der': 1676, 'description': 1677, 'especially': 1678, 'este': 1679, 'fait': 1680, 'front': 1681, 'iphone': 1682, 'locked': 1683, 'lose': 1684, 'machine': 1685, 'mails': 1686, 'mince': 1687, 'normally': 1688, 'os': 1689, 'otherwise': 1690, 'ou': 1691, 'pending': 1692, 'progress': 1693, 'proof': 1694, 'properly': 1695, 'restored': 1696, 'standard': 1697, 't': 1698, 'treat': 1699, 'uma': 1700, '👌': 1701, '😞': 1702, '14': 1703, '@115725': 1704, '@117245': 1705, '@117260': 1706, '@120474': 1707, '@131476': 1708, 'Again': 1709, 'Awesome': 1710, 'Both': 1711, 'DMs': 1712, 'Get': 1713, 'Give': 1714, 'Sainsbury': 1715, 'YOU': 1716, '^AB': 1717, '^BM': 1718, '^CR': 1719, '^EM': 1720, '^MJ': 1721, '^NR': 1722, 'actual': 1723, 'bei': 1724, 'brand': 1725, 'canceled': 1726, 'certain': 1727, 'choose': 1728, 'com': 1729, 'communication': 1730, 'control': 1731, 'cookies': 1732, 'cool': 1733, 'cut': 1734, 'cycle': 1735, 'deleting': 1736, 'downloaded': 1737, 'easier': 1738, 'em': 1739, 'enter': 1740, 'explanation': 1741, 'figure': 1742, 'folks': 1743, 'https://t.co/Y5jpI9gRhE': 1744, 'label': 1745, 'level': 1746, 'loss': 1747, 'miles': 1748, 'min': 1749, 'official': 1750, 'phones': 1751, 'playlist': 1752, 'reinstall': 1753, 'season': 1754, 'selling': 1755, 'seriously': 1756, 'shame': 1757, 'sometimes': 1758, 'speeds': 1759, 'states': 1760, 'step': 1761, 'surely': 1762, 'total': 1763, 'una': 1764, 'written': 1765, 'y’': 1766, '😔': 1767, '@120261': 1768, '@123289': 1769, '@123963': 1770, '@129523': 1771, '@131477': 1772, '@131820': 1773, '@2795': 1774, '@2796': 1775, '@AskPapaJohns': 1776, 'AND': 1777, 'Always': 1778, 'CS': 1779, 'E': 1780, 'Fi': 1781, 'GWR': 1782, 'Go': 1783, 'Google': 1784, 'Hola': 1785, 'IS': 1786, 'Media': 1787, 'NO': 1788, 'October': 1789, 'Of': 1790, 'Seems': 1791, 'Some': 1792, 'THE': 1793, 'Wi': 1794, '^JR': 1795, '^RS': 1796, '^RW': 1797, '^SG': 1798, '^VM': 1799, 'activate': 1800, 'against': 1801, 'agents': 1802, 'air': 1803, 'alternate': 1804, 'apologise': 1805, 'bar': 1806, 'based': 1807, 'bien': 1808, 'bin': 1809, 'birthday': 1810, 'bug': 1811, 'channels': 1812, 'closing': 1813, 'correctly': 1814, 'coverage': 1815, 'dans': 1816, 'discount': 1817, 'documents': 1818, 'downloading': 1819, 'ended': 1820, 'entrega': 1821, 'exchange': 1822, 'faster': 1823, 'gt;&gt': 1824, 'https://t.co/5pyLDJBC6r': 1825, 'human': 1826, 'impossible': 1827, 'interested': 1828, 'locate': 1829, 'mon': 1830, 'nous': 1831, 'patient': 1832, 'peak': 1833, 'picked': 1834, 'press': 1835, 'priority': 1836, 'profile': 1837, 'prompt': 1838, 'raise': 1839, 'ref': 1840, 'reinstalling': 1841, 'related': 1842, 'repeat': 1843, 'road': 1844, 'row': 1845, 'setting': 1846, 'sur': 1847, 'thread': 1848, 'thru': 1849, 'timetable': 1850, 'unlock': 1851, '@122656': 1852, 'An': 1853, 'Anwar': 1854, 'Call': 1855, 'Care': 1856, 'Email': 1857, 'GB': 1858, 'Me': 1859, 'Peter': 1860, 'Sometimes': 1861, 'Vous': 1862, 'With': 1863, 'aber': 1864, 'agree': 1865, 'appreciated': 1866, 'avec': 1867, 'b': 1868, 'become': 1869, 'billing': 1870, 'breakfast': 1871, \"c'est\": 1872, 'carriages': 1873, 'cash': 1874, 'counter': 1875, 'del': 1876, 'dich': 1877, 'dropped': 1878, 'facing': 1879, 'feeling': 1880, 'four': 1881, 'frustrated': 1882, 'hate': 1883, 'higher': 1884, 'hotel': 1885, 'ignored': 1886, 'improvement': 1887, 'información': 1888, 'international': 1889, 'junk': 1890, 'key': 1891, 'keyboard': 1892, 'lack': 1893, 'limit': 1894, 'load': 1895, 'lower': 1896, 'ma': 1897, 'mas': 1898, 'membership': 1899, 'msg': 1900, 'notifications': 1901, 'operating': 1902, 'pack': 1903, 'pin': 1904, 'recharge': 1905, 'reinstalled': 1906, 'repair': 1907, 'representative': 1908, 'ring': 1909, 'sad': 1910, 'secure': 1911, 'ship': 1912, 'speaking': 1913, 'super': 1914, 'tag': 1915, 'tells': 1916, 'tired': 1917, 'verify': 1918, 'words': 1919, '\\xa0': 1920, '？': 1921, '   ': 1922, ':-)': 1923, '=': 1924, '@117625': 1925, '@117626': 1926, '@118422': 1927, '@119703': 1928, '@120701': 1929, '@TfL': 1930, 'American': 1931, 'Amit': 1932, 'Another': 1933, 'Best': 1934, 'By': 1935, 'Dave': 1936, 'Dropbox': 1937, 'Ewan': 1938, 'Internet': 1939, 'John': 1940, 'Live': 1941, 'Looking': 1942, 'Manchester': 1943, 'Microsoft': 1944, 'Pay': 1945, 'Por': 1946, 'Rob': 1947, 'Samsung': 1948, 'Surface': 1949, 'Tuesday': 1950, 'Update': 1951, 'While': 1952, 'Wifi': 1953, '^BL': 1954, '^HN': 1955, '^MO': 1956, '^SC': 1957, 'awaiting': 1958, 'bread': 1959, 'camera': 1960, 'cancellations': 1961, 'charging': 1962, 'checkout': 1963, 'clicking': 1964, 'complaints': 1965, 'connecting': 1966, 'continues': 1967, 'crossed': 1968, 'deals': 1969, 'default': 1970, 'demand': 1971, 'department': 1972, 'desk': 1973, 'detail': 1974, 'dial': 1975, 'difficult': 1976, 'escalate': 1977, 'está': 1978, 'extended': 1979, 'fire': 1980, 'fit': 1981, 'forum': 1982, 'gesture': 1983, 'hassle': 1984, 'https://t.co/vlvfJr4nN9': 1985, 'https://t.co/wKJHDXWGRQ': 1986, 'ja': 1987, 'lie': 1988, 'light': 1989, 'listen': 1990, 'listening': 1991, 'lovely': 1992, 'maintenance': 1993, 'management': 1994, 'menu': 1995, 'middle': 1996, 'monthly': 1997, 'moving': 1998, 'o2': 1999, 'offering': 2000, 'often': 2001, 'opening': 2002, 'originally': 2003, 'perfect': 2004, 'pictures': 2005, 'program': 2006, 'remain': 2007, 'replace': 2008, 'replies': 2009, 'selected': 2010, 'separate': 2011, 'sitting': 2012, 'specialist': 2013, 'stops': 2014, 'strange': 2015, 'streaming': 2016, 'sucks': 2017, 'technical': 2018, 'trash': 2019, 'uninstall': 2020, 'vendedor': 2021, 'voucher': 2022, 'wasted': 2023, 'whenever': 2024, 'été': 2025, '😢': 2026, '🙁': 2027, '-AC': 2028, '2/3': 2029, '4th': 2030, '@118101': 2031, '@118505': 2032, '@121705': 2033, '@124257': 2034, '@ArbysCares': 2035, '@AsurionCares': 2036, '@VirginAmerica': 2037, 'Adobe': 2038, 'Alright': 2039, 'AmazonFails': 2040, 'AmazonFraud': 2041, 'AmazonPay': 2042, 'Dell': 2043, 'Facebook': 2044, 'Flight': 2045, 'Ganesh': 2046, 'Gotcha': 2047, 'M': 2048, 'Mac': 2049, 'Oct': 2050, 'Other': 2051, 'PM': 2052, 'Phone': 2053, 'Pradnya': 2054, 'Road': 2055, 'Stop': 2056, 'Surely': 2057, 'Tweet': 2058, 'Ty': 2059, 'UO': 2060, 'Virgin': 2061, 'Yogita': 2062, '^AL': 2063, '^AR': 2064, '^CAR': 2065, '^JC': 2066, '^RN': 2067, 'advertised': 2068, 'affected': 2069, 'album': 2070, 'apology': 2071, 'application': 2072, 'assigned': 2073, 'basic': 2074, 'brother': 2075, 'browsing': 2076, 'catch': 2077, 'causing': 2078, 'cold': 2079, 'comment': 2080, 'communicated': 2081, 'compte': 2082, 'constantly': 2083, 'corrected': 2084, 'dear': 2085, 'disruption': 2086, 'esta': 2087, 'except': 2088, 'expecting': 2089, 'expired': 2090, 'fake': 2091, 'favor': 2092, 'hands': 2093, 'image': 2094, 'incorrect': 2095, 'ios': 2096, 'learn': 2097, 'low': 2098, 'mal': 2099, 'merci': 2100, 'mess': 2101, 'midnight': 2102, 'monitor': 2103, 'neither': 2104, 'plastic': 2105, 'queue': 2106, 'refer': 2107, 'requesting': 2108, 'shut': 2109, 'slot': 2110, 'sprint': 2111, 'stand': 2112, 'statement': 2113, 'stations': 2114, 'straight': 2115, 'stretch': 2116, 'survey': 2117, 'tho': 2118, 'trust': 2119, 'turns': 2120, 'unhappy': 2121, 'useful': 2122, 'visited': 2123, 'voice': 2124, 'waited': 2125, 'walk': 2126, 'watching': 2127, 'ways': 2128, 'weather': 2129, 'white': 2130, 'win': 2131, 'zu': 2132, '☺': 2133, '👏': 2134, '😅': 2135, '@118701': 2136, '@119983': 2137, '@121656': 2138, '@123127': 2139, '@134104': 2140, 'AA': 2141, 'Absolutely': 2142, 'Am': 2143, 'Apparently': 2144, 'Chris': 2145, 'Darshan': 2146, 'Everything': 2147, 'Fios': 2148, 'Il': 2149, 'Issue': 2150, 'Laura': 2151, 'Like': 2152, 'MONEY': 2153, 'Merci': 2154, 'Morning': 2155, 'None': 2156, 'PS4': 2157, 'Paul': 2158, 'PayPal': 2159, 'Pro': 2160, 'Richard': 2161, 'Seriously': 2162, 'Services': 2163, 'Si': 2164, 'Someone': 2165, 'Sounds': 2166, 'Y': 2167, '^Davina': 2168, '^HSB': 2169, '^JI': 2170, '^MH': 2171, '^RMD': 2172, 'activated': 2173, 'activation': 2174, 'advice': 2175, 'arrival': 2176, 'auto': 2177, 'basically': 2178, 'bother': 2179, 'bringing': 2180, 'buyer': 2181, 'buyers': 2182, 'cashback': 2183, 'characters': 2184, 'chase': 2185, 'child': 2186, 'choice': 2187, 'clarifying': 2188, 'common': 2189, 'consumer': 2190, 'continued': 2191, 'dat': 2192, 'dead': 2193, 'dir': 2194, 'disconnected': 2195, 'everyday': 2196, 'excuse': 2197, 'experienced': 2198, 'final': 2199, 'fuck': 2200, 'funny': 2201, 'gb': 2202, 'general': 2203, 'gracias': 2204, 'hence': 2205, 'history': 2206, 'insight': 2207, 'insurance': 2208, 'investigation': 2209, 'issued': 2210, 'knew': 2211, 'known': 2212, 'large': 2213, 'leg': 2214, 'lien': 2215, 'loop': 2216, 'mailed': 2217, 'match': 2218, 'messaging': 2219, 'nearly': 2220, 'nowhere': 2221, 'ongoing': 2222, 'ordering': 2223, 'outcome': 2224, 'persists': 2225, 'pickup': 2226, 'pizza': 2227, 'positive': 2228, 'print': 2229, 'processed': 2230, 'randomly': 2231, 'rate': 2232, 'reduced': 2233, 'regards': 2234, 'replaced': 2235, 'returning': 2236, 'revised': 2237, 'round': 2238, 'safety': 2239, 'sat': 2240, 'schedule': 2241, 'server': 2242, 'sleep': 2243, 'sometime': 2244, 'special': 2245, 'story': 2246, 'stupid': 2247, 'suggestion': 2248, 'suppose': 2249, 'sync': 2250, 'telecon': 2251, 'texts': 2252, 'town': 2253, 'unavailable': 2254, 'unlimited': 2255, 'upgraded': 2256, 'valid': 2257, 'wanna': 2258, 'wants': 2259, 'weird': 2260, 'windows': 2261, 'wrote': 2262, \"y'\": 2263, '¡': 2264, '、': 2265, '😜': 2266, '16': 2267, '24/7': 2268, '800': 2269, '@118471': 2270, '@119439': 2271, '@121513': 2272, '@129522': 2273, '@130696': 2274, '@135810': 2275, '@602': 2276, 'Argos': 2277, 'Card': 2278, 'Danny': 2279, 'English': 2280, 'Fix': 2281, 'GA': 2282, 'Glad': 2283, 'Halloween': 2284, \"J'ai\": 2285, 'James': 2286, 'Kindle': 2287, 'La': 2288, 'Mail': 2289, 'People': 2290, 'Que': 2291, 'Rail': 2292, 'Roku': 2293, 'Sierra': 2294, 'Street': 2295, 'TT': 2296, 'Tell': 2297, 'Think': 2298, 'Train': 2299, 'Want': 2300, 'West': 2301, 'Wo': 2302, 'Ya': 2303, '^AH': 2304, '^BS': 2305, '^DC': 2306, '^KM': 2307, '^MS': 2308, '^SD': 2309, 'ad': 2310, 'airtel': 2311, 'appointment': 2312, 'assume': 2313, 'au': 2314, 'automatically': 2315, 'basis': 2316, 'bc': 2317, 'beyond': 2318, 'blocked': 2319, 'carriers': 2320, 'cart': 2321, 'cellular': 2322, 'cheaper': 2323, 'clean': 2324, 'cleared': 2325, 'clearing': 2326, 'compatible': 2327, 'connections': 2328, 'contacter': 2329, 'correo': 2330, 'credited': 2331, 'decision': 2332, 'deducted': 2333, 'deliveries': 2334, 'disabled': 2335, 'easy': 2336, 'enlace': 2337, 'errors': 2338, 'expert': 2339, 'filed': 2340, 'forms': 2341, 'frame': 2342, 'frm': 2343, 'games': 2344, 'handle': 2345, 'holding': 2346, 'honest': 2347, 'hot': 2348, 'iPad': 2349, 'images': 2350, 'incident': 2351, 'investigating': 2352, 'likely': 2353, 'locator': 2354, 'loyal': 2355, 'mit': 2356, 'obviously': 2357, 'opt': 2358, 'partner': 2359, 'paste': 2360, 'postal': 2361, 'pouvez': 2362, 'ppl': 2363, 'premium': 2364, 'problema': 2365, 'promotion': 2366, 'putting': 2367, 'regularly': 2368, 'reserved': 2369, 'responses': 2370, 'runs': 2371, 'saved': 2372, 'shot': 2373, 'shout': 2374, 'specifically': 2375, 'stating': 2376, 'stopping': 2377, 'terminal': 2378, 'warranty': 2379, 'zero': 2380, 'zip': 2381, '♀': 2382, '🏽': 2383, '😬': 2384, '🙏': 2385, '    ': 2386, '-Miza': 2387, '......': 2388, '0': 2389, '1000': 2390, '300': 2391, '60': 2392, '@115722': 2393, '@115793': 2394, '@115817': 2395, '@115900': 2396, '@116785': 2397, '@121707': 2398, '@131027': 2399, '@131812': 2400, '@2696': 2401, '@48760': 2402, '@53205': 2403, '@CenturyLinkHelp': 2404, '@IHGService': 2405, 'Advance': 2406, 'Airtel': 2407, 'Called': 2408, 'Cortana': 2409, 'De': 2410, 'ET': 2411, 'Ed': 2412, 'En': 2413, 'Express': 2414, 'Gracias': 2415, 'High': 2416, 'Jack': 2417, 'Look': 2418, 'Mike': 2419, 'Need': 2420, 'ON': 2421, 'Online': 2422, 'Oxford': 2423, 'PS': 2424, 'Relations': 2425, 'Reset': 2426, 'Right': 2427, 'SMS': 2428, 'Sam': 2429, 'Sir': 2430, 'Such': 2431, 'THIS': 2432, 'Worst': 2433, '^AZ': 2434, '^GK': 2435, '^JAY': 2436, '^KH': 2437, '^KS': 2438, '^SM': 2439, '^TJ': 2440, 'accessing': 2441, 'accurate': 2442, 'adding': 2443, 'admin': 2444, 'afin': 2445, 'aim': 2446, 'announcement': 2447, 'apple': 2448, 'atleast': 2449, 'attempted': 2450, 'awful': 2451, 'baby': 2452, 'benefits': 2453, 'boy': 2454, 'brought': 2455, 'buffering': 2456, 'cc': 2457, 'chatting': 2458, 'client': 2459, 'conditions': 2460, 'confused': 2461, 'contacto': 2462, 'cover': 2463, 'crash': 2464, 'cuenta': 2465, 'damn': 2466, 'decided': 2467, 'delivering': 2468, 'des': 2469, 'echo': 2470, 'entered': 2471, 'era': 2472, 'eventually': 2473, 'example': 2474, 'explained': 2475, 'externo': 2476, 'extremely': 2477, 'failure': 2478, 'fares': 2479, 'folders': 2480, 'fun': 2481, 'functionality': 2482, 'hit': 2483, 'ideas': 2484, 'idiots': 2485, 'ill': 2486, 'immediately': 2487, 'import': 2488, 'include': 2489, 'initiated': 2490, 'installing': 2491, 'interest': 2492, \"j'ai\": 2493, 'keeping': 2494, 'livro': 2495, 'meaning': 2496, 'met': 2497, 'ms': 2498, 'nectar': 2499, 'networks': 2500, 'newest': 2501, 'nov': 2502, 'nur': 2503, 'oh': 2504, 'onboard': 2505, 'playlists': 2506, 'porque': 2507, 'promise': 2508, 'q': 2509, 'quality': 2510, 'range': 2511, 'register': 2512, 'risk': 2513, 'shipment': 2514, 'sir': 2515, 'son': 2516, 'sont': 2517, 'starts': 2518, 'supply': 2519, 'switched': 2520, 'switching': 2521, 'tariff': 2522, 'technician': 2523, 'temporary': 2524, 'transit': 2525, 'transport': 2526, 'upgrading': 2527, 'volume': 2528, 'weekly': 2529, 'whatever': 2530, 'xbox': 2531, 'yours': 2532, '😕': 2533, '🤣': 2534, '28': 2535, '5th': 2536, '6th': 2537, '@115888': 2538, '@117628': 2539, '@119773': 2540, '@121879': 2541, '@123777': 2542, '@123814': 2543, '@131026': 2544, '@132443': 2545, '@7476': 2546, '@AskCiti': 2547, 'AmazonPayQuiz': 2548, 'Amex': 2549, 'Andrew': 2550, 'Andy': 2551, 'Azure': 2552, 'Chrome': 2553, 'Contact': 2554, 'Data': 2555, 'Emir': 2556, 'Enjoy': 2557, 'Et': 2558, 'FOR': 2559, 'Feedback': 2560, 'Home': 2561, 'Kate': 2562, 'Le': 2563, 'Love': 2564, 'Make': 2565, 'Martin': 2566, 'Mi': 2567, 'Most': 2568, 'Mr.': 2569, 'Neha': 2570, 'Nice': 2571, 'PR': 2572, 'Photoshop': 2573, 'Plz': 2574, 'STOP': 2575, 'Sarah': 2576, 'Shweta': 2577, 'Simon': 2578, 'Spectrum': 2579, 'Unlimited': 2580, 'Ur': 2581, 'Waiting': 2582, 'Waterloo': 2583, '^E': 2584, '^Jane': 2585, '^LJ': 2586, '^LL': 2587, '^MD': 2588, '^MN': 2589, '^NK': 2590, '^PS': 2591, '^RK': 2592, '^RM': 2593, '^SU': 2594, '^VN': 2595, '^ZH': 2596, 'acceptable': 2597, 'accepted': 2598, 'according': 2599, 'actions': 2600, 'affect': 2601, 'airlines': 2602, 'alone': 2603, 'areas': 2604, 'arranged': 2605, 'arriving': 2606, 'auch': 2607, 'automatic': 2608, 'behalf': 2609, 'boot': 2610, 'carriage': 2611, 'chose': 2612, 'competition': 2613, 'complaining': 2614, 'corporate': 2615, 'crap': 2616, 'crashing': 2617, 'document': 2618, 'documentation': 2619, 'drink': 2620, 'eat': 2621, 'ebay': 2622, 'eine': 2623, 'engineer': 2624, 'event': 2625, 'express': 2626, 'fails': 2627, 'filling': 2628, 'five': 2629, 'fixing': 2630, 'forever': 2631, 'generic': 2632, 'guaranteed': 2633, 'guest': 2634, 'haha': 2635, 'hello': 2636, 'honestly': 2637, 'hr': 2638, 'https://t.co': 2639, 'https://t.co/80YRnjDFDk': 2640, 'https://t.co/hgIrz98cdI': 2641, 'iCloud': 2642, 'inbox': 2643, 'inside': 2644, 'jetzt': 2645, 'join': 2646, 'kann': 2647, 'legal': 2648, 'livraison': 2649, 'loaded': 2650, 'losing': 2651, 'lounges': 2652, 'market': 2653, 'nos': 2654, 'occur': 2655, 'occurred': 2656, 'occurring': 2657, 'opens': 2658, 'parcels': 2659, 'period': 2660, 'plug': 2661, 'preferred': 2662, 'processing': 2663, 'rail': 2664, 'random': 2665, 'recording': 2666, 'red': 2667, 'refunds': 2668, 'refused': 2669, 'region': 2670, 'regret': 2671, 'reimburse': 2672, 'remote': 2673, 'rescheduled': 2674, 'reviewing': 2675, 'scan': 2676, 'screenshots': 2677, 'screwed': 2678, 'simply': 2679, 'sites': 2680, 'somewhere': 2681, 'spend': 2682, 'submitting': 2683, 'suggestions': 2684, 'suitable': 2685, 'suivi': 2686, 'supplier': 2687, 'surprise': 2688, 'swap': 2689, 'taxi': 2690, 'telephone': 2691, 'throughout': 2692, 'tips': 2693, 'unacceptable': 2694, 'v': 2695, 'visiting': 2696, 'você': 2697, 'wanting': 2698, 'war': 2699, 'weekend': 2700, 'wir': 2701, 'young': 2702, '😋': 2703, '😎': 2704, '😒': 2705, '🤗': 2706, '-Jack': 2707, '13': 2708, '24hrs': 2709, '29': 2710, '30th': 2711, '35': 2712, '500': 2713, '72': 2714, '90': 2715, '@116303': 2716, '@116329': 2717, '@118918': 2718, '@120396': 2719, '@120602': 2720, '@123350': 2721, '@125348': 2722, '@131141': 2723, '@132745': 2724, '@133250': 2725, '@133542': 2726, '@1406': 2727, '@USCellularCares': 2728, 'AGAIN': 2729, 'AM': 2730, 'ATL': 2731, 'Account': 2732, 'Allow': 2733, 'Although': 2734, 'Anything': 2735, 'BUT': 2736, 'Better': 2737, 'Birla': 2738, 'Bonjour': 2739, 'Charlotte': 2740, 'Correct': 2741, 'Danke': 2742, 'Desk': 2743, 'Due': 2744, 'ETA': 2745, 'Echo': 2746, 'El': 2747, 'Emma': 2748, 'Firefox': 2749, 'Follow': 2750, 'IDEA': 2751, 'January': 2752, 'Jonathan': 2753, 'Logistics': 2754, 'N': 2755, 'NRC': 2756, 'Nah': 2757, 'Natalie': 2758, 'Neither': 2759, 'Next': 2760, 'Problem': 2761, 'SIM': 2762, 'Sally': 2763, 'St': 2764, 'Stephen': 2765, 'Super': 2766, 'Thursday': 2767, 'Time': 2768, 'Trying': 2769, 'Two': 2770, 'Understood': 2771, 'Without': 2772, 'Yea': 2773, 'Yet': 2774, 'Yup': 2775, '^AC': 2776, '^ACM': 2777, '^AN': 2778, '^Clarissa': 2779, '^EZ': 2780, '^HC': 2781, '^HK': 2782, '^KJ': 2783, '^Kimbers': 2784, '^LG': 2785, '^MW': 2786, '^NB': 2787, '^R': 2788, '^Raj': 2789, '^SK': 2790, '^VH': 2791, '^YP': 2792, 'ability': 2793, 'act': 2794, 'allowing': 2795, 'although': 2796, 'apart': 2797, 'asks': 2798, 'assure': 2799, 'audio': 2800, 'avail': 2801, 'behavior': 2802, 'blue': 2803, 'books': 2804, 'bothered': 2805, 'building': 2806, 'c': 2807, 'cabin': 2808, 'cheap': 2809, 'cheating': 2810, 'chicken': 2811, 'choosing': 2812, 'claims': 2813, 'colour': 2814, 'como': 2815, 'condition': 2816, 'crazy': 2817, 'dass': 2818, 'debit': 2819, 'destination': 2820, 'doubt': 2821, 'earned': 2822, 'ein': 2823, 'elaborate': 2824, 'estimate': 2825, 'executive': 2826, 'external': 2827, 'false': 2828, 'fan': 2829, 'fool': 2830, 'forgot': 2831, 'friendly': 2832, 'fue': 2833, 'function': 2834, 'green': 2835, 'handed': 2836, 'handled': 2837, 'headphones': 2838, 'hearing': 2839, 'https://t.co/ldFdZRiNAt': 2840, 'hung': 2841, 'hv': 2842, 'icon': 2843, 'immediate': 2844, 'improvements': 2845, 'included': 2846, 'inquiry': 2847, 'invite': 2848, 'invoice': 2849, 'itinerary': 2850, 'können': 2851, 'listing': 2852, 'locations': 2853, 'logistics': 2854, 'lunch': 2855, 'lying': 2856, 'manually': 2857, 'mast': 2858, 'mehr': 2859, 'nobody': 2860, 'nope': 2861, 'noted': 2862, 'offline': 2863, 'older': 2864, 'owner': 2865, 'park': 2866, 'passport': 2867, 'payments': 2868, 'performance': 2869, 'planned': 2870, 'player': 2871, 'printer': 2872, 'professional': 2873, 'promises': 2874, 'promo': 2875, 'quicker': 2876, 'reading': 2877, 'recorded': 2878, 'reduce': 2879, 'remaining': 2880, 'reporting': 2881, 'reversal': 2882, 'reviewed': 2883, 'roll': 2884, 'sadly': 2885, 'sandwich': 2886, 'schon': 2887, 'secured': 2888, 'serious': 2889, 'shitty': 2890, 'siguiente': 2891, 'speedy': 2892, 'stick': 2893, 'successfully': 2894, 'supported': 2895, 'tax': 2896, 'teams': 2897, 'tengo': 2898, 'threw': 2899, 'tier': 2900, 'towards': 2901, 'tower': 2902, 'traffic': 2903, 'transactions': 2904, 'treated': 2905, 'tree': 2906, 'turning': 2907, 'tweeted': 2908, 'tweeting': 2909, 'upon': 2910, 'validity': 2911, 'willing': 2912, 'world': 2913, 'worried': 2914, 'writing': 2915, 'xx': 2916, 'कर': 2917, '☹': 2918, '💕': 2919, '😄': 2920, '😘': 2921, '-Andre': 2922, '17': 2923, '21': 2924, ':-(': 2925, '@115765': 2926, '@115877': 2927, '@115990': 2928, '@116354': 2929, '@116447': 2930, '@119791': 2931, '@120152': 2932, '@120613': 2933, '@122219': 2934, '@122924': 2935, '@122994': 2936, '@127186': 2937, '@130197': 2938, '@132034': 2939, '@132036': 2940, '@133883': 2941, '@2374': 2942, '@2910': 2943, 'Actually': 2944, 'Airport': 2945, 'AlissaFast': 2946, 'America': 2947, 'Bluetooth': 2948, 'Booking': 2949, 'Brighton': 2950, 'Bristol': 2951, 'Central': 2952, 'Click': 2953, 'Currently': 2954, 'Date': 2955, 'Dec': 2956, 'Extra': 2957, 'Getting': 2958, 'Going': 2959, 'Guzala': 2960, 'HD': 2961, 'Haha': 2962, 'Having': 2963, 'Honestly': 2964, 'IOS': 2965, 'Instead': 2966, 'Iphone': 2967, 'Jessica': 2968, 'Keyboard': 2969, 'Link': 2970, 'M&amp;S': 2971, 'ME': 2972, 'Matt': 2973, 'Michael': 2974, 'NEVER': 2975, 'NOW': 2976, 'Name': 2977, 'Newcastle': 2978, 'Pathetic': 2979, 'Play': 2980, 'Premium': 2981, 'Rebecca': 2982, 'Response': 2983, 'Roger': 2984, 'SM': 2985, 'STILL': 2986, 'Says': 2987, 'Shame': 2988, 'Stay': 2989, 'Steve': 2990, 'Till': 2991, 'Told': 2992, 'Too': 2993, 'UR': 2994, 'VAS': 2995, 'WAS': 2996, 'Watch': 2997, 'Wells': 2998, 'Went': 2999, 'YOUR': 3000, 'Yesterday': 3001, 'YouTube': 3002, '^AG': 3003, '^BCW': 3004, '^BD': 3005, '^DA': 3006, '^GD': 3007, '^HB': 3008, '^HD': 3009, '^KMG': 3010, '^Kev': 3011, '^NV': 3012, '^RB': 3013, '^Rach': 3014, '^S': 3015, '^SS': 3016, '^TK': 3017, '^ZW': 3018, 'abt': 3019, 'age': 3020, 'ai': 3021, 'alert': 3022, 'android': 3023, 'antes': 3024, 'arrives': 3025, 'ass': 3026, 'attempts': 3027, 'authority': 3028, 'avez': 3029, 'beginning': 3030, 'boxes': 3031, 'build': 3032, 'burrito': 3033, 'catalog': 3034, 'cela': 3035, 'cell': 3036, 'checks': 3037, 'cheese': 3038, 'children': 3039, 'clarification': 3040, 'coach': 3041, 'coffee': 3042, 'congestion': 3043, 'considering': 3044, 'contactar': 3045, 'costs': 3046, 'court': 3047, 'crashes': 3048, 'dann': 3049, 'deadline': 3050, 'dec': 3051, 'declined': 3052, 'deine': 3053, 'demande': 3054, 'den': 3055, 'depending': 3056, 'desde': 3057, 'digital': 3058, 'directed': 3059, 'discontinued': 3060, 'dispatch': 3061, 'display': 3062, 'dispute': 3063, 'doors': 3064, 'effort': 3065, 'entering': 3066, 'envoyé': 3067, 'episode': 3068, 'escalation': 3069, 'everytime': 3070, 'faire': 3071, 'fall': 3072, 'faulty': 3073, 'figured': 3074, 'force': 3075, 'fresh': 3076, 'fucking': 3077, 'gente': 3078, 'glo': 3079, 'ground': 3080, 'habe': 3081, 'haben': 3082, 'handling': 3083, 'handset': 3084, 'hardwired': 3085, 'head': 3086, 'hesitate': 3087, 'hier': 3088, 'holder': 3089, 'https://t.co/DTSNmGldJf': 3090, 'https://t.co/yUyvTZDtHT': 3091, 'increase': 3092, 'indeed': 3093, 'india': 3094, 'installation': 3095, 'interface': 3096, 'já': 3097, 'las': 3098, 'lately': 3099, 'launch': 3100, 'leadership': 3101, 'lights': 3102, 'links': 3103, 'lock': 3104, 'lots': 3105, 'lounge': 3106, 'luggage': 3107, 'là': 3108, 'machines': 3109, 'managers': 3110, 'map': 3111, 'massive': 3112, 'mb': 3113, 'meal': 3114, 'mostly': 3115, 'movie': 3116, 'même': 3117, 'nada': 3118, 'names': 3119, 'nearby': 3120, 'notes': 3121, 'notify': 3122, 'operator': 3123, 'packet': 3124, 'perform': 3125, 'permissions': 3126, 'persist': 3127, 'personally': 3128, 'places': 3129, 'pocket': 3130, 'popular': 3131, 'pra': 3132, 'preferences': 3133, 'primary': 3134, 'project': 3135, 'puedes': 3136, 'purchases': 3137, 'queries': 3138, 'ran': 3139, 'reasonable': 3140, 'rectify': 3141, 'refuse': 3142, 'registration': 3143, 'rejected': 3144, 'renew': 3145, 'repeated': 3146, 'reps': 3147, 'resend': 3148, 'responsible': 3149, 'retail': 3150, 'reward': 3151, 'saber': 3152, 'scam': 3153, 'shipper': 3154, 'signing': 3155, 'sincere': 3156, 'somebody': 3157, 'sport': 3158, 'storage': 3159, 'strike': 3160, 'suivant': 3161, 'surprised': 3162, 'systems': 3163, 'só': 3164, 'tab': 3165, 'tarde': 3166, 'tasting': 3167, 'ten': 3168, 'tesco': 3169, 'tested': 3170, 'thx': 3171, 'timeline': 3172, 'trick': 3173, 'u.': 3174, 'uninstalling': 3175, 'urgently': 3176, 'verificar': 3177, 'von': 3178, 'vérifier': 3179, 'warning': 3180, 'wenn': 3181, '~': 3182, 'की': 3183, '—': 3184, '\\u3000': 3185, '🎄': 3186, '🙈': 3187, '🤦': 3188, '🤷': 3189, '.......': 3190, '1.5': 3191, '1/3': 3192, '10th': 3193, '140': 3194, '2016': 3195, '23rd': 3196, '400': 3197, '45': 3198, '7.0': 3199, '@115830': 3200, '@115937': 3201, '@116288': 3202, '@116450': 3203, '@116661': 3204, '@119700': 3205, '@121122': 3206, '@122348': 3207, '@122366': 3208, '@122413': 3209, '@123126': 3210, '@123964': 3211, '@124882': 3212, '@126075': 3213, '@127223': 3214, '@127841': 3215, '@130175': 3216, '@130361': 3217, '@130736': 3218, '@131279': 3219, '@133290': 3220, '@134021': 3221, '@1560': 3222, '@3429': 3223, '@3958': 3224, '@3960': 3225, 'ALL': 3226, 'Alex': 3227, 'Alexa': 3228, 'Almost': 3229, 'Answer': 3230, 'Becky': 3231, 'Birmingham': 3232, 'Buyer': 3233, 'C': 3234, 'CEO': 3235, 'Carl': 3236, 'Case': 3237, 'Checked': 3238, 'Class': 3239, 'Classic': 3240, 'Club': 3241, 'Complaint': 3242, \"DM'd\": 3243, 'DMed': 3244, 'DVR': 3245, 'Darren': 3246, 'Edinburgh': 3247, 'Error': 3248, 'Experience': 3249, 'FA': 3250, 'Fingers': 3251, 'Found': 3252, 'Game': 3253, 'Glasgow': 3254, 'Grazie': 3255, 'Guess': 3256, 'HP': 3257, 'Hanwell': 3258, 'Hermes': 3259, 'Joanne': 3260, 'Kind': 3261, 'Kollegen': 3262, 'LAX': 3263, 'LOVE': 3264, 'Lightroom': 3265, 'North': 3266, 'Number': 3267, 'OH': 3268, 'Obviously': 3269, 'Office': 3270, 'Otherwise': 3271, 'Out': 3272, 'PSN': 3273, 'Pizza': 3274, 'Platform': 3275, 'Poor': 3276, 'Reid': 3277, 'SD': 3278, 'Safari': 3279, 'San': 3280, 'Se': 3281, 'Sign': 3282, 'Something': 3283, 'Sprint': 3284, 'System': 3285, 'Thankyou': 3286, 'Though': 3287, 'Tracking': 3288, 'Unable': 3289, 'Use': 3290, 'WHAT': 3291, 'WILL': 3292, 'Yana': 3293, '[': 3294, ']': 3295, '^AE': 3296, '^AM': 3297, '^AS': 3298, '^BR': 3299, '^HR': 3300, '^JB': 3301, '^JW': 3302, '^KK': 3303, '^KN': 3304, '^PK': 3305, '^PR': 3306, 'acc': 3307, 'adjust': 3308, 'advertising': 3309, 'allows': 3310, 'angry': 3311, 'approved': 3312, 'artist': 3313, 'ayer': 3314, 'body': 3315, 'break': 3316, 'broke': 3317, 'browse': 3318, 'browsers': 3319, 'bulb': 3320, 'bundle': 3321, 'bus': 3322, 'cancelling': 3323, 'che': 3324, 'cheat': 3325, 'circle': 3326, 'cliente': 3327, 'collected': 3328, 'collection': 3329, 'communicate': 3330, 'community': 3331, 'consistently': 3332, 'cont': 3333, 'contest': 3334, 'convenience': 3335, 'covered': 3336, 'creditcard': 3337, 'cust': 3338, 'dealing': 3339, 'deducting': 3340, 'deduction': 3341, 'dem': 3342, 'depart': 3343, 'departing': 3344, 'depot': 3345, 'design': 3346, 'detailed': 3347, 'disgusting': 3348, 'dit': 3349, 'dog': 3350, 'donc': 3351, 'dossier': 3352, 'easily': 3353, 'effect': 3354, 'employee': 3355, 'enable': 3356, 'enabled': 3357, 'engineers': 3358, 'entre': 3359, 'estimates': 3360, 'finished': 3361, 'fixes': 3362, 'forget': 3363, 'formulaire': 3364, 'fully': 3365, 'gestionado': 3366, 'glitch': 3367, 'group': 3368, 'hat': 3369, 'heads': 3370, 'held': 3371, 'heute': 3372, 'holidays': 3373, 'hoy': 3374, 'https://t.co/3qcAsLFkaY': 3375, 'https://t.co/6YdK7bvQN7': 3376, 'https://t.co/iuwZCjz4Or': 3377, 'husband': 3378, 'ideal': 3379, 'imagine': 3380, 'incoming': 3381, 'inconvenient': 3382, 'instance': 3383, 'intention': 3384, 'knowing': 3385, 'language': 3386, 'legit': 3387, 'levels': 3388, 'library': 3389, 'lied': 3390, 'livros': 3391, 'loads': 3392, 'major': 3393, 'makers': 3394, 'marketing': 3395, 'maximum': 3396, 'meals': 3397, 'mir': 3398, 'mom': 3399, 'mum': 3400, 'más': 3401, 'nah': 3402, 'nd': 3403, 'noch': 3404, 'noise': 3405, 'obvious': 3406, 'occurs': 3407, 'onward': 3408, 'ordeal': 3409, 'otro': 3410, 'owned': 3411, 'passing': 3412, 'pc': 3413, 'pilot': 3414, 'planning': 3415, 'pleasure': 3416, 'plugged': 3417, 'possibly': 3418, 'potential': 3419, 'powering': 3420, 'preview': 3421, 'pricing': 3422, 'privacy': 3423, 'problème': 3424, 'processes': 3425, 'prove': 3426, 'ps': 3427, 'pull': 3428, 'pushing': 3429, 'realise': 3430, 'rebook': 3431, 'reflected': 3432, 'refresh': 3433, 'repay': 3434, 'reservations': 3435, 'reserve': 3436, 'resolving': 3437, 'rewards': 3438, 'rid': 3439, 'roku': 3440, 'rolling': 3441, 'routes': 3442, 'seemed': 3443, 'selecting': 3444, 'sellers': 3445, 'separately': 3446, 'silly': 3447, 'sister': 3448, 'sit': 3449, 'slightly': 3450, 'sms': 3451, 'somehow': 3452, 'sooner': 3453, 'stage': 3454, 'starting': 3455, 'struggling': 3456, 'sucedido': 3457, 'ta': 3458, 'terms': 3459, 'testing': 3460, 'thoughts': 3461, 'todos': 3462, 'ton': 3463, 'tool': 3464, 'toujours': 3465, 'tout': 3466, 'tracks': 3467, 'transportista': 3468, 'trial': 3469, 'trips': 3470, 'typically': 3471, 'unit': 3472, 'unlocked': 3473, 'unnecessary': 3474, 'ups': 3475, 'urgent': 3476, 'username': 3477, 'usps': 3478, 'vai': 3479, 'vendeur': 3480, 'vendido': 3481, 'verification': 3482, 'versions': 3483, 'vouchers': 3484, 'warehouse': 3485, 'wide': 3486, 'yo': 3487, 'yourselves': 3488, 'yr': 3489, 'ça': 3490, 'è': 3491, 'über': 3492, '✉': 3493, '🎃': 3494, '🙃': 3495, '-Amie': 3496, '-Becky': 3497, '-DR': 3498, '-Floi': 3499, '-JP': 3500, '/MU': 3501, '19': 3502, '21:00': 3503, '22nd': 3504, '26': 3505, '36': 3506, ':D': 3507, '=)': 3508, '@10152': 3509, '@116021': 3510, '@116151': 3511, '@116276': 3512, '@116302': 3513, '@116316': 3514, '@116961': 3515, '@117480': 3516, '@118343': 3517, '@118824': 3518, '@118880': 3519, '@119430': 3520, '@120032': 3521, '@120227': 3522, '@120395': 3523, '@120469': 3524, '@121084': 3525, '@121121': 3526, '@121706': 3527, '@125861': 3528, '@126781': 3529, '@126880': 3530, '@128547': 3531, '@129352': 3532, '@129520': 3533, '@130675': 3534, '@130704': 3535, '@130823': 3536, '@131101': 3537, '@131427': 3538, '@131537': 3539, '@131799': 3540, '@131959': 3541, '@132035': 3542, '@132818': 3543, '@133419': 3544, '@133779': 3545, '@135279': 3546, '@135868': 3547, '@3277': 3548, '@AskVirginMoney': 3549, '@GooglePlayMusic': 3550, '@MTNC_Care': 3551, 'AC': 3552, 'AJL': 3553, 'ALWAYS': 3554, 'AMZL': 3555, 'Address': 3556, 'Airlines': 3557, 'Arti': 3558, 'Avez': 3559, 'Bad': 3560, 'Balance': 3561, 'Bank': 3562, 'Basically': 3563, 'Before': 3564, 'Being': 3565, 'Ben': 3566, 'Big': 3567, 'Blue': 3568, 'Brian': 3569, 'Brooke': 3570, 'Business': 3571, 'CBS': 3572, 'Canada': 3573, 'Center': 3574, 'Chat': 3575, 'Chicago': 3576, 'Citibank': 3577, 'Claim': 3578, 'Clearly': 3579, 'Cliente': 3580, 'Credit': 3581, 'D': 3582, 'DND': 3583, 'DO': 3584, 'Definitely': 3585, 'Entiendo': 3586, 'Es': 3587, 'Ethernet': 3588, 'Everyone': 3589, 'FB': 3590, 'Fantastic': 3591, 'Fargo': 3592, 'Free': 3593, 'Gemma': 3594, 'Germany': 3595, 'Glo': 3596, 'God': 3597, 'Goons': 3598, 'Green': 3599, 'Grüße': 3600, 'HAVE': 3601, 'HQ': 3602, 'Hannah': 3603, 'Hence': 3604, 'Hwy': 3605, 'Intel': 3606, 'Jio': 3607, 'Kevin': 3608, 'LTE': 3609, 'Lee': 3610, 'Lisa': 3611, 'MB': 3612, 'MacBook': 3613, 'Mohit': 3614, 'Mon': 3615, 'Mr': 3616, 'O': 3617, 'Off': 3618, 'Olá': 3619, 'Open': 3620, 'Ordered': 3621, 'P': 3622, 'PAD': 3623, 'Paid': 3624, 'Paket': 3625, 'Papa': 3626, 'Parkway': 3627, 'Paula': 3628, 'Preston': 3629, 'Pretty': 3630, 'Product': 3631, 'Rd': 3632, 'Reading': 3633, 'Refund': 3634, 'Rest': 3635, 'Rewards': 3636, 'Saransh': 3637, 'Seller': 3638, 'Shoot': 3639, 'Show': 3640, 'Sneha': 3641, 'Southwest': 3642, 'Spoke': 3643, 'Staff': 3644, 'Tomorrow': 3645, 'United': 3646, 'VAT': 3647, 'Version': 3648, 'Via': 3649, 'Vicky': 3650, 'Vodafone': 3651, 'WE': 3652, 'Wednesday': 3653, 'Wireless': 3654, 'York': 3655, '^Alex': 3656, '^BE': 3657, '^EG': 3658, '^FR': 3659, '^GS': 3660, '^JS': 3661, '^KD': 3662, '^LR': 3663, '^Lisa': 3664, '^MK': 3665, '^Martha': 3666, '^NW': 3667, '^PC': 3668, '^RI': 3669, '^Wren': 3670, 'achievement': 3671, 'achievements': 3672, 'activating': 3673, 'ads': 3674, 'affirm': 3675, 'agreement': 3676, 'allowance': 3677, 'alot': 3678, 'amex': 3679, 'answering': 3680, 'appeared': 3681, 'auf': 3682, 'authorities': 3683, 'await': 3684, 'batch': 3685, 'batteries': 3686, 'benefit': 3687, 'beta': 3688, 'biz': 3689, 'boarded': 3690, 'brain': 3691, 'bullshit': 3692, 'cafe': 3693, 'calendar': 3694, 'cases': 3695, 'catalogue': 3696, 'challenge': 3697, 'charger': 3698, 'chez': 3699, 'companies': 3700, 'complained': 3701, 'compra': 3702, 'connectivity': 3703, 'consistent': 3704, 'conta': 3705, 'convenient': 3706, 'conversations': 3707, 'correction': 3708, 'count': 3709, 'creating': 3710, \"d'avoir\": 3711, 'deactivate': 3712, 'decide': 3713, 'denn': 3714, 'depuis': 3715, 'dice': 3716, 'dis': 3717, 'disable': 3718, 'dnt': 3719, 'dollars': 3720, 'donde': 3721, 'driving': 3722, 'duty': 3723, 'economy': 3724, 'employees': 3725, 'entitled': 3726, 'entrar': 3727, 'ep': 3728, 'episodes': 3729, 'euch': 3730, 'experiences': 3731, 'export': 3732, 'f': 3733, 'facility': 3734, 'fax': 3735, 'film': 3736, 'fingers': 3737, 'firestick': 3738, 'flew': 3739, 'floor': 3740, 'formal': 3741, 'freezes': 3742, 'freezing': 3743, 'gerne': 3744, 'goodness': 3745, 'goodwill': 3746, 'grab': 3747, 'guard': 3748, 'hair': 3749, 'handy': 3750, 'https://t.co/JzP7hlA23B.': 3751, 'idk': 3752, 'inches': 3753, 'individual': 3754, 'ingredients': 3755, 'initial': 3756, 'intended': 3757, 'investigated': 3758, 'joindre': 3759, 'j’ai': 3760, 'kids': 3761, 'launched': 3762, 'leaves': 3763, 'length': 3764, 'lets': 3765, 'licensing': 3766, 'limits': 3767, 'locally': 3768, 'loyalty': 3769, 'lucky': 3770, 'meantime': 3771, 'mechanical': 3772, 'members': 3773, 'mensagem': 3774, 'mesmo': 3775, 'messaged': 3776, 'mid': 3777, 'mistakes': 3778, 'momento': 3779, \"n'ai\": 3780, 'needful': 3781, 'ni': 3782, 'north': 3783, 'nuestros': 3784, 'numerous': 3785, 'numéro': 3786, 'oder': 3787, 'oil': 3788, 'outreach': 3789, 'owe': 3790, 'pain': 3791, 'paper': 3792, 'passes': 3793, 'perhaps': 3794, 'permission': 3795, 'picking': 3796, 'policies': 3797, 'portal': 3798, 'pound': 3799, 'pro': 3800, 'proceed': 3801, \"qu'il\": 3802, 'quiet': 3803, 'rebooking': 3804, 'recharged': 3805, 'recovery': 3806, 'recurring': 3807, 'redeemed': 3808, 'refundable': 3809, 'reimbursement': 3810, 'reports': 3811, 'representatives': 3812, 'research': 3813, 'responds': 3814, 'restrictions': 3815, 'reviews': 3816, 'rice': 3817, 'roaming': 3818, 'rs': 3819, 'rubbish': 3820, 'rules': 3821, 'rush': 3822, 'réponse': 3823, \"s'il\": 3824, 'sais': 3825, 'school': 3826, 'seating': 3827, 'seguinte': 3828, 'serial': 3829, 'shelves': 3830, 'shoot': 3831, 'sick': 3832, 'sie': 3833, 'slip': 3834, 'slower': 3835, 'sobre': 3836, 'solving': 3837, 'speaker': 3838, 'specify': 3839, 'spectrum': 3840, 'style': 3841, 'suddenly': 3842, 'sufficient': 3843, 'suis': 3844, 'supermarket': 3845, 'tablet': 3846, 'taste': 3847, 'term': 3848, 'themselves': 3849, 'thinks': 3850, 'thus': 3851, 'til': 3852, 'timely': 3853, 'timescale': 3854, 'todo': 3855, 'transferred': 3856, 'unwanted': 3857, 'uploaded': 3858, 'va': 3859, 'various': 3860, 'ver': 3861, 'videos': 3862, 'voicemail': 3863, 'vos': 3864, 'walking': 3865, 'wasting': 3866, 'wedding': 3867, 'wie': 3868, 'wird': 3869, 'être': 3870, 'नहीं': 3871, 'से': 3872, '♂': 3873, '✅': 3874, '✨': 3875, '🏻\\u200d': 3876, '💀': 3877, '📚': 3878, '😣': 3879, '--': 3880, '-Chris': 3881, '-JW': 3882, '100daydeepclean': 3883, '11.2': 3884, '127': 3885, '150': 3886, '25th': 3887, '27': 3888, '29th': 3889, '7th': 3890, '888': 3891, '@115886': 3892, '@115955': 3893, '@116211': 3894, '@117415': 3895, '@117624': 3896, '@117904': 3897, '@118341': 3898, '@118425': 3899, '@118702': 3900, '@119701': 3901, '@119898': 3902, '@120211': 3903, '@120251': 3904, '@120601': 3905, '@120648': 3906, '@120658': 3907, '@120754': 3908, '@121001': 3909, '@121399': 3910, '@121885': 3911, '@121888': 3912, '@121890': 3913, '@122349': 3914, '@122363': 3915, '@122650': 3916, '@122720': 3917, '@122793': 3918, '@122812': 3919, '@122960': 3920, '@123087': 3921, '@123240': 3922, '@123284': 3923, '@123290': 3924, '@123775': 3925, '@123971': 3926, '@124276': 3927, '@124417': 3928, '@125347': 3929, '@125860': 3930, '@128594': 3931, '@129718': 3932, '@130415': 3933, '@130420': 3934, '@130666': 3935, '@130986': 3936, '@131040': 3937, '@131983': 3938, '@133420': 3939, '@133436': 3940, '@134107': 3941, '@134996': 3942, '@135202': 3943, '@2688': 3944, '@Postmates_Help': 3945, '@asksalesforce': 3946, 'ALS': 3947, 'Aaron': 3948, 'Aldi': 3949, 'Alternatively': 3950, 'Amazon.de': 3951, 'AmazonIndia': 3952, 'Australia': 3953, 'Ave': 3954, 'Aww': 3955, 'Black': 3956, 'CA': 3957, 'COD': 3958, 'Calum': 3959, 'Catherine': 3960, 'Certainly': 3961, 'Chester': 3962, 'Chloe': 3963, 'Come': 3964, 'Community': 3965, 'Comprendo': 3966, 'Connect': 3967, 'Court': 3968, 'Customers': 3969, 'DAYS': 3970, 'Damn': 3971, 'Delhi': 3972, 'Dm': 3973, 'Down': 3974, 'EVERY': 3975, 'Finally': 3976, 'Fire': 3977, 'Florida': 3978, 'Further': 3979, 'GPU': 3980, 'Gary': 3981, 'German': 3982, 'Gruß': 3983, 'Harry': 3984, 'Heathrow': 3985, 'Helen': 3986, 'Hoping': 3987, \"I'm\": 3988, 'ISP': 3989, 'Ian': 3990, 'InDesign': 3991, 'Item': 3992, 'Jason': 3993, 'Jess': 3994, 'L': 3995, 'LG': 3996, 'LGA': 3997, 'LM': 3998, 'LOL': 3999, 'Lancaster': 4000, 'Late': 4001, 'Latest': 4002, 'Library': 4003, 'Line': 4004, 'Louis': 4005, 'Ma': 4006, 'Mahindra': 4007, 'Maidenhead': 4008, 'Marc': 4009, 'Messages': 4010, 'Metro': 4011, 'Might': 4012, 'Mine': 4013, 'Much': 4014, 'NY': 4015, 'Nat': 4016, 'Nobody': 4017, 'Nos': 4018, 'Não': 4019, 'O2Guru': 4020, 'ONT': 4021, 'Orders': 4022, 'Oui': 4023, 'Over': 4024, 'PPro': 4025, 'Paige': 4026, 'Park': 4027, 'Pass': 4028, 'Pen': 4029, 'Per': 4030, 'Perfect': 4031, 'Platinum': 4032, 'Pritam': 4033, 'Qué': 4034, 'Received': 4035, 'Return': 4036, 'Sadly': 4037, 'Scott': 4038, 'Shaun': 4039, 'Shipping': 4040, 'Speed': 4041, 'States': 4042, 'Station': 4043, 'THAT': 4044, 'TVs': 4045, 'Take': 4046, 'Taste': 4047, 'Tech': 4048, 'Thanks-': 4049, 'Thomas': 4050, 'TiannahReagor': 4051, 'Tony': 4052, 'TuGo': 4053, 'UI': 4054, 'UNINSTALLAMAZON': 4055, 'UP': 4056, 'URL': 4057, 'Una': 4058, 'Upgrade': 4059, 'Using': 4060, 'VM': 4061, 'VPN': 4062, 'Video': 4063, 'Visa': 4064, 'WTF': 4065, 'Wars': 4066, 'Whatever': 4067, 'Works': 4068, 'Xmas': 4069, \"Y'all\": 4070, 'ZIP': 4071, '^': 4072, '^A': 4073, '^AJ': 4074, '^BAB': 4075, '^CM': 4076, '^DO': 4077, '^MP': 4078, '^NM': 4079, '^PAPU': 4080, '^SL': 4081, '^SP': 4082, '^Sahil': 4083, '^TN': 4084, '^TR': 4085, '^TXA': 4086, '^VL': 4087, '^VS': 4088, '^mm': 4089, '`': 4090, 'accepting': 4091, 'accès': 4092, 'acknowledge': 4093, 'acting': 4094, 'actively': 4095, 'addition': 4096, 'ages': 4097, 'agreed': 4098, 'aircraft': 4099, 'airtime': 4100, 'alarm': 4101, 'albums': 4102, 'amzon': 4103, 'announced': 4104, 'anybody': 4105, 'appropriately': 4106, 'approval': 4107, 'artists': 4108, 'aside': 4109, 'assuming': 4110, 'assurance': 4111, 'average': 4112, 'avoir': 4113, 'banks': 4114, 'bare': 4115, 'basket': 4116, 'beat': 4117, 'becoming': 4118, 'besides': 4119, 'blank': 4120, 'block': 4121, 'bottle': 4122, 'bottles': 4123, 'bowl': 4124, 'cab': 4125, 'cables': 4126, 'capacity': 4127, 'caught': 4128, 'chasing': 4129, 'cleaned': 4130, 'comfortable': 4131, 'commandes': 4132, 'commercial': 4133, 'commitment': 4134, 'confident': 4135, 'conflicting': 4136, 'consegna': 4137, 'consideration': 4138, 'contacts': 4139, 'contato': 4140, 'contents': 4141, 'controllers': 4142, 'cos': 4143, 'countries': 4144, 'courtesy': 4145, 'coz': 4146, 'cream': 4147, 'credit_card': 4148, 'cross': 4149, 'cs': 4150, 'cuando': 4151, 'curious': 4152, 'dark': 4153, 'database': 4154, 'decisions': 4155, 'dedicated': 4156, 'deep': 4157, 'departed': 4158, 'dept': 4159, 'died': 4160, 'diese': 4161, 'difficulties': 4162, 'dinner': 4163, 'disabling': 4164, 'disappeared': 4165, 'disconnect': 4166, 'discussion': 4167, 'duplicate': 4168, 'duration': 4169, 'déjà': 4170, 'earth': 4171, 'empathize': 4172, 'encountered': 4173, 'ending': 4174, 'ends': 4175, 'envoyer': 4176, 'everywhere': 4177, 'excited': 4178, 'exist': 4179, 'expires': 4180, 'factors': 4181, 'factory': 4182, 'fail': 4183, 'faults': 4184, 'features': 4185, 'fecha': 4186, 'filter': 4187, 'financial': 4188, 'flagged': 4189, 'flexible': 4190, 'forced': 4191, 'format': 4192, 'frequent': 4193, 'fuel': 4194, 'fulfilled': 4195, 'google': 4196, 'grand': 4197, 'grateful': 4198, 'grey': 4199, 'guests': 4200, 'hace': 4201, 'hai': 4202, 'handsets': 4203, 'hanging': 4204, 'harassment': 4205, 'heading': 4206, 'hey': 4207, 'hidden': 4208, 'ho': 4209, 'hoffe': 4210, 'https://t.co/aaDyEz1VgE': 4211, 'iMessage': 4212, 'ignoring': 4213, 'ihr': 4214, 'impact': 4215, 'incognito': 4216, 'increased': 4217, 'inquiries': 4218, 'involved': 4219, 'joy': 4220, 'kannst': 4221, 'keine': 4222, 'keys': 4223, 'kindle': 4224, 'landline': 4225, 'leur': 4226, 'living': 4227, 'loading': 4228, 'logo': 4229, 'loved': 4230, 'mad': 4231, 'mailbox': 4232, 'manner': 4233, 'marked': 4234, 'meeting': 4235, 'meine': 4236, 'merchant': 4237, 'meu': 4238, 'mich': 4239, 'milk': 4240, 'monday': 4241, 'mother': 4242, 'mucho': 4243, 'muito': 4244, \"n'est\": 4245, 'neighbors': 4246, 'neighbour': 4247, 'nightmare': 4248, 'nonsense': 4249, 'nostro': 4250, 'notified': 4251, 'novembre': 4252, 'opposite': 4253, 'oui': 4254, 'outstanding': 4255, 'overhead': 4256, 'packed': 4257, 'palm': 4258, 'paquete': 4259, 'pela': 4260, 'perfectly': 4261, 'perks': 4262, 'pilots': 4263, 'più': 4264, 'platforms': 4265, 'platinum': 4266, 'played': 4267, 'plaît': 4268, 'pleased': 4269, 'plenty': 4270, 'police': 4271, 'portion': 4272, 'preorder': 4273, 'prie': 4274, 'printed': 4275, 'promotions': 4276, 'property': 4277, 'providers': 4278, 'provides': 4279, 'purchasing': 4280, 'push': 4281, 'qual': 4282, 'qualify': 4283, 'quote': 4284, 'radio': 4285, 'rarely': 4286, 'rebooting': 4287, 'recognized': 4288, 'recomendamos': 4289, 'reconnect': 4290, 'records': 4291, 'rectified': 4292, 'regard': 4293, 'regardless': 4294, 'reopened': 4295, 'repairs': 4296, 'replacing': 4297, 'resources': 4298, 'respective': 4299, 'responsibility': 4300, 'retailer': 4301, 'retour': 4302, 'reverse': 4303, 'reçu': 4304, 'rien': 4305, 'rights': 4306, 'rite': 4307, 'rolls': 4308, 'safaricom': 4309, 'sandwiches': 4310, 'score': 4311, 'sein': 4312, 'selection': 4313, 'sends': 4314, 'sensitive': 4315, 'sera': 4316, 'serve': 4317, 'servers': 4318, 'servicio': 4319, 'serving': 4320, 'shocking': 4321, 'shoes': 4322, 'shud': 4323, 'signaler': 4324, 'signalling': 4325, 'signs': 4326, 'silence': 4327, 'sincerely': 4328, 'sizes': 4329, 'smart': 4330, 'smh': 4331, 'soll': 4332, 'solutions': 4333, 'sommes': 4334, 'spelling': 4335, 'split': 4336, 'splitter': 4337, 'standards': 4338, 'standby': 4339, 'standing': 4340, 'stands': 4341, 'stood': 4342, 'stress': 4343, 'su': 4344, 'subject': 4345, 'subscribed': 4346, 'supermarkets': 4347, 'table': 4348, 'tarjeta': 4349, 'teddy': 4350, 'tests': 4351, 'throw': 4352, 'tiene': 4353, 'tight': 4354, 'tiresome': 4355, 'trained': 4356, 'training': 4357, 'traveling': 4358, 'trolley': 4359, 'trop': 4360, 'troubles': 4361, 'troubleshoot': 4362, 'truck': 4363, 'tuned': 4364, 'turkey': 4365, 'uk': 4366, 'unhelpful': 4367, 'unusual': 4368, 'upgrades': 4369, 'usage': 4370, 'vague': 4371, 'vais': 4372, 'van': 4373, 'verified': 4374, 'warm': 4375, 'wat': 4376, 'watched': 4377, 'websites': 4378, 'whereas': 4379, 'whilst': 4380, 'wi': 4381, 'wieder': 4382, 'wonder': 4383, 'wurde': 4384, 'और': 4385, 'को': 4386, 'पर': 4387, '–': 4388, '👀': 4389, '😆': 4390, '😏': 4391, '😫': 4392, '🙌': 4393, '\\n  ': 4394, ' \\n': 4395, '-Latitia': 4396, '-MB': 4397, '-Maeghan': 4398, '-Sean': 4399, '-StephanieA': 4400, '/GU': 4401, '/JE': 4402, '/NG': 4403, '/NS': 4404, '/PL': 4405, '/SY': 4406, '121': 4407, '1703': 4408, '19th': 4409, '2.4': 4410, '2/2^Corry': 4411, '2015': 4412, '2019': 4413, '22:00': 4414, '23': 4415, '28th': 4416, '38': 4417, '3G/4': 4418, '42': 4419, '55': 4420, '650': 4421, '@10601': 4422, '@115768': 4423, '@115797': 4424, '@115879': 4425, '@116058': 4426, '@116327': 4427, '@116393': 4428, '@116406': 4429, '@116407': 4430, '@116668': 4431, '@117416': 4432, '@117757': 4433, '@118596': 4434, '@118848': 4435, '@119426': 4436, '@119427': 4437, '@119940': 4438, '@120309': 4439, '@120454': 4440, '@120545': 4441, '@120659': 4442, '@120676': 4443, '@120777': 4444, '@120918': 4445, '@121110': 4446, '@121211': 4447, '@121323': 4448, '@121324': 4449, '@121711': 4450, '@121992': 4451, '@122008': 4452, '@122145': 4453, '@122155': 4454, '@122206': 4455, '@122350': 4456, '@122602': 4457, '@123071': 4458, '@123239': 4459, '@123291': 4460, '@123313': 4461, '@123324': 4462, '@123733': 4463, '@124384': 4464, '@124782': 4465, '@124783': 4466, '@125875': 4467, '@126220': 4468, '@126295': 4469, '@126513': 4470, '@126558': 4471, '@126570': 4472, '@126784': 4473, '@126802': 4474, '@127004': 4475, '@127330': 4476, '@127331': 4477, '@127954': 4478, '@128035': 4479, '@128302': 4480, '@128426': 4481, '@128533': 4482, '@128805': 4483, '@128967': 4484, '@129553': 4485, '@129772': 4486, '@130174': 4487, '@130327': 4488, '@130878': 4489, '@131225': 4490, '@131253': 4491, '@131416': 4492, '@131620': 4493, '@131927': 4494, '@132029': 4495, '@132033': 4496, '@132125': 4497, '@132281': 4498, '@132345': 4499, '@132351': 4500, '@132801': 4501, '@133012': 4502, '@133033': 4503, '@133178': 4504, '@133566': 4505, '@133571': 4506, '@133695': 4507, '@133928': 4508, '@134044': 4509, '@134287': 4510, '@134612': 4511, '@134664': 4512, '@134785': 4513, '@134791': 4514, '@134946': 4515, '@135186': 4516, '@135282': 4517, '@135293': 4518, '@135303': 4519, '@135428': 4520, '@135696': 4521, '@1803': 4522, '@1804': 4523, '@2075': 4524, '@DoorDash_Help': 4525, '@GoDaddyHelp': 4526, '@SCsupport': 4527, 'ABN': 4528, 'AIRTEL': 4529, 'ANOTHER': 4530, 'AT&amp;T': 4531, 'AirPods': 4532, 'Aisha': 4533, 'Alan': 4534, 'Alice': 4535, 'Alisha': 4536, 'Alison': 4537, 'Amanda': 4538, 'Antwort': 4539, 'Around': 4540, 'Ashley': 4541, 'Awaiting': 4542, 'Awful': 4543, 'BE': 4544, 'Basic': 4545, 'Bath': 4546, 'Battery': 4547, 'Bestellung': 4548, 'Bitte': 4549, 'Bob': 4550, 'Brilliant': 4551, \"C'est\": 4552, 'C1': 4553, 'CR': 4554, 'Cafe': 4555, 'ChristmasSandwichReview': 4556, 'Claire': 4557, 'Coast': 4558, 'Corey': 4559, 'Costa': 4560, 'Cox': 4561, 'C’est': 4562, 'DHL': 4563, 'Da': 4564, 'Das': 4565, 'Demand': 4566, 'Details': 4567, 'Die': 4568, 'Don': 4569, 'Download': 4570, 'Drop': 4571, 'EK': 4572, 'Each': 4573, 'Economy': 4574, 'Edge': 4575, 'ErikS': 4576, 'Exactly': 4577, 'FIX': 4578, 'FL': 4579, 'FROM': 4580, 'FYI': 4581, 'Force': 4582, 'Frustrating': 4583, 'Full': 4584, 'GLO': 4585, 'Gate': 4586, 'George': 4587, 'Gift': 4588, 'Global': 4589, 'Guys': 4590, 'HOW': 4591, 'HRO': 4592, 'Ha': 4593, 'Hahaha': 4594, 'Hast': 4595, 'His': 4596, 'IN': 4597, 'IP': 4598, 'IPhone': 4599, 'IVR': 4600, 'Idk': 4601, 'Illustrator': 4602, 'Info': 4603, 'JFK': 4604, 'Jagjeet': 4605, 'Jan': 4606, 'Janay': 4607, 'JawedK': 4608, 'Jo': 4609, 'Joel': 4610, 'Jon': 4611, 'July': 4612, 'Konto': 4613, 'LHR': 4614, 'LR': 4615, 'Lara': 4616, 'Lets': 4617, 'Liebe': 4618, 'Linda': 4619, 'Local': 4620, 'Long': 4621, 'Los': 4622, 'Lost': 4623, 'MD': 4624, 'MS': 4625, 'MUCH': 4626, 'Managed': 4627, 'Martha': 4628, 'Mince': 4629, 'Morrisons': 4630, 'Mrs': 4631, 'Multiple': 4632, 'Mumbai': 4633, 'NEED': 4634, 'National': 4635, 'Netflix': 4636, 'Nicola': 4637, 'Non': 4638, 'Norton': 4639, 'Note': 4640, 'Nov.': 4641, 'OF': 4642, 'Oi': 4643, 'Old': 4644, 'PNR': 4645, 'Package': 4646, 'Paper': 4647, 'Perhaps': 4648, 'Personal': 4649, 'Pl': 4650, 'PlayStation': 4651, 'Possibly': 4652, 'RI': 4653, 'Rapid': 4654, 'Reach': 4655, 'Replied': 4656, 'Royal': 4657, 'S8': 4658, 'SG': 4659, 'SW': 4660, 'Savings': 4661, 'Screenshot': 4662, 'Second': 4663, 'Sha': 4664, 'Share': 4665, 'Sheffield': 4666, 'Shruti': 4667, 'Sie': 4668, 'Smart': 4669, 'Sophie': 4670, 'South': 4671, 'Sparks': 4672, 'Standard': 4673, 'Star': 4674, 'Started': 4675, 'Steps': 4676, 'Superstore': 4677, 'TIME': 4678, 'Te': 4679, 'Terrible': 4680, 'Thameslink': 4681, 'Their': 4682, 'Therefore': 4683, 'Those': 4684, 'Thought': 4685, 'Thus': 4686, 'Tom': 4687, 'Turns': 4688, 'U.S.': 4689, 'USB': 4690, 'Up': 4691, 'Upon': 4692, 'Usually': 4693, 'Vendor': 4694, 'WANT': 4695, 'WW2': 4696, 'WWII': 4697, 'Wait': 4698, 'Watford': 4699, 'Weird': 4700, 'Wenn': 4701, 'Weston': 4702, 'WhatsApp': 4703, 'Working': 4704, 'Yeh': 4705, 'Y’all': 4706, 'Z': 4707, 'Zero': 4708, '^AD': 4709, '^ARC': 4710, '^B': 4711, '^DDD': 4712, '^DDG': 4713, '^DJ': 4714, '^DL': 4715, '^GM': 4716, '^GR': 4717, '^JE': 4718, '^JL': 4719, '^JT': 4720, '^KE': 4721, '^KI': 4722, '^MG': 4723, '^OS': 4724, '^PB': 4725, '^RO': 4726, '^SF': 4727, '^SJ': 4728, '^SN': 4729, '^SO': 4730, '^SR': 4731, '^TG': 4732, '^TH': 4733, '^Tanuj': 4734, '^VF': 4735, '^WJ': 4736, '^WM': 4737, '^WT': 4738, '^ZM': 4739, 'accommodate': 4740, 'activity': 4741, 'addresses': 4742, 'adults': 4743, 'afford': 4744, 'afterwards': 4745, 'agency': 4746, 'aisle': 4747, 'alles': 4748, 'alors': 4749, 'alternatives': 4750, 'amazonsucks': 4751, 'amended': 4752, 'animals': 4753, 'announcements': 4754, 'annuler': 4755, 'anyways': 4756, 'appt': 4757, 'arriver': 4758, 'assisting': 4759, 'attendant': 4760, 'aussi': 4761, 'authorization': 4762, 'autre': 4763, 'award': 4764, 'b4': 4765, 'background': 4766, 'backstage': 4767, 'bali': 4768, 'banking': 4769, 'banned': 4770, 'banque': 4771, 'beautiful': 4772, 'behaviour': 4773, 'biggest': 4774, 'bills': 4775, 'birth': 4776, 'blame': 4777, 'bloody': 4778, 'boards': 4779, 'brilliant': 4780, 'bs': 4781, 'bt': 4782, 'built': 4783, 'bunch': 4784, 'buses': 4785, 'cake': 4786, 'callback': 4787, 'careful': 4788, 'carrying': 4789, 'cas': 4790, 'category': 4791, 'chain': 4792, 'charity': 4793, 'cheaters': 4794, 'chrome': 4795, 'circumstances': 4796, 'clears': 4797, 'clicked': 4798, 'coat': 4799, 'cod': 4800, 'collecting': 4801, 'commercials': 4802, 'completing': 4803, 'completion': 4804, 'concerning': 4805, 'considered': 4806, 'consola': 4807, 'contacté': 4808, 'convinced': 4809, 'copying': 4810, 'cours': 4811, 'cox': 4812, 'crack': 4813, 'crashed': 4814, 'cutting': 4815, 'dados': 4816, 'danke': 4817, 'deactivated': 4818, 'dealt': 4819, 'debited': 4820, 'deeper': 4821, 'delivers': 4822, 'delta': 4823, 'demain': 4824, 'demandé': 4825, 'denial': 4826, 'depends': 4827, 'deposit': 4828, 'deserve': 4829, 'determine': 4830, 'deux': 4831, 'dimensions': 4832, 'dirty': 4833, 'disc': 4834, 'disgusted': 4835, 'disk': 4836, 'domain': 4837, 'downloads': 4838, 'dude': 4839, 'dumb': 4840, 'eating': 4841, 'edition': 4842, 'einen': 4843, 'emergency': 4844, 'encontrar': 4845, 'encourage': 4846, 'entirely': 4847, 'enviado': 4848, 'essere': 4849, 'establish': 4850, 'estou': 4851, 'evidence': 4852, 'exceeded': 4853, 'excellent': 4854, 'excuses': 4855, 'existing': 4856, 'experts': 4857, 'explore': 4858, 'extend': 4859, 'face': 4860, 'facebook': 4861, 'fairly': 4862, 'faith': 4863, 'families': 4864, 'faut': 4865, 'fi': 4866, 'filing': 4867, 'finding': 4868, 'flt': 4869, 'forth': 4870, 'forums': 4871, 'foto': 4872, 'freeze': 4873, 'frozen': 4874, 'fulfillment': 4875, 'furniture': 4876, 'galaxy': 4877, 'garbage': 4878, 'gather': 4879, 'gemeldet': 4880, 'generally': 4881, 'genuine': 4882, 'già': 4883, 'gluten': 4884, 'gold': 4885, 'gut': 4886, 'hacer': 4887, 'hangs': 4888, 'hardly': 4889, 'hast': 4890, 'hav': 4891, 'headset': 4892, 'health': 4893, 'helpline': 4894, 'highly': 4895, 'honour': 4896, 'hood': 4897, 'hoped': 4898, 'hopes': 4899, 'host': 4900, 'https://t.co/6iDGBJAc2': 4901, 'https://t.co/CoOXedUuUC': 4902, 'https://t.co/Xe5i4kfJ97': 4903, 'https://t.co/c9WoAfwenP': 4904, 'https://t.co/nUUp5MLhYl': 4905, 'https://t.co/oNgSAZYqFR': 4906, 'https://t.co/q1oBDuYAdh': 4907, 'https://t.co/sd7yH5jmbJ': 4908, 'hub': 4909, 'hurt': 4910, 'iMac': 4911, 'identical': 4912, 'idiot': 4913, 'ils': 4914, 'immer': 4915, 'impacting': 4916, 'imported': 4917, 'incidents': 4918, 'inconvenienced': 4919, 'incredibly': 4920, 'indicate': 4921, 'instant': 4922, 'intact': 4923, 'intentado': 4924, 'intermittent': 4925, 'interruption': 4926, 'irrelevant': 4927, 'irritating': 4928, 'isso': 4929, 'issuing': 4930, 'jamais': 4931, 'jio': 4932, 'journée': 4933, 'jours': 4934, 'jumbo': 4935, 'jyoti': 4936, 'kicked': 4937, 'kidding': 4938, 'ladies': 4939, 'lag': 4940, 'launching': 4941, 'law': 4942, 'lead': 4943, 'leading': 4944, 'letters': 4945, 'licenses': 4946, 'llegado': 4947, 'loose': 4948, 'loud': 4949, 'loving': 4950, 'mainly': 4951, 'mate': 4952, 'mañana': 4953, 'memory': 4954, 'mes': 4955, 'messed': 4956, 'moi': 4957, 'monitoring': 4958, 'mouse': 4959, 'movies': 4960, 'msgs': 4961, 'neighbours': 4962, 'nem': 4963, 'net': 4964, 'nose': 4965, 'noticing': 4966, 'notoidea': 4967, 'nuts': 4968, 'occasion': 4969, 'ons': 4970, 'operate': 4971, 'operation': 4972, 'operators': 4973, 'optimization': 4974, 'orange': 4975, 'outbound': 4976, 'overall': 4977, 'paired': 4978, 'pantry': 4979, 'parking': 4980, 'particularly': 4981, 'parts': 4982, 'passcode': 4983, 'paypal': 4984, 'pedidos': 4985, 'permanently': 4986, 'petrol': 4987, 'peux': 4988, 'physical': 4989, 'pl': 4990, 'plays': 4991, 'pleasant': 4992, 'pode': 4993, 'pole': 4994, 'pops': 4995, 'porting': 4996, 'possibility': 4997, 'posso': 4998, 'postage': 4999, 'posting': 5000, 'pouvoir': 5001, 'prepaid': 5002, 'producto': 5003, 'profit': 5004, 'prompted': 5005, 'ps4': 5006, 'pushed': 5007, 'quando': 5008, 'qu’on': 5009, 'rd': 5010, 'realize': 5011, 'recd': 5012, 'receipts': 5013, 'recipient': 5014, 'recognised': 5015, 'recommended': 5016, 'recycling': 5017, 'redelivery': 5018, 'reducing': 5019, 'reflecting': 5020, 'refunding': 5021, 'refurbished': 5022, 'regional': 5023, 'relatives': 5024, 'reliability': 5025, 'reliable': 5026, 'reminder': 5027, 'removing': 5028, 'remplir': 5029, 'requests': 5030, 'requires': 5031, 'requiring': 5032, 'respect': 5033, 'restricted': 5034, 'restriction': 5035, 'revenue': 5036, 'reversed': 5037, 'ripping': 5038, 'root': 5039, 'ruined': 5040, 'satisfied': 5041, 'sauce': 5042, 'saving': 5043, 'screens': 5044, 'scroll': 5045, 'sea': 5046, 'searched': 5047, 'securely': 5048, 'setup': 5049, 'seu': 5050, 'shell': 5051, 'shocked': 5052, 'shuffle': 5053, 'sight': 5054, 'signalé': 5055, 'significant': 5056, 'silver': 5057, 'solo': 5058, 'sono': 5059, 'source': 5060, 'spending': 5061, 'spot': 5062, 'strong': 5063, 'student': 5064, 'sub': 5065, 'surrounding': 5066, 'suspect': 5067, 'sweet': 5068, 'swift': 5069, 'taco': 5070, 'task': 5071, 'taskbar': 5072, 'template': 5073, 'temporarily': 5074, 'thankful': 5075, 'theme': 5076, 'therefore': 5077, 'thousands': 5078, 'throttling': 5079, 'ti': 5080, 'tiers': 5081, 'timeframe': 5082, 'title': 5083, 'toilet': 5084, 'topic': 5085, 'trace': 5086, 'transportadora': 5087, 'tries': 5088, 'tunes': 5089, 'unattended': 5090, 'unexpected': 5091, 'unexpectedly': 5092, 'unreliable': 5093, 'uns': 5094, 'upcoming': 5095, 'upper': 5096, 'uses': 5097, 'valuable': 5098, 'versendet': 5099, 'verstehen': 5100, 'visits': 5101, 'washed': 5102, 'whisky': 5103, 'wl': 5104, 'woke': 5105, 'woman': 5106, 'wtf': 5107, 'yep': 5108, 'you-': 5109, '»': 5110, 'के': 5111, 'में': 5112, 'यह': 5113, '\\u200d': 5114, '☕': 5115, '🏾': 5116, '💖': 5117, '📣': 5118, '😝': 5119, '😠': 5120, '😥': 5121, '😱': 5122, '😴': 5123, '🤞': 5124, \"'S\": 5125, '-&gt': 5126, '--Sam': 5127, '-CO': 5128, '-DC': 5129, '-Dustin': 5130, '-FR': 5131, '-Tracey': 5132, '/AR': 5133, '/CB': 5134, '/CH': 5135, '/JP': 5136, '/JU': 5137, '/KB': 5138, '/LM': 5139, '/MT': 5140, '/TY': 5141, '002': 5142, '0844': 5143, '10.13.1': 5144, '11/29': 5145, '11:00': 5146, '120W': 5147, '122': 5148, '13th': 5149, '15/12': 5150, '2000': 5151, '2010': 5152, '2013': 5153, '20th': 5154, '22': 5155, '24th': 5156, '26th': 5157, '27th': 5158, '31': 5159, '31st': 5160, '365': 5161, '4.99': 5162, '403': 5163, '46': 5164, '466': 5165, '48hrs': 5166, '49': 5167, '4k': 5168, '506': 5169, '6S': 5170, '75': 5171, '84': 5172, '8th': 5173, '@1059': 5174, '@115786': 5175, '@115993': 5176, '@116025': 5177, '@116076': 5178, '@116088': 5179, '@116144': 5180, '@116154': 5181, '@116455': 5182, '@116849': 5183, '@116874': 5184, '@116887': 5185, '@117051': 5186, '@117235': 5187, '@117336': 5188, '@117467': 5189, '@117618': 5190, '@117730': 5191, '@118197': 5192, '@118361': 5193, '@118455': 5194, '@118890': 5195, '@119347': 5196, '@119432': 5197, '@119442': 5198, '@119473': 5199, '@119528': 5200, '@119529': 5201, '@119562': 5202, '@119675': 5203, '@119687': 5204, '@119689': 5205, '@119778': 5206, '@119796': 5207, '@120039': 5208, '@120228': 5209, '@120264': 5210, '@120286': 5211, '@120361': 5212, '@120482': 5213, '@120491': 5214, '@120507': 5215, '@120563': 5216, '@120597': 5217, '@120642': 5218, '@120660': 5219, '@120671': 5220, '@120700': 5221, '@120933': 5222, '@120994': 5223, '@120995': 5224, '@121111': 5225, '@121282': 5226, '@121291': 5227, '@121356': 5228, '@121372': 5229, '@121439': 5230, '@121795': 5231, '@121934': 5232, '@122134': 5233, '@122255': 5234, '@122269': 5235, '@122410': 5236, '@122463': 5237, '@122488': 5238, '@122816': 5239, '@122840': 5240, '@122849': 5241, '@123001': 5242, '@123279': 5243, '@123436': 5244, '@123534': 5245, '@123665': 5246, '@123779': 5247, '@123811': 5248, '@123929': 5249, '@124068': 5250, '@124069': 5251, '@124137': 5252, '@124781': 5253, '@124784': 5254, '@124803': 5255, '@124906': 5256, '@125007': 5257, '@125046': 5258, '@125159': 5259, '@125161': 5260, '@125392': 5261, '@125553': 5262, '@125853': 5263, '@125930': 5264, '@126107': 5265, '@126181': 5266, '@126228': 5267, '@126289': 5268, '@126308': 5269, '@126313': 5270, '@126560': 5271, '@126799': 5272, '@127178': 5273, '@127430': 5274, '@127675': 5275, '@127698': 5276, '@127729': 5277, '@127813': 5278, '@127881': 5279, '@127906': 5280, '@128431': 5281, '@128885': 5282, '@128942': 5283, '@129079': 5284, '@129113': 5285, '@129180': 5286, '@129260': 5287, '@129350': 5288, '@129369': 5289, '@129519': 5290, '@129552': 5291, '@129738': 5292, '@129807': 5293, '@129922': 5294, '@130035': 5295, '@130123': 5296, '@130134': 5297, '@130139': 5298, '@130233': 5299, '@130275': 5300, '@130667': 5301, '@130670': 5302, '@130737': 5303, '@130866': 5304, '@131035': 5305, '@131036': 5306, '@131088': 5307, '@131113': 5308, '@131212': 5309, '@131487': 5310, '@131801': 5311, '@131813': 5312, '@132026': 5313, '@132155': 5314, '@132212': 5315, '@132283': 5316, '@132418': 5317, '@132645': 5318, '@132787': 5319, '@132792': 5320, '@132871': 5321, '@132882': 5322, '@132899': 5323, '@132993': 5324, '@133002': 5325, '@133020': 5326, '@133052': 5327, '@133137': 5328, '@133378': 5329, '@133551': 5330, '@133612': 5331, '@133694': 5332, '@133828': 5333, '@133896': 5334, '@133921': 5335, '@134306': 5336, '@134322': 5337, '@134326': 5338, '@134353': 5339, '@134395': 5340, '@134445': 5341, '@134611': 5342, '@134783': 5343, '@134908': 5344, '@134995': 5345, '@135107': 5346, '@135842': 5347, '@1768': 5348, '@2943': 5349, '@3974': 5350, '@4298': 5351, '@4299': 5352, '@4496': 5353, '@5339': 5354, '@79087': 5355, '@81': 5356, '@8208': 5357, '@907': 5358, '@AskTigogh': 5359, '@VMUcare': 5360, '@Walmart': 5361, '@delta': 5362, 'AE': 5363, 'AF': 5364, 'AMAZING': 5365, 'AMAZON': 5366, 'AMR': 5367, 'AP': 5368, 'API': 5369, 'ARE': 5370, 'AVAILABLE': 5371, 'AW': 5372, 'Abend': 5373, 'According': 5374, 'Active': 5375, 'Afin': 5376, 'Agents': 5377, 'Ahh': 5378, 'Ahhh': 5379, 'AirAsia': 5380, 'Alaska': 5381, 'Allyn': 5382, 'Angeles': 5383, 'Anyone': 5384, 'Anytime': 5385, 'Apology': 5386, 'Artikel': 5387, 'BS': 5388, 'Bali': 5389, 'Belt': 5390, 'Beth': 5391, 'Bought': 5392, 'British': 5393, 'Bryan': 5394, 'Btw': 5395, 'Bye': 5396, 'CANT': 5397, 'CUSTOMER': 5398, 'Calling': 5399, 'Cannon': 5400, 'Cardiff': 5401, 'Caroline': 5402, 'Casey': 5403, 'Cash': 5404, 'Ce': 5405, 'Ceri': 5406, 'Change': 5407, 'Channel': 5408, 'Charlie': 5409, 'Charter': 5410, 'Chase': 5411, 'Chipotle': 5412, 'Chronopost': 5413, 'Clienti': 5414, 'Cloud': 5415, 'Coach': 5416, 'Completely': 5417, 'Confirmation': 5418, 'Cool': 5419, 'Cowley': 5420, 'Coz': 5421, 'Creative': 5422, 'Critical': 5423, 'D.': 5424, 'DAY': 5425, 'DFW': 5426, 'DMing': 5427, 'DM’d': 5428, 'DSL': 5429, 'Dani': 5430, 'Daniel': 5431, 'Dann': 5432, 'Davina': 5433, 'Delay': 5434, 'Delivered': 5435, 'Deluxe': 5436, 'Despite': 5437, 'Djessi': 5438, 'Driver': 5439, 'EE': 5440, 'EST': 5441, 'Ealing': 5442, 'Edu': 5443, 'England': 5444, 'Eric': 5445, 'Euro': 5446, 'Except': 5447, 'FIOS': 5448, 'FRAUD': 5449, 'Fair': 5450, 'Fall': 5451, 'Fares': 5452, 'Files': 5453, 'Financial': 5454, 'Find': 5455, 'Finder': 5456, 'Followed': 5457, 'Form': 5458, 'Fran': 5459, 'GIVE': 5460, 'GUYS': 5461, 'Games': 5462, 'Georgia': 5463, 'Gmail': 5464, 'Gordon': 5465, 'Greggs': 5466, 'Groove': 5467, 'HAS': 5468, 'HDG': 5469, 'HIGH': 5470, 'Hai': 5471, 'Hampton': 5472, 'Heath': 5473, 'Hemel': 5474, 'Ho': 5475, 'Hong': 5476, 'Hub': 5477, 'Hut': 5478, 'I5': 5479, 'IF': 5480, 'Indian': 5481, 'International': 5482, 'Jamie': 5483, 'Jenna': 5484, 'June': 5485, 'J’ai': 5486, 'KC': 5487, 'KUL': 5488, 'Kat': 5489, 'Keeps': 5490, 'Kelly': 5491, 'Kinda': 5492, 'Kirsty': 5493, 'Kong': 5494, 'Kuwait': 5495, 'LS': 5496, 'Lamento': 5497, 'Leave': 5498, 'Left': 5499, 'Les': 5500, 'Lieferung': 5501, 'Linux': 5502, 'List': 5503, 'Literally': 5504, 'Liverpool': 5505, 'Lo': 5506, 'Login': 5507, 'Lots': 5508, 'Louise': 5509, 'Lovely': 5510, 'Luckily': 5511, 'Lucy': 5512, 'MAIL': 5513, 'MI': 5514, 'MO': 5515, 'MRP': 5516, 'MSP': 5517, 'Maclaine': 5518, 'Main': 5519, 'Maintenance': 5520, 'Man': 5521, 'Matthew': 5522, 'Meanwhile': 5523, 'Mill': 5524, 'Money': 5525, 'Montag': 5526, 'Morrison': 5527, 'México': 5528, \"N'ayant\": 5529, 'NAT': 5530, 'NBC': 5531, 'NW': 5532, 'NYC': 5533, 'Na': 5534, 'Newark': 5535, 'Nous': 5536, 'Oct.': 5537, 'Oliver': 5538, 'Original': 5539, 'Overground': 5540, 'Oyster': 5541, 'P.s': 5542, 'PAC': 5543, 'POOR': 5544, 'Pad': 5545, 'Passenger': 5546, 'Peak': 5547, 'Percy': 5548, 'Pete': 5549, 'Philadelphia': 5550, 'Pie': 5551, 'Placed': 5552, 'Playstation': 5553, 'Plymouth': 5554, 'Points': 5555, 'Possible': 5556, 'Power': 5557, 'Pre': 5558, 'Preferences': 5559, 'Press': 5560, 'Probably': 5561, 'Ps': 5562, 'Put': 5563, 'QA': 5564, 'Quality': 5565, 'Quand': 5566, 'Quirino': 5567, 'R': 5568, 'Rather': 5569, 'Read': 5570, 'Ready': 5571, 'Redruth': 5572, 'Refunds': 5573, 'Release': 5574, 'Resolution': 5575, 'Restarting': 5576, 'Ricardo': 5577, 'Rosemary': 5578, 'Ryan': 5579, 'S7': 5580, 'SAC': 5581, 'SSD': 5582, 'SWR': 5583, 'Safaricom': 5584, 'Safe': 5585, 'Said': 5586, 'Sales': 5587, 'Saludos': 5588, 'Sara': 5589, 'Scorpio': 5590, 'Scotland': 5591, 'Scottish': 5592, 'Screw': 5593, 'Sean': 5594, 'September': 5595, 'Servicio': 5596, 'Servizio': 5597, 'Shall': 5598, 'Shell': 5599, 'Shows': 5600, 'Sky': 5601, 'Soporte': 5602, 'Southern': 5603, 'Special': 5604, 'State': 5605, 'Stephanie': 5606, 'Stick': 5607, 'Suggest': 5608, 'Swansea': 5609, 'T4': 5610, 'TRAI': 5611, 'TWC': 5612, 'TWICE': 5613, 'TY-': 5614, 'Ta': 5615, 'Taylor': 5616, 'TaylorSwiftNOW': 5617, 'Teddy': 5618, 'Things': 5619, 'Third': 5620, 'Ticket': 5621, 'Tier': 5622, 'Took': 5623, 'Total': 5624, 'Touch': 5625, 'Tracey': 5626, 'Trains': 5627, 'Turn': 5628, 'Tx': 5629, 'URI': 5630, 'USA': 5631, 'Umesh': 5632, 'Univision': 5633, 'Unless': 5634, 'Updated': 5635, 'Useless': 5636, 'Varun': 5637, 'Veuillez': 5638, 'View': 5639, 'Vijay': 5640, 'Vincent': 5641, 'Volume': 5642, 'Von': 5643, 'Votre': 5644, 'Vue': 5645, 'W': 5646, 'WAT': 5647, 'WHEN': 5648, 'WITH': 5649, 'Walmart': 5650, 'Wanted': 5651, 'Way': 5652, 'Weymouth': 5653, 'Whenever': 5654, 'Wimbledon': 5655, 'Work': 5656, 'Worle': 5657, 'Write': 5658, 'XFINITY': 5659, 'Yello': 5660, 'ZachRicketts': 5661, '^AF': 5662, '^ANopo': 5663, '^ASZ': 5664, '^AV': 5665, '^BA': 5666, '^BN': 5667, '^BZ': 5668, '^CD': 5669, '^D': 5670, '^DD': 5671, '^DW': 5672, '^DY': 5673, '^EA': 5674, '^FA': 5675, '^JD': 5676, '^KL': 5677, '^KO': 5678, '^Kit': 5679, '^LW': 5680, '^MC': 5681, '^MR': 5682, '^MT': 5683, '^NA': 5684, '^NP': 5685, '^Neil': 5686, '^Osebi': 5687, '^RL': 5688, '^Rachel': 5689, '^SA': 5690, '^Sophie': 5691, '^TA': 5692, '^TL': 5693, '^TV': 5694, '^WB': 5695, '^az': 5696, '^js': 5697, 'ac': 5698, 'accidentally': 5699, 'addressing': 5700, 'adequate': 5701, 'adress': 5702, 'advantage': 5703, 'advent': 5704, 'affecting': 5705, 'ainda': 5706, 'alas': 5707, 'alcohol': 5708, 'alle': 5709, 'allready': 5710, 'amazed': 5711, 'and/or': 5712, 'annoyed': 5713, 'annual': 5714, 'appearing': 5715, 'applied': 5716, 'applying': 5717, 'après': 5718, 'aqui': 5719, 'aquí': 5720, 'arrangements': 5721, 'assim': 5722, 'associate': 5723, 'assumed': 5724, 'attach': 5725, 'attempting': 5726, 'attitude': 5727, 'authorisation': 5728, 'aux': 5729, 'av': 5730, 'awareness': 5731, 'azure': 5732, 'backed': 5733, 'backlog': 5734, 'badge': 5735, 'bake': 5736, 'bakery': 5737, 'ban': 5738, 'barely': 5739, 'beaucoup': 5740, 'becomes': 5741, 'bed': 5742, 'begin': 5743, 'bem': 5744, 'binned': 5745, 'bitte': 5746, 'blind': 5747, 'blocks': 5748, 'bookings': 5749, 'bout': 5750, 'breaking': 5751, 'brings': 5752, 'budget': 5753, 'bugs': 5754, 'caller': 5755, 'calm': 5756, 'capable': 5757, 'carpark': 5758, 'casa': 5759, 'cater': 5760, 'cette': 5761, 'champagne': 5762, 'chatted': 5763, 'checkin': 5764, 'cheers': 5765, 'chipotle': 5766, 'chucked': 5767, 'circles': 5768, 'claimed': 5769, 'classic': 5770, 'clock': 5771, 'closest': 5772, 'closure': 5773, 'cloud': 5774, 'clue': 5775, 'coax': 5776, 'codigo': 5777, 'comp': 5778, 'companion': 5779, 'comparison': 5780, 'compañeros': 5781, 'compensated': 5782, 'complimentary': 5783, 'comprar': 5784, 'confidence': 5785, 'constant': 5786, 'consumers': 5787, 'cook': 5788, 'copies': 5789, 'cord': 5790, 'costume': 5791, 'countless': 5792, 'coupon': 5793, 'coupons': 5794, 'creative': 5795, 'credentials': 5796, 'cry': 5797, 'créneau': 5798, 'custom': 5799, 'c’est': 5800, 'dare': 5801, 'dashboard': 5802, 'decade': 5803, 'decent': 5804, 'decline': 5805, 'deliberately': 5806, 'deposited': 5807, 'devais': 5808, 'developer': 5809, 'dey': 5810, 'dialing': 5811, 'dialup': 5812, 'differently': 5813, 'dinero': 5814, 'directement': 5815, 'disagree': 5816, 'disappears': 5817, 'disappoint': 5818, 'discounts': 5819, 'displayed': 5820, 'displaying': 5821, 'displays': 5822, 'disponibles': 5823, 'dock': 5824, 'docs': 5825, 'donate': 5826, 'dos': 5827, 'dot': 5828, 'dressing': 5829, 'drops': 5830, 'dry': 5831, 'días': 5832, 'earphones': 5833, 'eaten': 5834, 'ed': 5835, 'edit': 5836, 'einfach': 5837, 'elderly': 5838, 'electronic': 5839, 'ellos': 5840, 'emailing': 5841, 'encore': 5842, 'encounter': 5843, 'engineering': 5844, 'enhance': 5845, 'enquiry': 5846, 'environment': 5847, 'equal': 5848, 'er': 5849, 'erst': 5850, 'espnews': 5851, 'essential': 5852, 'están': 5853, 'ethernet': 5854, 'etwas': 5855, 'exciting': 5856, 'executives': 5857, 'expedite': 5858, 'exported': 5859, 'expédié': 5860, 'extension': 5861, 'fab': 5862, 'faced': 5863, 'facilities': 5864, 'falar': 5865, 'falls': 5866, 'fantastic': 5867, 'father': 5868, 'favorito': 5869, 'favourite': 5870, 'fear': 5871, 'festive': 5872, 'fewer': 5873, 'field': 5874, 'fin': 5875, 'finger': 5876, 'flag': 5877, 'flat': 5878, 'foi': 5879, 'foolish': 5880, 'football': 5881, 'formed': 5882, 'franchise': 5883, 'fruit': 5884, 'gain': 5885, 'geklappt': 5886, 'geld': 5887, 'generated': 5888, 'gif': 5889, 'girl': 5890, 'github': 5891, 'goal': 5892, 'god': 5893, 'goodbye': 5894, 'goods': 5895, 'greyed': 5896, 'grow': 5897, 'gt;&gt;&gt': 5898, 'guessing': 5899, 'hacked': 5900, 'hahaha': 5901, 'harassed': 5902, 'hardware': 5903, 'hay': 5904, 'heavy': 5905, 'heck': 5906, 'hide': 5907, 'highlight': 5908, 'hitting': 5909, 'honor': 5910, 'horrible': 5911, 'household': 5912, 'https://t.co/2rT0l9N9Cu': 5913, 'https://t.co/2t6DQoUmNZ': 5914, 'https://t.co/93jojKlTCK': 5915, 'https://t.co/9OrDZmHtAB': 5916, 'https://t.co/HXpLyTU79x': 5917, 'https://t.co/HtUowg2UGX': 5918, 'https://t.co/NTkrxpsbHJ': 5919, 'https://t.co/OOaq76kzAA': 5920, 'https://t.co/Q7Ftz6nj80': 5921, 'https://t.co/TxK11znixD': 5922, 'https://t.co/X6jjaZO883': 5923, 'https://t.co/e8HVorX5rh': 5924, 'https://t.co/jzvkhdlrK5': 5925, 'https://t.co/py5Z991Bme': 5926, 'https://t.co/t20UbyOCSn': 5927, 'https://t.co/zYVX1Qi29': 5928, 'https://t.co/znUu1VJn9r': 5929, 'hundred': 5930, 'identify': 5931, 'ie': 5932, 'impacted': 5933, 'importing': 5934, 'impressed': 5935, 'improved': 5936, 'inactive': 5937, 'incompetence': 5938, 'inconveniente': 5939, 'indicates': 5940, 'initially': 5941, 'initiate': 5942, 'inserted': 5943, 'interaction': 5944, 'interference': 5945, 'invites': 5946, 'ipad': 5947, 'ish': 5948, 'issuer': 5949, 'jump': 5950, 'justice': 5951, 'k': 5952, 'ka': 5953, 'ke': 5954, 'keinen': 5955, 'keywords': 5956, 'kill': 5957, 'kinda': 5958, 'king': 5959, 'knock': 5960, 'knows': 5961, 'kommt': 5962, \"l'ordine\": 5963, 'laggy': 5964, 'landed': 5965, 'lasts': 5966, 'layers': 5967, 'leader': 5968, 'leak': 5969, 'led': 5970, 'legally': 5971, 'leitura': 5972, 'lift': 5973, 'llegar': 5974, 'loan': 5975, 'logic': 5976, 'looping': 5977, 'macbook': 5978, 'manufacturer': 5979, 'marks': 5980, 'matin': 5981, 'max': 5982, 'mbps': 5983, 'medical': 5984, 'meetings': 5985, 'mein': 5986, 'mensaje': 5987, 'mentions': 5988, 'mis': 5989, 'misleading': 5990, 'mismo': 5991, 'motherboard': 5992, 'multi': 5993, 'national': 5994, 'nature': 5995, 'negative': 5996, 'nervous': 5997, 'neste': 5998, 'netflix': 5999, 'nuestro': 6000, 'nw': 6001, 'oct': 6002, 'officially': 6003, 'operated': 6004, 'operational': 6005, 'opting': 6006, 'outages': 6007, 'outlet': 6008, 'outlook': 6009, 'overcrowded': 6010, 'overdraft': 6011, 'ownership': 6012, 'p': 6013, 'pagina': 6014, 'pago': 6015, 'pairs': 6016, 'panel': 6017, 'parent': 6018, 'parte': 6019, 'partial': 6020, 'partie': 6021, 'passe': 6022, 'penalty': 6023, 'permanent': 6024, 'pet': 6025, 'pincode': 6026, 'pissed': 6027, 'pj': 6028, 'placing': 6029, 'planner': 6030, 'plugging': 6031, 'podrías': 6032, 'poorcustomerservice': 6033, 'português': 6034, 'position': 6035, 'posts': 6036, 'pourquoi': 6037, 'preference': 6038, 'prepared': 6039, 'presented': 6040, 'pressure': 6041, 'presume': 6042, 'prevent': 6043, 'procedure': 6044, 'proceeded': 6045, 'programs': 6046, 'promotional': 6047, 'protect': 6048, 'protected': 6049, 'proud': 6050, 'publicly': 6051, 'puisse': 6052, \"qu'on\": 6053, 'quand': 6054, 'queso': 6055, 'questo': 6056, 'queuing': 6057, 'quiero': 6058, 'quit': 6059, 'reader': 6060, 'realized': 6061, 'rear': 6062, 'rebooted': 6063, 'reception': 6064, 'recover': 6065, 'refers': 6066, 'reflect': 6067, 'relais': 6068, 'remains': 6069, 'remedy': 6070, 'renewal': 6071, 'rent': 6072, 'reportar': 6073, 'requirements': 6074, 'reschedule': 6075, 'researching': 6076, 'resolver': 6077, 'respuesta': 6078, 'reste': 6079, 'retrieve': 6080, 'returns': 6081, 'reverted': 6082, 'revisar': 6083, 'revise': 6084, 'rides': 6085, 'rip': 6086, 'royal': 6087, 'rule': 6088, 'samsung': 6089, 'saves': 6090, 'savoir': 6091, 'schönen': 6092, 'searching': 6093, 'sectors': 6094, 'sei': 6095, 'seit': 6096, 'sem': 6097, 'senior': 6098, 'settle': 6099, 'shambles': 6100, 'shape': 6101, 'shelf': 6102, 'showroom': 6103, 'sido': 6104, 'significantly': 6105, 'sigue': 6106, 'situations': 6107, 'six': 6108, 'skip': 6109, 'smallest': 6110, 'snap': 6111, 'socks': 6112, 'specifics': 6113, 'speculate': 6114, 'st': 6115, 'stamps': 6116, 'stats': 6117, 'steal': 6118, 'stocking': 6119, 'stolen': 6120, 'stored': 6121, 'streams': 6122, 'strive': 6123, 'subscribers': 6124, 'subsequent': 6125, 'suck': 6126, 'sudden': 6127, 'suggesting': 6128, 'suggests': 6129, 'supone': 6130, 'supposedly': 6131, 'surname': 6132, 'swapping': 6133, 'são': 6134, 'tagged': 6135, 'tanto': 6136, 'tapping': 6137, 'tarmac': 6138, 'tasted': 6139, 'tem': 6140, 'tend': 6141, 'tenemos': 6142, 'thankfully': 6143, 'there!-': 6144, 'thieves': 6145, 'thn': 6146, 'tied': 6147, 'timezone': 6148, 'titles': 6149, 'tix': 6150, 'toda': 6151, 'toll': 6152, 'tortillas': 6153, 'toward': 6154, 'tracerts': 6155, 'transparent': 6156, 'travelled': 6157, 'treating': 6158, 'ty': 6159, 'undergoing': 6160, 'understood': 6161, 'unfair': 6162, 'unfortunate': 6163, 'unpleasant': 6164, 'unprofessional': 6165, 'unresolved': 6166, 'unsafe': 6167, 'unsure': 6168, 'uploading': 6169, 'vanished': 6170, 'vary': 6171, 'veces': 6172, 'veg': 6173, 'verdade': 6174, 'vez': 6175, 'vinyl': 6176, 'vocês': 6177, 'vodafone': 6178, 'voir': 6179, 'vois': 6180, 'vote': 6181, 'w/o': 6182, 'walked': 6183, 'warfare': 6184, 'water': 6185, 'webpage': 6186, 'whoever': 6187, 'whom': 6188, 'wht': 6189, 'wid': 6190, 'winner': 6191, 'winners': 6192, 'winter': 6193, 'wipe': 6194, 'witnessed': 6195, 'wohl': 6196, 'wonderful': 6197, 'workaround': 6198, 'wow': 6199, 'wrongly': 6200, 'wud': 6201, 'x2': 6202, 'youtube': 6203, 'yrs': 6204, 'zone': 6205, '°': 6206, 'आप': 6207, 'एक्टिव': 6208, 'कम्पनी': 6209, 'काट': 6210, 'बात': 6211, 'बेलेंस': 6212, 'मेरा': 6213, 'सब': 6214, '♥': 6215, 'ありがとうございます': 6216, 'ご丁寧にありがとうございます': 6217, '🍷': 6218, '🎅': 6219, '🎶': 6220, '🏼\\u200d': 6221, '😑': 6222, '😛': 6223, '😧': 6224, '🤢': 6225, '     ': 6226, '      ': 6227, '-Allan': 6228, '-GR': 6229, '-JC': 6230, '-Jen': 6231, '-KA': 6232, '-KB': 6233, '-KT': 6234, '-L.O': 6235, '-Mary': 6236, '-Prabu': 6237, '-raj': 6238, '........': 6239, '.@115821': 6240, '.com': 6241, '.please': 6242, '/AY': 6243, '/CP': 6244, '/DV': 6245, '/JI': 6246, '/KC': 6247, '/KL': 6248, '/PB': 6249, '/RH': 6250, '00': 6251, '0344': 6252, '0704963680': 6253, '0721210479': 6254, '0800': 6255, '0802': 6256, '1/4': 6257, '10.00': 6258, '10.80': 6259, '10/30': 6260, '1080p': 6261, '10k': 6262, '11.0.2': 6263, '11.1.1': 6264, '11/3': 6265, '114': 6266, '11:30': 6267, '12.30': 6268, '120': 6269, '12th': 6270, '171': 6271, '17:35': 6272, '19:00': 6273, '1k': 6274, '2.5': 6275, '200200': 6276, '20min': 6277, '24x7': 6278, '2x': 6279, '3.5': 6280, '3/4': 6281, '3000': 6282, '32': 6283, '350': 6284, '3x': 6285, '4.0': 6286, '4.1': 6287, '4/4': 6288, '406': 6289, '407': 6290, '444': 6291, '48hours': 6292, '4G.': 6293, '5x': 6294, '6.0.1': 6295, '62': 6296, '64': 6297, '65': 6298, '70': 6299, '700': 6300, '77': 6301, '777': 6302, '7plus': 6303, '8.02': 6304, '8.4.25': 6305, '8.4.28.1104': 6306, '80': 6307, '8:00': 6308, '99p': 6309, '9th': 6310, '@1143': 6311, '@115712': 6312, '@115723': 6313, '@115762': 6314, '@115767': 6315, '@115785': 6316, '@115807': 6317, '@115933': 6318, '@115938': 6319, '@115956': 6320, '@116035': 6321, '@116037': 6322, '@116068': 6323, '@116102': 6324, '@116312': 6325, '@11634': 6326, '@116439': 6327, '@116454': 6328, '@116456': 6329, '@116582': 6330, '@116584': 6331, '@116602': 6332, '@116750': 6333, '@116759': 6334, '@116761': 6335, '@116875': 6336, '@116885': 6337, '@116886': 6338, '@116932': 6339, '@117055': 6340, '@117133': 6341, '@117198': 6342, '@117220': 6343, '@117338': 6344, '@117339': 6345, '@117485': 6346, '@117489': 6347, '@117491': 6348, '@117492': 6349, '@117498': 6350, '@117588': 6351, '@117617': 6352, '@117619': 6353, '@117673': 6354, '@117721': 6355, '@117741': 6356, '@117761': 6357, '@117769': 6358, '@117825': 6359, '@118079': 6360, '@118116': 6361, '@118193': 6362, '@118201': 6363, '@118213': 6364, '@118244': 6365, '@118261': 6366, '@118269': 6367, '@118350': 6368, '@118363': 6369, '@118396': 6370, '@118423': 6371, '@118606': 6372, '@118741': 6373, '@118951': 6374, '@119031': 6375, '@119125': 6376, '@119282': 6377, '@119309': 6378, '@119335': 6379, '@119340': 6380, '@119341': 6381, '@119355': 6382, '@119358': 6383, '@119386': 6384, '@119498': 6385, '@119504': 6386, '@119625': 6387, '@119669': 6388, '@119694': 6389, '@119757': 6390, '@119771': 6391, '@119775': 6392, '@119847': 6393, '@119857': 6394, '@119858': 6395, '@119904': 6396, '@119935': 6397, '@119984': 6398, '@120034': 6399, '@120054': 6400, '@120072': 6401, '@120086': 6402, '@120104': 6403, '@120138': 6404, '@120173': 6405, '@120322': 6406, '@120350': 6407, '@120374': 6408, '@120433': 6409, '@120440': 6410, '@120456': 6411, '@120521': 6412, '@120525': 6413, '@120603': 6414, '@120605': 6415, '@120661': 6416, '@120682': 6417, '@120720': 6418, '@120733': 6419, '@120742': 6420, '@120824': 6421, '@120834': 6422, '@120849': 6423, '@120893': 6424, '@120909': 6425, '@121050': 6426, '@121301': 6427, '@121315': 6428, '@121404': 6429, '@121424': 6430, '@121497': 6431, '@121514': 6432, '@121516': 6433, '@121557': 6434, '@121644': 6435, '@121649': 6436, '@121669': 6437, '@121710': 6438, '@121718': 6439, '@121754': 6440, '@121797': 6441, '@121799': 6442, '@121874': 6443, '@121898': 6444, '@121902': 6445, '@121991': 6446, '@122002': 6447, '@122023': 6448, '@122031': 6449, '@122056': 6450, '@122096': 6451, '@122141': 6452, '@122172': 6453, '@122180': 6454, '@122182': 6455, '@122191': 6456, '@122220': 6457, '@122233': 6458, '@122270': 6459, '@122428': 6460, '@122448': 6461, '@122564': 6462, '@122588': 6463, '@122788': 6464, '@122790': 6465, '@122822': 6466, '@122866': 6467, '@122968': 6468, '@123023': 6469, '@123086': 6470, '@123125': 6471, '@123165': 6472, '@123205': 6473, '@123264': 6474, '@123285': 6475, '@123311': 6476, '@123312': 6477, '@123410': 6478, '@123476': 6479, '@123609': 6480, '@123786': 6481, '@123962': 6482, '@124059': 6483, '@124067': 6484, '@124160': 6485, '@124163': 6486, '@124281': 6487, '@124407': 6488, '@124421': 6489, '@124579': 6490, '@124610': 6491, '@124660': 6492, '@124763': 6493, '@124802': 6494, '@124894': 6495, '@124905': 6496, '@124928': 6497, '@125160': 6498, '@125217': 6499, '@125248': 6500, '@125305': 6501, '@125385': 6502, '@125391': 6503, '@125499': 6504, '@125545': 6505, '@125628': 6506, '@125667': 6507, '@125688': 6508, '@125691': 6509, '@125709': 6510, '@125717': 6511, '@125718': 6512, '@125790': 6513, '@125880': 6514, '@126069': 6515, '@126157': 6516, '@126180': 6517, '@126230': 6518, '@126248': 6519, '@126385': 6520, '@126396': 6521, '@126426': 6522, '@126633': 6523, '@126707': 6524, '@126738': 6525, '@126752': 6526, '@126774': 6527, '@126786': 6528, '@126792': 6529, '@126908': 6530, '@126909': 6531, '@127003': 6532, '@127047': 6533, '@127053': 6534, '@127066': 6535, '@127173': 6536, '@127193': 6537, '@127221': 6538, '@127228': 6539, '@127235': 6540, '@127296': 6541, '@127323': 6542, '@127403': 6543, '@127472': 6544, '@127512': 6545, '@127601': 6546, '@127709': 6547, '@127716': 6548, '@127893': 6549, '@127923': 6550, '@127972': 6551, '@128036': 6552, '@128190': 6553, '@128191': 6554, '@128239': 6555, '@128241': 6556, '@128253': 6557, '@128399': 6558, '@128473': 6559, '@128506': 6560, '@128784': 6561, '@128806': 6562, '@128860': 6563, '@128875': 6564, '@128930': 6565, '@129114': 6566, '@129165': 6567, '@129170': 6568, '@129194': 6569, '@129378': 6570, '@129467': 6571, '@129471': 6572, '@129478': 6573, '@129514': 6574, '@129551': 6575, '@129556': 6576, '@129582': 6577, '@129586': 6578, '@129649': 6579, '@129725': 6580, '@129768': 6581, '@129890': 6582, '@129899': 6583, '@130107': 6584, '@130113': 6585, '@130166': 6586, '@130266': 6587, '@130358': 6588, '@130385': 6589, '@130513': 6590, '@130690': 6591, '@130699': 6592, '@130702': 6593, '@130740': 6594, '@130783': 6595, '@130787': 6596, '@130788': 6597, '@130822': 6598, '@130954': 6599, '@131002': 6600, '@131005': 6601, '@131032': 6602, '@131057': 6603, '@131091': 6604, '@131199': 6605, '@131200': 6606, '@131201': 6607, '@131210': 6608, '@131328': 6609, '@131370': 6610, '@131454': 6611, '@131463': 6612, '@131502': 6613, '@131618': 6614, '@131624': 6615, '@131704': 6616, '@131866': 6617, '@131936': 6618, '@131994': 6619, '@132025': 6620, '@132037': 6621, '@132146': 6622, '@132191': 6623, '@132364': 6624, '@132431': 6625, '@132432': 6626, '@132434': 6627, '@132579': 6628, '@132674': 6629, '@132719': 6630, '@132737': 6631, '@132740': 6632, '@132776': 6633, '@132788': 6634, '@132835': 6635, '@132855': 6636, '@132938': 6637, '@132980': 6638, '@132984': 6639, '@133001': 6640, '@133013': 6641, '@133041': 6642, '@133051': 6643, '@133062': 6644, '@133101': 6645, '@133102': 6646, '@133160': 6647, '@133241': 6648, '@133398': 6649, '@133450': 6650, '@133485': 6651, '@133544': 6652, '@133604': 6653, '@133611': 6654, '@133656': 6655, '@133704': 6656, '@133876': 6657, '@133940': 6658, '@133963': 6659, '@133993': 6660, '@134173': 6661, '@134291': 6662, '@134321': 6663, '@134429': 6664, '@134472': 6665, '@134500': 6666, '@134651': 6667, '@134663': 6668, '@134780': 6669, '@134799': 6670, '@134816': 6671, '@134885': 6672, '@134886': 6673, '@134911': 6674, '@134930': 6675, '@134948': 6676, '@134962': 6677, '@134979': 6678, '@135060': 6679, '@135074': 6680, '@135221': 6681, '@135234': 6682, '@135512': 6683, '@135552': 6684, '@135595': 6685, '@135773': 6686, '@135896': 6687, '@1386': 6688, '@1398': 6689, '@3791': 6690, '@3792': 6691, '@3793': 6692, '@3794': 6693, '@3795': 6694, '@3796': 6695, '@3961': 6696, '@44152': 6697, '@5352': 6698, '@58213': 6699, '@734': 6700, '@Kimpton': 6701, '@askvisa': 6702, '@att': 6703, '@gwrhelp': 6704, '@mediatemplehelp': 6705, 'ACJ': 6706, 'AFC': 6707, 'AI': 6708, 'AK': 6709, 'ALREADY': 6710, 'ALY': 6711, 'ANY': 6712, 'APPRECIATE': 6713, 'ATT': 6714, 'Aadhar': 6715, 'Abuja': 6716, 'Acer': 6717, 'Add': 6718, 'Additionally': 6719, 'Afraid': 6720, 'Agent': 6721, 'Ainda': 6722, 'Akshay': 6723, 'Alisson': 6724, 'Allison': 6725, 'Alt': 6726, 'Alternate': 6727, 'Amruta': 6728, 'Amy': 6729, 'Anil': 6730, 'Anne': 6731, 'Anthony': 6732, 'Antonio': 6733, 'Anyway': 6734, 'Area': 6735, 'Asda': 6736, 'Asia': 6737, 'August': 6738, 'Austin': 6739, 'Avios': 6740, 'B': 6741, 'B4': 6742, 'BECAUSE': 6743, 'BEEN': 6744, 'BEST': 6745, 'BIOS': 6746, 'BRT': 6747, 'BY': 6748, 'Baggage': 6749, 'Bah': 6750, 'Band': 6751, 'Banking': 6752, 'Barcode': 6753, 'Barry': 6754, 'Basingstoke': 6755, 'Beach': 6756, 'Behind': 6757, 'Bell': 6758, 'Bethnal': 6759, 'Between': 6760, 'Bin': 6761, 'Bit': 6762, 'Blackburn': 6763, 'Bloody': 6764, 'BluRay': 6765, 'Blvd': 6766, 'Bonbons': 6767, 'Boo': 6768, 'Booked': 6769, 'Brazil': 6770, 'Broadway': 6771, 'Broke': 6772, 'Brown': 6773, 'Bruno': 6774, 'Bt': 6775, 'Bummer': 6776, 'CAN': 6777, 'CANNOT': 6778, 'CASH': 6779, 'CF': 6780, 'CHASE': 6781, 'CUSTOMERS': 6782, 'Cabin': 6783, 'Cache': 6784, 'Cancel': 6785, 'Carol': 6786, 'Carole': 6787, 'Carolina': 6788, 'CassyFitzgerald': 6789, 'Channels': 6790, 'Christine': 6791, 'Christopher': 6792, 'Citi': 6793, 'City': 6794, 'Clair': 6795, 'Clean': 6796, 'Clear': 6797, 'Clifton': 6798, 'Close': 6799, 'Clubcard': 6800, 'Com': 6801, 'Company': 6802, 'Confirmed': 6803, 'Congrats': 6804, 'Cont': 6805, 'Contacted': 6806, 'Corporate': 6807, 'Correos': 6808, 'Corry': 6809, 'Craig': 6810, 'Crewe': 6811, 'Current': 6812, 'Cust': 6813, 'Cuál': 6814, 'DA': 6815, 'DATA': 6816, 'DC': 6817, 'DELIVERY': 6818, 'DID': 6819, 'DLC': 6820, \"DON'T\": 6821, 'DPD': 6822, 'Dad': 6823, 'Daily': 6824, 'Dans': 6825, 'Decided': 6826, 'Dee': 6827, 'Deleted': 6828, 'Department': 6829, 'Desktop': 6830, 'Dial': 6831, 'Dictionary': 6832, 'Disney': 6833, 'Doing': 6834, 'Drive': 6835, 'Du': 6836, 'Dude': 6837, 'Durham': 6838, 'EAL': 6839, 'EC': 6840, 'EU': 6841, 'EZE': 6842, 'East': 6843, 'Edition': 6844, 'Eh': 6845, 'Either': 6846, 'Era': 6847, 'Erica': 6848, 'Europe': 6849, 'Everyday': 6850, 'Excellent': 6851, 'Executive': 6852, 'Extremely': 6853, 'Eye': 6854, 'F': 6855, 'FR': 6856, 'Facing': 6857, 'Faiza': 6858, 'Family': 6859, 'Feature': 6860, 'Feiertag': 6861, 'FiOS': 6862, 'Fine': 6863, 'Flex': 6864, 'Flights': 6865, 'Flipkart': 6866, 'Forest': 6867, 'Fort': 6868, 'Francisco': 6869, 'Fri': 6870, 'Fuck': 6871, 'Funny': 6872, 'GCR': 6873, 'GF': 6874, 'GIF': 6875, 'GO': 6876, 'GOD': 6877, 'Gamertag': 6878, 'Gatwick': 6879, 'Generally': 6880, 'Georgina': 6881, 'Gerne': 6882, 'GiftCard': 6883, 'Given': 6884, 'Gold': 6885, 'Gon': 6886, 'Goodbye': 6887, 'Grace': 6888, 'Grantham': 6889, 'Guildford': 6890, 'HML': 6891, 'HOURS': 6892, 'Hard': 6893, 'Hardeep': 6894, 'Hay': 6895, 'Hayes': 6896, 'Heading': 6897, 'Heard': 6898, 'Heather': 6899, 'Heetali': 6900, 'Hello@Mamsheesh': 6901, 'Hereford': 6902, 'Hezron': 6903, 'Hill': 6904, 'Hilton': 6905, 'Hmmm': 6906, 'Hold': 6907, 'Holidays': 6908, 'Horrible': 6909, 'Hotspot': 6910, 'Hw': 6911, 'IL': 6912, 'IMO': 6913, 'Iam': 6914, 'Ill': 6915, 'Ils': 6916, 'Imagine': 6917, 'Including': 6918, 'Installation': 6919, 'Interesting': 6920, 'Ios': 6921, 'Italy': 6922, 'Jay': 6923, 'Jen': 6924, 'Jerome': 6925, 'Jetzt': 6926, 'JohnO': 6927, 'Julie': 6928, 'Justine': 6929, 'Já': 6930, 'KL': 6931, 'Karen': 6932, 'Kelvin': 6933, 'Kent': 6934, 'Kerrie': 6935, 'Kev': 6936, 'Kings': 6937, 'Komal': 6938, 'Kreditkarte': 6939, 'Kundenservice': 6940, 'LIVE': 6941, 'LOST': 6942, 'Lawrence': 6943, 'Learn': 6944, 'Leeds': 6945, 'Less': 6946, 'Liam': 6947, 'Lidl': 6948, 'Listen': 6949, 'Liz': 6950, 'Location': 6951, 'Loreen': 6952, 'Low': 6953, 'Lu': 6954, 'Lucky': 6955, 'Lumia': 6956, 'MORE': 6957, 'MSISDN': 6958, 'Made': 6959, 'Madeeha': 6960, 'Mais': 6961, 'Making': 6962, 'Manage': 6963, 'Management': 6964, 'Manak': 6965, 'Marian': 6966, 'Maz': 6967, 'McDonald': 6968, 'Meet': 6969, 'Mel': 6970, 'Melde': 6971, 'Melody': 6972, 'Membership': 6973, 'Messaged': 6974, 'Miami': 6975, 'Michelle': 6976, 'Michigan': 6977, 'Mob': 6978, 'Moh': 6979, 'Month': 6980, 'Muchas': 6981, 'MyO2': 6982, 'NETWORK': 6983, 'NEW': 6984, 'NOTHING': 6985, 'NOV': 6986, 'Near': 6987, 'Neil': 6988, 'Nein': 6989, 'News': 6990, 'Newton': 6991, 'Nishant': 6992, 'Nod': 6993, 'Normally': 6994, 'Northampton': 6995, 'Northern': 6996, 'Nottingham': 6997, 'Nvidia': 6998, 'OR': 6999, 'OUT': 7000, 'Obed': 7001, 'Obrigada': 7002, 'Obrigado': 7003, 'Offer': 7004, 'Olha': 7005, 'Omg': 7006, 'OnePlus': 7007, 'Oneplus': 7008, 'Ooh': 7009, 'Orlando': 7010, 'PDF': 7011, 'PIR': 7012, 'PLEASE': 7013, 'PRIORITY': 7014, 'Pakete': 7015, 'Par': 7016, 'Para': 7017, 'Paris': 7018, 'Party': 7019, 'Paterson': 7020, 'Paypal': 7021, 'Pero': 7022, 'Photo': 7023, 'Plan': 7024, 'Podrías': 7025, 'Port': 7026, 'Portal': 7027, 'Post': 7028, 'Potter': 7029, 'Prepaid': 7030, 'Pret': 7031, 'Prices': 7032, 'Priority': 7033, 'Provide': 7034, 'Puedes': 7035, 'Pues': 7036, 'Q': 7037, 'Quel': 7038, 'Quick': 7039, 'Quickly': 7040, 'RAM': 7041, 'RE': 7042, 'REFUND': 7043, 'Rang': 7044, 'Ray': 7045, 'Raz': 7046, 'Recycle': 7047, 'Ref': 7048, 'Refer': 7049, 'Reference': 7050, 'Regarding': 7051, 'Reply': 7052, 'Residential': 7053, 'Restart': 7054, 'Restaurants': 7055, 'Results': 7056, 'Rhys': 7057, 'Rian': 7058, 'Rich': 7059, 'Ride': 7060, 'Ritesh': 7061, 'Rodrigo': 7062, 'Ross': 7063, 'Router': 7064, 'Running': 7065, 'S6': 7066, 'SE': 7067, 'SERVICE': 7068, 'SFO': 7069, 'SLC': 7070, 'SNR': 7071, 'SR': 7072, 'Sad': 7073, 'Sainsburys': 7074, 'Salisbury': 7075, 'Sanket': 7076, 'Sat': 7077, 'Saver': 7078, 'Security': 7079, 'Sending': 7080, 'Series': 7081, 'Several': 7082, 'Shannon': 7083, 'Shop': 7084, 'Sian': 7085, 'Siempre': 7086, 'Signal': 7087, 'Simple': 7088, 'Simply': 7089, 'Single': 7090, 'Size': 7091, 'Skype': 7092, 'Smaira': 7093, 'Smh': 7094, 'Software': 7095, 'Somebody': 7096, 'Son': 7097, 'Song': 7098, 'Sonos': 7099, 'Sony': 7100, 'Sort': 7101, 'Sound': 7102, 'Speak': 7103, 'Specialists': 7104, 'Specifically': 7105, 'Stacey': 7106, 'Stafford': 7107, 'Standing': 7108, 'Stores': 7109, 'Struan': 7110, 'Subway': 7111, 'Suite': 7112, 'Surfboard': 7113, 'Swindon': 7114, 'Sync': 7115, 'TBT': 7116, 'TBW': 7117, 'THANK': 7118, 'THEM': 7119, 'THEY': 7120, 'TMC': 7121, 'TMS': 7122, 'TN': 7123, 'Target': 7124, 'Taunton': 7125, 'Texas': 7126, 'Than': 7127, 'Thanksgiving': 7128, 'Thanx': 7129, 'Thinking': 7130, 'Thnx': 7131, 'Three': 7132, 'Through': 7133, 'Thur': 7134, 'Tnx': 7135, 'Top': 7136, 'Totally': 7137, 'Tq': 7138, 'Travis': 7139, 'Tristan': 7140, 'Tues': 7141, 'Turkey': 7142, 'Turned': 7143, 'Twice': 7144, 'Ty-': 7145, 'Typical': 7146, 'Typically': 7147, 'UBER': 7148, 'UPDATE': 7149, 'Ugh': 7150, 'Uh': 7151, 'Un': 7152, 'Unacceptable': 7153, 'Und': 7154, 'Until': 7155, 'Updates': 7156, 'Used': 7157, 'V': 7158, 'Valley': 7159, 'Vishaul': 7160, 'Você': 7161, 'W10': 7162, 'WHY': 7163, 'Waited': 7164, 'Waitrose': 7165, 'Wandsworth': 7166, 'Wanna': 7167, 'Waripel': 7168, 'Warner': 7169, 'Washington': 7170, 'Website': 7171, 'Wembley': 7172, 'Westbury': 7173, 'Wie': 7174, 'Wild': 7175, 'Win': 7176, 'Win10': 7177, 'Wish': 7178, 'Woche': 7179, 'Woking': 7180, 'Wolverhampton': 7181, 'Wondering': 7182, 'Worcester': 7183, 'World': 7184, 'Wrong': 7185, 'X.': 7186, 'XL': 7187, 'Year': 7188, 'Zahlungsart': 7189, 'Zeit': 7190, 'Zone': 7191, '^BC': 7192, '^BG': 7193, '^Britt': 7194, '^CIA': 7195, '^CL': 7196, '^CN': 7197, '^Cec': 7198, '^Christina': 7199, '^FC': 7200, '^GP': 7201, '^I': 7202, '^ID': 7203, '^IS': 7204, '^IW': 7205, '^JF': 7206, '^JK': 7207, '^JP': 7208, '^JZ': 7209, '^Julie': 7210, '^K': 7211, '^KP': 7212, '^Karen': 7213, '^LA': 7214, '^LN': 7215, '^M': 7216, '^ML': 7217, '^NC': 7218, '^NG': 7219, '^Oliver': 7220, '^RA': 7221, '^RP': 7222, '^TI': 7223, '^TW': 7224, '^VB': 7225, '^cl': 7226, '^cr': 7227, 'abgelehnt': 7228, 'aboard': 7229, 'abroad': 7230, 'acceso': 7231, 'accommodation': 7232, 'achieve': 7233, 'acknowledged': 7234, 'acknowledgement': 7235, 'acordamos': 7236, 'activities': 7237, 'acuerdo': 7238, 'adicional': 7239, 'admit': 7240, 'adobe': 7241, 'advanced': 7242, 'advertise': 7243, 'adverts': 7244, 'advocate': 7245, 'agora': 7246, 'ahora': 7247, 'airplane': 7248, 'airways': 7249, 'aka': 7250, 'alerted': 7251, 'alerts': 7252, 'allocated': 7253, 'alter': 7254, 'altri': 7255, 'amazonuk': 7256, 'ancora': 7257, 'anger': 7258, 'animation': 7259, 'anxious': 7260, 'ao': 7261, 'apni': 7262, 'app&gt': 7263, 'appalling': 7264, 'appeal': 7265, 'applications': 7266, 'armV7': 7267, 'articles': 7268, 'asistencia': 7269, 'asleep': 7270, 'aspect': 7271, 'assess': 7272, 'assign': 7273, 'assit': 7274, 'assurances': 7275, 'ate': 7276, 'attendre': 7277, 'aucune': 7278, 'aun': 7279, 'aurait': 7280, 'auth': 7281, 'authorized': 7282, 'aí': 7283, 'ba': 7284, 'backups': 7285, 'bacon': 7286, 'bald': 7287, 'ball': 7288, 'banco': 7289, 'banner': 7290, 'base': 7291, 'bathroom': 7292, 'beans': 7293, 'bedroom': 7294, 'beef': 7295, 'bekomme': 7296, 'bell': 7297, 'bet': 7298, 'bezahlen': 7299, 'bhi': 7300, 'bigger': 7301, 'billed': 7302, 'bist': 7303, 'bitter': 7304, 'blatantly': 7305, 'blocking': 7306, 'bolt': 7307, 'bon': 7308, 'bonne': 7309, 'boorito': 7310, 'booster': 7311, 'boots': 7312, 'boyfriend': 7313, 'brands': 7314, 'breaks': 7315, 'breath': 7316, 'bright': 7317, 'bueno': 7318, 'businesses': 7319, 'bypass': 7320, 'cached': 7321, 'cadeau': 7322, 'cambiar': 7323, 'campus': 7324, 'canceling': 7325, 'canvas': 7326, 'cardboard': 7327, 'carefully': 7328, 'cargo': 7329, 'carried': 7330, 'cartão': 7331, 'casso': 7332, 'cat': 7333, 'causes': 7334, 'celui': 7335, 'centers': 7336, 'cents': 7337, 'chances': 7338, 'changer': 7339, 'chaos': 7340, 'character': 7341, 'chased': 7342, 'chegou': 7343, 'chip': 7344, 'chips': 7345, 'chk': 7346, 'chosen': 7347, 'clever': 7348, 'closely': 7349, 'closes': 7350, 'clothes': 7351, 'cm': 7352, 'co': 7353, 'coaches': 7354, 'collections': 7355, 'colleghi': 7356, 'color': 7357, 'commands': 7358, 'commission': 7359, 'commit': 7360, 'communicating': 7361, 'communications': 7362, 'compared': 7363, 'competitive': 7364, 'compliant': 7365, 'components': 7366, 'comprends': 7367, 'concept': 7368, 'concernant': 7369, 'conductor': 7370, 'confirms': 7371, 'contacta': 7372, 'contains': 7373, 'context': 7374, 'continuing': 7375, 'contrary': 7376, 'controls': 7377, 'cooperation': 7378, 'corner': 7379, 'correspond': 7380, 'corrupt': 7381, 'corrupted': 7382, 'costing': 7383, 'council': 7384, 'couriers': 7385, 'covers': 7386, 'crackers': 7387, 'crown': 7388, 'crying': 7389, 'crédito': 7390, 'cuentas': 7391, \"d'un\": 7392, 'dan': 7393, 'dash': 7394, 'dated': 7395, 'daughter': 7396, 'deactivation': 7397, 'debt': 7398, 'declines': 7399, 'deductible': 7400, 'deemed': 7401, 'def': 7402, 'defaulting': 7403, 'definite': 7404, 'dein': 7405, 'delhi': 7406, 'delicious': 7407, 'demander': 7408, 'denied': 7409, 'depth': 7410, 'deserves': 7411, 'desperate': 7412, 'detalles': 7413, 'development': 7414, 'device&gt': 7415, 'dia': 7416, 'dialed': 7417, 'dialogue': 7418, 'dias': 7419, 'dictionary': 7420, 'direction': 7421, 'direta': 7422, 'disant': 7423, 'disappear': 7424, 'discomfort': 7425, 'disconnecting': 7426, 'discounted': 7427, 'disponibile': 7428, 'disposition': 7429, 'disregard': 7430, 'diverted': 7431, 'doch': 7432, 'documented': 7433, 'dogs': 7434, 'don': 7435, 'doordash': 7436, 'downhill': 7437, 'dozen': 7438, 'drain': 7439, 'drastically': 7440, 'draw': 7441, 'drawing': 7442, 'dress': 7443, 'drinking': 7444, 'dropbox': 7445, 'dropping': 7446, 'ds': 7447, 'dual': 7448, 'décembre': 7449, 'día': 7450, 'e.g.': 7451, 'earn': 7452, 'ease': 7453, 'east': 7454, 'eats': 7455, 'ebooks': 7456, 'effected': 7457, 'effective': 7458, 'effects': 7459, 'efforts': 7460, 'eg': 7461, 'egg': 7462, 'eh': 7463, 'einem': 7464, 'electric': 7465, 'electrical': 7466, 'electrónico': 7467, 'eles': 7468, 'eligibility': 7469, 'elle': 7470, 'empathy': 7471, 'employ': 7472, 'encountering': 7473, 'endless': 7474, 'engine': 7475, 'enjoying': 7476, 'enquiries': 7477, 'enroll': 7478, 'entertainment': 7479, 'entraste': 7480, 'entregado': 7481, 'entregar': 7482, 'entry': 7483, 'então': 7484, 'envio': 7485, 'esa': 7486, 'escolher': 7487, 'ese': 7488, 'eso': 7489, 'essa': 7490, 'estamos': 7491, 'estate': 7492, 'estava': 7493, 'estimada': 7494, 'esto': 7495, 'estos': 7496, 'estão': 7497, 'eta': 7498, 'events': 7499, 'exceed': 7500, 'exception': 7501, 'exclusive': 7502, 'exec': 7503, 'exercise': 7504, 'existent': 7505, 'expectation': 7506, 'expectations': 7507, 'expense': 7508, 'expiration': 7509, 'expire': 7510, 'expiry': 7511, 'explaining': 7512, 'fa': 7513, 'failing': 7514, 'fancy': 7515, 'fat': 7516, 'fatto': 7517, 'favorite': 7518, 'feasible': 7519, 'feels': 7520, 'feet': 7521, 'felicidade': 7522, 'fell': 7523, 'festival': 7524, 'fight': 7525, 'finish': 7526, 'flash': 7527, 'flown': 7528, 'flyer': 7529, 'focus': 7530, 'focused': 7531, 'fois': 7532, 'fools': 7533, 'footage': 7534, 'foreign': 7535, 'forgotten': 7536, 'fr': 7537, 'fraudulently': 7538, 'frustrations': 7539, 'fucked': 7540, 'functions': 7541, 'gaming': 7542, 'gear': 7543, 'gefunden': 7544, 'gemacht': 7545, 'generation': 7546, 'gentleman': 7547, 'gerade': 7548, 'gifts': 7549, 'git': 7550, 'gladly': 7551, 'glitches': 7552, 'gmail': 7553, 'goodies': 7554, 'googled': 7555, 'granted': 7556, 'grass': 7557, 'gratuito': 7558, 'gravity': 7559, 'grocery': 7560, 'gross': 7561, 'guac': 7562, 'gutted': 7563, 'guyz': 7564, 'gwr': 7565, 'hab': 7566, 'hacerlo': 7567, 'hang': 7568, 'harassing': 7569, 'harder': 7570, 'hatte': 7571, 'headache': 7572, 'healthy': 7573, 'heart': 7574, 'heat': 7575, 'het': 7576, 'highlighted': 7577, 'highway': 7578, 'hill': 7579, 'himself': 7580, 'hire': 7581, 'hits': 7582, 'hj': 7583, 'holders': 7584, 'hole': 7585, 'hols': 7586, 'hospital': 7587, 'hosted': 7588, 'https': 7589, 'https://t.co/2kXx4TN9tO': 7590, 'https://t.co/9xd0UsBhgl': 7591, 'https://t.co/C3IOhQGizS.': 7592, 'https://t.co/EYpi1mphGM': 7593, 'https://t.co/EqisDMwZAT': 7594, 'https://t.co/F2VbqC3BoM': 7595, 'https://t.co/FdIeOO9P0q': 7596, 'https://t.co/FqaAto1cHU': 7597, 'https://t.co/JzRdscmdH9': 7598, 'https://t.co/OjvUxwnzPe': 7599, 'https://t.co/QENEhDawC3': 7600, 'https://t.co/WATnmgS37Z': 7601, 'https://t.co/Y5jpI9gRhE.': 7602, 'https://t.co/aaDyEz1VgE.': 7603, 'https://t.co/beR78zMMYB': 7604, 'https://t.co/cUDnC8mjd7': 7605, 'https://t.co/crJMnNwi0H': 7606, 'https://t.co/gqCymSGFCf': 7607, 'https://t.co/jDv3qGPuzt': 7608, 'https://t.co/ohyvGrpvrY': 7609, 'https://t.co/rS49hgaADF': 7610, 'https://t.co/wAoEicy9CF': 7611, 'hulu': 7612, 'hundreds': 7613, 'hungry': 7614, 'i.e.': 7615, 'iPhones': 7616, 'icons': 7617, 'id': 7618, 'ideia': 7619, 'ids': 7620, 'ignore': 7621, 'improves': 7622, 'inclusive': 7623, 'inconsistent': 7624, 'inconveniences': 7625, 'incorrectly': 7626, 'indian': 7627, 'indicada': 7628, 'indicated': 7629, 'indication': 7630, 'infrastructure': 7631, 'inquiring': 7632, 'insist': 7633, 'insisted': 7634, 'instantly': 7635, 'instore': 7636, 'instruction': 7637, 'instruções': 7638, 'insufficient': 7639, 'intend': 7640, 'invest': 7641, 'inviting': 7642, 'i️': 7643, 'jeopardy': 7644, 'jeu': 7645, 'jeux': 7646, 'jobs': 7647, 'joined': 7648, 'joining': 7649, 'journeys': 7650, 'justify': 7651, 'keepScotlandtheBrand': 7652, 'kein': 7653, 'kid': 7654, 'killing': 7655, 'kit': 7656, 'kudos': 7657, 'kuwait': 7658, \"l'annulation\": 7659, 'lags': 7660, 'land': 7661, 'landmarks': 7662, 'lane': 7663, 'lassen': 7664, 'launches': 7665, 'laut': 7666, 'layout': 7667, 'leaderboard': 7668, 'legroom': 7669, 'leider': 7670, 'lendo': 7671, 'ler': 7672, 'letzte': 7673, 'liable': 7674, 'license': 7675, 'lightroom': 7676, 'linear': 7677, 'listings': 7678, 'lit': 7679, 'livré': 7680, 'll': 7681, 'llama': 7682, 'llegó': 7683, 'loadings': 7684, 'locker': 7685, 'locks': 7686, 'loses': 7687, 'losses': 7688, 'louder': 7689, 'loves': 7690, 'lt;1': 7691, 'mac': 7692, 'magazine': 7693, 'mai': 7694, 'maintain': 7695, 'majority': 7696, 'manchester': 7697, 'mark': 7698, 'material': 7699, 'mayo': 7700, 'meanwhile': 7701, 'measure': 7702, 'meat': 7703, 'medio': 7704, 'melden': 7705, 'mental': 7706, 'merely': 7707, 'messaggio': 7708, 'methods': 7709, 'mettre': 7710, 'microsoft': 7711, 'mike': 7712, 'mile': 7713, 'mille': 7714, 'millions': 7715, 'minimal': 7716, 'minimum': 7717, 'minor': 7718, 'miserable': 7719, 'misinformation': 7720, 'mislead': 7721, 'misunderstanding': 7722, 'mix': 7723, 'monopoly': 7724, 'morgen': 7725, 'mornings': 7726, 'moron': 7727, 'mouldy': 7728, 'moyen': 7729, 'mp3': 7730, 'mpesa': 7731, 'nadie': 7732, 'navigate': 7733, 'nearer': 7734, 'newer': 7735, 'newly': 7736, 'nichts': 7737, 'nodal': 7738, 'noon': 7739, 'nosso': 7740, 'nunca': 7741, 'nós': 7742, 'ob': 7743, 'observation': 7744, 'obtain': 7745, 'occasions': 7746, 'offices': 7747, 'oops': 7748, 'op': 7749, 'opted': 7750, 'optimize': 7751, 'order?^PJ': 7752, 'ordine': 7753, 'organised': 7754, 'origin': 7755, 'otra': 7756, 'otros': 7757, 'ought': 7758, 'ours': 7759, 'output': 7760, 'outra': 7761, 'oven': 7762, 'overdue': 7763, 'où': 7764, 'pa': 7765, 'packs': 7766, 'pad': 7767, 'pages': 7768, 'pair': 7769, 'panic': 7770, 'pasos': 7771, 'passos': 7772, 'patch': 7773, 'paths': 7774, 'pays': 7775, 'país': 7776, 'performing': 7777, 'permitted': 7778, 'perspective': 7779, 'peut': 7780, 'phase': 7781, 'pictured': 7782, 'piece': 7783, 'pieces': 7784, 'pink': 7785, 'placement': 7786, 'plaisir': 7787, 'plant': 7788, 'plate': 7789, 'playback': 7790, 'players': 7791, 'playstation': 7792, 'plusieurs': 7793, 'poi': 7794, 'pointing': 7795, 'poorly': 7796, 'popped': 7797, 'posible': 7798, 'possession': 7799, 'poste': 7800, 'pouco': 7801, 'ppls': 7802, 'prazer': 7803, 'precious': 7804, 'preferable': 7805, 'prendre': 7806, 'preparando': 7807, 'presente': 7808, 'pressing': 7809, 'pretend': 7810, 'prevista': 7811, 'priced': 7812, 'principal': 7813, 'privilege': 7814, 'problemas': 7815, 'problematic': 7816, 'produce': 7817, 'professionalism': 7818, 'programming': 7819, 'projects': 7820, 'prompts': 7821, 'provision': 7822, 'près': 7823, 'précédemment': 7824, 'published': 7825, 'puede': 7826, 'puedo': 7827, 'pulling': 7828, 'punctuality': 7829, 'pune': 7830, 'purpose': 7831, 'purposes': 7832, 'puts': 7833, 'pyjamas': 7834, 'página': 7835, 'qualquer': 7836, 'quantity': 7837, 'quickest': 7838, 'quieter': 7839, 'quoi': 7840, 'qu’il': 7841, 'rain': 7842, 'raising': 7843, 'rare': 7844, 'rating': 7845, 'realizar': 7846, 'rebuilding': 7847, 'recall': 7848, 'recebi': 7849, 'recibido': 7850, 'recibí': 7851, 'recieve': 7852, 'recognise': 7853, 'recomiendo': 7854, 'recourse': 7855, 'recuerda': 7856, 'redirect': 7857, 'redundant': 7858, 'referred': 7859, 'refuses': 7860, 'regulatory': 7861, 'reinstate': 7862, 'reissue': 7863, 'relancer': 7864, 'relation': 7865, 'relations': 7866, 'relax': 7867, 'relay': 7868, 'releases': 7869, 'relieved': 7870, 'reload': 7871, 'remboursement': 7872, 'remind': 7873, 'reopen': 7874, 'repartidor': 7875, 'reparto': 7876, 'repeating': 7877, 'replacements': 7878, 'reproduce': 7879, 'reqs': 7880, 'requirement': 7881, 'res': 7882, 'resets': 7883, 'resident': 7884, 'resized': 7885, 'resolutions': 7886, 'retraso': 7887, 'rings': 7888, 'ripped': 7889, 'robbery': 7890, 'robot': 7891, 'rock': 7892, 'rápido': 7893, 'réclamation': 7894, 'sa': 7895, 'sabe': 7896, 'safer': 7897, 'satisfaction': 7898, 'sausage': 7899, 'saver': 7900, 'savings': 7901, 'scale': 7902, 'scanned': 7903, 'schnelle': 7904, 'scripted': 7905, 'seal': 7906, 'sees': 7907, 'senha': 7908, 'series': 7909, 'serv': 7910, 'served': 7911, 'servicing': 7912, 'session': 7913, 'settled': 7914, 'seul': 7915, 'seus': 7916, 'sfo': 7917, 'shells': 7918, 'shiny': 7919, 'shoddy': 7920, 'shutdown': 7921, 'shutting': 7922, 'shuttle': 7923, 'sich': 7924, 'sideways': 7925, 'silent': 7926, 'sind': 7927, 'singles': 7928, 'skills': 7929, 'sky': 7930, 'slots': 7931, 'slowing': 7932, 'smooth': 7933, 'snapchat': 7934, 'snapshots': 7935, 'snow': 7936, 'socket': 7937, 'soit': 7938, 'sollte': 7939, 'sonos': 7940, 'sorting': 7941, 'souci': 7942, 'sour': 7943, 'south': 7944, 'specs': 7945, 'spinning': 7946, 'spoil': 7947, 'spots': 7948, 'star': 7949, 'steak': 7950, 'sticks': 7951, 'stillgoing': 7952, 'stinks': 7953, 'stocked': 7954, 'stories': 7955, 'stranded': 7956, 'streets': 7957, 'students': 7958, 'submission': 7959, 'success': 7960, 'successful': 7961, 'sue': 7962, 'suffer': 7963, 'suffering': 7964, 'suivante': 7965, 'summer': 7966, 'sunday': 7967, 'supplies': 7968, 'supporting': 7969, 'surge': 7970, 'svc': 7971, 'sweat': 7972, 'swiped': 7973, 'sympathy': 7974, 'syncing': 7975, 'tagging': 7976, 'talks': 7977, 'também': 7978, 'tampoco': 7979, 'tap': 7980, 'target': 7981, 'targets': 7982, 'tat': 7983, 'tbh': 7984, 'teen': 7985, 'temp': 7986, 'terribly': 7987, 'texting': 7988, 'thick': 7989, 'thin': 7990, 'thingy': 7991, 'thnx': 7992, 'threads': 7993, 'tills': 7994, 'timed': 7995, 'timetables': 7996, 'timings': 7997, 'topped': 7998, 'tops': 7999, 'totes': 8000, 'toute': 8001, 'towers': 8002, 'tracked': 8003, 'trail': 8004, 'transportation': 8005, 'triggered': 8006, 'trimmings': 8007, 'triple': 8008, 'trollies': 8009, 'troubleshooter': 8010, 'très': 8011, 'tua': 8012, 'tune': 8013, 'tuo': 8014, 'typed': 8015, 'typical': 8016, 'unbelievable': 8017, 'unethical': 8018, 'uninstalled': 8019, 'unlikely': 8020, 'uno': 8021, 'unplug': 8022, 'unreachable': 8023, 'unresponsive': 8024, 'unsubscribe': 8025, 'unusable': 8026, 'uploads': 8027, 'upstream': 8028, 'urgency': 8029, 'url': 8030, 'utmost': 8031, 'valet': 8032, 'validate': 8033, 'valued': 8034, 'varias': 8035, 'verdad': 8036, 'vertical': 8037, 'vielleicht': 8038, 'viewing': 8039, 'virgin': 8040, 'virtual': 8041, 'visa': 8042, 'vom': 8043, 'vs': 8044, 'waived': 8045, 'wake': 8046, 'wall': 8047, 'wallet': 8048, 'warte': 8049, 'wash': 8050, 'washing': 8051, 'wel': 8052, 'werden': 8053, 'west': 8054, 'whatsoever': 8055, 'wheelchair': 8056, 'wheelchairs': 8057, 'whose': 8058, 'wich': 8059, 'wider': 8060, 'widget': 8061, 'wine': 8062, 'wll': 8063, 'workers': 8064, 'workflow': 8065, 'worthless': 8066, 'ws': 8067, 'ww2': 8068, 'xq': 8069, 'yea': 8070, 'you.^ES': 8071, 'zum': 8072, '\\xa0 ': 8073, 'É': 8074, 'às': 8075, 'êtes': 8076, 'आया': 8077, 'करने': 8078, 'का': 8079, 'कि': 8080, 'क्या': 8081, 'जबरन': 8082, 'जवाब': 8083, 'तक': 8084, 'तुम': 8085, 'तो': 8086, 'पहले': 8087, 'भी': 8088, 'मोबाइल': 8089, 'रही': 8090, 'सर्विस': 8091, 'ही': 8092, 'हो': 8093, '५': 8094, '€': 8095, '⌚': 8096, '❄': 8097, '⭐': 8098, 'ありがとうございました': 8099, '️.': 8100, '🇸': 8101, '🇺': 8102, '🌴': 8103, '🎁': 8104, '🎉': 8105, '👉': 8106, '👻': 8107, '💁': 8108, '💙': 8109, '💜': 8110, '💯': 8111, '😇': 8112, '😌': 8113, '😰': 8114, '😶': 8115, '😸': 8116, '🙊': 8117, '🤓': 8118, '🦃': 8119, '\\n \\n': 8120, '\\n   ': 8121, ' \\n\\n': 8122, '       ': 8123, '+44': 8124, '-AB': 8125, '-Chantelle': 8126, '-Claude': 8127, '-Dee': 8128, '-EW': 8129, '-Farooq': 8130, '-GB': 8131, '-GO': 8132, '-JA': 8133, '-JB': 8134, '-James': 8135, '-Karthik': 8136, '-Kimball': 8137, '-Lindsey': 8138, '-MM': 8139, '-MR': 8140, '-MV': 8141, '-NC': 8142, '-Pia': 8143, '-RD': 8144, '-Ra': 8145, '-STS': 8146, '-Sami': 8147, '-Steve': 8148, '-Tara': 8149, '-Tay': 8150, '-VG': 8151, '-chris': 8152, '-sometimes': 8153, '.@UPSHelp': 8154, '.ET': 8155, '.Thanks': 8156, '.^SK': 8157, '.de': 8158, '.nbi': 8159, '.no': 8160, '.stop': 8161, '/2': 8162, '/AC': 8163, '/AG': 8164, '/BH': 8165, '/D': 8166, '/DF': 8167, '/JX': 8168, '/LP': 8169, '/MC': 8170, '/NH': 8171, '/NQ': 8172, '/PK': 8173, '/QI': 8174, '/RB': 8175, '/RC': 8176, '/RR': 8177, '/TR': 8178, '0012300888': 8179, '00447900248601': 8180, '02': 8181, '03300881271': 8182, '03445565650': 8183, '0345': 8184, '042': 8185, '05.12.17': 8186, '05:48': 8187, '06-Oct-2017': 8188, '07058541994': 8189, '07:50': 8190, '07:51': 8191, '07:58': 8192, '08': 8193, '08.02': 8194, '08.11': 8195, '08025532086': 8196, '08025721108': 8197, '08054117690': 8198, '08079569562': 8199, '08079772477': 8200, '08123030894': 8201, '0870': 8202, '08:31': 8203, '09053038780': 8204, '09:40': 8205, '1.0.66.478.g1296534d': 8206, '1/': 8207, '1/11/17': 8208, '1/2)^SF': 8209, '10.10.5': 8210, '10.12.6': 8211, '10/1': 8212, '10/27': 8213, '10/31': 8214, '10/7': 8215, '1000s': 8216, '10304': 8217, '109': 8218, '10:10': 8219, '10:31': 8220, '10:50': 8221, '10mins': 8222, '11.0.03': 8223, '11/14': 8224, '111': 8225, '11:15am': 8226, '12.5': 8227, '12:30': 8228, '12:44': 8229, '12:52': 8230, '12hours': 8231, '12hrs': 8232, '1325': 8233, '1413106': 8234, '1440': 8235, '14th': 8236, '1500': 8237, '153': 8238, '15:05': 8239, '15mins': 8240, '16:15': 8241, '16:40': 8242, '16:50': 8243, '1709': 8244, '1710': 8245, '1712': 8246, '1750': 8247, '1800': 8248, '1830': 8249, '18:00': 8250, '18:45': 8251, '18th': 8252, '1903': 8253, '1:07am': 8254, '1k+': 8255, '1month': 8256, '1year': 8257, '1yr': 8258, '2-hour': 8259, '2.7': 8260, '2/2)^HR': 8261, '2/2)^SF': 8262, '20/11': 8263, '2012': 8264, '202': 8265, '20:00': 8266, '20:30': 8267, '2160': 8268, '21st': 8269, '22h': 8270, '230': 8271, '2300': 8272, '2442': 8273, '24h': 8274, '2500': 8275, '26/10': 8276, '27Nov': 8277, '28.25': 8278, '280': 8279, '29/11/17': 8280, '2FA': 8281, '2day': 8282, '2hours': 8283, '2weeks': 8284, '3,333': 8285, '3,719.00': 8286, '3.2': 8287, '30.11': 8288, '30.11.17': 8289, '301': 8290, '30days': 8291, '31/10': 8292, '3301': 8293, '34': 8294, '360': 8295, '37': 8296, '3962': 8297, '399': 8298, '3for2': 8299, '4.40am': 8300, '402': 8301, '41': 8302, '430': 8303, '4474727': 8304, '450': 8305, '48h': 8306, '4919975617': 8307, '499': 8308, '4hrs': 8309, '4mins': 8310, '4rm': 8311, '4times': 8312, '4x': 8313, '5,000': 8314, '5.1': 8315, '5.75': 8316, '51': 8317, '59': 8318, '59.99': 8319, '5:30': 8320, '5Ghz': 8321, '5days': 8322, '5ghz': 8323, '5s': 8324, '6.5/10': 8325, '6:15': 8326, '6PM': 8327, '71332205299377': 8328, '750': 8329, '759122': 8330, '7640': 8331, '780': 8332, '79': 8333, '7:15': 8334, '7:45a': 8335, '8.19': 8336, '8.4.25.771': 8337, '81': 8338, '84.99': 8339, '85': 8340, '868': 8341, '8895581': 8342, '8983003080': 8343, '8:30': 8344, '8:30pm': 8345, '8:40': 8346, '8k': 8347, '900': 8348, '9140560819': 8349, '950': 8350, '9580791': 8351, '9762642673': 8352, '9813217482': 8353, '99': 8354, '9AM': 8355, ':-P': 8356, ':3': 8357, ':P': 8358, ';-)': 8359, '@11': 8360, '@1130': 8361, '@1131': 8362, '@114664': 8363, '@115721': 8364, '@115755': 8365, '@115766': 8366, '@115776': 8367, '@115802': 8368, '@115803': 8369, '@115825': 8370, '@115826': 8371, '@115855': 8372, '@115861': 8373, '@115862': 8374, '@115865': 8375, '@115883': 8376, '@115885': 8377, '@115887': 8378, '@115918': 8379, '@115923': 8380, '@115931': 8381, '@115940': 8382, '@115942': 8383, '@116016': 8384, '@116029': 8385, '@116050': 8386, '@116072': 8387, '@116118': 8388, '@116128': 8389, '@116145': 8390, '@116229': 8391, '@116231': 8392, '@116236': 8393, '@116245': 8394, '@116314': 8395, '@116321': 8396, '@116324': 8397, '@116362': 8398, '@116397': 8399, '@116414': 8400, '@116415': 8401, '@116452': 8402, '@116535': 8403, '@116537': 8404, '@116540': 8405, '@116569': 8406, '@116591': 8407, '@116603': 8408, '@116617': 8409, '@116652': 8410, '@116656': 8411, '@116658': 8412, '@116664': 8413, '@116690': 8414, '@116691': 8415, '@116720': 8416, '@116722': 8417, '@116770': 8418, '@116780': 8419, '@116817': 8420, '@116903': 8421, '@116917': 8422, '@116918': 8423, '@116921': 8424, '@116928': 8425, '@116971': 8426, '@117022': 8427, '@117025': 8428, '@117117': 8429, '@117123': 8430, '@117127': 8431, '@117130': 8432, '@117141': 8433, '@117158': 8434, '@117170': 8435, '@117176': 8436, '@117253': 8437, '@117295': 8438, '@117340': 8439, '@117407': 8440, '@117425': 8441, '@117443': 8442, '@117460': 8443, '@117475': 8444, '@117476': 8445, '@117483': 8446, '@117503': 8447, '@117504': 8448, '@117581': 8449, '@117594': 8450, '@117632': 8451, '@117691': 8452, '@117731': 8453, '@117733': 8454, '@117735': 8455, '@117754': 8456, '@117755': 8457, '@117756': 8458, '@117758': 8459, '@117759': 8460, '@117765': 8461, '@117789': 8462, '@117791': 8463, '@117879': 8464, '@117905': 8465, '@117948': 8466, '@117981': 8467, '@118084': 8468, '@118183': 8469, '@118189': 8470, '@118212': 8471, '@118331': 8472, '@118342': 8473, '@118344': 8474, '@118347': 8475, '@118362': 8476, '@118364': 8477, '@118372': 8478, '@118373': 8479, '@118391': 8480, '@118392': 8481, '@118393': 8482, '@118434': 8483, '@118441': 8484, '@118467': 8485, '@118470': 8486, '@118484': 8487, '@118543': 8488, '@118673': 8489, '@118674': 8490, '@118706': 8491, '@118743': 8492, '@118745': 8493, '@118754': 8494, '@118925': 8495, '@118940': 8496, '@118950': 8497, '@118987': 8498, '@118992': 8499, '@118994': 8500, '@118995': 8501, '@118997': 8502, '@119020': 8503, '@119022': 8504, '@119041': 8505, '@119072': 8506, '@119111': 8507, '@119126': 8508, '@119129': 8509, '@119141': 8510, '@119210': 8511, '@119233': 8512, '@119245': 8513, '@119261': 8514, '@119279': 8515, '@119283': 8516, '@119284': 8517, '@119339': 8518, '@119352': 8519, '@119401': 8520, '@119417': 8521, '@119431': 8522, '@119438': 8523, '@119447': 8524, '@119507': 8525, '@119508': 8526, '@119523': 8527, '@119554': 8528, '@119616': 8529, '@119617': 8530, '@119664': 8531, '@119668': 8532, '@119695': 8533, '@119702': 8534, '@119724': 8535, '@119793': 8536, '@119798': 8537, '@119821': 8538, '@119846': 8539, '@119893': 8540, '@119912': 8541, '@119956': 8542, '@119969': 8543, '@119986': 8544, '@120013': 8545, '@120025': 8546, '@120037': 8547, '@120040': 8548, '@120068': 8549, '@120071': 8550, '@120153': 8551, '@120169': 8552, '@120203': 8553, '@120213': 8554, '@120232': 8555, '@120240': 8556, '@120258': 8557, '@120292': 8558, '@120296': 8559, '@120298': 8560, '@120304': 8561, '@120355': 8562, '@120366': 8563, '@120367': 8564, '@120371': 8565, '@120398': 8566, '@120424': 8567, '@120477': 8568, '@120480': 8569, '@120487': 8570, '@120510': 8571, '@120524': 8572, '@120590': 8573, '@120604': 8574, '@120609': 8575, '@120621': 8576, '@120631': 8577, '@120653': 8578, '@120655': 8579, '@120657': 8580, '@120663': 8581, '@120684': 8582, '@120688': 8583, '@120704': 8584, '@120714': 8585, '@120721': 8586, '@120753': 8587, '@120772': 8588, '@120781': 8589, '@120799': 8590, '@120841': 8591, '@120872': 8592, '@120912': 8593, '@120919': 8594, '@120936': 8595, '@120938': 8596, '@120948': 8597, '@120959': 8598, '@120960': 8599, '@120987': 8600, '@120988': 8601, '@121019': 8602, '@121032': 8603, '@121073': 8604, '@121097': 8605, '@121125': 8606, '@121127': 8607, '@121143': 8608, '@121152': 8609, '@121155': 8610, '@121177': 8611, '@121223': 8612, '@121227': 8613, '@121252': 8614, '@121273': 8615, '@121286': 8616, '@121290': 8617, '@121322': 8618, '@121389': 8619, '@121405': 8620, '@121411': 8621, '@121440': 8622, '@121470': 8623, '@121473': 8624, '@121645': 8625, '@121677': 8626, '@121687': 8627, '@121714': 8628, '@121732': 8629, '@121789': 8630, '@121798': 8631, '@121835': 8632, '@121836': 8633, '@121850': 8634, '@121875': 8635, '@121889': 8636, '@121892': 8637, '@121897': 8638, '@121903': 8639, '@121907': 8640, '@121933': 8641, '@121973': 8642, '@121976': 8643, '@121990': 8644, '@122009': 8645, '@122036': 8646, '@122039': 8647, '@122041': 8648, '@122047': 8649, '@122055': 8650, '@122060': 8651, '@122092': 8652, '@122101': 8653, '@122104': 8654, '@122144': 8655, '@122150': 8656, '@122152': 8657, '@122154': 8658, '@122160': 8659, '@122208': 8660, '@122231': 8661, '@122258': 8662, '@122346': 8663, '@122360': 8664, '@122370': 8665, '@122384': 8666, '@122388': 8667, '@122402': 8668, '@122412': 8669, '@122426': 8670, '@122452': 8671, '@122462': 8672, '@122466': 8673, '@122474': 8674, '@122476': 8675, '@122485': 8676, '@122500': 8677, '@122505': 8678, '@122516': 8679, '@122561': 8680, '@122571': 8681, '@122594': 8682, '@122600': 8683, '@122608': 8684, '@122654': 8685, '@122670': 8686, '@122679': 8687, '@122687': 8688, '@122688': 8689, '@122754': 8690, '@122781': 8691, '@122809': 8692, '@122841': 8693, '@122892': 8694, '@122904': 8695, '@122910': 8696, '@122940': 8697, '@122948': 8698, '@122957': 8699, '@122986': 8700, '@123068': 8701, '@123080': 8702, '@123083': 8703, '@123101': 8704, '@123109': 8705, '@123111': 8706, '@123121': 8707, '@123267': 8708, '@123286': 8709, '@123340': 8710, '@123356': 8711, '@123363': 8712, '@123366': 8713, '@123402': 8714, '@123437': 8715, '@123486': 8716, '@123487': 8717, '@123488': 8718, '@123570': 8719, '@123610': 8720, '@123703': 8721, '@123735': 8722, '@123742': 8723, '@123743': 8724, '@123746': 8725, '@123761': 8726, '@123785': 8727, '@123831': 8728, '@123838': 8729, '@123849': 8730, '@123872': 8731, '@123901': 8732, '@123926': 8733, '@123953': 8734, '@124030': 8735, '@124112': 8736, '@124139': 8737, '@124153': 8738, '@124204': 8739, '@124226': 8740, '@124238': 8741, '@124244': 8742, '@124252': 8743, '@124295': 8744, '@124406': 8745, '@124413': 8746, '@124432': 8747, '@124440': 8748, '@124463': 8749, '@124465': 8750, '@124480': 8751, '@124483': 8752, '@124540': 8753, '@124541': 8754, '@124542': 8755, '@124555': 8756, '@124561': 8757, '@124588': 8758, '@124606': 8759, '@124626': 8760, '@124644': 8761, '@124645': 8762, '@124653': 8763, '@124697': 8764, '@124704': 8765, '@124710': 8766, '@124742': 8767, '@124760': 8768, '@124862': 8769, '@124873': 8770, '@124883': 8771, '@124926': 8772, '@124932': 8773, '@124933': 8774, '@124987': 8775, '@124988': 8776, '@125004': 8777, '@125021': 8778, '@125047': 8779, '@125158': 8780, '@125193': 8781, '@125250': 8782, '@125281': 8783, '@125335': 8784, '@125353': 8785, '@125402': 8786, '@125436': 8787, '@125496': 8788, '@125497': 8789, '@125518': 8790, '@125535': 8791, '@125536': 8792, '@125538': 8793, '@125543': 8794, '@125551': 8795, '@125594': 8796, '@125599': 8797, '@125626': 8798, '@125627': 8799, '@125630': 8800, '@125665': 8801, '@125670': 8802, '@125689': 8803, '@125706': 8804, '@125719': 8805, '@125735': 8806, '@125744': 8807, '@125826': 8808, '@125840': 8809, '@125863': 8810, '@125883': 8811, '@125988': 8812, '@125996': 8813, '@126015': 8814, '@126038': 8815, '@126088': 8816, '@126095': 8817, '@126098': 8818, '@126129': 8819, '@126148': 8820, '@126179': 8821, '@126198': 8822, '@126273': 8823, '@126275': 8824, '@126307': 8825, '@126332': 8826, '@126359': 8827, '@126397': 8828, '@126425': 8829, '@126493': 8830, '@126494': 8831, '@126495': 8832, '@126515': 8833, '@126561': 8834, '@126569': 8835, '@126576': 8836, '@126585': 8837, '@126631': 8838, '@126632': 8839, '@126679': 8840, '@126725': 8841, '@126731': 8842, '@126757': 8843, '@126762': 8844, '@126763': 8845, '@126766': 8846, '@126790': 8847, '@126791': 8848, '@126797': 8849, '@126841': 8850, '@126842': 8851, '@126847': 8852, '@126888': 8853, '@126899': 8854, '@126902': 8855, '@126910': 8856, '@126911': 8857, '@126927': 8858, '@126981': 8859, '@127009': 8860, '@127058': 8861, '@127093': 8862, '@127095': 8863, '@127101': 8864, '@127161': 8865, '@127170': 8866, '@127172': 8867, '@127184': 8868, '@127187': 8869, '@127236': 8870, '@127257': 8871, '@127259': 8872, '@127280': 8873, '@127286': 8874, '@127329': 8875, '@127332': 8876, '@127344': 8877, '@127376': 8878, '@127378': 8879, '@127425': 8880, '@127437': 8881, '@127516': 8882, '@127542': 8883, '@127599': 8884, '@127604': 8885, '@127642': 8886, '@127655': 8887, '@127664': 8888, '@127674': 8889, '@127705': 8890, '@127721': 8891, '@127738': 8892, '@127741': 8893, '@127763': 8894, '@127769': 8895, '@127775': 8896, '@127792': 8897, '@127797': 8898, '@127825': 8899, '@127854': 8900, '@127905': 8901, '@127907': 8902, '@127908': 8903, '@127960': 8904, '@128074': 8905, '@128093': 8906, '@128101': 8907, '@128108': 8908, '@128116': 8909, '@128140': 8910, '@128149': 8911, '@128224': 8912, '@128245': 8913, '@128269': 8914, '@128281': 8915, '@128292': 8916, '@128311': 8917, '@128316': 8918, '@128406': 8919, '@128433': 8920, '@128435': 8921, '@128471': 8922, '@128493': 8923, '@128524': 8924, '@128551': 8925, '@128614': 8926, '@128633': 8927, '@128651': 8928, '@128656': 8929, '@128689': 8930, '@128718': 8931, '@128778': 8932, '@128782': 8933, '@128786': 8934, '@128787': 8935, '@128807': 8936, '@128838': 8937, '@128888': 8938, '@128893': 8939, '@128953': 8940, '@128982': 8941, '@128985': 8942, '@128989': 8943, '@129010': 8944, '@129012': 8945, '@129014': 8946, '@129034': 8947, '@129046': 8948, '@129051': 8949, '@129097': 8950, '@129134': 8951, '@129161': 8952, '@129163': 8953, '@129178': 8954, '@129183': 8955, '@129187': 8956, '@129227': 8957, '@129237': 8958, '@129244': 8959, '@129264': 8960, '@129306': 8961, '@129312': 8962, '@129351': 8963, '@129367': 8964, '@129370': 8965, '@129374': 8966, '@129393': 8967, '@129396': 8968, '@129423': 8969, '@129513': 8970, '@129536': 8971, '@129628': 8972, '@129667': 8973, '@129696': 8974, '@129717': 8975, '@129726': 8976, '@129756': 8977, '@129774': 8978, '@129868': 8979, '@129869': 8980, '@129884': 8981, '@129902': 8982, '@129935': 8983, '@129995': 8984, '@130006': 8985, '@130007': 8986, '@130010': 8987, '@130012': 8988, '@130016': 8989, '@130034': 8990, '@130101': 8991, '@130111': 8992, '@130133': 8993, '@130147': 8994, '@130203': 8995, '@130236': 8996, '@130239': 8997, '@130274': 8998, '@130292': 8999, '@130297': 9000, '@130298': 9001, '@130337': 9002, '@130371': 9003, '@130372': 9004, '@130373': 9005, '@130378': 9006, '@130379': 9007, '@130416': 9008, '@130457': 9009, '@130494': 9010, '@130512': 9011, '@130525': 9012, '@130556': 9013, '@130622': 9014, '@130632': 9015, '@130641': 9016, '@130653': 9017, '@130657': 9018, '@130674': 9019, '@130677': 9020, '@130707': 9021, '@130716': 9022, '@130732': 9023, '@130733': 9024, '@130747': 9025, '@130780': 9026, '@130785': 9027, '@130824': 9028, '@130845': 9029, '@130846': 9030, '@130865': 9031, '@130899': 9032, '@130902': 9033, '@130930': 9034, '@130940': 9035, '@130949': 9036, '@130962': 9037, '@130965': 9038, '@130969': 9039, '@130985': 9040, '@130998': 9041, '@131038': 9042, '@131041': 9043, '@131044': 9044, '@131048': 9045, '@131059': 9046, '@131066': 9047, '@131072': 9048, '@131120': 9049, '@131128': 9050, '@131139': 9051, '@131163': 9052, '@131167': 9053, '@131170': 9054, '@131198': 9055, '@131216': 9056, '@131222': 9057, '@131310': 9058, '@131360': 9059, '@131415': 9060, '@131418': 9061, '@131419': 9062, '@131433': 9063, '@131464': 9064, '@131479': 9065, '@131485': 9066, '@131519': 9067, '@131541': 9068, '@131562': 9069, '@131573': 9070, '@131619': 9071, '@131622': 9072, '@131630': 9073, '@131655': 9074, '@131656': 9075, '@131660': 9076, '@131676': 9077, '@131694': 9078, '@131705': 9079, '@131730': 9080, '@131756': 9081, '@131761': 9082, '@131765': 9083, '@131767': 9084, '@131768': 9085, '@131769': 9086, '@131772': 9087, '@131773': 9088, '@131776': 9089, '@131778': 9090, '@131819': 9091, '@131830': 9092, '@131869': 9093, '@131871': 9094, '@131888': 9095, '@131891': 9096, '@131915': 9097, '@131946': 9098, '@131971': 9099, '@131995': 9100, '@131997': 9101, '@131998': 9102, '@132028': 9103, '@132053': 9104, '@132065': 9105, '@132068': 9106, '@132078': 9107, '@132184': 9108, '@132204': 9109, '@132211': 9110, '@132217': 9111, '@132253': 9112, '@132270': 9113, '@132273': 9114, '@132278': 9115, '@132361': 9116, '@132391': 9117, '@132396': 9118, '@132399': 9119, '@132417': 9120, '@132440': 9121, '@132447': 9122, '@132451': 9123, '@132456': 9124, '@132464': 9125, '@132482': 9126, '@132491': 9127, '@132495': 9128, '@132521': 9129, '@132522': 9130, '@132547': 9131, '@132548': 9132, '@132558': 9133, '@132562': 9134, '@132582': 9135, '@132583': 9136, '@132598': 9137, '@132620': 9138, '@132638': 9139, '@132654': 9140, '@132702': 9141, '@132705': 9142, '@132713': 9143, '@132716': 9144, '@132812': 9145, '@132858': 9146, '@132923': 9147, '@132942': 9148, '@132959': 9149, '@132970': 9150, '@132981': 9151, '@132985': 9152, '@132991': 9153, '@132994': 9154, '@132996': 9155, '@133003': 9156, '@133007': 9157, '@133022': 9158, '@133024': 9159, '@133036': 9160, '@133074': 9161, '@133081': 9162, '@133131': 9163, '@133132': 9164, '@133147': 9165, '@133152': 9166, '@133187': 9167, '@133229': 9168, '@133232': 9169, '@133236': 9170, '@133237': 9171, '@133245': 9172, '@133248': 9173, '@133249': 9174, '@133251': 9175, '@133260': 9176, '@133266': 9177, '@133343': 9178, '@133358': 9179, '@133359': 9180, '@133397': 9181, '@133444': 9182, '@133447': 9183, '@133473': 9184, '@133487': 9185, '@133496': 9186, '@133497': 9187, '@133682': 9188, '@133715': 9189, '@133738': 9190, '@133774': 9191, '@133780': 9192, '@133783': 9193, '@133787': 9194, '@133871': 9195, '@133881': 9196, '@133885': 9197, '@133889': 9198, '@133890': 9199, '@133894': 9200, '@133897': 9201, '@133902': 9202, '@133953': 9203, '@133962': 9204, '@133976': 9205, '@134066': 9206, '@134099': 9207, '@134110': 9208, '@134136': 9209, '@134165': 9210, '@134167': 9211, '@134179': 9212, '@134182': 9213, '@134218': 9214, '@134224': 9215, '@134263': 9216, '@134266': 9217, '@134282': 9218, '@134323': 9219, '@134348': 9220, '@134351': 9221, '@134357': 9222, '@134358': 9223, '@134361': 9224, '@134370': 9225, '@134422': 9226, '@134434': 9227, '@134447': 9228, '@134450': 9229, '@134454': 9230, '@134484': 9231, '@134501': 9232, '@134518': 9233, '@134556': 9234, '@134573': 9235, '@134648': 9236, '@134654': 9237, '@134667': 9238, '@134737': 9239, '@134786': 9240, '@134801': 9241, '@134802': 9242, '@134804': 9243, '@134813': 9244, '@134825': 9245, '@134839': 9246, '@134840': 9247, '@134860': 9248, '@134926': 9249, '@135033': 9250, '@135094': 9251, '@135222': 9252, '@135227': 9253, '@135245': 9254, '@135254': 9255, '@135266': 9256, '@135267': 9257, '@135274': 9258, '@135287': 9259, '@135291': 9260, '@135302': 9261, '@135361': 9262, '@135367': 9263, '@135374': 9264, '@135389': 9265, '@135404': 9266, '@135442': 9267, '@135532': 9268, '@135538': 9269, '@135545': 9270, '@135581': 9271, '@135599': 9272, '@135609': 9273, '@135639': 9274, '@135656': 9275, '@135781': 9276, '@135793': 9277, '@135805': 9278, '@135808': 9279, '@135838': 9280, '@135887': 9281, '@135894': 9282, '@135965': 9283, '@14667': 9284, '@2332': 9285, '@2399': 9286, '@3541': 9287, '@3645': 9288, '@4540': 9289, '@4771': 9290, '@4772': 9291, '@626': 9292, '@696': 9293, '@80': 9294, '@AskSeagate': 9295, '@McDonalds': 9296, '@PandoraSupport': 9297, '@TwitterSupport': 9298, '@YahooCare': 9299, '@askpanera': 9300, '@o2': 9301, '@virgintrains': 9302, 'A9': 9303, 'AAB': 9304, 'ABOUT': 9305, 'ACTION': 9306, 'ADB': 9307, 'AFTER': 9308, 'AGILE': 9309, 'AMD': 9310, 'AMEX': 9311, 'ANYTHING': 9312, 'AOS': 9313, 'APP': 9314, 'AS': 9315, 'ASK': 9316, 'ATM': 9317, 'ATMs': 9318, 'AWESOME': 9319, 'AZ': 9320, 'Aadil': 9321, 'Abbot': 9322, 'Aber': 9323, 'Absolute': 9324, 'Activity': 9325, 'Added': 9326, 'Adding': 9327, 'Aditya': 9328, 'Administrator': 9329, 'Adresse': 9330, 'Advanced': 9331, 'Aftah': 9332, 'Agree': 9333, 'Ahora': 9334, 'Air': 9335, 'AirBnB': 9336, 'AirPrint': 9337, 'Airbnb': 9338, 'Airways': 9339, 'Alarm': 9340, 'Album': 9341, 'Alejandro': 9342, 'Ali': 9343, 'Ally': 9344, 'Alors': 9345, 'Amal': 9346, 'Amazing': 9347, 'Amazon.in': 9348, 'Amazonpay': 9349, 'Ambassador': 9350, 'Amber': 9351, 'AmericanAirlines': 9352, 'Ananya': 9353, 'Angel': 9354, 'Anmeldung': 9355, 'Antes': 9356, 'Anurag': 9357, 'Apart': 9358, 'Approx': 9359, 'Apps': 9360, 'Ariane': 9361, 'Arrived': 9362, 'Arriving': 9363, 'Arthur': 9364, 'Artist': 9365, 'Arun': 9366, 'AshbyDeLaZouch': 9367, 'Ashish': 9368, 'Ask': 9369, 'Assim': 9370, 'Attach': 9371, 'Aus': 9372, 'Auto': 9373, 'Await': 9374, 'Ay': 9375, 'BACK': 9376, 'BBC': 9377, 'BNA': 9378, 'BOGO': 9379, 'BOTH': 9380, 'BWI': 9381, 'Back': 9382, 'Bag': 9383, 'Bags': 9384, 'Bahamas': 9385, 'Balham': 9386, 'Bangkok': 9387, 'Bankeinzug': 9388, 'BarbPelotte': 9389, 'Barnsley': 9390, 'Battlefront': 9391, 'Bc': 9392, 'Bei': 9393, 'Belfast': 9394, 'Benish': 9395, 'Benjamin': 9396, 'Besides': 9397, 'Bharamshetty': 9398, 'Bharat': 9399, 'Bis': 9400, 'Blob': 9401, 'Blocking': 9402, 'Boa': 9403, 'Boarding': 9404, 'Bonsoir': 9405, 'Boorito': 9406, 'Booths': 9407, 'Boss': 9408, 'Bottom': 9409, 'Branch': 9410, 'Bread': 9411, 'Bridge': 9412, 'Bridgend': 9413, 'Bromley': 9414, 'Brussels': 9415, 'Bug': 9416, 'Burnley': 9417, 'Button': 9418, 'Buyers': 9419, 'Buying': 9420, 'CALL': 9421, 'CARE': 9422, 'CBL': 9423, 'CDs': 9424, 'CEP': 9425, 'CM': 9426, 'CMP': 9427, 'CNNI': 9428, 'COME': 9429, 'CREDIT': 9430, 'Cable': 9431, 'California': 9432, 'Cam': 9433, 'Canadian': 9434, 'Cancelled': 9435, 'Cannock': 9436, 'Canon': 9437, 'Canton': 9438, 'Capacity': 9439, 'Capitan': 9440, 'Cares': 9441, 'Carnforth': 9442, 'Carnilla': 9443, 'Carrier': 9444, 'Catering': 9445, 'Cell': 9446, 'Charge': 9447, 'Charged': 9448, 'Cheaters': 9449, 'Checkout': 9450, 'Chelsea': 9451, 'Cheltenham': 9452, 'Chicken': 9453, 'Chiltern': 9454, 'China': 9455, 'Chippenham': 9456, 'Chor': 9457, 'Christy': 9458, 'Clapham': 9459, 'Clare': 9460, 'Client': 9461, 'CoD': 9462, 'Cod': 9463, 'Code': 9464, 'Cold': 9465, 'Colin': 9466, 'Colleagues': 9467, 'Coming': 9468, 'Comment': 9469, 'Compensation': 9470, 'Complete': 9471, 'Compra': 9472, 'Comprei': 9473, 'Computer': 9474, 'Con': 9475, 'Concord': 9476, 'Confirm': 9477, 'Confused': 9478, 'Congratulations': 9479, 'Connector': 9480, 'Connor': 9481, 'Consider': 9482, 'Contactless': 9483, 'Contos': 9484, 'Control': 9485, 'Core': 9486, 'Cos': 9487, 'Courier': 9488, 'Coventry': 9489, 'Creator': 9490, 'Creators': 9491, 'Creo': 9492, 'Ctrl': 9493, 'Cuba': 9494, 'Curious': 9495, 'CustomerService': 9496, 'Cómo': 9497, \"D'accord\": 9498, 'DB': 9499, 'DE': 9500, 'DELIVERED': 9501, 'DELL': 9502, 'DEMAND': 9503, 'DJ': 9504, \"DM'ed\": 9505, 'DNS': 9506, 'DOB': 9507, 'DONE': 9508, 'DONT': 9509, 'DTV': 9510, 'DUMB': 9511, 'DW': 9512, 'Dallas': 9513, 'Danielle': 9514, 'Dash': 9515, 'Daumen': 9516, 'Days': 9517, 'Dead': 9518, 'Deal': 9519, 'Default': 9520, 'Deliver': 9521, 'Den': 9522, 'Departure': 9523, 'DesiReed': 9524, 'Device': 9525, 'Devices': 9526, 'Dharmesh': 9527, 'Dhiraj': 9528, 'Diciembre': 9529, 'Didcot': 9530, 'Difference': 9531, 'Different': 9532, 'Digital': 9533, 'DigitalIndia': 9534, 'Directly': 9535, 'Disappointed': 9536, 'Disappointing': 9537, 'Disconnect': 9538, 'Discover': 9539, 'Disgusting': 9540, 'Disneyland': 9541, 'Division': 9542, 'Dominic': 9543, 'Doncaster': 9544, 'Donna': 9545, 'Doreen': 9546, 'Dorking': 9547, 'Doubt': 9548, 'Doug': 9549, 'Doutor': 9550, 'Dover': 9551, 'Downloads': 9552, 'Dreadful': 9553, 'Dulles': 9554, 'Dursley': 9555, 'Duty': 9556, 'EMAIL': 9557, 'EMIs': 9558, 'ETR': 9559, 'EVERYTHING': 9560, 'EWR': 9561, 'Earlier': 9562, 'Effectivement': 9563, 'Eilish': 9564, 'Einblick': 9565, 'Ellen': 9566, 'Emily': 9567, 'Ended': 9568, 'Enforcement': 9569, 'Enna': 9570, 'Enough': 9571, 'Entonces': 9572, 'Envy': 9573, 'ErikaHoleman': 9574, 'Especially': 9575, 'Esses': 9576, 'Est': 9577, 'Estamos': 9578, 'Estimated': 9579, 'Ethel': 9580, 'Eu': 9581, 'Eve': 9582, 'Ever': 9583, 'EveryLittleHelps': 9584, 'Excel': 9585, 'Excelente': 9586, 'Expected': 9587, 'Export': 9588, 'Expressway': 9589, 'Ezio': 9590, 'FAMILY': 9591, 'FAX': 9592, 'FFS': 9593, 'FH3': 9594, 'FIR': 9595, 'FOLLOW': 9596, 'FOOD': 9597, 'FS1': 9598, 'FTTH': 9599, 'FW': 9600, 'Fareham': 9601, 'Farm': 9602, 'Farnborough': 9603, 'Fatal': 9604, 'Feb': 9605, 'Feels': 9606, 'Ficamos': 9607, 'Figure': 9608, 'File': 9609, 'Filled': 9610, 'Firmware': 9611, 'Flt': 9612, 'Flying': 9613, 'Food': 9614, 'Fortunately': 9615, 'Forwarded': 9616, 'France': 9617, 'Front': 9618, 'Fulham': 9619, 'Functions': 9620, 'Funds': 9621, 'Funktion': 9622, 'Furious': 9623, 'GANGA': 9624, 'GFT': 9625, 'GLS': 9626, 'GOT': 9627, 'GPS': 9628, 'GREGG': 9629, 'GREGGS': 9630, 'GROUND': 9631, 'GST': 9632, 'GT': 9633, 'GUAC': 9634, 'Galaxy': 9635, 'Garden': 9636, 'Gave': 9637, 'Gear': 9638, 'Geht': 9639, 'Geld': 9640, 'Gem': 9641, 'Genesee': 9642, 'Genuine': 9643, 'Giovanni': 9644, 'Glenn': 9645, 'Gods': 9646, 'Goose': 9647, 'GotYourBack': 9648, 'Graeme': 9649, 'Grafo': 9650, 'Grand': 9651, 'Greetings': 9652, 'Greg': 9653, 'Gregg': 9654, 'Guarantee': 9655, 'H': 9656, 'HAD': 9657, 'HAN': 9658, 'HCK': 9659, 'HDMI': 9660, 'HI': 9661, 'HItesh': 9662, 'HR': 9663, 'Habe': 9664, 'Hackney': 9665, 'Haji': 9666, 'Hamilton': 9667, 'Hand': 9668, 'Hang': 9669, 'Happened': 9670, 'Harlington': 9671, 'Heads': 9672, 'HelloIdea': 9673, 'Helpful': 9674, 'Her': 9675, 'HighSierra': 9676, 'Hills': 9677, 'Him': 9678, 'Hiya': 9679, 'Hm': 9680, 'Hmmmm': 9681, 'Holly': 9682, 'Hour': 9683, 'Huh': 9684, 'Hyde': 9685, \"I'ld\": 9686, 'IEFZIDVX': 9687, 'IM': 9688, 'IMMEDIATELY': 9689, 'INR': 9690, 'IOPS': 9691, 'ISSUE': 9692, 'ITS': 9693, 'IW': 9694, 'Iain': 9695, 'Iberia': 9696, 'Iceland': 9697, 'IdeaMuktBharat': 9698, 'IdeaMuktIndia': 9699, 'Ideally': 9700, 'Imei': 9701, 'Importing': 9702, 'Impossível': 9703, 'Independence': 9704, 'Indians': 9705, 'Infact': 9706, 'Information': 9707, 'Insurance': 9708, 'Internal': 9709, 'Invoice': 9710, 'Ishmael': 9711, 'Issues': 9712, 'I️t': 9713, \"J'attends\": 9714, 'JF': 9715, 'JJ': 9716, 'JM': 9717, 'JP': 9718, 'Ja': 9719, 'Jackson': 9720, 'Jacksonville': 9721, 'Jagdip': 9722, 'Jake': 9723, 'Jane': 9724, 'Janet': 9725, 'Jase': 9726, 'Jayne': 9727, 'Jedi': 9728, 'JeffBezos': 9729, 'Jeffrey': 9730, 'Jennifer': 9731, 'Jenny': 9732, 'JeromyBingham': 9733, 'Jerry': 9734, 'Jesus': 9735, 'Jk': 9736, 'JohnAnderson': 9737, 'Johns': 9738, 'Join': 9739, 'Jose': 9740, 'Juan': 9741, 'Jude': 9742, 'Jumbo': 9743, 'Jump': 9744, 'KNOW': 9745, 'Kann': 9746, 'Karl': 9747, 'Katherine': 9748, 'Kathy': 9749, 'Katreena': 9750, 'Kenyatta': 9751, 'Kerry': 9752, 'Key': 9753, 'Kezzy': 9754, 'Kia': 9755, 'Kids': 9756, 'Kim': 9757, 'Kimball': 9758, 'Kumar': 9759, 'Kunde': 9760, 'Kyle': 9761, \"L'avez\": 9762, 'L.': 9763, 'LA': 9764, 'LAS': 9765, 'LCY': 9766, 'LE': 9767, 'LE1': 9768, 'LED': 9769, 'LEGO': 9770, 'LINE': 9771, 'LRCC15': 9772, 'Lady': 9773, 'Lake': 9774, 'Lamentamos': 9775, 'Lampen': 9776, 'Laptop': 9777, 'Larry': 9778, 'Lately': 9779, 'Launch': 9780, 'Lazy': 9781, 'Leaving': 9782, 'Legal': 9783, 'Lego': 9784, 'Lew': 9785, 'Lies': 9786, 'Likewise': 9787, 'Limit': 9788, 'Lincoln': 9789, 'Linked': 9790, 'Lionel': 9791, 'Lissy': 9792, 'Lithium': 9793, 'Logic': 9794, 'Lool': 9795, 'Losing': 9796, 'Loss': 9797, 'Lothian': 9798, 'Louisiana': 9799, 'Lounge': 9800, 'Loyalty': 9801, 'Lucas': 9802, 'Luis': 9803, 'Lösung': 9804, 'MAN': 9805, 'MANY': 9806, 'MAYBE': 9807, 'MEX': 9808, 'MIA': 9809, 'MN': 9810, 'MR': 9811, 'MWR': 9812, 'MacOS': 9813, 'Macclesfield': 9814, 'Madison': 9815, 'Maharashtra': 9816, 'Malheureusement': 9817, 'Managers': 9818, 'Manda': 9819, 'Marcus': 9820, 'Mare': 9821, 'Margaret': 9822, 'Maria': 9823, 'Marie': 9824, 'Market': 9825, 'Mart': 9826, 'Mas': 9827, 'Massive': 9828, 'Max': 9829, 'Mb': 9830, 'Mbps': 9831, 'Meaning': 9832, 'Megan': 9833, 'Melissa': 9834, 'Members': 9835, 'Merry': 9836, 'MetroPCS': 9837, 'Meu': 9838, 'Mexico': 9839, 'Mic': 9840, 'Miguel': 9841, 'Milano': 9842, 'Miles': 9843, 'Mills': 9844, 'Mind': 9845, 'Minecraft': 9846, 'Mira': 9847, 'Missing': 9848, 'Mit': 9849, 'Mode': 9850, 'Mohammed': 9851, 'Mom': 9852, 'Montreal': 9853, 'Moreover': 9854, 'Morris': 9855, 'Motherboard': 9856, 'Mpesa': 9857, 'Ms': 9858, 'Mshwari': 9859, 'Muito': 9860, 'Multiplayer': 9861, 'Must': 9862, 'Música': 9863, \"N'hésitez\": 9864, 'N100': 9865, 'N1000': 9866, 'NA': 9867, 'NAS': 9868, 'NBA': 9869, 'NFC': 9870, 'NJ': 9871, 'NON': 9872, 'NRI': 9873, 'Nachbarn': 9874, 'Nacht': 9875, 'Nada': 9876, 'Nadine': 9877, 'Naraina': 9878, 'Naruto': 9879, 'Natürlich': 9880, 'Needless': 9881, 'Negative': 9882, 'Netherlands': 9883, 'Newport': 9884, 'Nexus': 9885, 'Nick': 9886, 'NickSuzuki': 9887, 'Nigel': 9888, 'Nintendo': 9889, 'Nisha': 9890, 'Noah': 9891, 'Node': 9892, 'Nokia': 9893, 'Normal': 9894, 'Noted': 9895, 'Noticed': 9896, 'Notification': 9897, 'Notifications': 9898, 'Notre': 9899, 'Nuneaton': 9900, 'ONE': 9901, 'OSX': 9902, 'Often': 9903, 'Ohh': 9904, 'Ohhh': 9905, 'Ohio': 9906, 'Oje': 9907, 'Olly': 9908, 'Om': 9909, 'Ooo': 9910, 'Option': 9911, 'Orbitz': 9912, 'Origins': 9913, 'Others': 9914, 'Ours': 9915, 'Outside': 9916, 'Overview': 9917, 'PD': 9918, 'PDX': 9919, 'PHL': 9920, 'PHONE': 9921, 'PP': 9922, 'PRODUCT': 9923, 'PURCHASE': 9924, 'Pankaj': 9925, 'Parcel': 9926, 'Parm': 9927, 'Part': 9928, 'Partner': 9929, 'Patrick': 9930, 'Pelletier': 9931, 'Performance': 9932, 'Personally': 9933, 'Peut': 9934, 'Philippines': 9935, 'Photos': 9936, 'Pic': 9937, 'Piccadilly': 9938, 'Pies': 9939, 'Pilots': 9940, 'Pixel': 9941, 'Piyush': 9942, 'Place': 9943, 'Pleas': 9944, 'Plenty': 9945, 'Podcast': 9946, 'Pode': 9947, 'Pointless': 9948, 'Police': 9949, 'Pop': 9950, 'Posting': 9951, 'Pourtant': 9952, 'PowerPoint': 9953, 'Prabu': 9954, 'Preferred': 9955, 'Prestwich': 9956, 'Prior': 9957, 'Professional': 9958, 'Progress': 9959, 'Prospect': 9960, 'Provided': 9961, 'Provider': 9962, 'Public': 9963, 'Puerto': 9964, 'Purchased': 9965, 'Purtroppo': 9966, 'PyCharm': 9967, 'Qatar': 9968, 'Question': 9969, 'Quite': 9970, 'R7S': 9971, 'RAH': 9972, 'RB': 9973, 'REAL': 9974, 'REALLY': 9975, 'RGB': 9976, 'RR': 9977, 'RT': 9978, 'RachaelTansey': 9979, 'Rachel': 9980, 'Radio': 9981, 'Railway': 9982, 'Raised': 9983, 'Rajiv': 9984, 'Random': 9985, 'Ravishankar': 9986, 'Raw': 9987, 'Real': 9988, 'Reboot': 9989, 'Rebooting': 9990, 'Recently': 9991, 'Recommend': 9992, 'Record': 9993, 'Red': 9994, 'Reddit': 9995, 'Redhill': 9996, 'Refresh': 9997, 'Refurbished': 9998, 'Related': 9999, 'Releases': 10000, 'Reliance': 10001, 'Renato': 10002, 'Repay': 10003, 'Replacement': 10004, 'Reported': 10005, 'Resolutions': 10006, 'Restarted': 10007, 'Restore': 10008, 'Restrictions': 10009, 'Retina': 10010, 'Returning': 10011, 'Review': 10012, 'Rica': 10013, 'Rico': 10014, 'Righty': 10015, 'Robyn': 10016, 'Roland': 10017, 'Ron': 10018, 'Roseville': 10019, 'Rs.847': 10020, 'Rs1000': 10021, 'Rude': 10022, 'Rugby': 10023, 'Rule': 10024, 'Run': 10025, 'Rushikesh': 10026, 'Rückmeldung': 10027, 'S.a.r': 10028, 'SAME': 10029, 'SC': 10030, 'SIN': 10031, 'SKU': 10032, 'SMC': 10033, 'SOF': 10034, 'SOLUTION': 10035, 'SOU': 10036, 'SQL': 10037, 'STATUS': 10038, 'SUCKS': 10039, 'SWA': 10040, 'Saint': 10041, 'Salford': 10042, 'Sandeep': 10043, 'Sandra': 10044, 'Sanjay': 10045, 'Santa': 10046, 'Saurabh': 10047, 'Scheduled': 10048, 'Scores': 10049, 'Search': 10050, 'Seattle': 10051, 'Segun': 10052, 'Seinfeld': 10053, 'Semrin': 10054, 'Sentimos': 10055, 'Sept': 10056, 'Seth': 10057, 'Shared': 10058, 'Shareed': 10059, 'Shocking': 10060, 'Shopping': 10061, 'Shortcut': 10062, 'Showtime': 10063, 'Sigh': 10064, 'Signals': 10065, 'Signing': 10066, 'Silence': 10067, 'Sim': 10068, 'Sin': 10069, 'Sincere': 10070, 'Singapore': 10071, 'Site': 10072, 'Skip': 10073, 'SkyMiles': 10074, 'Sleep': 10075, 'Smooth': 10076, 'Sms': 10077, 'Snake': 10078, 'Snapchat': 10079, 'Snipping': 10080, 'Soldier': 10081, 'Sonia': 10082, 'Sono': 10083, 'Sooo': 10084, 'Sophia': 10085, 'Sorrryyy': 10086, 'Sorted': 10087, 'Southampton': 10088, 'SpectrumBad': 10089, 'Spend': 10090, 'Spent': 10091, 'Spiel': 10092, 'Spoken': 10093, 'Square': 10094, 'Srinu': 10095, 'St.': 10096, 'Stand': 10097, 'Starbucks': 10098, 'Start': 10099, 'Starts': 10100, 'Step': 10101, 'Stevenage': 10102, 'Stolberg': 10103, 'Stopping': 10104, 'Storage': 10105, 'Stortford': 10106, 'Strafe': 10107, 'Stratford': 10108, 'Strom': 10109, 'Stroud': 10110, 'Stu': 10111, 'Stuff': 10112, 'Stupid': 10113, 'Submit': 10114, 'Subtitles': 10115, 'Sun': 10116, 'Sup': 10117, 'Supervisors': 10118, 'Supplier': 10119, 'Supposed': 10120, 'Supreme': 10121, 'Surprise': 10122, 'Surrey': 10123, 'Surya': 10124, 'Suryamani': 10125, 'Susan': 10126, 'Sussex': 10127, 'Swanwick': 10128, 'Swati': 10129, 'Switching': 10130, 'Sí': 10131, 'T&amp;Cs': 10132, 'T5': 10133, 'TAKE': 10134, 'TAKEN': 10135, 'TAY': 10136, 'TCL': 10137, 'TEAM': 10138, 'TESCO': 10139, 'THINK': 10140, 'TJF': 10141, 'TJH': 10142, 'TJP': 10143, 'TJW': 10144, 'TLC': 10145, 'TMobileTuesdays': 10146, 'TODAY': 10147, 'TQ': 10148, 'TRR': 10149, 'TUGO': 10150, 'Taco': 10151, 'Tag': 10152, 'Takes': 10153, 'Taking': 10154, 'TalkMore': 10155, 'Talked': 10156, 'Tam': 10157, 'También': 10158, 'TarynS': 10159, 'Task': 10160, 'Tax': 10161, 'Taxi': 10162, 'Tbh': 10163, 'Technically': 10164, 'Tecii': 10165, 'Telecom': 10166, 'Tells': 10167, 'Tenho': 10168, 'Tennessee': 10169, 'Terri': 10170, 'Tescos': 10171, 'Text': 10172, 'Texts': 10173, 'Thalyta': 10174, 'Theo': 10175, 'Thieves': 10176, 'Thurs': 10177, 'Tolgus': 10178, 'Tool': 10179, 'Toolkit': 10180, 'Track': 10181, 'Traffic': 10182, 'Transport': 10183, 'Travel': 10184, 'Travelling': 10185, 'Tree': 10186, 'Trevor': 10187, 'Trick': 10188, 'Trips': 10189, 'Troubleshooting': 10190, 'True': 10191, 'Trump': 10192, 'Truro': 10193, 'Trust': 10194, 'Tue': 10195, 'Tugo': 10196, 'Tunbridge': 10197, 'Tune': 10198, 'Tuscaloosa': 10199, 'Tweets': 10200, 'U.K.': 10201, 'U11': 10202, 'UPLOAD': 10203, 'UWP': 10204, 'UX': 10205, 'Ucheodiaka': 10206, 'Uganda': 10207, 'Ultimately': 10208, 'Um': 10209, 'Understand': 10210, 'University': 10211, 'Updating': 10212, 'Upload': 10213, 'Upper': 10214, 'Us': 10215, 'User': 10216, 'Utah': 10217, 'Utterly': 10218, 'Uxbridge': 10219, 'VA': 10220, 'VERY': 10221, 'VIA': 10222, 'VIP': 10223, 'VMs': 10224, 'VPS': 10225, 'VSCR-00106818': 10226, 'Vale': 10227, 'Vancouver': 10228, 'Varsha': 10229, 'Vendido': 10230, 'Vergangenheit': 10231, 'Verzögerung': 10232, 'Verärgerung': 10233, 'Vicki': 10234, 'Victoria': 10235, 'Vihar': 10236, 'Village': 10237, 'Visit': 10238, 'Vou': 10239, 'Vueling': 10240, 'WAITING': 10241, 'WAY': 10242, 'WC': 10243, 'WEMYUR': 10244, 'WHERE': 10245, 'WITHOUT': 10246, 'WOW': 10247, 'WT+': 10248, 'Wacom': 10249, 'Wake': 10250, 'Wal': 10251, 'Wat': 10252, 'Waze': 10253, 'Web': 10254, 'Welcome': 10255, 'Wes': 10256, 'White': 10257, 'Whole': 10258, 'Winchester': 10259, 'Wired': 10260, 'Wisconsin': 10261, 'Wonder': 10262, 'Woolwich': 10263, 'Word': 10264, 'Worked': 10265, 'Würde': 10266, 'XB1X': 10267, 'XPS': 10268, 'XboxHelp': 10269, 'Xenoblade': 10270, \"Y'ello\": 10271, 'YES': 10272, 'Yah': 10273, 'Yardley': 10274, 'Years': 10275, 'Yer': 10276, 'Yorkshire': 10277, 'Yours': 10278, 'Yum': 10279, 'Zoe': 10280, 'Zurich': 10281, '^AA': 10282, '^ADP': 10283, '^AU': 10284, '^BI': 10285, '^C': 10286, '^CC': 10287, '^CH': 10288, '^CS': 10289, '^Cecilia': 10290, '^DG': 10291, '^DP': 10292, '^DaniH': 10293, '^EB': 10294, '^ES': 10295, '^FD': 10296, '^FEM': 10297, '^FJ': 10298, '^FT': 10299, '^G': 10300, '^HA': 10301, '^HH': 10302, '^JM': 10303, '^JY': 10304, '^Jamo': 10305, '^LB': 10306, '^LF': 10307, '^LH': 10308, '^LS': 10309, '^Lindy': 10310, '^Liz': 10311, '^Lolly': 10312, '^Madison': 10313, '^N': 10314, '^Naomi': 10315, '^Nat': 10316, '^Natalie': 10317, '^OG': 10318, '^OM': 10319, '^PG': 10320, '^PW': 10321, '^QZ': 10322, '^Roopa': 10323, '^SQ': 10324, '^ST': 10325, '^SW': 10326, '^Steph': 10327, '^Susan': 10328, '^TDC': 10329, '^TT': 10330, '^VE': 10331, '^XS': 10332, '^^': 10333, '^db': 10334, '^dw': 10335, '^ig': 10336, '^ji': 10337, '^jm': 10338, '^kb': 10339, '^kl': 10340, '^nw': 10341, 'aadhar': 10342, 'aapke': 10343, 'abandon': 10344, 'abbiamo': 10345, 'abgebucht': 10346, 'absolute': 10347, 'absurd': 10348, 'acaba': 10349, 'accomplish': 10350, 'accordingly.-': 10351, 'accountability': 10352, 'accs': 10353, 'accurately': 10354, 'acessando': 10355, 'acesse': 10356, 'acknowledging': 10357, 'acredito': 10358, 'activing': 10359, 'adapter': 10360, 'administrative': 10361, 'adresse': 10362, 'adult': 10363, 'advertisement': 10364, 'advising': 10365, 'af': 10366, 'aforementioned': 10367, 'agony': 10368, 'agregar': 10369, 'ahah': 10370, 'ahorita': 10371, 'aider': 10372, 'aimé': 10373, 'airasia': 10374, 'airports': 10375, 'airtym': 10376, 'alerting': 10377, 'algo': 10378, 'alguien': 10379, 'algum': 10380, 'alguma': 10381, 'algún': 10382, 'alla': 10383, 'alongside': 10384, 'alpha': 10385, 'als': 10386, 'altered': 10387, 'altogether': 10388, 'amazon.in': 10389, 'amazone': 10390, 'ambas': 10391, 'ambitious': 10392, 'amend': 10393, 'amigo': 10394, 'amont': 10395, 'amp;not': 10396, 'anderen': 10397, 'angul': 10398, 'announcing': 10399, 'aparece': 10400, 'aparecendo': 10401, 'aparelho': 10402, 'apartmant': 10403, 'apartment': 10404, 'apologising': 10405, 'apparemment': 10406, 'apparent': 10407, 'appeler': 10408, 'appointments': 10409, 'approach': 10410, 'approaching': 10411, 'approve': 10412, 'approx': 10413, 'approximate': 10414, 'approximately': 10415, 'argos': 10416, 'arise': 10417, 'arranging': 10418, 'arrivata': 10419, 'arrow': 10420, 'articolo': 10421, 'artículo': 10422, 'ashamed': 10423, 'asia': 10424, 'assistance.^SF': 10425, 'assistant': 10426, 'assistants': 10427, 'assisted': 10428, 'assistência': 10429, 'assumption': 10430, 'assuring': 10431, 'asta': 10432, 'atención': 10433, 'atende': 10434, 'atendimento': 10435, 'atm': 10436, 'atraso': 10437, 'att': 10438, 'attend': 10439, 'attendants': 10440, 'attendu': 10441, 'até': 10442, 'audience': 10443, 'aufladen': 10444, 'aunque': 10445, 'aus': 10446, 'ausliefern': 10447, 'auswählen': 10448, 'authorised': 10449, 'avait': 10450, 'avance': 10451, 'avant': 10452, 'avenue': 10453, 'avocados': 10454, 'avoided': 10455, 'avoiding': 10456, 'avois': 10457, 'ayuda': 10458, 'ayudarte': 10459, 'aún': 10460, 'baa': 10461, 'backend': 10462, 'backpack': 10463, 'bae': 10464, 'baking': 10465, 'bal': 10466, 'bancaire': 10467, 'band': 10468, 'bandwidth': 10469, 'bans': 10470, 'banter': 10471, 'bants': 10472, 'barred': 10473, 'bars': 10474, 'baseball': 10475, 'basement': 10476, 'basics': 10477, 'battle': 10478, 'bearing': 10479, 'beers': 10480, 'behalf?^PJ': 10481, 'bekommen': 10482, 'belief': 10483, 'beside': 10484, 'bestand': 10485, 'bestellen': 10486, 'bestellt': 10487, 'billion': 10488, 'bins': 10489, 'biometric': 10490, 'bis': 10491, 'biscuit': 10492, 'bits': 10493, 'bizarre': 10494, 'bizspark': 10495, 'blamed': 10496, 'bland': 10497, 'bleed': 10498, 'bleibt': 10499, 'bless': 10500, 'blew': 10501, 'blinks': 10502, 'bloddy': 10503, 'bloqueada': 10504, 'blurry': 10505, 'bolna': 10506, 'bom': 10507, 'boo': 10508, 'boring': 10509, 'borrowed': 10510, 'boss': 10511, 'bot': 10512, 'bots': 10513, 'bouquet': 10514, 'bowls': 10515, 'boys': 10516, 'branches': 10517, 'bras': 10518, 'brauchen': 10519, 'braucht': 10520, 'bribery': 10521, 'brief': 10522, 'bro': 10523, 'broadband': 10524, 'broadcast': 10525, 'broom': 10526, 'brothers': 10527, 'brownie': 10528, 'btw': 10529, 'bu': 10530, 'bucks': 10531, 'buffer': 10532, 'buffers': 10533, 'buggy': 10534, 'bummer': 10535, 'bump': 10536, 'bundles': 10537, 'buried': 10538, 'burritos': 10539, 'buttons': 10540, 'buzon': 10541, 'bye': 10542, \"c'è\": 10543, 'caches': 10544, 'calculate': 10545, 'calculated': 10546, 'calender': 10547, 'cam': 10548, 'cancels': 10549, 'candy': 10550, 'cannect': 10551, 'cap': 10552, 'capital': 10553, 'captain': 10554, 'capítulos': 10555, 'caring': 10556, 'carpets': 10557, 'carrots': 10558, 'cars': 10559, 'carts': 10560, 'cashier': 10561, 'cast': 10562, 'catering': 10563, 'cattle': 10564, 'catégorie': 10565, 'cd': 10566, 'cease': 10567, 'celebrate': 10568, 'central': 10569, 'centres': 10570, 'centric': 10571, 'certeza': 10572, 'certificates': 10573, 'chair': 10574, 'champ': 10575, 'chatter': 10576, 'chck': 10577, 'checker': 10578, 'checkouts': 10579, 'cheek': 10580, 'cheer': 10581, 'chegar': 10582, 'chegaram': 10583, 'chest': 10584, 'chi': 10585, 'chief': 10586, 'chill': 10587, 'chilli': 10588, 'chocolate': 10589, 'choices': 10590, 'choix': 10591, 'chronic': 10592, 'chunky': 10593, 'church': 10594, 'ci': 10595, 'clarifies': 10596, 'classed': 10597, 'classes': 10598, 'cleaner': 10599, 'clicca': 10600, 'clients': 10601, 'clocks': 10602, 'club': 10603, 'clueless': 10604, 'coats': 10605, 'cobrado': 10606, 'cobro': 10607, 'coin': 10608, 'coins': 10609, 'coisa': 10610, 'collaboration': 10611, 'collègue': 10612, 'collègues': 10613, 'colore': 10614, 'colors': 10615, 'combination': 10616, 'comfort': 10617, 'comfy': 10618, 'command': 10619, 'commandé': 10620, 'comme': 10621, 'committed': 10622, 'compartir': 10623, 'compensate': 10624, 'compensating': 10625, 'compete': 10626, 'competent': 10627, 'competitors': 10628, 'compilations': 10629, 'complains': 10630, 'complent': 10631, 'complex': 10632, 'complicated': 10633, 'compose': 10634, 'compras': 10635, 'comprehension': 10636, 'compro': 10637, 'comprou': 10638, 'computers': 10639, 'concern.^SF': 10640, 'concreto': 10641, 'condescending': 10642, 'conductors': 10643, 'conf': 10644, 'configuration': 10645, 'confirmación': 10646, 'confirmar': 10647, 'confusing': 10648, 'consecutive': 10649, 'consejos': 10650, 'consent': 10651, 'consult': 10652, 'consume': 10653, 'consumerprotection': 10654, 'consumes': 10655, 'consumption': 10656, 'contactable': 10657, 'contactarnos': 10658, 'contain': 10659, 'contained': 10660, 'contaminated': 10661, 'contestar': 10662, 'contient': 10663, 'continual': 10664, 'continually': 10665, 'continuously': 10666, 'controlled': 10667, 'cooking': 10668, 'cooperating': 10669, 'cope': 10670, 'core': 10671, 'corn': 10672, 'corporation': 10673, 'correcting': 10674, 'correos': 10675, 'corresponding': 10676, 'cortana': 10677, 'costumer': 10678, 'counters': 10679, 'counting': 10680, 'countrywide': 10681, 'counts': 10682, 'cracked': 10683, 'cran': 10684, 'crappy': 10685, 'crawl': 10686, 'crawled': 10687, 'creat': 10688, 'credits': 10689, 'cried': 10690, 'crime': 10691, 'criteria': 10692, 'critical': 10693, 'crowded': 10694, 'crowding': 10695, 'cspan': 10696, 'cualquier': 10697, 'cug': 10698, 'curiosity': 10699, 'curiosos': 10700, 'cute': 10701, 'cuts': 10702, 'cuz': 10703, 'cyber': 10704, 'cycling': 10705, 'cá': 10706, 'cómo': 10707, \"d'annuler\": 10708, \"d'apprendre\": 10709, \"d'expédition\": 10710, 'dado': 10711, 'damages': 10712, 'dance': 10713, 'dangerously': 10714, 'darf': 10715, 'dart': 10716, 'datos': 10717, 'daughters': 10718, 'daylight': 10719, 'dazu': 10720, 'deaf': 10721, 'debe': 10722, 'debris': 10723, 'decepcionante': 10724, 'decipher': 10725, 'decorations': 10726, 'decs': 10727, 'deeply': 10728, 'defaults': 10729, 'defeat': 10730, 'defect': 10731, 'defective': 10732, 'defend': 10733, 'define': 10734, 'definition': 10735, 'degli': 10736, 'degree': 10737, 'deinen': 10738, 'deixar': 10739, 'dejar': 10740, 'dekh': 10741, 'delay.^Raj': 10742, 'delaying': 10743, 'delighted': 10744, 'deluxe': 10745, 'demandés': 10746, 'departamento': 10747, 'deployed': 10748, 'deploying': 10749, 'depois': 10750, 'depositing': 10751, 'deposits': 10752, 'depots': 10753, 'described': 10754, 'describing': 10755, 'descriptions': 10756, 'designed': 10757, 'designs': 10758, 'desire': 10759, 'desired': 10760, 'desisti': 10761, 'desks': 10762, 'desse': 10763, 'destinations': 10764, 'destroyed': 10765, 'detaily': 10766, 'detalle': 10767, 'detected': 10768, 'determined': 10769, 'deuxième': 10770, 'dev': 10771, 'devait': 10772, 'develop': 10773, 'developers': 10774, 'devolver': 10775, 'devs': 10776, 'dialled': 10777, 'dicen': 10778, 'did-': 10779, 'dies': 10780, 'diesbezüglich': 10781, 'diesen': 10782, 'dieser': 10783, 'diferentes': 10784, 'diff': 10785, 'difficulty': 10786, 'dig': 10787, 'diga': 10788, 'digit': 10789, 'digits': 10790, 'dijo': 10791, 'diligently': 10792, 'dining': 10793, 'dirección': 10794, 'directamente': 10795, 'directing': 10796, 'directions': 10797, 'directory': 10798, 'direkt': 10799, 'disappearing': 10800, 'disclaimer': 10801, 'discontinuing': 10802, 'discouraging': 10803, 'discretion': 10804, 'disent': 10805, 'disgrace': 10806, 'disgust': 10807, 'disponibili': 10808, 'disponible': 10809, 'dispositivos': 10810, 'disposição': 10811, 'disrespectful': 10812, 'distance': 10813, 'disturb': 10814, 'dizendo': 10815, 'dmed': 10816, 'docomo': 10817, 'dodger': 10818, 'dollar': 10819, 'domicilio': 10820, \"don't\": 10821, 'dongle': 10822, 'donot': 10823, 'doorstep': 10824, 'dorking': 10825, 'dormir': 10826, 'doubts': 10827, 'downgraded': 10828, 'downloadable': 10829, 'draft': 10830, 'drag': 10831, 'dragging': 10832, 'drawer': 10833, 'dreadful': 10834, 'dream': 10835, 'dreams': 10836, 'drives': 10837, 'drove': 10838, 'drunk': 10839, 'dukan': 10840, 'duly': 10841, 'dump': 10842, 'dumped': 10843, 'duplicated': 10844, 'duties': 10845, 'dvds': 10846, 'dying': 10847, 'délais': 10848, 'département': 10849, 'dépose': 10850, 'détails': 10851, 'dúvida': 10852, 'd’arrivée': 10853, 'eager': 10854, 'earning': 10855, 'earnings': 10856, 'ecitizen': 10857, 'edible': 10858, 'editing': 10859, 'een': 10860, 'effectively': 10861, 'effettuare': 10862, 'efficiently': 10863, 'eform': 10864, 'eigentlich': 10865, 'einer': 10866, 'ek': 10867, 'ele': 10868, 'elevate': 10869, 'embarrassment': 10870, 'emblem': 10871, 'emphasise': 10872, 'empresa': 10873, 'emptybox': 10874, 'enabling': 10875, 'encaminhado': 10876, 'encontraras': 10877, 'endereço': 10878, 'enemy': 10879, 'energy': 10880, 'engaging': 10881, 'enjoyed': 10882, 'enquire': 10883, 'enquired': 10884, 'ensuite': 10885, 'enterprise': 10886, 'entertained': 10887, 'entiendo': 10888, 'entities': 10889, 'entrado': 10890, 'enuff': 10891, 'enviar': 10892, 'envie': 10893, 'envío': 10894, 'envíos': 10895, 'epileptic': 10896, 'equally': 10897, 'erhalten': 10898, 'erstmal': 10899, 'escalating': 10900, 'esp': 10901, 'esperando': 10902, 'espero': 10903, 'essentially': 10904, 'estan': 10905, 'estoy': 10906, 'eure': 10907, 'euros': 10908, 'evenings': 10909, 'every1': 10910, 'everybody': 10911, 'everylittlehelps': 10912, 'evitar': 10913, 'exceptional': 10914, 'exchanged': 10915, 'execution': 10916, 'exemplary': 10917, 'exists': 10918, 'exp': 10919, 'expand': 10920, 'expedited': 10921, 'explains': 10922, 'explication': 10923, 'explicit': 10924, 'exporting': 10925, 'exposed': 10926, 'expressed': 10927, 'expédiée': 10928, 'expédiés': 10929, 'expérience': 10930, 'extensions': 10931, 'faces': 10932, 'faint': 10933, 'fais': 10934, 'fans': 10935, 'fastest': 10936, 'faudrait': 10937, 'faux': 10938, 'favorites': 10939, 'favour': 10940, 'faz': 10941, 'fedup': 10942, 'fellow': 10943, 'felt': 10944, 'feriado': 10945, 'fiancé': 10946, 'fibre': 10947, 'figures': 10948, 'fila': 10949, 'filtered': 10950, 'finance': 10951, 'findings': 10952, 'fingerprint': 10953, 'fios': 10954, 'firefox': 10955, 'firewall': 10956, 'firmware': 10957, 'firstly': 10958, 'fishy': 10959, 'fitting': 10960, 'flakey': 10961, 'fleet': 10962, 'flightradar': 10963, 'flooding': 10964, 'flowers': 10965, 'flyers': 10966, 'fn': 10967, 'fobbed': 10968, 'folk': 10969, 'fondos': 10970, 'fooling': 10971, 'forces': 10972, 'forgery': 10973, 'forgets': 10974, 'fortnite': 10975, 'forwards': 10976, 'foul': 10977, 'fragile': 10978, 'fraude': 10979, 'fraudsters': 10980, 'fraudulent': 10981, 'freak': 10982, 'freezers': 10983, 'frequency': 10984, 'frequently': 10985, 'friday': 10986, 'fridge': 10987, 'frig': 10988, 'fuming': 10989, 'funciona': 10990, 'functioning': 10991, 'fund': 10992, 'funktioniert': 10993, 'fur': 10994, 'futuras': 10995, 'fuzzy': 10996, 'fürs': 10997, 'gal': 10998, 'gamertag': 10999, 'gang': 11000, 'gaon': 11001, 'gap': 11002, 'gas': 11003, 'gates': 11004, 'gateway': 11005, 'gaurantied': 11006, 'gay': 11007, 'geben': 11008, 'geht': 11009, 'gen': 11010, 'gender': 11011, 'generate': 11012, 'geprüft': 11013, 'gesagt': 11014, 'gf': 11015, 'giftcard': 11016, 'gig': 11017, 'gin': 11018, 'girls': 11019, 'glass': 11020, 'glib': 11021, 'global': 11022, 'globe': 11023, 'glory': 11024, 'goals': 11025, 'gostaria': 11026, 'government': 11027, 'gow': 11028, 'gps': 11029, 'graphics': 11030, 'gratis': 11031, 'gratuitos': 11032, 'grayed': 11033, 'grazie': 11034, 'greatest': 11035, 'greed': 11036, 'greggs': 11037, 'gringo': 11038, 'grounds': 11039, 'groups': 11040, 'grumpy': 11041, 'guacamole': 11042, 'guided': 11043, 'guidelines': 11044, 'guilty': 11045, 'guitar': 11046, 'gusto': 11047, 'h': 11048, 'haan': 11049, 'hahah': 11050, 'hairs': 11051, 'hall': 11052, 'halloween': 11053, 'halogen': 11054, 'ham': 11055, 'han': 11056, 'handler': 11057, 'harass': 11058, 'haryana': 11059, 'hats': 11060, 'hd': 11061, 'headed': 11062, 'heartbroken': 11063, 'heating': 11064, 'heavily': 11065, 'height': 11066, 'hein': 11067, 'helfen': 11068, 'helpless': 11069, 'hers': 11070, 'hice': 11071, 'hiding': 11072, 'highest': 11073, 'hindi': 11074, 'hoje': 11075, 'holds': 11076, 'homemade': 11077, 'homepage': 11078, 'homes': 11079, 'honoured': 11080, 'hooked': 11081, 'hora': 11082, 'horizontal': 11083, 'horribly': 11084, 'hosting': 11085, 'hotkey': 11086, 'hotmail': 11087, 'hovered': 11088, 'hrow': 11089, 'https://t.co/00q4Sqj9zL': 11090, 'https://t.co/1JEOSVPtGN': 11091, 'https://t.co/1XyLaGkcaN': 11092, 'https://t.co/1xM0TILvAI': 11093, 'https://t.co/2Ty8CEO0Dq': 11094, 'https://t.co/38J7tFlIBF': 11095, 'https://t.co/3sF8qpf2nx': 11096, 'https://t.co/4BYUNd7mJY': 11097, 'https://t.co/55bFAK1GPl': 11098, 'https://t.co/7NVrDovSd8': 11099, 'https://t.co/8OOl8B2i69': 11100, 'https://t.co/8x1k3V3gxT': 11101, 'https://t.co/AjbWyIX8UB': 11102, 'https://t.co/BQmcNXViiI': 11103, 'https://t.co/BhIYB8fAnp': 11104, 'https://t.co/CcCeTeR9AS': 11105, 'https://t.co/CdI1SY9KZE': 11106, 'https://t.co/Et1Fu7xZtb': 11107, 'https://t.co/I87wml4tF5': 11108, 'https://t.co/IBIY3vMgPj': 11109, 'https://t.co/JzP7hlA23B.^GA': 11110, 'https://t.co/NiCy6xiXKC': 11111, 'https://t.co/OLFq3Eg2f3': 11112, 'https://t.co/OWRDHWSt4h': 11113, 'https://t.co/PQ4LSYhUTY': 11114, 'https://t.co/PbJEgtqanO': 11115, 'https://t.co/PyACxvY8Qo': 11116, 'https://t.co/QCt7kMtESE': 11117, 'https://t.co/SXpdictw1A': 11118, 'https://t.co/T6y6Xlutbs': 11119, 'https://t.co/TdDksLo6Mf': 11120, 'https://t.co/UUMNDRIFMj': 11121, 'https://t.co/Ui1yTnOCUz': 11122, 'https://t.co/X8DVSX9QgM': 11123, 'https://t.co/YB2X8iaeb7': 11124, 'https://t.co/YtcS8zMWhk': 11125, 'https://t.co/Z4gqYJG4xh': 11126, 'https://t.co/ZXV5FukGIe': 11127, 'https://t.co/bD36MjW49i': 11128, 'https://t.co/bEVlRVM6db': 11129, 'https://t.co/bKrKTfspC1': 11130, 'https://t.co/cQVomR1pWz': 11131, 'https://t.co/dGvHZWrnnA': 11132, 'https://t.co/eZHtMInQRK': 11133, 'https://t.co/ekDDHjEAcT': 11134, 'https://t.co/fYrzNInVt2': 11135, 'https://t.co/g0xjzCo1HS': 11136, 'https://t.co/hhfk9c3ylv': 11137, 'https://t.co/izQCWNdYgX': 11138, 'https://t.co/kUkXHFkYWd': 11139, 'https://t.co/lOXQyJbNJe': 11140, 'https://t.co/lUV7XYl61S': 11141, 'https://t.co/oGDklGgbCZ': 11142, 'https://t.co/ovAKPb0TYC': 11143, 'https://t.co/qMG5iBmZMN': 11144, 'https://t.co/qy3J24VGxb': 11145, 'https://t.co/rtDvYZOF32': 11146, 'https://t.co/sjqdEQXJjy': 11147, 'https://t.co/soWScqBSGm': 11148, 'https://t.co/uPQ5ChfSU4': 11149, 'https://t.co/va1VRoK7GS': 11150, 'https://t.co/xJXdj2F9rR': 11151, 'https://t.co/xXaXeeSRt9': 11152, 'https://t.co/xYDuGboEn8': 11153, 'https://t.co/ykTUEmdsQA': 11154, 'https://t.co/z8NNR56eyf': 11155, 'https://t.co/zH8UlhTGcc': 11156, 'humans': 11157, 'hurricane': 11158, 'hurry': 11159, 'hurting': 11160, 'husbands': 11161, 'iMovie': 11162, 'iT': 11163, 'iam': 11164, 'ice': 11165, 'ifo': 11166, 'ignorance': 11167, 'igual': 11168, 'illegitimate': 11169, 'illegitimately': 11170, 'imei': 11171, 'imessage': 11172, 'immigration': 11173, 'implement': 11174, 'importance': 11175, 'importante': 11176, 'impression': 11177, 'imsg': 11178, 'inability': 11179, 'inaccessible': 11180, 'inaccurate': 11181, 'inbound': 11182, 'incapable': 11183, 'incentive': 11184, 'includes': 11185, 'incompetent': 11186, 'incur': 11187, 'independiente': 11188, 'indians': 11189, 'indicarnos': 11190, 'indicating': 11191, 'indoor': 11192, 'industry': 11193, 'inept': 11194, 'infinite': 11195, 'informações': 11196, 'ing': 11197, 'inglés': 11198, 'initiating': 11199, 'initiative': 11200, 'inputting': 11201, 'inquired': 11202, 'insane': 11203, 'insect': 11204, 'insert': 11205, 'inspired': 11206, 'institution': 11207, 'integrity': 11208, 'intentional': 11209, 'intento': 11210, 'interesting': 11211, 'interim': 11212, 'intimation': 11213, 'introduced': 11214, 'introducing': 11215, 'invalid': 11216, 'inventory': 11217, 'invested': 11218, 'invitation': 11219, 'invited': 11220, 'involving': 11221, 'ios11': 11222, 'iot': 11223, 'iphone7': 11224, 'ironic': 11225, 'irritate': 11226, 'isn': 11227, 'isolated': 11228, 'itenerary': 11229, 'itunes': 11230, \"j'attends\": 11231, \"j'aurais\": 11232, \"j'avais\": 11233, \"j'en\": 11234, 'jack': 11235, 'jam': 11236, 'ji': 11237, 'jogando': 11238, 'jogo': 11239, 'johns': 11240, 'jokers': 11241, 'joking': 11242, 'josepchip': 11243, 'jumping': 11244, 'jumps': 11245, 'jusque': 11246, 'juste': 11247, 'j’étais': 11248, 'kam': 11249, 'kar': 11250, 'keen': 11251, 'ki': 11252, 'kick': 11253, 'kindness': 11254, 'kinds': 11255, 'kiosk': 11256, 'kiosks': 11257, 'klappt': 11258, 'klar': 11259, 'km': 11260, 'knowledge': 11261, 'kul': 11262, 'könnte': 11263, 'l': 11264, \"l'accaduto\": 11265, \"l'articolo\": 11266, \"l'avez\": 11267, \"l'option\": 11268, 'labeled': 11269, 'labelling': 11270, 'labels': 11271, 'lacks': 11272, 'lagging': 11273, 'landing': 11274, 'landmark': 11275, 'langsam': 11276, 'laser': 11277, 'lasting': 11278, 'laugh': 11279, 'laughed': 11280, 'laughing': 11281, 'laughter': 11282, 'lavorativo': 11283, 'laying': 11284, 'layover': 11285, 'lbs': 11286, 'leaders': 11287, 'leaf': 11288, 'league': 11289, 'legacy': 11290, 'lend': 11291, 'lending': 11292, 'leo': 11293, 'letdown': 11294, 'lettres': 11295, 'liaise': 11296, 'libro': 11297, 'lid': 11298, 'liefern': 11299, 'lifetime': 11300, 'lightning': 11301, 'lime': 11302, 'limitation': 11303, 'linda': 11304, 'linking': 11305, 'lips': 11306, 'listened': 11307, 'lists': 11308, 'livre': 11309, 'llamada': 11310, 'llamar': 11311, 'llega': 11312, 'llegaba': 11313, 'llegara': 11314, 'llegue': 11315, 'llevo': 11316, 'lmao': 11317, 'loaf': 11318, 'lobbies': 11319, 'locality': 11320, 'logical': 11321, 'logs': 11322, 'london': 11323, 'loo': 11324, 'loosing': 11325, 'loot': 11326, 'loudly': 11327, 'luxury': 11328, 'lyft': 11329, 'lá': 11330, 'l’ai': 11331, 'l’expédition': 11332, \"m'a\": 11333, \"m'avais\": 11334, \"m'avez\": 11335, 'm.pesa': 11336, 'macOS': 11337, 'macbooks': 11338, 'macht': 11339, 'magazines': 11340, 'magically': 11341, 'mailing': 11342, 'maintenant': 11343, 'maker': 11344, 'male': 11345, 'malheureusement': 11346, 'mam': 11347, 'manchen': 11348, 'manda': 11349, 'mandar': 11350, 'manned': 11351, 'mantennos': 11352, 'mardi': 11353, 'marketplace': 11354, 'masses': 11355, 'mat': 11356, 'matched': 11357, 'matches': 11358, 'matching': 11359, 'materials': 11360, 'matters': 11361, 'medium': 11362, 'melde': 11363, 'membresia': 11364, 'memories': 11365, 'menos': 11366, 'mens': 11367, 'mensajes': 11368, 'mentally': 11369, 'mentioning': 11370, 'merchandise': 11371, 'mese': 11372, 'messenger': 11373, 'messing': 11374, 'mesure': 11375, 'mgr': 11376, 'mid-2018': 11377, 'midday': 11378, 'mieux': 11379, 'migliore': 11380, 'mignon': 11381, 'migrating': 11382, 'million': 11383, 'mincepietasteoff': 11384, 'mini': 11385, 'minimized': 11386, 'minuto': 11387, 'mirar': 11388, 'mirroring': 11389, 'misbehaving': 11390, 'mishap': 11391, 'misled': 11392, 'misma': 11393, 'misses': 11394, 'mistakenly': 11395, 'misunderstood': 11396, 'mixer': 11397, 'mixes': 11398, 'mixture': 11399, 'mo': 11400, 'modern': 11401, 'modifier': 11402, 'modify': 11403, 'modo': 11404, 'mojado': 11405, 'molestias': 11406, 'molly': 11407, 'momentarily': 11408, 'moments': 11409, 'mood': 11410, 'mor': 11411, 'morrissey': 11412, 'mould': 11413, 'mountain': 11414, 'mouth': 11415, 'movement': 11416, 'mozarmy': 11417, 'mr': 11418, 'mshwari': 11419, 'muchos': 11420, 'mums': 11421, 'muss': 11422, 'mysteriously': 11423, 'mystery': 11424, 'mêmes': 11425, 'möchte': 11426, 'möglich': 11427, 'músicas': 11428, 'm’a': 11429, \"n'y\": 11430, 'nahi': 11431, 'named': 11432, 'nao': 11433, 'nationwide': 11434, 'navrée': 11435, 'necesitas': 11436, 'nehi': 11437, 'nehmen': 11438, 'nel': 11439, 'nessuno': 11440, 'neue': 11441, 'neugierig': 11442, 'nie': 11443, 'niet': 11444, 'nj': 11445, 'no.1': 11446, 'nobr': 11447, 'nook': 11448, 'northeast': 11449, 'nosey': 11450, 'notch': 11451, 'nouveau': 11452, 'nouvelle': 11453, 'noviembre': 11454, 'nuevo': 11455, 'nunber': 11456, 'nursery': 11457, 'nxt': 11458, 'né': 11459, 'nécessaire': 11460, 'número': 11461, 'oatcakes': 11462, 'oats': 11463, 'object': 11464, 'obrigada': 11465, 'obrigado': 11466, 'observe': 11467, 'obtaining': 11468, 'oddly': 11469, 'office365': 11470, 'om': 11471, 'onesie': 11472, 'oneworld': 11473, 'onion': 11474, 'ontem': 11475, 'opciones': 11476, 'ordinato': 11477, 'organisation': 11478, 'originating': 11479, 'otras': 11480, 'ourselves': 11481, 'outdated': 11482, 'outline': 11483, 'outrageous': 11484, 'overbook': 11485, 'overcharged': 11486, 'overcrowding': 11487, 'overnight': 11488, 'override': 11489, 'oxi': 11490, 'oyster': 11491, 'p.s': 11492, 'paddington': 11493, 'pagamento': 11494, 'paiement': 11495, 'painful': 11496, 'pal': 11497, 'palette': 11498, 'pals': 11499, 'parked': 11500, 'parks': 11501, 'parkway': 11502, 'participate': 11503, 'participating': 11504, 'parties': 11505, 'partners': 11506, 'passwords': 11507, 'passé': 11508, 'pathway': 11509, 'pattern': 11510, 'pause': 11511, 'payed': 11512, 'payee': 11513, 'payement': 11514, 'pedí': 11515, 'peliculas': 11516, 'pelo': 11517, 'pen': 11518, 'pensez': 11519, 'peoples': 11520, 'percent': 11521, 'performed': 11522, 'perguntar': 11523, 'peripherals': 11524, 'perpetually': 11525, 'personagem': 11526, 'pesky': 11527, 'petit': 11528, 'petty': 11529, 'ph': 11530, 'phenomenal': 11531, 'phoning': 11532, 'pics': 11533, 'ping': 11534, 'pip': 11535, 'pipe': 11536, 'pixel': 11537, 'planet': 11538, 'playlist#1': 11539, 'playlist#2': 11540, 'plea': 11541, 'pockets': 11542, 'poco': 11543, 'podcast': 11544, 'podido': 11545, 'pointed': 11546, 'pointless': 11547, 'ponerte': 11548, 'pool': 11549, 'poppies': 11550, 'popping': 11551, 'popup': 11552, 'possibilities': 11553, 'possibilité': 11554, 'postcodes': 11555, 'potentially': 11556, 'practices': 11557, 'precomp': 11558, 'preferably': 11559, 'preform': 11560, 'pregunta': 11561, 'première': 11562, 'prends': 11563, 'preordered': 11564, 'prep': 11565, 'preparing': 11566, 'presale': 11567, 'pressed': 11568, 'presto': 11569, 'presumably': 11570, 'preventing': 11571, 'prevents': 11572, 'primeiro': 11573, 'prints': 11574, 'prioritise': 11575, 'privately': 11576, 'prize': 11577, 'prizes': 11578, 'proactively': 11579, 'prob': 11580, 'probs': 11581, 'processus': 11582, 'produced': 11583, 'producing': 11584, 'production': 11585, 'productive': 11586, 'produits': 11587, 'programme': 11588, 'promote': 11589, 'promptly': 11590, 'pronto': 11591, 'proposed': 11592, 'proprio': 11593, 'pros': 11594, 'protection': 11595, 'protections': 11596, 'protector': 11597, 'proved': 11598, 'prévue': 11599, 'prüfen': 11600, 'ps3': 11601, 'publisher': 11602, 'publishing': 11603, 'puesto': 11604, 'pulled': 11605, 'pumpkin': 11606, 'pumpkins': 11607, 'punctual': 11608, 'pursue': 11609, 'pushchair': 11610, \"qu'à\": 11611, 'quantities': 11612, 'quel': 11613, 'quello': 11614, 'quem': 11615, 'quien': 11616, 'quoted': 11617, 'racist': 11618, 'railcard': 11619, 'raison': 11620, 'raisons': 11621, 'ram': 11622, 'rang': 11623, 'rank': 11624, 'rant': 11625, 'rap': 11626, 'rapidement': 11627, 'rapport': 11628, 'rates': 11629, 'rato': 11630, 'reaches': 11631, 'reaction': 11632, 'reactionary': 11633, 'realised': 11634, 'reappears': 11635, 'reasonably': 11636, 'rebooked': 11637, \"rec'd\": 11638, 'recalculate': 11639, 'recevoir': 11640, 'recibes': 11641, 'recieving': 11642, 'recivido': 11643, 'reclaim': 11644, 'recognition': 11645, 'recognize': 11646, 'recomendar': 11647, 'recontactée': 11648, 'recovered': 11649, 'recreate': 11650, 'recyclable': 11651, 'recycle': 11652, 'recycled': 11653, 'redcard': 11654, 'redeem': 11655, 'redeposited': 11656, 'redownload': 11657, 'redressal': 11658, 'redund': 11659, 'reflects': 11660, 'refusé': 11661, 'regardé': 11662, 'regions': 11663, 'regulating': 11664, 'rein': 11665, 'relationship': 11666, 'relaunching': 11667, 'reliably': 11668, 'relief': 11669, 'remainder': 11670, 'remake': 11671, 'remembered': 11672, 'rempli': 11673, 'renewed': 11674, 'renewing': 11675, 'renvoyer': 11676, 'reopening': 11677, 'reorder': 11678, 'repaired': 11679, 'repairing': 11680, 'reporte': 11681, 'reputation': 11682, 'requête': 11683, 'reroute': 11684, 'rescheduling': 11685, 'reseat': 11686, 'resending': 11687, 'resent': 11688, 'reship': 11689, 'residents': 11690, 'resolves': 11691, 'resort': 11692, 'respectful': 11693, 'responda': 11694, 'responsable': 11695, 'restarts': 11696, 'restaurants': 11697, 'restoring': 11698, 'resubmit': 11699, 'resulted': 11700, 'resulting': 11701, 'resume': 11702, 'retired': 11703, 'retrasado': 11704, 'retrasados': 11705, 'retrouve': 11706, 'reuse': 11707, 'reword': 11708, 'riders': 11709, 'riletta': 11710, 'ringfenced': 11711, 'ritardo': 11712, 'robbed': 11713, 'rocket': 11714, 'rocking': 11715, 'rottentesco': 11716, 'rough': 11717, 'rout': 11718, 'routinely': 11719, 'routing': 11720, 'rudely': 11721, 'rudeness': 11722, 'rugby': 11723, 'ruins': 11724, 'rural': 11725, 'réglé': 11726, 'répondre': 11727, 'saddened': 11728, 'safari': 11729, 'sainsburys': 11730, 'sake': 11731, 'salad': 11732, 'salt': 11733, 'sans': 11734, 'sarcastic': 11735, 'sardines': 11736, 'sarebbe': 11737, 'satellite': 11738, 'saturday': 11739, 'sausages': 11740, 'scams': 11741, 'scanners': 11742, 'scans': 11743, 'scared': 11744, 'sched': 11745, 'scheme': 11746, 'scored': 11747, 'screaming': 11748, 'screenshotted': 11749, 'sealed': 11750, 'seams': 11751, 'sec': 11752, 'secret': 11753, 'sector': 11754, 'seek': 11755, 'segnalato': 11756, 'segnalazione': 11757, 'sehr': 11758, 'seite': 11759, 'selfie': 11760, 'sells': 11761, 'semaine': 11762, 'semaines': 11763, 'semana': 11764, 'sender': 11765, 'ser': 11766, 'serait': 11767, 'seria': 11768, 'serie': 11769, 'sessions': 11770, 'sets': 11771, 'seur': 11772, 'seven': 11773, 'shameful': 11774, 'shameless': 11775, 'shift': 11776, 'ships': 11777, 'shoe': 11778, 'shortage': 11779, 'shortcuts': 11780, 'shorter': 11781, 'shots': 11782, 'shoulder': 11783, 'shuts': 11784, 'siempre': 11785, 'sig': 11786, 'signage': 11787, 'signals': 11788, 'signature': 11789, 'sin': 11790, 'sino': 11791, 'sis': 11792, 'sito': 11793, 'sizing': 11794, 'sketchy': 11795, 'skipping': 11796, 'skips': 11797, 'slice': 11798, 'slight': 11799, 'slightest': 11800, 'slim': 11801, 'slowness': 11802, 'slows': 11803, 'smaller': 11804, 'smell': 11805, 'smile': 11806, 'smoking': 11807, 'smoothly': 11808, 'snacks': 11809, 'snaps': 11810, 'snatch': 11811, 'snes': 11812, 'soft': 11813, 'soldier': 11814, 'sole': 11815, 'solely': 11816, 'solves': 11817, 'somente': 11818, 'sony': 11819, 'soo': 11820, 'soonest': 11821, 'sore': 11822, 'soreness': 11823, 'sorries': 11824, 'soucis': 11825, 'soup': 11826, 'sourced': 11827, 'sources': 11828, 'southwest': 11829, 'sowas': 11830, 'spaces': 11831, 'spare': 11832, 'spat': 11833, 'specialized': 11834, 'specified': 11835, 'specifying': 11836, 'spedizione': 11837, 'spiace': 11838, 'spicy': 11839, 'spirits': 11840, 'spoiled': 11841, 'spoilt': 11842, 'sports': 11843, 'squeeze': 11844, 'stable': 11845, 'staffs': 11846, 'stairs': 11847, 'stale': 11848, 'starving': 11849, 'stayed': 11850, 'staying': 11851, 'stays': 11852, 'stealing': 11853, 'steht': 11854, 'stew': 11855, 'stole': 11856, 'strategy': 11857, 'strawberries': 11858, 'string': 11859, 'strip': 11860, 'sua': 11861, 'subscriptions': 11862, 'subtitles': 11863, 'suggerisco': 11864, 'suited': 11865, 'suits': 11866, 'sul': 11867, 'summary': 11868, 'sunny': 11869, 'sunset': 11870, 'superb': 11871, 'superior': 11872, 'supongo': 11873, 'supplied': 11874, 'supplément': 11875, 'surfing': 11876, 'surgery': 11877, 'surly': 11878, 'surtout': 11879, 'surveys': 11880, 'suspend': 11881, 'suspense': 11882, 'svp': 11883, 'swear': 11884, 'sweetest': 11885, 'swipe': 11886, 'swiping': 11887, 'switches': 11888, 'sy': 11889, 'symbol': 11890, 'sécurité': 11891, 'sûr': 11892, 'tackle': 11893, 'tacos': 11894, 'tage': 11895, 'tags': 11896, 'tailor': 11897, 'taller': 11898, 'tan': 11899, 'tank': 11900, 'tape': 11901, 'tard': 11902, 'tariffs': 11903, 'tarjetas': 11904, 'tasteless': 11905, 'tasters': 11906, 'tava': 11907, 'taxes': 11908, 'tb': 11909, 'tbm': 11910, 'technically': 11911, 'technicians': 11912, 'techs': 11913, 'telecom': 11914, 'telephoned': 11915, 'telesales': 11916, 'temos': 11917, 'tempo': 11918, 'temps': 11919, 'tends': 11920, 'tenho': 11921, 'tenir': 11922, 'tentou': 11923, 'terminate': 11924, 'terminated': 11925, 'territorio': 11926, 'tethering': 11927, 'tf': 11928, 'tge': 11929, 'th': 11930, 'theft': 11931, 'ther': 11932, 'thief': 11933, 'thier': 11934, 'thigh': 11935, 'thoroughly': 11936, 'thr': 11937, 'thrice': 11938, 'throttle': 11939, 'thrown': 11940, 'tht': 11941, 'tick': 11942, 'tienen': 11943, 'tim': 11944, 'timelines': 11945, 'timeout': 11946, 'tin': 11947, 'tiny': 11948, 'tipo': 11949, 'titre': 11950, 'todas': 11951, 'todavía': 11952, 'toggle': 11953, 'token': 11954, 'tolls': 11955, 'tomatoes': 11956, 'tonic': 11957, 'tot': 11958, 'tough': 11959, 'tour': 11960, 'tours': 11961, 'towns': 11962, 'toy': 11963, 'toys': 11964, 'trabalho': 11965, 'trade': 11966, 'trading': 11967, 'traditional': 11968, 'traiter': 11969, 'traitée': 11970, 'transcript': 11971, 'transferring': 11972, 'transfers': 11973, 'traveler': 11974, 'traveller': 11975, 'travels': 11976, 'treatment': 11977, 'tres': 11978, 'tricky': 11979, 'trim': 11980, 'trotzdem': 11981, 'trousers': 11982, 'trouver': 11983, 'truc': 11984, 'trusting': 11985, 'truth': 11986, 'tryna': 11987, 'tues': 11988, 'tuesday': 11989, 'tuoi': 11990, 'turing': 11991, 'tus': 11992, 'tut': 11993, 'tutorial': 11994, 'tvs': 11995, 'typing': 11996, 'typo': 11997, 'ubereats': 11998, 'ultimately': 11999, 'umas': 12000, 'unanswered': 12001, 'unaware': 12002, 'unblocked': 12003, 'unboxing': 12004, 'unconnected': 12005, 'undamaged': 12006, 'undelivered': 12007, 'underlying': 12008, 'underwear': 12009, 'undo': 12010, 'unforeseen': 12011, 'uniform': 12012, 'uninformed': 12013, 'unique': 12014, 'units': 12015, 'unknown': 12016, 'unlike': 12017, 'unlucky': 12018, 'unpairing': 12019, 'unplugged': 12020, 'unplugging': 12021, 'unreserved': 12022, 'unseren': 12023, 'unstable': 12024, 'unterwegs': 12025, 'unused': 12026, 'urgente': 12027, 'usar': 12028, 'ustedes': 12029, 'utilizar': 12030, 'utter': 12031, 'vacation': 12032, 'vain': 12033, 'validated': 12034, 'validation': 12035, 'variety': 12036, 'vegans': 12037, 'ventilated': 12038, 'verbal': 12039, 'verificare': 12040, 'verifying': 12041, 'verlängern': 12042, 'vers': 12043, 'versuchen': 12044, 'veuillez': 12045, 'vezes': 12046, 'vi': 12047, 'vid': 12048, 'vida': 12049, 'vient': 12050, 'views': 12051, 'vocabulary': 12052, 'volunteers': 12053, 'voor': 12054, 'vor': 12055, 'vosotros': 12056, 'voted': 12057, 'votes': 12058, 'vou': 12059, 'voy': 12060, 'vs.': 12061, 'vuestra': 12062, 'wah': 12063, 'waive': 12064, 'waiver': 12065, 'waiving': 12066, 'wandering': 12067, 'wann': 12068, 'watchOS': 12069, 'weak': 12070, 'wear': 12071, 'wee': 12072, 'weekends': 12073, 'weiter': 12074, 'welchen': 12075, 'wen': 12076, 'werde': 12077, 'whack': 12078, 'whatnot': 12079, 'whatsapp': 12080, 'whch': 12081, 'wheels': 12082, 'wherever': 12083, 'whts': 12084, 'wild': 12085, 'wing': 12086, 'wings': 12087, 'winning': 12088, 'wiped': 12089, 'wipes': 12090, 'wire': 12091, 'wires': 12092, 'wisdom': 12093, 'wishlist': 12094, 'wit': 12095, 'witch': 12096, 'witness': 12097, 'wld': 12098, 'women': 12099, 'wondered': 12100, 'wonky': 12101, 'worden': 12102, 'wording': 12103, 'wrap': 12104, 'wrapper': 12105, 'wrinkle': 12106, 'wt': 12107, 'wth': 12108, 'xp': 12109, 'yellow': 12110, 'yield': 12111, 'you.^PJ': 12112, 'yous': 12113, 'z': 12114, 'zur': 12115, 'zurück': 12116, '~Angel': 12117, '¨Basic': 12118, '«': 12119, '¯\\\\_(ツ)_/¯': 12120, '´': 12121, 'également': 12122, 'étiquette': 12123, '̥̥̥̥̥̥̥̥ω': 12124, 'अभी': 12125, 'आईडिया': 12126, 'आदित्य': 12127, 'उटपटांग': 12128, 'ऑफिस': 12129, 'करते': 12130, 'कुछ': 12131, 'कूट': 12132, 'गई': 12133, 'गलत': 12134, 'ग्रुप': 12135, 'घुमाते': 12136, 'चार्ज': 12137, 'जब': 12138, 'जाओ': 12139, 'तरीका': 12140, 'तरीके': 12141, 'था': 12142, 'दो': 12143, 'पैसा': 12144, 'फिर': 12145, 'फोन': 12146, 'बाद': 12147, 'बिरला': 12148, 'भाई': 12149, 'मान': 12150, 'मेरे': 12151, 'रहा': 12152, 'लिए': 12153, 'लिया': 12154, 'लोगो': 12155, 'श्री': 12156, 'सच': 12157, 'साथ': 12158, 'हरामी': 12159, '।': 12160, '•American': 12161, '☝': 12162, '⚡': 12163, '✈': 12164, '⬇': 12165, 'ノートンWi': 12166, '分かりました。ご丁寧にどうもありがとうございます': 12167, '）': 12168, '�': 12169, '🎤': 12170, '🏽\\u200d': 12171, '🏾\\u200d': 12172, '🏿': 12173, '👁': 12174, '👇': 12175, '👊': 12176, '👋': 12177, '👐': 12178, '💔': 12179, '💥': 12180, '💦': 12181, '🔥': 12182, '🖕': 12183, '🗽': 12184, '😓': 12185, '😤': 12186, '😪': 12187, '😳': 12188, '🙋': 12189, '🤘': 12190, '🤥': 12191, '\\U0001f928': 12192, '🥂': 12193})\n"
          ],
          "name": "stdout"
        }
      ]
    },
    {
      "cell_type": "code",
      "metadata": {
        "id": "34W3EX58m9GK"
      },
      "source": [
        "BATCH_SIZE = 128\r\n",
        "train_iterator_fourth, valid_iterator_fourth = data.BucketIterator.splits(\r\n",
        "                                (Train_Dataset_Fourth, Valid_Dataset_Fourth), \r\n",
        "                                batch_size = BATCH_SIZE,\r\n",
        "                                sort_key = lambda x: len(x.questions_fourth),\r\n",
        "                                sort_within_batch=True ,\r\n",
        "                                device = device)"
      ],
      "execution_count": 25,
      "outputs": []
    },
    {
      "cell_type": "code",
      "metadata": {
        "colab": {
          "base_uri": "https://localhost:8080/"
        },
        "id": "LHTcU5zwnKKa",
        "outputId": "42a2ec8b-497c-4bf4-fce2-08b88b03e138"
      },
      "source": [
        "for i, batch in enumerate(train_iterator_fourth):\r\n",
        "  print(type(batch), type(batch.answers_fourth), type(batch.questions_fourth), batch.answers_fourth.shape, batch.questions_fourth.shape)\r\n",
        "  break"
      ],
      "execution_count": 26,
      "outputs": [
        {
          "output_type": "stream",
          "text": [
            "<class 'torchtext.data.batch.Batch'> <class 'torch.Tensor'> <class 'torch.Tensor'> torch.Size([128, 63]) torch.Size([128, 12])\n"
          ],
          "name": "stdout"
        }
      ]
    },
    {
      "cell_type": "markdown",
      "metadata": {
        "id": "QP5s8Vov9ejF"
      },
      "source": [
        "## Building the Seq2Seq Model\n",
        "\n",
        "### Encoder\n",
        "\n",
        "First, we'll build the encoder. Similar to the previous model, we only use a single layer GRU, however we now use a *bidirectional RNN*. With a bidirectional RNN, we have two RNNs in each layer. A *forward RNN* going over the embedded sentence from left to right (shown below in green), and a *backward RNN* going over the embedded sentence from right to left (teal). All we need to do in code is set `bidirectional = True` and then pass the embedded sentence to the RNN as before. \n",
        "\n",
        "![](https://github.com/bentrevett/pytorch-seq2seq/blob/master/assets/seq2seq8.png?raw=1)\n",
        "\n",
        "We now have:\n",
        "\n",
        "$$\\begin{align*}\n",
        "h_t^\\rightarrow &= \\text{EncoderGRU}^\\rightarrow(e(x_t^\\rightarrow),h_{t-1}^\\rightarrow)\\\\\n",
        "h_t^\\leftarrow &= \\text{EncoderGRU}^\\leftarrow(e(x_t^\\leftarrow),h_{t-1}^\\leftarrow)\n",
        "\\end{align*}$$\n",
        "\n",
        "Where $x_0^\\rightarrow = \\text{<sos>}, x_1^\\rightarrow = \\text{guten}$ and $x_0^\\leftarrow = \\text{<eos>}, x_1^\\leftarrow = \\text{morgen}$.\n",
        "\n",
        "As before, we only pass an input (`embedded`) to the RNN, which tells PyTorch to initialize both the forward and backward initial hidden states ($h_0^\\rightarrow$ and $h_0^\\leftarrow$, respectively) to a tensor of all zeros. We'll also get two context vectors, one from the forward RNN after it has seen the final word in the sentence, $z^\\rightarrow=h_T^\\rightarrow$, and one from the backward RNN after it has seen the first word in the sentence, $z^\\leftarrow=h_T^\\leftarrow$.\n",
        "\n",
        "The RNN returns `outputs` and `hidden`. \n",
        "\n",
        "`outputs` is of size **[src len, batch size, hid dim * num directions]** where the first `hid_dim` elements in the third axis are the hidden states from the top layer forward RNN, and the last `hid_dim` elements are hidden states from the top layer backward RNN. We can think of the third axis as being the forward and backward hidden states concatenated together other, i.e. $h_1 = [h_1^\\rightarrow; h_{T}^\\leftarrow]$, $h_2 = [h_2^\\rightarrow; h_{T-1}^\\leftarrow]$ and we can denote all encoder hidden states (forward and backwards concatenated together) as $H=\\{ h_1, h_2, ..., h_T\\}$.\n",
        "\n",
        "`hidden` is of size **[n layers * num directions, batch size, hid dim]**, where **[-2, :, :]** gives the top layer forward RNN hidden state after the final time-step (i.e. after it has seen the last word in the sentence) and **[-1, :, :]** gives the top layer backward RNN hidden state after the final time-step (i.e. after it has seen the first word in the sentence).\n",
        "\n",
        "As the decoder is not bidirectional, it only needs a single context vector, $z$, to use as its initial hidden state, $s_0$, and we currently have two, a forward and a backward one ($z^\\rightarrow=h_T^\\rightarrow$ and $z^\\leftarrow=h_T^\\leftarrow$, respectively). We solve this by concatenating the two context vectors together, passing them through a linear layer, $g$, and applying the $\\tanh$ activation function. \n",
        "\n",
        "$$z=\\tanh(g(h_T^\\rightarrow, h_T^\\leftarrow)) = \\tanh(g(z^\\rightarrow, z^\\leftarrow)) = s_0$$\n",
        "\n",
        "**Note**: this is actually a deviation from the paper. Instead, they feed only the first backward RNN hidden state through a linear layer to get the context vector/decoder initial hidden state. This doesn't seem to make sense to me, so we have changed it.\n",
        "\n",
        "As we want our model to look back over the whole of the source sentence we return `outputs`, the stacked forward and backward hidden states for every token in the source sentence. We also return `hidden`, which acts as our initial hidden state in the decoder."
      ]
    },
    {
      "cell_type": "code",
      "metadata": {
        "id": "Y8ovMJ3_9ejF"
      },
      "source": [
        "class Encoder(nn.Module):\n",
        "    def __init__(self, input_dim, emb_dim, enc_hid_dim, dec_hid_dim, dropout):\n",
        "        super().__init__()\n",
        "        \n",
        "        self.embedding = nn.Embedding(input_dim, emb_dim)\n",
        "        \n",
        "        self.rnn = nn.GRU(emb_dim, enc_hid_dim, bidirectional = True)\n",
        "        \n",
        "        self.fc = nn.Linear(enc_hid_dim * 2, dec_hid_dim)\n",
        "        \n",
        "        self.dropout = nn.Dropout(dropout)\n",
        "        \n",
        "    def forward(self, src):\n",
        "        \n",
        "        #src = [src len, batch size]\n",
        "        \n",
        "        embedded = self.dropout(self.embedding(src))\n",
        "        \n",
        "        #embedded = [src len, batch size, emb dim]\n",
        "        \n",
        "        outputs, hidden = self.rnn(embedded)\n",
        "                \n",
        "        #outputs = [src len, batch size, hid dim * num directions]\n",
        "        #hidden = [n layers * num directions, batch size, hid dim]\n",
        "        \n",
        "        #hidden is stacked [forward_1, backward_1, forward_2, backward_2, ...]\n",
        "        #outputs are always from the last layer\n",
        "        \n",
        "        #hidden [-2, :, : ] is the last of the forwards RNN \n",
        "        #hidden [-1, :, : ] is the last of the backwards RNN\n",
        "        \n",
        "        #initial decoder hidden is final hidden state of the forwards and backwards \n",
        "        #  encoder RNNs fed through a linear layer\n",
        "        hidden = torch.tanh(self.fc(torch.cat((hidden[-2,:,:], hidden[-1,:,:]), dim = 1)))\n",
        "        \n",
        "        #outputs = [src len, batch size, enc hid dim * 2]\n",
        "        #hidden = [batch size, dec hid dim]\n",
        "        \n",
        "        return outputs, hidden"
      ],
      "execution_count": 27,
      "outputs": []
    },
    {
      "cell_type": "markdown",
      "metadata": {
        "id": "o9WNKZ4D9ejF"
      },
      "source": [
        "### Attention\n",
        "\n",
        "Next up is the attention layer. This will take in the previous hidden state of the decoder, $s_{t-1}$, and all of the stacked forward and backward hidden states from the encoder, $H$. The layer will output an attention vector, $a_t$, that is the length of the source sentence, each element is between 0 and 1 and the entire vector sums to 1.\n",
        "\n",
        "Intuitively, this layer takes what we have decoded so far, $s_{t-1}$, and all of what we have encoded, $H$, to produce a vector, $a_t$, that represents which words in the source sentence we should pay the most attention to in order to correctly predict the next word to decode, $\\hat{y}_{t+1}$. \n",
        "\n",
        "First, we calculate the *energy* between the previous decoder hidden state and the encoder hidden states. As our encoder hidden states are a sequence of $T$ tensors, and our previous decoder hidden state is a single tensor, the first thing we do is `repeat` the previous decoder hidden state $T$ times. We then calculate the energy, $E_t$, between them by concatenating them together and passing them through a linear layer (`attn`) and a $\\tanh$ activation function. \n",
        "\n",
        "$$E_t = \\tanh(\\text{attn}(s_{t-1}, H))$$ \n",
        "\n",
        "This can be thought of as calculating how well each encoder hidden state \"matches\" the previous decoder hidden state.\n",
        "\n",
        "We currently have a **[dec hid dim, src len]** tensor for each example in the batch. We want this to be **[src len]** for each example in the batch as the attention should be over the length of the source sentence. This is achieved by multiplying the `energy` by a **[1, dec hid dim]** tensor, $v$.\n",
        "\n",
        "$$\\hat{a}_t = v E_t$$\n",
        "\n",
        "We can think of $v$ as the weights for a weighted sum of the energy across all encoder hidden states. These weights tell us how much we should attend to each token in the source sequence. The parameters of $v$ are initialized randomly, but learned with the rest of the model via backpropagation. Note how $v$ is not dependent on time, and the same $v$ is used for each time-step of the decoding. We implement $v$ as a linear layer without a bias.\n",
        "\n",
        "Finally, we ensure the attention vector fits the constraints of having all elements between 0 and 1 and the vector summing to 1 by passing it through a $\\text{softmax}$ layer.\n",
        "\n",
        "$$a_t = \\text{softmax}(\\hat{a_t})$$\n",
        "\n",
        "This gives us the attention over the source sentence!\n",
        "\n",
        "Graphically, this looks something like below. This is for calculating the very first attention vector, where $s_{t-1} = s_0 = z$. The green/teal blocks represent the hidden states from both the forward and backward RNNs, and the attention computation is all done within the pink block.\n",
        "\n",
        "![](https://github.com/bentrevett/pytorch-seq2seq/blob/master/assets/seq2seq9.png?raw=1)"
      ]
    },
    {
      "cell_type": "code",
      "metadata": {
        "id": "7yXR6Qbg9ejF"
      },
      "source": [
        "class Attention(nn.Module):\n",
        "    def __init__(self, enc_hid_dim, dec_hid_dim):\n",
        "        super().__init__()\n",
        "        \n",
        "        self.attn = nn.Linear((enc_hid_dim * 2) + dec_hid_dim, dec_hid_dim)\n",
        "        self.v = nn.Linear(dec_hid_dim, 1, bias = False)\n",
        "        \n",
        "    def forward(self, hidden, encoder_outputs):\n",
        "        \n",
        "        #hidden = [batch size, dec hid dim]\n",
        "        #encoder_outputs = [src len, batch size, enc hid dim * 2]\n",
        "        \n",
        "        batch_size = encoder_outputs.shape[1]\n",
        "        src_len = encoder_outputs.shape[0]\n",
        "        \n",
        "        #repeat decoder hidden state src_len times\n",
        "        hidden = hidden.unsqueeze(1).repeat(1, src_len, 1)\n",
        "        \n",
        "        encoder_outputs = encoder_outputs.permute(1, 0, 2)\n",
        "        \n",
        "        #hidden = [batch size, src len, dec hid dim]\n",
        "        #encoder_outputs = [batch size, src len, enc hid dim * 2]\n",
        "        \n",
        "        energy = torch.tanh(self.attn(torch.cat((hidden, encoder_outputs), dim = 2))) \n",
        "        \n",
        "        #energy = [batch size, src len, dec hid dim]\n",
        "\n",
        "        attention = self.v(energy).squeeze(2)\n",
        "        \n",
        "        #attention= [batch size, src len]\n",
        "        \n",
        "        return F.softmax(attention, dim=1)"
      ],
      "execution_count": 28,
      "outputs": []
    },
    {
      "cell_type": "markdown",
      "metadata": {
        "id": "pb-p1mhO9ejF"
      },
      "source": [
        "### Decoder\n",
        "\n",
        "Next up is the decoder. \n",
        "\n",
        "The decoder contains the attention layer, `attention`, which takes the previous hidden state, $s_{t-1}$, all of the encoder hidden states, $H$, and returns the attention vector, $a_t$.\n",
        "\n",
        "We then use this attention vector to create a weighted source vector, $w_t$, denoted by `weighted`, which is a weighted sum of the encoder hidden states, $H$, using $a_t$ as the weights.\n",
        "\n",
        "$$w_t = a_t H$$\n",
        "\n",
        "The embedded input word, $d(y_t)$, the weighted source vector, $w_t$, and the previous decoder hidden state, $s_{t-1}$, are then all passed into the decoder RNN, with $d(y_t)$ and $w_t$ being concatenated together.\n",
        "\n",
        "$$s_t = \\text{DecoderGRU}(d(y_t), w_t, s_{t-1})$$\n",
        "\n",
        "We then pass $d(y_t)$, $w_t$ and $s_t$ through the linear layer, $f$, to make a prediction of the next word in the target sentence, $\\hat{y}_{t+1}$. This is done by concatenating them all together.\n",
        "\n",
        "$$\\hat{y}_{t+1} = f(d(y_t), w_t, s_t)$$\n",
        "\n",
        "The image below shows decoding the first word in an example translation.\n",
        "\n",
        "![](https://github.com/bentrevett/pytorch-seq2seq/blob/master/assets/seq2seq10.png?raw=1)\n",
        "\n",
        "The green/teal blocks show the forward/backward encoder RNNs which output $H$, the red block shows the context vector, $z = h_T = \\tanh(g(h^\\rightarrow_T,h^\\leftarrow_T)) = \\tanh(g(z^\\rightarrow, z^\\leftarrow)) = s_0$, the blue block shows the decoder RNN which outputs $s_t$, the purple block shows the linear layer, $f$, which outputs $\\hat{y}_{t+1}$ and the orange block shows the calculation of the weighted sum over $H$ by $a_t$ and outputs $w_t$. Not shown is the calculation of $a_t$."
      ]
    },
    {
      "cell_type": "code",
      "metadata": {
        "id": "5wg3PolD9ejF"
      },
      "source": [
        "class Decoder(nn.Module):\n",
        "    def __init__(self, output_dim, emb_dim, enc_hid_dim, dec_hid_dim, dropout, attention):\n",
        "        super().__init__()\n",
        "\n",
        "        self.output_dim = output_dim\n",
        "        self.attention = attention\n",
        "        \n",
        "        self.embedding = nn.Embedding(output_dim, emb_dim)\n",
        "        \n",
        "        self.rnn = nn.GRU((enc_hid_dim * 2) + emb_dim, dec_hid_dim)\n",
        "        \n",
        "        self.fc_out = nn.Linear((enc_hid_dim * 2) + dec_hid_dim + emb_dim, output_dim)\n",
        "        \n",
        "        self.dropout = nn.Dropout(dropout)\n",
        "        \n",
        "    def forward(self, input, hidden, encoder_outputs):\n",
        "             \n",
        "        #input = [batch size]\n",
        "        #hidden = [batch size, dec hid dim]\n",
        "        #encoder_outputs = [src len, batch size, enc hid dim * 2]\n",
        "        \n",
        "        input = input.unsqueeze(0)\n",
        "        \n",
        "        #input = [1, batch size]\n",
        "        \n",
        "        embedded = self.dropout(self.embedding(input))\n",
        "        \n",
        "        #embedded = [1, batch size, emb dim]\n",
        "        \n",
        "        a = self.attention(hidden, encoder_outputs)\n",
        "                \n",
        "        #a = [batch size, src len]\n",
        "        \n",
        "        a = a.unsqueeze(1)\n",
        "        \n",
        "        #a = [batch size, 1, src len]\n",
        "        \n",
        "        encoder_outputs = encoder_outputs.permute(1, 0, 2)\n",
        "        \n",
        "        #encoder_outputs = [batch size, src len, enc hid dim * 2]\n",
        "        \n",
        "        weighted = torch.bmm(a, encoder_outputs)\n",
        "        \n",
        "        #weighted = [batch size, 1, enc hid dim * 2]\n",
        "        \n",
        "        weighted = weighted.permute(1, 0, 2)\n",
        "        \n",
        "        #weighted = [1, batch size, enc hid dim * 2]\n",
        "        \n",
        "        rnn_input = torch.cat((embedded, weighted), dim = 2)\n",
        "        \n",
        "        #rnn_input = [1, batch size, (enc hid dim * 2) + emb dim]\n",
        "            \n",
        "        output, hidden = self.rnn(rnn_input, hidden.unsqueeze(0))\n",
        "        \n",
        "        #output = [seq len, batch size, dec hid dim * n directions]\n",
        "        #hidden = [n layers * n directions, batch size, dec hid dim]\n",
        "        \n",
        "        #seq len, n layers and n directions will always be 1 in this decoder, therefore:\n",
        "        #output = [1, batch size, dec hid dim]\n",
        "        #hidden = [1, batch size, dec hid dim]\n",
        "        #this also means that output == hidden\n",
        "        assert (output == hidden).all()\n",
        "        \n",
        "        embedded = embedded.squeeze(0)\n",
        "        output = output.squeeze(0)\n",
        "        weighted = weighted.squeeze(0)\n",
        "        \n",
        "        prediction = self.fc_out(torch.cat((output, weighted, embedded), dim = 1))\n",
        "        \n",
        "        #prediction = [batch size, output dim]\n",
        "        \n",
        "        return prediction, hidden.squeeze(0)"
      ],
      "execution_count": 29,
      "outputs": []
    },
    {
      "cell_type": "markdown",
      "metadata": {
        "id": "gj7DZYQD9ejF"
      },
      "source": [
        "### Seq2Seq\n",
        "\n",
        "This is the first model where we don't have to have the encoder RNN and decoder RNN have the same hidden dimensions, however the encoder has to be bidirectional. This requirement can be removed by changing all occurences of `enc_dim * 2` to `enc_dim * 2 if encoder_is_bidirectional else enc_dim`. \n",
        "\n",
        "This seq2seq encapsulator is similar to the last two. The only difference is that the `encoder` returns both the final hidden state (which is the final hidden state from both the forward and backward encoder RNNs passed through a linear layer) to be used as the initial hidden state for the decoder, as well as every hidden state (which are the forward and backward hidden states stacked on top of each other). We also need to ensure that `hidden` and `encoder_outputs` are passed to the decoder. \n",
        "\n",
        "Briefly going over all of the steps:\n",
        "- the `outputs` tensor is created to hold all predictions, $\\hat{Y}$\n",
        "- the source sequence, $X$, is fed into the encoder to receive $z$ and $H$\n",
        "- the initial decoder hidden state is set to be the `context` vector, $s_0 = z = h_T$\n",
        "- we use a batch of `<sos>` tokens as the first `input`, $y_1$\n",
        "- we then decode within a loop:\n",
        "  - inserting the input token $y_t$, previous hidden state, $s_{t-1}$, and all encoder outputs, $H$, into the decoder\n",
        "  - receiving a prediction, $\\hat{y}_{t+1}$, and a new hidden state, $s_t$\n",
        "  - we then decide if we are going to teacher force or not, setting the next input as appropriate"
      ]
    },
    {
      "cell_type": "code",
      "metadata": {
        "id": "UEkTIixA9ejF"
      },
      "source": [
        "class Seq2Seq(nn.Module):\n",
        "    def __init__(self, encoder, decoder, device):\n",
        "        super().__init__()\n",
        "        \n",
        "        self.encoder = encoder\n",
        "        self.decoder = decoder\n",
        "        self.device = device\n",
        "        \n",
        "    def forward(self, src, trg, teacher_forcing_ratio = 0.5):\n",
        "        \n",
        "        #src = [src len, batch size]\n",
        "        #trg = [trg len, batch size]\n",
        "        #teacher_forcing_ratio is probability to use teacher forcing\n",
        "        #e.g. if teacher_forcing_ratio is 0.75 we use teacher forcing 75% of the time\n",
        "        \n",
        "        batch_size = src.shape[1]\n",
        "        trg_len = trg.shape[0]\n",
        "        trg_vocab_size = self.decoder.output_dim\n",
        "        \n",
        "        #tensor to store decoder outputs\n",
        "        outputs = torch.zeros(trg_len, batch_size, trg_vocab_size).to(self.device)\n",
        "        \n",
        "        #encoder_outputs is all hidden states of the input sequence, back and forwards\n",
        "        #hidden is the final forward and backward hidden states, passed through a linear layer\n",
        "        encoder_outputs, hidden = self.encoder(src)\n",
        "                \n",
        "        #first input to the decoder is the <sos> tokens\n",
        "        input = trg[0,:]\n",
        "        \n",
        "        for t in range(1, trg_len):\n",
        "            \n",
        "            #insert input token embedding, previous hidden state and all encoder hidden states\n",
        "            #receive output tensor (predictions) and new hidden state\n",
        "            output, hidden = self.decoder(input, hidden, encoder_outputs)\n",
        "            \n",
        "            #place predictions in a tensor holding predictions for each token\n",
        "            outputs[t] = output\n",
        "            \n",
        "            #decide if we are going to use teacher forcing or not\n",
        "            teacher_force = random.random() < teacher_forcing_ratio\n",
        "            \n",
        "            #get the highest predicted token from our predictions\n",
        "            top1 = output.argmax(1) \n",
        "            \n",
        "            #if teacher forcing, use actual next token as next input\n",
        "            #if not, use predicted token\n",
        "            input = trg[t] if teacher_force else top1\n",
        "\n",
        "        return outputs"
      ],
      "execution_count": 30,
      "outputs": []
    },
    {
      "cell_type": "markdown",
      "metadata": {
        "id": "cXyLKEkh9ejF"
      },
      "source": [
        "## Training the Seq2Seq Model\n",
        "\n",
        "The rest of this session is very similar to the previous one.\n",
        "\n",
        "We initialise our parameters, encoder, decoder and seq2seq model (placing it on the GPU if we have one). "
      ]
    },
    {
      "cell_type": "code",
      "metadata": {
        "id": "f7FRQ8UR9ejF"
      },
      "source": [
        "INPUT_DIM_4 = len(Questions_Fourth.vocab)\n",
        "OUTPUT_DIM_4 = len(Answers_Fourth.vocab)\n",
        "\n",
        "ENC_EMB_DIM = 256\n",
        "DEC_EMB_DIM = 256\n",
        "ENC_HID_DIM = 512\n",
        "DEC_HID_DIM = 512\n",
        "ENC_DROPOUT = 0.5\n",
        "DEC_DROPOUT = 0.5\n",
        "\n",
        "attn = Attention(ENC_HID_DIM, DEC_HID_DIM)\n",
        "enc4 = Encoder(INPUT_DIM_4, ENC_EMB_DIM, ENC_HID_DIM, DEC_HID_DIM, ENC_DROPOUT)\n",
        "dec4 = Decoder(OUTPUT_DIM_4, DEC_EMB_DIM, ENC_HID_DIM, DEC_HID_DIM, DEC_DROPOUT, attn)\n",
        "\n",
        "model4 = Seq2Seq(enc4, dec4, device).to(device)"
      ],
      "execution_count": 31,
      "outputs": []
    },
    {
      "cell_type": "markdown",
      "metadata": {
        "id": "Ux1sNqPk9ejF"
      },
      "source": [
        "We use a simplified version of the weight initialization scheme used in the paper. Here, we will initialize all biases to zero and all weights from $\\mathcal{N}(0, 0.01)$."
      ]
    },
    {
      "cell_type": "code",
      "metadata": {
        "id": "YXaq2o559ejF"
      },
      "source": [
        "def init_weights(m):\n",
        "    for name, param in m.named_parameters():\n",
        "        if 'weight' in name:\n",
        "            nn.init.normal_(param.data, mean=0, std=0.01)\n",
        "        else:\n",
        "            nn.init.constant_(param.data, 0)\n",
        "            "
      ],
      "execution_count": 32,
      "outputs": []
    },
    {
      "cell_type": "code",
      "metadata": {
        "colab": {
          "base_uri": "https://localhost:8080/"
        },
        "id": "MJXko7BGqi9V",
        "outputId": "18263430-03e1-4013-a88b-1c14275c9186"
      },
      "source": [
        "model4.apply(init_weights)"
      ],
      "execution_count": 33,
      "outputs": [
        {
          "output_type": "execute_result",
          "data": {
            "text/plain": [
              "Seq2Seq(\n",
              "  (encoder): Encoder(\n",
              "    (embedding): Embedding(12896, 256)\n",
              "    (rnn): GRU(256, 512, bidirectional=True)\n",
              "    (fc): Linear(in_features=1024, out_features=512, bias=True)\n",
              "    (dropout): Dropout(p=0.5, inplace=False)\n",
              "  )\n",
              "  (decoder): Decoder(\n",
              "    (attention): Attention(\n",
              "      (attn): Linear(in_features=1536, out_features=512, bias=True)\n",
              "      (v): Linear(in_features=512, out_features=1, bias=False)\n",
              "    )\n",
              "    (embedding): Embedding(12194, 256)\n",
              "    (rnn): GRU(1280, 512)\n",
              "    (fc_out): Linear(in_features=1792, out_features=12194, bias=True)\n",
              "    (dropout): Dropout(p=0.5, inplace=False)\n",
              "  )\n",
              ")"
            ]
          },
          "metadata": {
            "tags": []
          },
          "execution_count": 33
        }
      ]
    },
    {
      "cell_type": "markdown",
      "metadata": {
        "id": "ij9nRbgx9ejH"
      },
      "source": [
        "Calculate the number of parameters. We get an increase of almost 50% in the amount of parameters from the last model. "
      ]
    },
    {
      "cell_type": "code",
      "metadata": {
        "id": "2oAsDCtJ9ejH",
        "colab": {
          "base_uri": "https://localhost:8080/"
        },
        "outputId": "db0d04fa-3c5d-4a49-cf29-80f24357d612"
      },
      "source": [
        "def count_parameters(model):\n",
        "    return sum(p.numel() for p in model.parameters() if p.requires_grad)\n",
        "\n",
        "print(f'The fourth model has {count_parameters(model4):,} trainable parameters')"
      ],
      "execution_count": 34,
      "outputs": [
        {
          "output_type": "stream",
          "text": [
            "The fourth model has 34,720,162 trainable parameters\n"
          ],
          "name": "stdout"
        }
      ]
    },
    {
      "cell_type": "markdown",
      "metadata": {
        "id": "h-C9PF1d9ejH"
      },
      "source": [
        "We create an optimizer."
      ]
    },
    {
      "cell_type": "code",
      "metadata": {
        "id": "ox4JAgEE9ejH"
      },
      "source": [
        "optimizer4 = optim.Adam(model4.parameters())"
      ],
      "execution_count": 35,
      "outputs": []
    },
    {
      "cell_type": "markdown",
      "metadata": {
        "id": "A5FzwRlz9ejH"
      },
      "source": [
        "We initialize the loss function."
      ]
    },
    {
      "cell_type": "code",
      "metadata": {
        "id": "0iAv-6As9ejH"
      },
      "source": [
        "TRG_PAD_IDX4 = Answers_Fourth.vocab.stoi[Answers_Fourth.pad_token]\n",
        "\n",
        "criterion4 = nn.CrossEntropyLoss(ignore_index = TRG_PAD_IDX4)"
      ],
      "execution_count": 36,
      "outputs": []
    },
    {
      "cell_type": "markdown",
      "metadata": {
        "id": "-bzv6baC9ejH"
      },
      "source": [
        "We then create the training loop..."
      ]
    },
    {
      "cell_type": "code",
      "metadata": {
        "id": "bYPFqH6a9ejH"
      },
      "source": [
        "def train(model, iterator, optimizer, criterion, clip):\n",
        "    \n",
        "    model.train()\n",
        "    \n",
        "    epoch_loss = 0\n",
        "    \n",
        "    for i, batch in enumerate(iterator):\n",
        "\n",
        "        src = batch.questions_fourth\n",
        "        trg = batch.answers_fourth\n",
        "\n",
        "        src = src.permute(1, 0)\n",
        "        trg = trg.permute(1, 0)\n",
        "        optimizer.zero_grad()\n",
        "        \n",
        "        output = model(src, trg)\n",
        "\n",
        "        #print(\"trg- \", trg.shape)\n",
        "        #print(\"output- \", output.shape)\n",
        "                \n",
        "        #trg = [trg len, batch size]                                 \n",
        "        #output = [trg len, batch size, output dim]               \n",
        "\n",
        "        output_dim = output.shape[-1]\n",
        "        \n",
        "        output = output[1:].view(-1, output_dim)\n",
        "        #print(\"output-\", output.shape)\n",
        "        trg = trg[1:]\n",
        "        trg = torch.reshape(trg, (-1,)) #trg[1:].view(-1)\n",
        "        #print(\"trg-\", trg.shape)\n",
        "        \n",
        "        #trg = [(trg len - 1) * batch size]                            \n",
        "        #output = [(trg len - 1) * batch size, output dim]              \n",
        "                        \n",
        "        loss = criterion(output, trg)\n",
        "        \n",
        "        loss.backward()\n",
        "        \n",
        "        torch.nn.utils.clip_grad_norm_(model.parameters(), clip)\n",
        "        \n",
        "        optimizer.step()\n",
        "        \n",
        "        epoch_loss += loss.item()\n",
        "        \n",
        "    return epoch_loss / len(iterator)"
      ],
      "execution_count": 37,
      "outputs": []
    },
    {
      "cell_type": "markdown",
      "metadata": {
        "id": "sNawOMJD9ejH"
      },
      "source": [
        "...and the evaluation loop, remembering to set the model to `eval` mode and turn off teaching forcing."
      ]
    },
    {
      "cell_type": "code",
      "metadata": {
        "id": "AQotLtCi9ejH"
      },
      "source": [
        "def evaluate(model, iterator, criterion):\n",
        "    \n",
        "    model.eval()\n",
        "    \n",
        "    epoch_loss = 0\n",
        "    \n",
        "    with torch.no_grad():\n",
        "    \n",
        "        for i, batch in enumerate(iterator):\n",
        "\n",
        "            src = batch.questions_fourth\n",
        "            trg = batch.answers_fourth\n",
        "\n",
        "            src = src.permute(1, 0)\n",
        "            trg = trg.permute(1, 0)\n",
        "            output = model(src, trg, 0) #turn off teacher forcing\n",
        "\n",
        "            #trg = [trg len, batch size]\n",
        "            #output = [trg len, batch size, output dim]\n",
        "\n",
        "            output_dim = output.shape[-1]\n",
        "            \n",
        "            output = output[1:].view(-1, output_dim)\n",
        "            trg = trg[1:]#.view(-1)\n",
        "            trg = torch.reshape(trg, (-1,))\n",
        "\n",
        "            #trg = [(trg len - 1) * batch size]\n",
        "            #output = [(trg len - 1) * batch size, output dim]\n",
        "\n",
        "            loss = criterion(output, trg)\n",
        "\n",
        "            epoch_loss += loss.item()\n",
        "        \n",
        "    return epoch_loss / len(iterator)"
      ],
      "execution_count": 38,
      "outputs": []
    },
    {
      "cell_type": "markdown",
      "metadata": {
        "id": "4_TUjr1O9ejH"
      },
      "source": [
        "Finally, define a timing function."
      ]
    },
    {
      "cell_type": "code",
      "metadata": {
        "id": "_UMyHEYS9ejH"
      },
      "source": [
        "def epoch_time(start_time, end_time):\n",
        "    elapsed_time = end_time - start_time\n",
        "    elapsed_mins = int(elapsed_time / 60)\n",
        "    elapsed_secs = int(elapsed_time - (elapsed_mins * 60))\n",
        "    return elapsed_mins, elapsed_secs"
      ],
      "execution_count": 39,
      "outputs": []
    },
    {
      "cell_type": "markdown",
      "metadata": {
        "id": "wYKIfYvY9ejH"
      },
      "source": [
        "Then, we train our model, saving the parameters that give us the best validation loss."
      ]
    },
    {
      "cell_type": "code",
      "metadata": {
        "id": "V2-2b9-W9ejH",
        "colab": {
          "base_uri": "https://localhost:8080/"
        },
        "outputId": "3a1aab3e-846b-421a-f08b-a2694e45899c"
      },
      "source": [
        "N_EPOCHS = 10\n",
        "CLIP = 1\n",
        "\n",
        "best_valid_loss = float('inf')\n",
        "print(\"Model-4\")\n",
        "for epoch in range(N_EPOCHS):\n",
        "    \n",
        "    start_time = time.time()\n",
        "    \n",
        "    train_loss = train(model4, train_iterator_fourth, optimizer4, criterion4, CLIP)\n",
        "    valid_loss = evaluate(model4, valid_iterator_fourth, criterion4)\n",
        "    \n",
        "    end_time = time.time()\n",
        "    \n",
        "    epoch_mins, epoch_secs = epoch_time(start_time, end_time)\n",
        "    \n",
        "    if valid_loss < best_valid_loss:\n",
        "        best_valid_loss = valid_loss\n",
        "        torch.save(model4.state_dict(), 'tut3-model4.pt')\n",
        "    \n",
        "    print(f'Epoch: {epoch+1:02} | Time: {epoch_mins}m {epoch_secs}s')\n",
        "    print(f'\\tTrain Loss: {train_loss:.3f} | Train PPL: {math.exp(train_loss):7.3f}')\n",
        "    print(f'\\t Val. Loss: {valid_loss:.3f} |  Val. PPL: {math.exp(valid_loss):7.3f}')"
      ],
      "execution_count": 41,
      "outputs": [
        {
          "output_type": "stream",
          "text": [
            "Model-4\n",
            "Epoch: 01 | Time: 2m 42s\n",
            "\tTrain Loss: 6.071 | Train PPL: 433.157\n",
            "\t Val. Loss: 6.216 |  Val. PPL: 500.775\n",
            "Epoch: 02 | Time: 2m 41s\n",
            "\tTrain Loss: 5.785 | Train PPL: 325.243\n",
            "\t Val. Loss: 6.164 |  Val. PPL: 475.315\n",
            "Epoch: 03 | Time: 2m 41s\n",
            "\tTrain Loss: 5.572 | Train PPL: 262.941\n",
            "\t Val. Loss: 6.081 |  Val. PPL: 437.613\n",
            "Epoch: 04 | Time: 2m 41s\n",
            "\tTrain Loss: 5.416 | Train PPL: 225.066\n",
            "\t Val. Loss: 6.093 |  Val. PPL: 442.626\n",
            "Epoch: 05 | Time: 2m 41s\n",
            "\tTrain Loss: 5.241 | Train PPL: 188.919\n",
            "\t Val. Loss: 6.143 |  Val. PPL: 465.616\n",
            "Epoch: 06 | Time: 2m 41s\n",
            "\tTrain Loss: 5.066 | Train PPL: 158.480\n",
            "\t Val. Loss: 6.158 |  Val. PPL: 472.347\n",
            "Epoch: 07 | Time: 2m 41s\n",
            "\tTrain Loss: 4.961 | Train PPL: 142.695\n",
            "\t Val. Loss: 6.166 |  Val. PPL: 476.162\n",
            "Epoch: 08 | Time: 2m 42s\n",
            "\tTrain Loss: 4.791 | Train PPL: 120.397\n",
            "\t Val. Loss: 6.232 |  Val. PPL: 508.847\n",
            "Epoch: 09 | Time: 2m 41s\n",
            "\tTrain Loss: 4.670 | Train PPL: 106.737\n",
            "\t Val. Loss: 6.273 |  Val. PPL: 530.219\n",
            "Epoch: 10 | Time: 2m 40s\n",
            "\tTrain Loss: 4.530 | Train PPL:  92.715\n",
            "\t Val. Loss: 6.331 |  Val. PPL: 561.761\n"
          ],
          "name": "stdout"
        }
      ]
    },
    {
      "cell_type": "markdown",
      "metadata": {
        "id": "zJm2KZKW9ejI"
      },
      "source": [
        "Finally, we test the model on the test set using these \"best\" parameters."
      ]
    },
    {
      "cell_type": "code",
      "metadata": {
        "id": "0ZlTvUHI9ejI"
      },
      "source": [
        "#model2.load_state_dict(torch.load('tut3-model2.pt'))\n",
        "#test_loss = evaluate(model2, test_iterator_second, criterion2, 2)\n",
        "#print(f'| Test Loss: {test_loss:.3f} | Test PPL: {math.exp(test_loss):7.3f} |')"
      ],
      "execution_count": null,
      "outputs": []
    },
    {
      "cell_type": "markdown",
      "metadata": {
        "id": "seTMu4Mj9ejK"
      },
      "source": [
        "We've improved on the previous model, but this came at the cost of doubling the training time.\n",
        "\n",
        "Next, we'll be using the same architecture but using a few tricks that are applicable to all RNN architectures - packed padded sequences and masking. We'll also implement code which will allow us to look at what words in the input the RNN is paying attention to when decoding the output. Check this [Notebook](https://colab.research.google.com/github/bentrevett/pytorch-seq2seq/blob/master/4%20-%20Packed%20Padded%20Sequences%2C%20Masking%2C%20Inference%20and%20BLEU.ipynb) "
      ]
    }
  ]
}