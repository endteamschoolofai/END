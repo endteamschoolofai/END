{
  "nbformat": 4,
  "nbformat_minor": 0,
  "metadata": {
    "colab": {
      "name": "Assignment 9 - Learning Phrase Representations using RNN Encoder-Decoder for Statistical Machine Translation dataset 3.ipynb",
      "provenance": [],
      "collapsed_sections": [],
      "include_colab_link": true
    },
    "kernelspec": {
      "display_name": "Python 3",
      "language": "python",
      "name": "python3"
    },
    "language_info": {
      "codemirror_mode": {
        "name": "ipython",
        "version": 3
      },
      "file_extension": ".py",
      "mimetype": "text/x-python",
      "name": "python",
      "nbconvert_exporter": "python",
      "pygments_lexer": "ipython3",
      "version": "3.8.2"
    }
  },
  "cells": [
    {
      "cell_type": "markdown",
      "metadata": {
        "id": "view-in-github",
        "colab_type": "text"
      },
      "source": [
        "<a href=\"https://colab.research.google.com/github/endteamschoolofai/END/blob/main/Session9/Assignment_9_Learning_Phrase_Representations_using_RNN_Encoder_Decoder_for_Statistical_Machine_Translation_dataset_3.ipynb\" target=\"_parent\"><img src=\"https://colab.research.google.com/assets/colab-badge.svg\" alt=\"Open In Colab\"/></a>"
      ]
    },
    {
      "cell_type": "markdown",
      "metadata": {
        "id": "EzxOJwN7EzFO"
      },
      "source": [
        "# 2 - Learning Phrase Representations using RNN Encoder-Decoder for Statistical Machine Translation\n",
        "\n",
        "In this second notebook on sequence-to-sequence models using PyTorch and TorchText, we'll be implementing the model from [Learning Phrase Representations using RNN Encoder-Decoder for Statistical Machine Translation](https://arxiv.org/abs/1406.1078). This model will achieve improved test perplexity whilst only using a single layer RNN in both the encoder and the decoder.\n",
        "\n",
        "## Introduction\n",
        "\n",
        "Let's remind ourselves of the general encoder-decoder model.\n",
        "\n",
        "![](https://github.com/bentrevett/pytorch-seq2seq/blob/master/assets/seq2seq1.png?raw=1)\n",
        "\n",
        "We use our encoder (green) over the embedded source sequence (yellow) to create a context vector (red). We then use that context vector with the decoder (blue) and a linear layer (purple) to generate the target sentence.\n",
        "\n",
        "In the previous model, we used an multi-layered LSTM as the encoder and decoder.\n",
        "\n",
        "![](https://github.com/bentrevett/pytorch-seq2seq/blob/master/assets/seq2seq4.png?raw=1)\n",
        "\n",
        "One downside of the previous model is that the decoder is trying to cram lots of information into the hidden states. Whilst decoding, the hidden state will need to contain information about the whole of the source sequence, as well as all of the tokens have been decoded so far. By alleviating some of this information compression, we can create a better model!\n",
        "\n",
        "We'll also be using a GRU (Gated Recurrent Unit) instead of an LSTM (Long Short-Term Memory). Why? Mainly because that's what they did in the paper (this paper also introduced GRUs) and also because we used LSTMs last time. To understand how GRUs (and LSTMs) differ from standard RNNS, check out [this](https://colah.github.io/posts/2015-08-Understanding-LSTMs/) link. Is a GRU better than an LSTM? [Research](https://arxiv.org/abs/1412.3555) has shown they're pretty much the same, and both are better than standard RNNs. \n",
        "\n",
        "## Preparing Data\n",
        "\n",
        "All of the data preparation will be (almost) the same as last time, so we'll very briefly detail what each code block does. See the previous notebook for a recap.\n",
        "\n",
        "We'll import PyTorch, TorchText, spaCy and a few standard modules."
      ]
    },
    {
      "cell_type": "code",
      "metadata": {
        "id": "uUnMLdevEzFT"
      },
      "source": [
        "import torch\n",
        "import torch.nn as nn\n",
        "import torch.optim as optim\n",
        "\n",
        "from torchtext.datasets import Multi30k\n",
        "from torchtext import data \n",
        "from torchtext.data import Field, BucketIterator\n",
        "\n",
        "import spacy\n",
        "import numpy as np\n",
        "\n",
        "import random\n",
        "import math\n",
        "import time\n",
        "import pandas as pd"
      ],
      "execution_count": 1,
      "outputs": []
    },
    {
      "cell_type": "markdown",
      "metadata": {
        "id": "srzErHAsEzFU"
      },
      "source": [
        "Then set a random seed for deterministic results/reproducability."
      ]
    },
    {
      "cell_type": "code",
      "metadata": {
        "id": "r_wP4J4LEzFX"
      },
      "source": [
        "SEED = 1234\n",
        "\n",
        "random.seed(SEED)\n",
        "np.random.seed(SEED)\n",
        "torch.manual_seed(SEED)\n",
        "torch.cuda.manual_seed(SEED)\n",
        "torch.backends.cudnn.deterministic = True"
      ],
      "execution_count": 2,
      "outputs": []
    },
    {
      "cell_type": "code",
      "metadata": {
        "id": "f4davOyYEzFd"
      },
      "source": [
        "device = torch.device('cuda' if torch.cuda.is_available() else 'cpu')"
      ],
      "execution_count": 3,
      "outputs": []
    },
    {
      "cell_type": "markdown",
      "metadata": {
        "id": "q4w-kFcNFZJz"
      },
      "source": [
        "# Dataset 3 - AmbigQA"
      ]
    },
    {
      "cell_type": "code",
      "metadata": {
        "colab": {
          "base_uri": "https://localhost:8080/"
        },
        "id": "W8enB3cfFYqi",
        "outputId": "e5414ae9-663f-4cef-886a-b117c5c78630"
      },
      "source": [
        "!wget https://nlp.cs.washington.edu/ambigqa/data/ambignq.zip \r\n",
        "!unzip ambignq.zip"
      ],
      "execution_count": 4,
      "outputs": [
        {
          "output_type": "stream",
          "text": [
            "--2021-01-09 14:37:26--  https://nlp.cs.washington.edu/ambigqa/data/ambignq.zip\n",
            "Resolving nlp.cs.washington.edu (nlp.cs.washington.edu)... 128.208.3.120, 2607:4000:200:12::78\n",
            "Connecting to nlp.cs.washington.edu (nlp.cs.washington.edu)|128.208.3.120|:443... connected.\n",
            "HTTP request sent, awaiting response... 200 OK\n",
            "Length: 18639517 (18M) [application/zip]\n",
            "Saving to: ‘ambignq.zip’\n",
            "\n",
            "ambignq.zip         100%[===================>]  17.78M  11.5MB/s    in 1.5s    \n",
            "\n",
            "2021-01-09 14:37:28 (11.5 MB/s) - ‘ambignq.zip’ saved [18639517/18639517]\n",
            "\n",
            "Archive:  ambignq.zip\n",
            "  inflating: LICENSE                 \n",
            "  inflating: train.json              \n",
            "  inflating: dev.json                \n"
          ],
          "name": "stdout"
        }
      ]
    },
    {
      "cell_type": "code",
      "metadata": {
        "id": "ehXKpdwsF5YT"
      },
      "source": [
        "train_df_third = pd.read_json('train.json')\r\n",
        "test_df_third = pd.read_json('dev.json')"
      ],
      "execution_count": 5,
      "outputs": []
    },
    {
      "cell_type": "code",
      "metadata": {
        "colab": {
          "base_uri": "https://localhost:8080/",
          "height": 323
        },
        "id": "ceQ0p_CgF_Tu",
        "outputId": "f0799ff9-d0ff-43b4-f8cb-205fdeb955fa"
      },
      "source": [
        "train_df_third.head()"
      ],
      "execution_count": 6,
      "outputs": [
        {
          "output_type": "execute_result",
          "data": {
            "text/html": [
              "<div>\n",
              "<style scoped>\n",
              "    .dataframe tbody tr th:only-of-type {\n",
              "        vertical-align: middle;\n",
              "    }\n",
              "\n",
              "    .dataframe tbody tr th {\n",
              "        vertical-align: top;\n",
              "    }\n",
              "\n",
              "    .dataframe thead th {\n",
              "        text-align: right;\n",
              "    }\n",
              "</style>\n",
              "<table border=\"1\" class=\"dataframe\">\n",
              "  <thead>\n",
              "    <tr style=\"text-align: right;\">\n",
              "      <th></th>\n",
              "      <th>viewed_doc_titles</th>\n",
              "      <th>used_queries</th>\n",
              "      <th>annotations</th>\n",
              "      <th>nq_answer</th>\n",
              "      <th>id</th>\n",
              "      <th>nq_doc_title</th>\n",
              "      <th>question</th>\n",
              "    </tr>\n",
              "  </thead>\n",
              "  <tbody>\n",
              "    <tr>\n",
              "      <th>0</th>\n",
              "      <td>[The Simpsons]</td>\n",
              "      <td>[{'query': 'When did the simpsons first air on...</td>\n",
              "      <td>[{'type': 'multipleQAs', 'qaPairs': [{'questio...</td>\n",
              "      <td>[December 17 , 1989]</td>\n",
              "      <td>-4469503464110108160</td>\n",
              "      <td>The Simpsons</td>\n",
              "      <td>When did the simpsons first air on television?</td>\n",
              "    </tr>\n",
              "    <tr>\n",
              "      <th>1</th>\n",
              "      <td>[John Adams (miniseries)]</td>\n",
              "      <td>[{'query': 'John adams tv', 'results': [{'titl...</td>\n",
              "      <td>[{'type': 'singleAnswer', 'answer': ['David Mo...</td>\n",
              "      <td>[David Morse]</td>\n",
              "      <td>4790842463458965504</td>\n",
              "      <td>John Adams (miniseries)</td>\n",
              "      <td>Who played george washington in the john adams...</td>\n",
              "    </tr>\n",
              "    <tr>\n",
              "      <th>2</th>\n",
              "      <td>[Marriage age in the United States]</td>\n",
              "      <td>[{'query': 'legal age of marriage in usa', 're...</td>\n",
              "      <td>[{'type': 'multipleQAs', 'qaPairs': [{'questio...</td>\n",
              "      <td>[18, Nebraska ( 19 ), Mississippi ( 21 )]</td>\n",
              "      <td>-6631915997977101312</td>\n",
              "      <td>Age of marriage in the United States</td>\n",
              "      <td>What is the legal age of marriage in usa?</td>\n",
              "    </tr>\n",
              "    <tr>\n",
              "      <th>3</th>\n",
              "      <td>[Barefoot in the Park, Barefoot in the Park (f...</td>\n",
              "      <td>[{'query': 'Who starred in barefoot in the par...</td>\n",
              "      <td>[{'type': 'multipleQAs', 'qaPairs': [{'questio...</td>\n",
              "      <td>[Robert Redford, Elizabeth Ashley]</td>\n",
              "      <td>-3098213414945179648</td>\n",
              "      <td>Barefoot in the Park</td>\n",
              "      <td>Who starred in barefoot in the park on broadway?</td>\n",
              "    </tr>\n",
              "    <tr>\n",
              "      <th>4</th>\n",
              "      <td>[Timeline of the Manhattan Project, Manhattan ...</td>\n",
              "      <td>[{'query': 'When did the manhattan project beg...</td>\n",
              "      <td>[{'type': 'multipleQAs', 'qaPairs': [{'questio...</td>\n",
              "      <td>[From 1942 to 1946]</td>\n",
              "      <td>-927805218867163520</td>\n",
              "      <td>Timeline of the Manhattan Project</td>\n",
              "      <td>When did the manhattan project began and end?</td>\n",
              "    </tr>\n",
              "  </tbody>\n",
              "</table>\n",
              "</div>"
            ],
            "text/plain": [
              "                                   viewed_doc_titles  ...                                           question\n",
              "0                                     [The Simpsons]  ...     When did the simpsons first air on television?\n",
              "1                          [John Adams (miniseries)]  ...  Who played george washington in the john adams...\n",
              "2                [Marriage age in the United States]  ...          What is the legal age of marriage in usa?\n",
              "3  [Barefoot in the Park, Barefoot in the Park (f...  ...   Who starred in barefoot in the park on broadway?\n",
              "4  [Timeline of the Manhattan Project, Manhattan ...  ...      When did the manhattan project began and end?\n",
              "\n",
              "[5 rows x 7 columns]"
            ]
          },
          "metadata": {
            "tags": []
          },
          "execution_count": 6
        }
      ]
    },
    {
      "cell_type": "code",
      "metadata": {
        "colab": {
          "base_uri": "https://localhost:8080/",
          "height": 323
        },
        "id": "cMqMnOeVGStq",
        "outputId": "a8619b31-a9d5-43b0-ab04-0d5d347e6a42"
      },
      "source": [
        "test_df_third.head()"
      ],
      "execution_count": 7,
      "outputs": [
        {
          "output_type": "execute_result",
          "data": {
            "text/html": [
              "<div>\n",
              "<style scoped>\n",
              "    .dataframe tbody tr th:only-of-type {\n",
              "        vertical-align: middle;\n",
              "    }\n",
              "\n",
              "    .dataframe tbody tr th {\n",
              "        vertical-align: top;\n",
              "    }\n",
              "\n",
              "    .dataframe thead th {\n",
              "        text-align: right;\n",
              "    }\n",
              "</style>\n",
              "<table border=\"1\" class=\"dataframe\">\n",
              "  <thead>\n",
              "    <tr style=\"text-align: right;\">\n",
              "      <th></th>\n",
              "      <th>viewed_doc_titles</th>\n",
              "      <th>used_queries</th>\n",
              "      <th>annotations</th>\n",
              "      <th>nq_answer</th>\n",
              "      <th>id</th>\n",
              "      <th>nq_doc_title</th>\n",
              "      <th>question</th>\n",
              "    </tr>\n",
              "  </thead>\n",
              "  <tbody>\n",
              "    <tr>\n",
              "      <th>0</th>\n",
              "      <td>[Dexter (season 1)]</td>\n",
              "      <td>[{'query': 'Who plays the doctor in dexter sea...</td>\n",
              "      <td>[{'type': 'singleAnswer', 'answer': ['Tony Gol...</td>\n",
              "      <td>[Tony Goldwyn]</td>\n",
              "      <td>-807825952267713152</td>\n",
              "      <td>Dexter (season 1)</td>\n",
              "      <td>Who plays the doctor in dexter season 1?</td>\n",
              "    </tr>\n",
              "    <tr>\n",
              "      <th>1</th>\n",
              "      <td>[Spermatogenesis]</td>\n",
              "      <td>[{'query': 'How often does spermatogeneis—the ...</td>\n",
              "      <td>[{'type': 'singleAnswer', 'answer': ['usually ...</td>\n",
              "      <td>[74 days]</td>\n",
              "      <td>8266116451988110336</td>\n",
              "      <td>Spermatogenesis</td>\n",
              "      <td>How often does spermatogeneis—the production o...</td>\n",
              "    </tr>\n",
              "    <tr>\n",
              "      <th>2</th>\n",
              "      <td>[Remote control]</td>\n",
              "      <td>[{'query': 'When was the first remote control ...</td>\n",
              "      <td>[{'type': 'singleAnswer', 'answer': ['1950']},...</td>\n",
              "      <td>[1950]</td>\n",
              "      <td>7336174019902289920</td>\n",
              "      <td>Remote control</td>\n",
              "      <td>When was the first remote control tv invented?</td>\n",
              "    </tr>\n",
              "    <tr>\n",
              "      <th>3</th>\n",
              "      <td>[History of the St. Louis Cardinals (NFL), His...</td>\n",
              "      <td>[{'query': 'Why did the st louis cardinals mov...</td>\n",
              "      <td>[{'type': 'singleAnswer', 'answer': ['mediocri...</td>\n",
              "      <td>[1988]</td>\n",
              "      <td>8630912480840635392</td>\n",
              "      <td>History of the St. Louis Cardinals (NFL)</td>\n",
              "      <td>Why did the st louis cardinals move to arizona?</td>\n",
              "    </tr>\n",
              "    <tr>\n",
              "      <th>4</th>\n",
              "      <td>[List of Chesapeake Shores episodes, Chesapeak...</td>\n",
              "      <td>[{'query': 'How many episodes are in season 2 ...</td>\n",
              "      <td>[{'type': 'singleAnswer', 'answer': ['10']}, {...</td>\n",
              "      <td>[10]</td>\n",
              "      <td>9187719029377880064</td>\n",
              "      <td>Chesapeake Shores</td>\n",
              "      <td>How many episodes are in season 2 of chesapeak...</td>\n",
              "    </tr>\n",
              "  </tbody>\n",
              "</table>\n",
              "</div>"
            ],
            "text/plain": [
              "                                   viewed_doc_titles  ...                                           question\n",
              "0                                [Dexter (season 1)]  ...           Who plays the doctor in dexter season 1?\n",
              "1                                  [Spermatogenesis]  ...  How often does spermatogeneis—the production o...\n",
              "2                                   [Remote control]  ...     When was the first remote control tv invented?\n",
              "3  [History of the St. Louis Cardinals (NFL), His...  ...    Why did the st louis cardinals move to arizona?\n",
              "4  [List of Chesapeake Shores episodes, Chesapeak...  ...  How many episodes are in season 2 of chesapeak...\n",
              "\n",
              "[5 rows x 7 columns]"
            ]
          },
          "metadata": {
            "tags": []
          },
          "execution_count": 7
        }
      ]
    },
    {
      "cell_type": "code",
      "metadata": {
        "colab": {
          "base_uri": "https://localhost:8080/"
        },
        "id": "XVZfzO_gGa8l",
        "outputId": "2d27b204-19f3-492f-f295-9b90ee189b2e"
      },
      "source": [
        "test_df_third.question , test_df_third.annotations"
      ],
      "execution_count": 8,
      "outputs": [
        {
          "output_type": "execute_result",
          "data": {
            "text/plain": [
              "(0                Who plays the doctor in dexter season 1?\n",
              " 1       How often does spermatogeneis—the production o...\n",
              " 2          When was the first remote control tv invented?\n",
              " 3         Why did the st louis cardinals move to arizona?\n",
              " 4       How many episodes are in season 2 of chesapeak...\n",
              "                               ...                        \n",
              " 1997                How long is a rainbow six siege game?\n",
              " 1998     Where did the free settlers settle in australia?\n",
              " 1999        Real name of gwen stacy in amazing spiderman?\n",
              " 2000     Who owns the biggest house in the united states?\n",
              " 2001               Who played ben parish in the 5th wave?\n",
              " Name: question, Length: 2002, dtype: object,\n",
              " 0       [{'type': 'singleAnswer', 'answer': ['Tony Gol...\n",
              " 1       [{'type': 'singleAnswer', 'answer': ['usually ...\n",
              " 2       [{'type': 'singleAnswer', 'answer': ['1950']},...\n",
              " 3       [{'type': 'singleAnswer', 'answer': ['mediocri...\n",
              " 4       [{'type': 'singleAnswer', 'answer': ['10']}, {...\n",
              "                               ...                        \n",
              " 1997    [{'type': 'multipleQAs', 'qaPairs': [{'questio...\n",
              " 1998    [{'type': 'multipleQAs', 'qaPairs': [{'questio...\n",
              " 1999    [{'type': 'multipleQAs', 'qaPairs': [{'questio...\n",
              " 2000    [{'type': 'singleAnswer', 'answer': ['William ...\n",
              " 2001    [{'type': 'singleAnswer', 'answer': ['Nick Rob...\n",
              " Name: annotations, Length: 2002, dtype: object)"
            ]
          },
          "metadata": {
            "tags": []
          },
          "execution_count": 8
        }
      ]
    },
    {
      "cell_type": "code",
      "metadata": {
        "colab": {
          "base_uri": "https://localhost:8080/"
        },
        "id": "pvJLJhM4Ge_D",
        "outputId": "febe29d3-a075-4ae9-f42f-f3eb463c46ba"
      },
      "source": [
        "train_df_third.question[1] , train_df_third.annotations[1]"
      ],
      "execution_count": 9,
      "outputs": [
        {
          "output_type": "execute_result",
          "data": {
            "text/plain": [
              "('Who played george washington in the john adams series?',\n",
              " [{'answer': ['David Morse'], 'type': 'singleAnswer'}])"
            ]
          },
          "metadata": {
            "tags": []
          },
          "execution_count": 9
        }
      ]
    },
    {
      "cell_type": "code",
      "metadata": {
        "colab": {
          "base_uri": "https://localhost:8080/"
        },
        "id": "l2RfzynrGhJG",
        "outputId": "4260f003-1c74-4b66-ef85-e94ab1bdfe56"
      },
      "source": [
        "train_df_third.question[0] , train_df_third.annotations[0]"
      ],
      "execution_count": 10,
      "outputs": [
        {
          "output_type": "execute_result",
          "data": {
            "text/plain": [
              "('When did the simpsons first air on television?',\n",
              " [{'qaPairs': [{'answer': ['April 19, 1987'],\n",
              "     'question': 'When did the Simpsons first air on television as an animated short on the Tracey Ullman Show?'},\n",
              "    {'answer': ['December 17, 1989'],\n",
              "     'question': 'When did the Simpsons first air as a half-hour prime time show?'}],\n",
              "   'type': 'multipleQAs'}])"
            ]
          },
          "metadata": {
            "tags": []
          },
          "execution_count": 10
        }
      ]
    },
    {
      "cell_type": "code",
      "metadata": {
        "colab": {
          "base_uri": "https://localhost:8080/"
        },
        "id": "PDyBpBMNGhrQ",
        "outputId": "6761ab2e-7571-4b28-b19e-27d883f61726"
      },
      "source": [
        "train_df_third.shape, test_df_third.shape"
      ],
      "execution_count": 11,
      "outputs": [
        {
          "output_type": "execute_result",
          "data": {
            "text/plain": [
              "((10036, 7), (2002, 7))"
            ]
          },
          "metadata": {
            "tags": []
          },
          "execution_count": 11
        }
      ]
    },
    {
      "cell_type": "code",
      "metadata": {
        "id": "K1Gn0s10g3FV"
      },
      "source": [
        "train_df_third = train_df_third.head(3000)\r\n",
        "test_df_third = test_df_third.head(500)"
      ],
      "execution_count": 12,
      "outputs": []
    },
    {
      "cell_type": "code",
      "metadata": {
        "colab": {
          "base_uri": "https://localhost:8080/"
        },
        "id": "1Tes1Y3kh47R",
        "outputId": "1d263412-7f57-4453-d0cd-853dd94a204c"
      },
      "source": [
        "train_df_third.shape, test_df_third.shape"
      ],
      "execution_count": 13,
      "outputs": [
        {
          "output_type": "execute_result",
          "data": {
            "text/plain": [
              "((3000, 7), (500, 7))"
            ]
          },
          "metadata": {
            "tags": []
          },
          "execution_count": 13
        }
      ]
    },
    {
      "cell_type": "code",
      "metadata": {
        "id": "aHqLVkDbtTiZ"
      },
      "source": [
        "train_questions_third = []\r\n",
        "train_answers_third = []\r\n",
        "for i in range(len(train_df_third)):\r\n",
        "  if (train_df_third.annotations[i][0]['type'] == 'singleAnswer'):\r\n",
        "    question = train_df_third.question[i]\r\n",
        "    answer = train_df_third.annotations[i][0]['answer'][0]\r\n",
        "    train_questions_third.append(question)\r\n",
        "    train_answers_third.append(answer)\r\n",
        "  elif (train_df_third.annotations[i][0]['type'] == 'multipleQAs'):\r\n",
        "    for j in range(len(train_df_third.annotations[i][0]['qaPairs'])):\r\n",
        "      question = train_df_third.annotations[i][0]['qaPairs'][j]['question']\r\n",
        "      answer = train_df_third.annotations[i][0]['qaPairs'][j]['answer'][0]\r\n",
        "      train_questions_third.append(question)\r\n",
        "      train_answers_third.append(answer)\r\n",
        "\r\n",
        "\r\n",
        "test_questions_third = []\r\n",
        "test_answers_third = []\r\n",
        "for i in range(len(test_df_third)):\r\n",
        "  if (test_df_third.annotations[i][0]['type'] == 'singleAnswer'):\r\n",
        "    question = test_df_third.question[i]\r\n",
        "    answer = test_df_third.annotations[i][0]['answer'][0]\r\n",
        "    test_questions_third.append(question)\r\n",
        "    test_answers_third.append(answer)\r\n",
        "  elif (test_df_third.annotations[i][0]['type'] == 'multipleQAs'):\r\n",
        "    for j in range(len(test_df_third.annotations[i][0]['qaPairs'])):\r\n",
        "      question = test_df_third.annotations[i][0]['qaPairs'][j]['question']\r\n",
        "      answer = test_df_third.annotations[i][0]['qaPairs'][j]['answer'][0]\r\n",
        "      test_questions_third.append(question)\r\n",
        "      test_answers_third.append(answer)"
      ],
      "execution_count": 14,
      "outputs": []
    },
    {
      "cell_type": "code",
      "metadata": {
        "id": "CI3UU5rdtZ7C",
        "colab": {
          "base_uri": "https://localhost:8080/"
        },
        "outputId": "56bd5043-0431-46ab-fdf3-dd3404e8ff38"
      },
      "source": [
        "len(train_questions_third), len(train_answers_third), len(test_questions_third), len(test_answers_third)"
      ],
      "execution_count": 15,
      "outputs": [
        {
          "output_type": "execute_result",
          "data": {
            "text/plain": [
              "(5757, 5757, 1151, 1151)"
            ]
          },
          "metadata": {
            "tags": []
          },
          "execution_count": 15
        }
      ]
    },
    {
      "cell_type": "code",
      "metadata": {
        "id": "38wG3xIqGj8y"
      },
      "source": [
        "Questions_Third = data.Field(sequential = True, tokenize = 'spacy', batch_first =True)#, include_lengths=True)\r\n",
        "Answers_Third = data.Field(tokenize ='spacy', is_target=True, batch_first =True)#, sequential =False)"
      ],
      "execution_count": 16,
      "outputs": []
    },
    {
      "cell_type": "code",
      "metadata": {
        "id": "RH8g1UVOG-K8"
      },
      "source": [
        "fields = [('questions_third', Questions_Third),('answers_third', Answers_Third)]"
      ],
      "execution_count": 17,
      "outputs": []
    },
    {
      "cell_type": "code",
      "metadata": {
        "id": "Ag6QNcz6HU3R"
      },
      "source": [
        "example1 = [data.Example.fromlist([train_questions_third[i],train_answers_third[i]], fields) for i in range(len(train_questions_third))] \r\n",
        "example2 = [data.Example.fromlist([test_questions_third[i],test_answers_third[i]], fields) for i in range(len(test_questions_third))] "
      ],
      "execution_count": 18,
      "outputs": []
    },
    {
      "cell_type": "code",
      "metadata": {
        "id": "XALghCjkHVh_"
      },
      "source": [
        "Train_Dataset_Third = data.Dataset(example1, fields)\r\n",
        "Valid_Dataset_Third = data.Dataset(example2, fields)"
      ],
      "execution_count": 19,
      "outputs": []
    },
    {
      "cell_type": "code",
      "metadata": {
        "colab": {
          "base_uri": "https://localhost:8080/"
        },
        "id": "hsUnWM5bHXji",
        "outputId": "8c93650a-5700-45cb-a3a0-b137404925a9"
      },
      "source": [
        "(len(Train_Dataset_Third), len(Valid_Dataset_Third))"
      ],
      "execution_count": 20,
      "outputs": [
        {
          "output_type": "execute_result",
          "data": {
            "text/plain": [
              "(5757, 1151)"
            ]
          },
          "metadata": {
            "tags": []
          },
          "execution_count": 20
        }
      ]
    },
    {
      "cell_type": "code",
      "metadata": {
        "colab": {
          "base_uri": "https://localhost:8080/"
        },
        "id": "eWRHgNRCHc9Z",
        "outputId": "31092aaa-9a0b-40b2-e6f8-3acbe8a99ef1"
      },
      "source": [
        "print(vars(Train_Dataset_Third.examples[0]))\r\n",
        "print(vars(Valid_Dataset_Third.examples[0]))"
      ],
      "execution_count": 21,
      "outputs": [
        {
          "output_type": "stream",
          "text": [
            "{'questions_third': ['When', 'did', 'the', 'Simpsons', 'first', 'air', 'on', 'television', 'as', 'an', 'animated', 'short', 'on', 'the', 'Tracey', 'Ullman', 'Show', '?'], 'answers_third': ['April', '19', ',', '1987']}\n",
            "{'questions_third': ['Who', 'plays', 'the', 'doctor', 'in', 'dexter', 'season', '1', '?'], 'answers_third': ['Tony', 'Goldwyn']}\n"
          ],
          "name": "stdout"
        }
      ]
    },
    {
      "cell_type": "code",
      "metadata": {
        "id": "_rV1jT69Hc1P"
      },
      "source": [
        "Questions_Third.build_vocab(Train_Dataset_Third, min_freq = 2)\r\n",
        "Answers_Third.build_vocab(Train_Dataset_Third, min_freq = 2)"
      ],
      "execution_count": 22,
      "outputs": []
    },
    {
      "cell_type": "code",
      "metadata": {
        "colab": {
          "base_uri": "https://localhost:8080/"
        },
        "id": "hJ_geU_LIFIu",
        "outputId": "ebb83708-4597-42a7-8a2d-449c4733e668"
      },
      "source": [
        "print('Size of input vocab : ', len(Questions_Third.vocab))\r\n",
        "print('Size of label vocab : ', len(Answers_Third.vocab))\r\n",
        "print('Top 10 words appreared repeatedly :', list(Questions_Third.vocab.freqs.most_common(10)))\r\n",
        "print('Labels : ', Answers_Third.vocab.stoi)"
      ],
      "execution_count": 23,
      "outputs": [
        {
          "output_type": "stream",
          "text": [
            "Size of input vocab :  4443\n",
            "Size of label vocab :  1812\n",
            "Top 10 words appreared repeatedly : [('the', 6367), ('?', 5765), ('in', 3110), ('of', 2449), ('Who', 2170), ('is', 1278), ('When', 1234), ('What', 941), ('did', 918), ('was', 831)]\n",
            "Labels :  defaultdict(<function _default_unk_index at 0x7f24b6a47f28>, {'<unk>': 0, '<pad>': 1, ',': 2, 'and': 3, 'the': 4, 'of': 5, '2017': 6, '-': 7, '2018': 8, 'The': 9, '\"': 10, 'September': 11, 'July': 12, 'October': 13, 'June': 14, 'May': 15, 'April': 16, '1': 17, 'November': 18, 'March': 19, 'December': 20, 'August': 21, 'January': 22, '2016': 23, 'John': 24, '2': 25, '12': 26, '2015': 27, '15': 28, '6': 29, 'United': 30, '25': 31, 'New': 32, '10': 33, '4': 34, 'February': 35, 'a': 36, 'in': 37, 'to': 38, \"'s\": 39, '17': 40, 'Michael': 41, '13': 42, '7': 43, '9': 44, '16': 45, '3': 46, '8': 47, 'James': 48, ')': 49, '(': 50, '14': 51, '23': 52, '26': 53, '21': 54, '11': 55, '20': 56, '30': 57, '18': 58, 'States': 59, '24': 60, '.': 61, '5': 62, '22': 63, '27': 64, 'Jr.': 65, 'de': 66, '2006': 67, '2012': 68, '19': 69, 'Richard': 70, 'South': 71, '2014': 72, '2019': 73, '28': 74, 'David': 75, 'II': 76, '2007': 77, '2009': 78, '1998': 79, 'Charles': 80, 'George': 81, 'Martin': 82, 'Paul': 83, 'years': 84, '2005': 85, '2013': 86, '29': 87, '31': 88, 'King': 89, 'with': 90, 'India': 91, 'Thomas': 92, '1991': 93, '1997': 94, '2008': 95, 'Peter': 96, 'York': 97, 'or': 98, 'Davis': 99, 'France': 100, 'Stadium': 101, '/': 102, '2001': 103, '2003': 104, '2010': 105, '2011': 106, 'Chris': 107, 'Jennifer': 108, 'North': 109, 'Republic': 110, 'William': 111, '1994': 112, 'Alexander': 113, 'III': 114, 'Jones': 115, 'Joseph': 116, 'Taylor': 117, 'as': 118, 'for': 119, 'from': 120, '1974': 121, '1981': 122, 'A': 123, 'American': 124, 'Anthony': 125, 'Canada': 126, 'England': 127, 'Louis': 128, 'Patrick': 129, 'Season': 130, 'War': 131, 'ago': 132, 'by': 133, 'million': 134, '1990': 135, '2000': 136, 'Al': 137, 'B.': 138, 'California': 139, 'Daniel': 140, 'Howard': 141, 'J.': 142, 'Jeff': 143, 'Jordan': 144, 'Kingdom': 145, 'Lee': 146, 'President': 147, 'River': 148, 'Robert': 149, 'Sam': 150, 'V.': 151, 'Wilson': 152, 'World': 153, 'at': 154, 'between': 155, 'billion': 156, '–': 157, '%': 158, '1945': 159, '1973': 160, '1976': 161, '1982': 162, '1987': 163, '1988': 164, '1992': 165, '1999': 166, '2002': 167, 'Adams': 168, 'Africa': 169, 'Bobby': 170, 'Brazil': 171, 'Christopher': 172, 'Frank': 173, 'Germany': 174, 'Harris': 175, 'International': 176, 'Russell': 177, 'Smith': 178, 'Spain': 179, 'St.': 180, 'State': 181, 'Tom': 182, 'Williams': 183, 'one': 184, '1965': 185, '1971': 186, '1977': 187, '1980': 188, '1985': 189, '1995': 190, '2004': 191, '?': 192, 'Ann': 193, 'Australia': 194, 'Bill': 195, 'City': 196, 'Elizabeth': 197, 'Henry': 198, 'Jack': 199, 'Jason': 200, 'Kennedy': 201, 'Lake': 202, 'Mary': 203, 'Mike': 204, 'Steve': 205, 'Tony': 206, 'Washington': 207, 'White': 208, 'are': 209, 'on': 210, 'three': 211, 'v.': 212, '1942': 213, '1961': 214, '1962': 215, '1968': 216, '1984': 217, 'Airport': 218, 'Alan': 219, 'Andy': 220, 'Angeles': 221, 'Anna': 222, 'Ashley': 223, 'British': 224, 'China': 225, 'Day': 226, 'Dylan': 227, 'Ed': 228, 'Francis': 229, 'Los': 230, 'Manchester': 231, 'Park': 232, 'Philip': 233, 'Ryan': 234, 'Sir': 235, 'Stephen': 236, 'Union': 237, 'Zealand': 238, 'after': 239, 'not': 240, 'team': 241, ' ': 242, '1914': 243, '1954': 244, '1958': 245, '1960': 246, '1969': 247, '1993': 248, '2020': 249, 'Arthur': 250, 'Brown': 251, 'CBS': 252, 'Cook': 253, 'Cristiano': 254, 'Donald': 255, 'Drew': 256, 'Eric': 257, 'Eva': 258, 'Florida': 259, 'Francisco': 260, 'Franklin': 261, 'Gary': 262, 'General': 263, 'Green': 264, 'Harry': 265, 'House': 266, 'Italy': 267, 'Jean': 268, 'Jimmy': 269, 'Joe': 270, 'Johnny': 271, 'Jonathan': 272, 'Justin': 273, 'Karl': 274, 'Kevin': 275, 'Madrid': 276, 'Mark': 277, 'Mexico': 278, 'Moore': 279, 'Pacific': 280, 'Pennsylvania': 281, 'Real': 282, 'Roger': 283, 'Ronaldo': 284, 'Terry': 285, 'Texas': 286, 'Tim': 287, 'Tyler': 288, 'five': 289, 'is': 290, 'season': 291, '&': 292, '1908': 293, '1938': 294, '1947': 295, '1957': 296, '1967': 297, '1975': 298, ':': 299, 'A.': 300, 'Air': 301, 'Albert': 302, 'America': 303, 'Anne': 304, 'Apostle': 305, 'Asia': 306, 'Atlanta': 307, 'Bay': 308, 'Ben': 309, 'Benson': 310, 'Billy': 311, 'Bob': 312, 'Bone': 313, 'Breck': 314, 'Carolina': 315, 'Carter': 316, 'Charlie': 317, 'Colin': 318, 'Dean': 319, 'Edward': 320, 'Emma': 321, 'English': 322, 'Episode': 323, 'F.': 324, 'Field': 325, 'Hale': 326, 'Hall': 327, 'I': 328, 'Isaac': 329, 'Islands': 330, 'Jefferson': 331, 'Jeffrey': 332, 'Jerry': 333, 'Jodi': 334, 'Kim': 335, 'Lewis': 336, 'Lythgoe': 337, 'Matthew': 338, 'Men': 339, 'Miller': 340, 'Ohio': 341, 'Pittsburgh': 342, 'Prince': 343, 'Roberts': 344, 'Rose': 345, 'Saint': 346, 'Scott': 347, 'Soviet': 348, 'Street': 349, 'Sunday': 350, 'Super': 351, 'Thompson': 352, 'Timothy': 353, 'Trump': 354, 'University': 355, 'Victoria': 356, 'Western': 357, 'When': 358, 'Will': 359, 'century': 360, 'it': 361, 'new': 362, 'seven': 363, 'six': 364, 'that': 365, 'two': 366, 'was': 367, '°': 368, '!': 369, '1,000': 370, '1620': 371, '1901': 372, '1935': 373, '1939': 374, '1955': 375, '1964': 376, '1966': 377, 'Aaron': 378, 'Adam': 379, 'Alaska': 380, 'Alex': 381, 'Alison': 382, 'Amy': 383, 'Anderson': 384, 'Austin': 385, 'Bowl': 386, 'Brady': 387, 'Brees': 388, 'Christian': 389, 'Cleveland': 390, 'Columbia': 391, 'Congress': 392, 'Constitution': 393, 'County': 394, 'Curry': 395, 'Dan': 396, 'Democratic': 397, 'Evans': 398, 'Fred': 399, 'Georgia': 400, 'Hans': 401, 'Hart': 402, 'High': 403, 'Houston': 404, 'Indian': 405, 'Jackson': 406, 'Jake': 407, 'Jersey': 408, 'Jessica': 409, 'Jim': 410, 'Johnson': 411, 'Kelly': 412, 'Kumar': 413, 'Lloyd': 414, 'Luke': 415, 'Man': 416, 'Mann': 417, 'Marie': 418, 'Matt': 419, 'Minnesota': 420, 'Nathan': 421, 'No': 422, 'Ocean': 423, 'Old': 424, 'Pakistan': 425, 'Perry': 426, 'Pete': 427, 'Philadelphia': 428, 'Plate': 429, 'Red': 430, 'Robinson': 431, 'Sarah': 432, 'School': 433, 'Serkis': 434, 'Seth': 435, 'Shrek': 436, 'Singh': 437, 'Stewart': 438, 'T.': 439, 'Tommy': 440, 'Van': 441, 'Warren': 442, 'Wayne': 443, 'West': 444, 'cricket': 445, 'east': 446, 'eight': 447, 'end': 448, 'late': 449, 'national': 450, 'neglect': 451, 'white': 452, '$': 453, \"'\": 454, '1910': 455, '1925': 456, '1931': 457, '1937': 458, '1941': 459, '1946': 460, '1948': 461, '1949': 462, '1950': 463, '1951': 464, '1970': 465, '1986': 466, '1989': 467, '32': 468, '34': 469, '53': 470, 'Airlines': 471, 'Arsenal': 472, 'Baldwin': 473, 'Band': 474, 'Bank': 475, 'Barack': 476, 'Barcelona': 477, 'Barry': 478, 'Bell': 479, 'Black': 480, 'Blue': 481, 'Bonnie': 482, 'Brad': 483, 'Browns': 484, 'Bryant': 485, 'Catherine': 486, 'Chelsea': 487, 'Commission': 488, 'Crosby': 489, 'Crystal': 490, 'Dale': 491, 'Damon': 492, 'Dana': 493, 'Daniels': 494, 'Dawn': 495, 'Denver': 496, 'Depp': 497, 'Douglas': 498, 'Dutch': 499, 'E.': 500, 'Earl': 501, 'East': 502, 'Elliott': 503, 'Entertainment': 504, 'Erik': 505, 'Europe': 506, 'Excel': 507, 'Fisher': 508, 'Frances': 509, 'G.': 510, 'Gabrielle': 511, 'Gene': 512, 'Geoff': 513, 'Glen': 514, 'God': 515, 'Gordon': 516, 'Hamilton': 517, 'Harrison': 518, 'Hughes': 519, 'Hussein': 520, 'Iran': 521, 'Island': 522, 'Japan': 523, 'Jennings': 524, 'Jesus': 525, 'Joel': 526, 'Jon': 527, 'Kane': 528, 'Keith': 529, 'Kenya': 530, 'Kohli': 531, 'L.': 532, 'L4': 533, 'Las': 534, 'LeBron': 535, 'Lisa': 536, 'Little': 537, 'London': 538, 'Lord': 539, 'Ltd': 540, 'M.': 541, 'Manuel': 542, 'Marquis': 543, 'Maryland': 544, 'Max': 545, 'Minister': 546, 'Minutes': 547, 'Mitchell': 548, 'Muhammad': 549, 'Nancy': 550, 'Nelson': 551, 'Netherlands': 552, 'Nicholas': 553, 'Nick': 554, 'Nigel': 555, 'Norman': 556, 'Northern': 557, \"O'Mara\": 558, 'Obama': 559, 'On': 560, 'Orlando': 561, 'Paula': 562, 'Penguins': 563, 'Phil': 564, 'R.': 565, 'Rabbit': 566, 'Rachel': 567, 'Ram': 568, 'Rams': 569, 'Randy': 570, 'Rebecca': 571, 'Rob': 572, 'Ron': 573, 'Roosevelt': 574, 'Russia': 575, 'Sabha': 576, 'San': 577, 'Saturday': 578, 'Sean': 579, 'Show': 580, 'Sun': 581, 'Susan': 582, 'Tanzania': 583, 'Thunder': 584, 'Timberlake': 585, 'Tracy': 586, 'Turkey': 587, 'Turner': 588, 'Urban': 589, 'V': 590, 'Vancouver': 591, 'Vegas': 592, 'Virat': 593, 'Virginia': 594, 'Wales': 595, 'Walker': 596, 'Walter': 597, 'Winter': 598, 'Young': 599, 'area': 600, 'being': 601, 'bones': 602, 'coast': 603, 'first': 604, 'her': 605, 'hours': 606, 'intestine': 607, 'm': 608, 'mid': 609, 'minutes': 610, 'northern': 611, 'other': 612, 'over': 613, 'percent': 614, 'republic': 615, 'small': 616, 'south': 617, 'they': 618, 'usually': 619, 'which': 620, '×': 621, '0': 622, '10,000': 623, '11th': 624, '1776': 625, '1783': 626, '1834': 627, '1857': 628, '1864': 629, '1892': 630, '18th': 631, '1909': 632, '1911': 633, '1916': 634, '1917': 635, '1920': 636, '1921': 637, '1930': 638, '1933': 639, '1934': 640, '1936': 641, '1943': 642, '1959': 643, '1972': 644, '1978': 645, '1979': 646, '1996': 647, '1st': 648, '35': 649, '40': 650, '48': 651, '50': 652, '55': 653, '60': 654, '82': 655, '8:00': 656, 'Abdul': 657, 'African': 658, 'After': 659, 'Alabama': 660, 'Ali': 661, 'Allen': 662, 'Alyson': 663, 'Amanda': 664, 'Andre': 665, 'Annette': 666, 'Apple': 667, 'Arizona': 668, 'Arnold': 669, 'Audrey': 670, 'Australian': 671, 'Avenue': 672, 'BCE': 673, 'Bailey': 674, 'Banerjee': 675, 'Bart': 676, 'Bennett': 677, 'Berlin': 678, 'Blake': 679, 'Bloom': 680, 'Bon': 681, 'Boyz': 682, 'Brett': 683, 'Brian': 684, 'Brock': 685, 'Bruce': 686, 'Bryan': 687, 'Bulgaria': 688, 'Bulldogs': 689, 'Byron': 690, 'C.': 691, 'CE': 692, 'Cameron': 693, 'Captain': 694, 'Carey': 695, 'Carl': 696, 'Carpenter': 697, 'Carson': 698, 'Cassidy': 699, 'Cat': 700, 'Central': 701, 'Chapman': 702, 'Cheryl': 703, 'Chicago': 704, 'Christy': 705, 'Clement': 706, 'Clive': 707, 'Club': 708, 'Coleman': 709, 'Columbus': 710, 'Commercial': 711, 'Company': 712, 'Connick': 713, 'Cornwall': 714, 'Cornwallis': 715, 'Corporation': 716, 'Council': 717, 'Court': 718, 'Cree': 719, 'Cup': 720, 'Cynthia': 721, 'DC': 722, 'Dance': 723, 'Danny': 724, 'Dave': 725, 'Dead': 726, 'Dennis': 727, 'Deputy': 728, 'Dhawan': 729, 'Dick': 730, 'Diggy': 731, 'District': 732, 'Dollar': 733, 'Dorothy': 734, 'Dwight': 735, 'Earth': 736, 'Eastern': 737, 'Eddie': 738, 'Edelman': 739, 'Elena': 740, 'Ernest': 741, 'Ethiopia': 742, 'Exodus': 743, 'F.C.': 744, 'FIFA': 745, 'Falcons': 746, 'Falls': 747, 'Faye': 748, 'Federal': 749, 'Federer': 750, 'Fire': 751, 'First': 752, 'Force': 753, 'Freddie': 754, 'Freeman': 755, 'French': 756, 'Friedrich': 757, 'Gardner': 758, 'German': 759, 'Girl': 760, 'Glenn': 761, 'Grand': 762, 'Grant': 763, 'Gray': 764, 'Great': 765, 'Greek': 766, 'Greg': 767, 'Halloween': 768, 'Hanging': 769, 'Hanks': 770, 'Hannigan': 771, 'Holliday': 772, 'Hope': 773, 'Hudson': 774, 'Hurst': 775, 'Internet': 776, 'Iraq': 777, 'Ivan': 778, 'J': 779, 'Jane': 780, 'Jenny': 781, 'Jeremy': 782, 'Jill': 783, 'Josef': 784, 'José': 785, 'Journey': 786, 'Kate': 787, 'Kentucky': 788, 'Kings': 789, 'Kovind': 790, 'Kris': 791, 'Kristofferson': 792, 'Kroll': 793, 'L5': 794, 'Lafayette': 795, 'Lanka': 796, 'Last': 797, 'Late': 798, 'Lennon': 799, 'Leviticus': 800, 'Lincoln': 801, 'Lionel': 802, 'Lok': 803, 'Lopez': 804, 'Lot': 805, 'Louisiana': 806, 'Lucas': 807, 'Lynne': 808, 'Maccabees': 809, 'Magic': 810, 'McCartney': 811, 'Meredith': 812, 'Messi': 813, 'Michelle': 814, 'Milioti': 815, 'Mississippi': 816, 'Missouri': 817, 'Montana': 818, 'Moody': 819, 'Morocco': 820, 'Morris': 821, 'Mosby': 822, 'Motor': 823, 'Mountains': 824, 'Murray': 825, 'Nadal': 826, 'Nasim': 827, 'Nath': 828, 'National': 829, 'Noel': 830, 'OU': 831, 'Olivia': 832, 'Orthodox': 833, 'Otis': 834, 'PM': 835, 'PST': 836, 'Paige': 837, 'Palace': 838, 'Parker': 839, 'People': 840, 'Philippines': 841, 'Poland': 842, 'Porter': 843, 'Price': 844, 'Prime': 845, 'Putin': 846, 'Queen': 847, 'Quincy': 848, 'Quinn': 849, 'Rafael': 850, 'Rahul': 851, 'Ralph': 852, 'Range': 853, 'Ray': 854, 'Regina': 855, 'Rhodes': 856, 'Ricky': 857, 'Rights': 858, 'Rock': 859, 'Rooker': 860, 'Ross': 861, 'Salt': 862, 'Samuel': 863, 'Sankt': 864, 'Seattle': 865, 'Seaview': 866, 'Second': 867, 'Seeger': 868, 'Senate': 869, 'Sheeran': 870, 'Simon': 871, 'Sinatra': 872, 'Sisters': 873, 'Sobolov': 874, 'Spanish': 875, 'Speaker': 876, 'Sri': 877, 'Steph': 878, 'Steven': 879, 'Stevie': 880, 'Stranger': 881, 'Stuart': 882, 'Sudan': 883, 'Sullivan': 884, 'Tell': 885, 'Tennessee': 886, 'Thailand': 887, 'Tides': 888, 'Tigers': 889, 'Time': 890, 'Trevor': 891, 'Two': 892, 'US': 893, 'Up': 894, 'Valley': 895, 'Vincent': 896, 'Vladimir': 897, 'W.': 898, 'Wall': 899, 'Wallace': 900, 'Wardell': 901, 'Wonder': 902, 'Yorkshire': 903, 'You': 904, 'Zaidi': 905, 'Zimmer': 906, 'about': 907, 'act': 908, 'all': 909, 'along': 910, 'bank': 911, 'blood': 912, 'chloride': 913, 'city': 914, 'clear': 915, 'crossing': 916, 'do': 917, 'during': 918, 'energy': 919, 'episode': 920, 'fifty': 921, 'four': 922, 'ft': 923, 'game': 924, 'group': 925, 'has': 926, 'his': 927, 'including': 928, 'joint': 929, 'km': 930, 'membrane': 931, 'mm': 932, 'named': 933, 'natural': 934, 'near': 935, 'novel': 936, 'original': 937, 'p.m.': 938, 'people': 939, 'phase': 940, 'player': 941, 'president': 942, 'presidential': 943, 'red': 944, 'required': 945, 'rock': 946, 'salamander': 947, 'school': 948, 'second': 949, 'sex': 950, 'species': 951, 'state': 952, 'states': 953, 'system': 954, 'their': 955, 'very': 956, 'well': 957, 'west': 958, 'who': 959, 'year': 960, '€': 961, \"'re\": 962, '100': 963, '105': 964, '108': 965, '12,714': 966, '12,756.3': 967, '12:00': 968, '12th': 969, '130': 970, '136': 971, '145': 972, '150': 973, '1526': 974, '1765': 975, '1775': 976, '17th': 977, '180': 978, '1800': 979, '1836': 980, '1848': 981, '1850': 982, '1853': 983, '1876': 984, '1882': 985, '1893': 986, '1895': 987, '1912': 988, '1915': 989, '1920s': 990, '1927': 991, '1940': 992, '1944': 993, '1956': 994, '1963': 995, '1980s': 996, '1983': 997, '1990s': 998, '2,000': 999, '22nd': 1000, '24th': 1001, '250': 1002, '258': 1003, '270': 1004, '300,000': 1005, '304': 1006, '311': 1007, '330': 1008, '338': 1009, '36': 1010, '4.5': 1011, '41': 1012, '44': 1013, '47': 1014, '49': 1015, '53.5': 1016, '70': 1017, '78': 1018, '80': 1019, '95': 1020, '96': 1021, '99': 1022, 'AZ': 1023, 'Abigail': 1024, 'Aces': 1025, 'Adcock': 1026, 'Additions': 1027, 'Adolph': 1028, 'Agrawal': 1029, 'Airplanes': 1030, 'Alastair': 1031, 'Albany': 1032, 'Alexandra': 1033, 'Algeria': 1034, 'Alicia': 1035, 'Amendment': 1036, 'Amsterdam': 1037, 'An': 1038, 'Anaheim': 1039, 'Andersen': 1040, 'Andrew': 1041, 'Annapolis': 1042, 'Antoine': 1043, 'Antonio': 1044, 'Apollos': 1045, 'Arabia': 1046, 'Archduke': 1047, 'Arena': 1048, 'Arkansas': 1049, 'Army': 1050, 'Ashok': 1051, 'Assembly': 1052, 'Asteroid': 1053, 'Atlantic': 1054, 'Atticus': 1055, 'Attlee': 1056, 'Auerbach': 1057, 'Aveiro': 1058, 'B.I.G.': 1059, 'BBC': 1060, 'BC': 1061, 'Bacharach': 1062, 'Banking': 1063, 'Barden': 1064, 'Barnabas': 1065, 'Bastille': 1066, 'Battle': 1067, 'Baxter': 1068, 'Beach': 1069, 'Began': 1070, 'Beijing': 1071, 'Belinda': 1072, 'Bella': 1073, 'Benjamin': 1074, 'Benkirane': 1075, 'Bernard': 1076, 'Big': 1077, 'Blondes': 1078, 'Blood': 1079, 'Boeser': 1080, 'Bordeaux': 1081, 'Boston': 1082, 'Bowman': 1083, 'Boys': 1084, 'Bradley': 1085, 'Bragg': 1086, 'Breda': 1087, 'Brendan': 1088, 'Bridge': 1089, 'Bridges': 1090, 'Brightman': 1091, 'Brijwasi': 1092, 'Britain': 1093, 'Britton': 1094, 'Bronco': 1095, 'Bronson': 1096, 'Brooks': 1097, 'Brothers': 1098, 'Burch': 1099, 'Burt': 1100, 'Bush': 1101, 'Buster': 1102, 'Buzz': 1103, 'C': 1104, 'C.S.C.': 1105, 'CA': 1106, 'CBE': 1107, 'CK': 1108, 'Caesar': 1109, 'Camp': 1110, 'Canadian': 1111, 'Cannavale': 1112, 'Cara': 1113, 'Cardinals': 1114, 'Carli': 1115, 'Carlos': 1116, 'Carnes': 1117, 'Carolyn': 1118, 'Carroll': 1119, 'Cary': 1120, 'Cathleen': 1121, 'Catholic': 1122, 'Cayman': 1123, 'Center': 1124, 'Chancourtois': 1125, 'Chase': 1126, 'Cher': 1127, 'Chhote': 1128, 'Child': 1129, 'Chip': 1130, 'Chloe': 1131, 'Christ': 1132, 'Christie': 1133, 'Chuck': 1134, 'Civil': 1135, 'Claire': 1136, 'Clarke': 1137, 'Clause': 1138, 'Clergy': 1139, 'Cobie': 1140, 'Cody': 1141, 'Coghlan': 1142, 'Collins': 1143, 'Colorado': 1144, 'Comics': 1145, 'Confederate': 1146, 'Congo': 1147, 'Connors': 1148, 'Conrad': 1149, 'Cooke': 1150, 'Cooper': 1151, 'Cove': 1152, 'Cox': 1153, 'Cravalho': 1154, 'Cristin': 1155, 'Cropper': 1156, 'Crows': 1157, 'Czechoslavak': 1158, 'D': 1159, 'Dallas': 1160, 'Dame': 1161, 'Dark': 1162, 'Darling': 1163, 'Dartmouth': 1164, 'Davidson': 1165, 'De': 1166, 'Deep': 1167, 'Delano': 1168, 'Delhi': 1169, 'Derulo': 1170, 'Desai': 1171, 'Desmond': 1172, 'Deuteronomy': 1173, 'Deventer': 1174, 'Dewey': 1175, 'Diana': 1176, 'Diego': 1177, 'Dil': 1178, 'Disney': 1179, 'Disneyland': 1180, 'Dmitri': 1181, 'Do': 1182, 'Doctor': 1183, 'Doetinchem': 1184, 'Doina': 1185, 'Donna': 1186, 'Dr.': 1187, 'Dragon': 1188, 'Dragons': 1189, 'Dravid': 1190, 'Draw': 1191, 'Drive': 1192, 'Duke': 1193, 'Dumezweni': 1194, 'Dunaway': 1195, 'E': 1196, 'Eamonn': 1197, 'Eaton': 1198, 'Ebina': 1199, 'Eden': 1200, 'Efron': 1201, 'Egypt': 1202, 'El': 1203, 'Elaine': 1204, 'Elias': 1205, 'Ellis': 1206, 'Emilio': 1207, 'Emily': 1208, 'End': 1209, 'Enschede': 1210, 'Enterprise': 1211, 'Ephron': 1212, 'Ernie': 1213, 'Eswatini': 1214, 'Evgenia': 1215, 'Ewan': 1216, 'Exosphere': 1217, 'F': 1218, 'Farrell': 1219, 'Fatt': 1220, 'Feast': 1221, 'Felix': 1222, 'Ferguson': 1223, 'Fillion': 1224, 'Financial': 1225, 'Finch': 1226, 'Finley': 1227, 'Fiona': 1228, 'Flack': 1229, 'Ford': 1230, 'Foreman': 1231, 'Fort': 1232, 'Four': 1233, 'Fourth': 1234, 'Fox': 1235, 'Franco': 1236, 'Frey': 1237, 'Friday': 1238, 'From': 1239, 'Fuller': 1240, 'G': 1241, 'Gage': 1242, 'Galilei': 1243, 'Galileo': 1244, 'Gambon': 1245, 'Gates': 1246, 'Gehlot': 1247, 'Genesis': 1248, 'Gentlemen': 1249, 'Gerard': 1250, 'Giblin': 1251, 'Girls': 1252, 'Gold': 1253, 'Government': 1254, 'Governor': 1255, 'Grace': 1256, 'Graham': 1257, 'Gregory': 1258, 'Griffin': 1259, 'Grimes': 1260, 'Gulf': 1261, 'H': 1262, 'H.': 1263, 'Hackett': 1264, 'Hal': 1265, 'Haley': 1266, 'Hannibal': 1267, 'Harden': 1268, 'Hardy': 1269, 'Harold': 1270, 'Harvey': 1271, 'Hastings': 1272, 'Hathaway': 1273, 'Hawkins': 1274, 'Helms': 1275, 'Hemant': 1276, 'Hemisphere': 1277, 'Henderson': 1278, 'Henley': 1279, 'Herbert': 1280, 'Hernandez': 1281, 'Hill': 1282, 'Holdings': 1283, 'Holloway': 1284, 'Home': 1285, 'Howe': 1286, 'Hugo': 1287, 'Hungary': 1288, 'IV': 1289, 'Iain': 1290, 'Ice': 1291, 'Idina': 1292, 'Illinois': 1293, 'Inc.': 1294, 'Industrial': 1295, 'Instagram': 1296, 'Iqbal': 1297, 'Ireland': 1298, 'Irving': 1299, 'Israel': 1300, 'J.W.': 1301, 'Jacques': 1302, 'Jamie': 1303, 'Jammu': 1304, 'Jasmin': 1305, 'Jay': 1306, 'Jeremiah': 1307, 'Jets': 1308, 'Jo': 1309, 'Johansson': 1310, 'Jose': 1311, 'Josh': 1312, 'Joshi': 1313, 'Jovi': 1314, 'Joyce': 1315, 'Judith': 1316, 'Judy': 1317, 'Jules': 1318, 'Julie': 1319, 'Julius': 1320, 'Just': 1321, 'Kaitlyn': 1322, 'Kamalesvaran': 1323, 'Kansas': 1324, 'Karen': 1325, 'Kashmir': 1326, 'Kathleen': 1327, 'Kathryn': 1328, 'Kavanaugh': 1329, 'Keating': 1330, 'Kerala': 1331, 'Kerr': 1332, 'Khan': 1333, 'Kinnaman': 1334, 'Kiran': 1335, 'Kirsten': 1336, 'Kishan': 1337, 'Klementieff': 1338, 'Korea': 1339, 'Korsakov': 1340, 'Kossoy': 1341, 'Krauss': 1342, 'Kurt': 1343, 'Kuwait': 1344, 'Kylo': 1345, 'L3': 1346, 'La': 1347, 'Lady': 1348, 'Lange': 1349, 'Lara': 1350, 'Latin': 1351, 'Laura': 1352, 'Lausanne': 1353, 'Lawes': 1354, 'Le': 1355, 'Leary': 1356, 'Leigh': 1357, 'Leo': 1358, 'Lepiato': 1359, 'Lieutenant': 1360, 'Lightyear': 1361, 'Lily': 1362, 'Linda': 1363, 'Lindsay': 1364, 'Lorraine': 1365, 'Louise': 1366, 'Ltd.': 1367, 'Lusail': 1368, 'Luther': 1369, 'Lynn': 1370, 'Lyon': 1371, 'Léon': 1372, 'López': 1373, 'Maciej': 1374, 'Madison': 1375, 'Main': 1376, 'Mali': 1377, 'Mallorca': 1378, 'Malone': 1379, 'Mane': 1380, 'Manfred': 1381, 'Manning': 1382, 'Manoj': 1383, 'Mansion': 1384, 'Mara': 1385, 'Marc': 1386, 'Marcus': 1387, 'Maria': 1388, 'Mariyappan': 1389, 'Marla': 1390, 'Marshall': 1391, 'Martha': 1392, 'Massachusetts': 1393, 'Mastiff': 1394, 'Mattel': 1395, 'Mauna': 1396, 'Maxwell': 1397, 'McConnell': 1398, 'McEwen': 1399, 'McFly': 1400, 'McGrath': 1401, 'McGregor': 1402, 'McGuire': 1403, 'McLean': 1404, 'Mediterranean': 1405, 'Medvedeva': 1406, 'Melinte': 1407, 'Melissa': 1408, 'Mendeleev': 1409, 'Menzel': 1410, 'Mercury': 1411, 'Methuselah': 1412, 'Mia': 1413, 'Michigan': 1414, 'Miles': 1415, 'Millennium': 1416, 'Minstrels': 1417, 'Mohawk': 1418, 'Monica': 1419, 'Montgomery': 1420, 'Morgan': 1421, 'Morrison': 1422, 'Morton': 1423, 'Mount': 1424, 'Movement': 1425, 'Mrs.': 1426, 'Mukherjee': 1427, 'Mulvaney': 1428, 'Murphy': 1429, 'Myers': 1430, 'NBA': 1431, 'Nathaniel': 1432, 'Nazareth': 1433, 'Neal': 1434, 'Ned': 1435, 'Nehru': 1436, 'Neil': 1437, 'Network': 1438, 'Neuer': 1439, 'Nevada': 1440, 'Newbern': 1441, 'Newfoundland': 1442, 'Newman': 1443, 'Newton': 1444, 'Nielsen': 1445, 'Niger': 1446, 'Nigeria': 1447, 'Nikolai': 1448, 'Nissan': 1449, 'Noma': 1450, 'None': 1451, 'Notorious': 1452, 'O': 1453, \"O'Connor\": 1454, \"O'Donoghue\": 1455, 'Officer': 1456, 'Olympiastadion': 1457, 'Orange': 1458, 'Oregon': 1459, 'Organization': 1460, 'Orleans': 1461, 'Ottoman': 1462, 'Packers': 1463, 'Pagans': 1464, 'Paris': 1465, 'Parliament': 1466, 'Pasadena': 1467, 'Patil': 1468, 'Patricia': 1469, 'Patriots': 1470, 'Patti': 1471, 'Payne': 1472, 'Pearl': 1473, 'Peck': 1474, 'Pelosi': 1475, 'Peninsula': 1476, 'Pentateuch': 1477, 'Peterburg': 1478, 'Peters': 1479, 'Petersburg': 1480, 'Philbin': 1481, 'Phillips': 1482, 'Phoebe': 1483, 'Point': 1484, 'Portugal': 1485, 'Potsdam': 1486, 'Potts': 1487, 'Povenmire': 1488, 'Powell': 1489, 'Pradesh': 1490, 'Pranab': 1491, 'Pratibha': 1492, 'Prayer': 1493, 'Prefer': 1494, 'Preston': 1495, 'Prima': 1496, 'Princess': 1497, 'Priscilla': 1498, 'Protection': 1499, 'Protocol': 1500, 'Ptolemy': 1501, 'Puerto': 1502, 'Pujols': 1503, 'Punjab': 1504, 'Quebec': 1505, 'Rajesh': 1506, 'Raleigh': 1507, 'Ramesh': 1508, 'Rani': 1509, 'Raymond': 1510, 'Rayyan': 1511, 'Redding': 1512, 'Reeves': 1513, 'Ren': 1514, 'Representatives': 1515, 'Resort': 1516, 'Rexha': 1517, 'Rice': 1518, 'Richardson': 1519, 'Rico': 1520, 'Ridge': 1521, 'Rimsky': 1522, 'Ring': 1523, 'Ritchie': 1524, 'Road': 1525, 'Roberta': 1526, 'Robertson': 1527, 'Robin': 1528, 'Rockapella': 1529, 'Roderick': 1530, 'Rohit': 1531, 'Rollins': 1532, 'Romania': 1533, 'Romano': 1534, 'Ronald': 1535, 'Root': 1536, 'Rotterdam': 1537, 'Rouge': 1538, 'Rouse': 1539, 'Roxanne': 1540, 'Royal': 1541, 'Sabella': 1542, 'Saddam': 1543, 'Sally': 1544, 'Sammy': 1545, 'Sandra': 1546, 'Sanjay': 1547, 'Santa': 1548, 'Santos': 1549, 'Saudi': 1550, 'Scanavino': 1551, 'Scarlett': 1552, 'Schmit': 1553, 'Sebastian': 1554, 'Shada': 1555, 'Shadows': 1556, 'Shai': 1557, 'Shannon': 1558, 'Sharad': 1559, 'Sharma': 1560, 'Shaw': 1561, 'Shepherd': 1562, 'Sher': 1563, 'Shetty': 1564, 'Shikhar': 1565, 'Shortbread': 1566, 'Sidik': 1567, 'Sidney': 1568, 'Sirach': 1569, 'Slate': 1570, 'Slowly': 1571, 'Smulders': 1572, 'Solomon': 1573, 'Song': 1574, 'Sophie': 1575, 'Spieth': 1576, 'Sr': 1577, 'Stan': 1578, 'Stanley': 1579, 'Stanton': 1580, 'Starlighters': 1581, 'Station': 1582, 'Sterling': 1583, 'Stevens': 1584, 'Stilgoe': 1585, 'Stone': 1586, 'Storm': 1587, 'Strange': 1588, 'Strauss': 1589, 'Studios': 1590, 'Subah': 1591, 'Summer': 1592, 'Supreme': 1593, 'Suzanne': 1594, 'Swift': 1595, 'Swiss': 1596, 'Switzerland': 1597, 'Syria': 1598, \"T'Chaka\": 1599, 'Tales': 1600, 'Tampa': 1601, 'Team': 1602, 'Terrier': 1603, 'Territory': 1604, 'Texans': 1605, 'Thangavelu': 1606, 'Thanks': 1607, 'Theodore': 1608, 'Third': 1609, 'This': 1610, 'Thom': 1611, 'Thorogood': 1612, 'Thursday': 1613, 'Tibbets': 1614, 'Tilburg': 1615, 'Tisdale': 1616, 'Todd': 1617, 'Townsend': 1618, 'Toyota': 1619, 'TruTV': 1620, 'Truman': 1621, 'Trust': 1622, 'U.S.': 1623, 'USA': 1624, 'USC': 1625, 'USOS': 1626, 'USS': 1627, 'Ulf': 1628, 'Unexpected': 1629, 'Utah': 1630, 'VanderWaal': 1631, 'Vanessa': 1632, 'Versailles': 1633, 'Vikander': 1634, 'Villanova': 1635, 'Visa': 1636, 'Voyager': 1637, 'W': 1638, 'Wagner': 1639, 'Warburton': 1640, 'Water': 1641, 'Waylon': 1642, 'Weather': 1643, 'Welch': 1644, 'Wellington': 1645, 'Wendy': 1646, 'Westbrook': 1647, 'Wheel': 1648, 'Whispers': 1649, 'Wicks': 1650, 'Willie': 1651, 'Willis': 1652, 'Wind': 1653, 'Winds': 1654, 'Wisconsin': 1655, 'Wong': 1656, 'Wood': 1657, 'Works': 1658, 'Wow': 1659, 'Wright': 1660, 'XI': 1661, 'Yellowstone': 1662, 'Yente': 1663, 'Yondu': 1664, 'Yoren': 1665, 'a.m.': 1666, 'acid': 1667, 'action': 1668, 'activity': 1669, 'advice': 1670, 'an': 1671, 'apple': 1672, 'around': 1673, 'ball': 1674, 'be': 1675, 'below': 1676, 'belt': 1677, 'border': 1678, 'both': 1679, 'bottom': 1680, 'brush': 1681, 'c.': 1682, 'cancer': 1683, 'capital': 1684, 'car': 1685, 'center': 1686, 'certain': 1687, 'class': 1688, 'colon': 1689, 'comedy': 1690, 'company': 1691, 'consent': 1692, 'crucifixes': 1693, 'data': 1694, 'democratic': 1695, 'different': 1696, 'discovered': 1697, 'dos': 1698, 'du': 1699, 'early': 1700, 'ended': 1701, 'episodes': 1702, 'exile': 1703, 'explosion': 1704, 'family': 1705, 'fashion': 1706, 'featuring': 1707, 'florida': 1708, 'fluoride': 1709, 'folklore': 1710, 'football': 1711, 'force': 1712, 'form': 1713, 'found': 1714, 'front': 1715, 'gameplay': 1716, 'government': 1717, 'governments': 1718, 'governor': 1719, 'grams': 1720, 'groups': 1721, 'gypsum': 1722, 'halite': 1723, 'health': 1724, 'human': 1725, 'inches': 1726, 'into': 1727, 'items': 1728, 'its': 1729, 'kilometres': 1730, 'large': 1731, 'largely': 1732, 'last': 1733, 'law': 1734, 'layer': 1735, 'league': 1736, 'legislative': 1737, 'levels': 1738, 'like': 1739, 'living': 1740, 'lower': 1741, 'masking': 1742, 'metal': 1743, 'mi': 1744, 'middle': 1745, 'miles': 1746, 'mix': 1747, 'model': 1748, 'molecules': 1749, 'monarchy': 1750, 'more': 1751, 'mosque': 1752, 'next': 1753, 'none': 1754, 'north': 1755, 'ocean': 1756, 'off': 1757, 'optic': 1758, 'organizations': 1759, 'overs': 1760, 'pancreas': 1761, 'parts': 1762, 'patient': 1763, 'per': 1764, 'physical': 1765, 'plate': 1766, 'plates': 1767, 'prisoners': 1768, 'radio': 1769, 'restaurant': 1770, 'river': 1771, 'salt': 1772, 'salts': 1773, 'seconds': 1774, 'sixth': 1775, 'size': 1776, 'smaller': 1777, 'sodium': 1778, 'son': 1779, 'southwestern': 1780, 'spread': 1781, 'subducted': 1782, 'suburb': 1783, 'support': 1784, 'surrounding': 1785, 'tail': 1786, 'tea': 1787, 'territory': 1788, 'test': 1789, 'through': 1790, 'times': 1791, 'tissue': 1792, 'town': 1793, 'tract': 1794, 'transverse': 1795, 'troposphere': 1796, 'unknown': 1797, 'upcoming': 1798, 'various': 1799, 'vessel': 1800, 'video': 1801, 'vote': 1802, 'war': 1803, 'way': 1804, 'when': 1805, 'where': 1806, 'wife': 1807, 'wild': 1808, 'wooden': 1809, 'y': 1810, 'you': 1811})\n"
          ],
          "name": "stdout"
        }
      ]
    },
    {
      "cell_type": "code",
      "metadata": {
        "id": "0D0T6sriIt8V"
      },
      "source": [
        "BATCH_SIZE = 128\r\n",
        "train_iterator_third, valid_iterator_third = data.BucketIterator.splits(\r\n",
        "                                (Train_Dataset_Third, Valid_Dataset_Third), \r\n",
        "                                batch_size = BATCH_SIZE,\r\n",
        "                                sort_key = lambda x: len(x.questions_third),\r\n",
        "                                sort_within_batch=True ,\r\n",
        "                                device = device)"
      ],
      "execution_count": 24,
      "outputs": []
    },
    {
      "cell_type": "code",
      "metadata": {
        "colab": {
          "base_uri": "https://localhost:8080/"
        },
        "id": "5hrn6YFVIibd",
        "outputId": "f5f8b489-93cc-4072-aa0b-7ef83def85f7"
      },
      "source": [
        "for i, batch in enumerate(train_iterator_third):\r\n",
        "  print(type(batch), type(batch.answers_third), type(batch.questions_third))\r\n",
        "  break"
      ],
      "execution_count": 25,
      "outputs": [
        {
          "output_type": "stream",
          "text": [
            "<class 'torchtext.data.batch.Batch'> <class 'torch.Tensor'> <class 'torch.Tensor'>\n"
          ],
          "name": "stdout"
        }
      ]
    },
    {
      "cell_type": "markdown",
      "metadata": {
        "id": "Jq7BwOO4EzFd"
      },
      "source": [
        "## Building the Seq2Seq Model\n",
        "\n",
        "### Encoder\n",
        "\n",
        "The encoder is similar to the previous one, with the multi-layer LSTM swapped for a single-layer GRU. We also don't pass the dropout as an argument to the GRU as that dropout is used between each layer of a multi-layered RNN. As we only have a single layer, PyTorch will display a warning if we try and use pass a dropout value to it.\n",
        "\n",
        "Another thing to note about the GRU is that it only requires and returns a hidden state, there is no cell state like in the LSTM.\n",
        "\n",
        "$$\\begin{align*}\n",
        "h_t &= \\text{GRU}(e(x_t), h_{t-1})\\\\\n",
        "(h_t, c_t) &= \\text{LSTM}(e(x_t), h_{t-1}, c_{t-1})\\\\\n",
        "h_t &= \\text{RNN}(e(x_t), h_{t-1})\n",
        "\\end{align*}$$\n",
        "\n",
        "From the equations above, it looks like the RNN and the GRU are identical. Inside the GRU, however, is a number of *gating mechanisms* that control the information flow in to and out of the hidden state (similar to an LSTM). Again, for more info, check out [this](https://colah.github.io/posts/2015-08-Understanding-LSTMs/) excellent post. \n",
        "\n",
        "The rest of the encoder should be very familar from the last session, it takes in a sequence, $X = \\{x_1, x_2, ... , x_T\\}$, passes it through the embedding layer, recurrently calculates hidden states, $H = \\{h_1, h_2, ..., h_T\\}$, and returns a context vector (the final hidden state), $z=h_T$.\n",
        "\n",
        "$$h_t = \\text{EncoderGRU}(e(x_t), h_{t-1})$$\n",
        "\n",
        "This is identical to the encoder of the general seq2seq model, with all the \"magic\" happening inside the GRU (green).\n",
        "\n",
        "![](https://github.com/bentrevett/pytorch-seq2seq/blob/master/assets/seq2seq5.png?raw=1)"
      ]
    },
    {
      "cell_type": "code",
      "metadata": {
        "id": "11CnDhTkEzFd"
      },
      "source": [
        "class Encoder(nn.Module):\n",
        "    def __init__(self, input_dim, emb_dim, hid_dim, dropout):\n",
        "        super().__init__()\n",
        "\n",
        "        self.hid_dim = hid_dim\n",
        "        \n",
        "        self.embedding = nn.Embedding(input_dim, emb_dim) #no dropout as only one layer!\n",
        "        \n",
        "        self.rnn = nn.GRU(emb_dim, hid_dim)\n",
        "        \n",
        "        self.dropout = nn.Dropout(dropout)\n",
        "        \n",
        "    def forward(self, src):\n",
        "        \n",
        "        #src = [src len, batch size]\n",
        "        \n",
        "        embedded = self.dropout(self.embedding(src))\n",
        "        \n",
        "        #embedded = [src len, batch size, emb dim]\n",
        "        \n",
        "        outputs, hidden = self.rnn(embedded) #no cell state!\n",
        "        \n",
        "        #outputs = [src len, batch size, hid dim * n directions]\n",
        "        #hidden = [n layers * n directions, batch size, hid dim]\n",
        "        \n",
        "        #outputs are always from the top hidden layer\n",
        "        \n",
        "        return hidden"
      ],
      "execution_count": 26,
      "outputs": []
    },
    {
      "cell_type": "markdown",
      "metadata": {
        "id": "FhBViJ4-EzFe"
      },
      "source": [
        "## Decoder\n",
        "\n",
        "The decoder is where the implementation differs significantly from the previous model and we alleviate some of the information compression.\n",
        "\n",
        "Instead of the GRU in the decoder taking just the embedded target token, $d(y_t)$ and the previous hidden state $s_{t-1}$ as inputs, it also takes the context vector $z$. \n",
        "\n",
        "$$s_t = \\text{DecoderGRU}(d(y_t), s_{t-1}, z)$$\n",
        "\n",
        "Note how this context vector, $z$, does not have a $t$ subscript, meaning we re-use the same context vector returned by the encoder for every time-step in the decoder. \n",
        "\n",
        "Before, we predicted the next token, $\\hat{y}_{t+1}$, with the linear layer, $f$, only using the top-layer decoder hidden state at that time-step, $s_t$, as $\\hat{y}_{t+1}=f(s_t^L)$. Now, we also pass the embedding of current token, $d(y_t)$ and the context vector, $z$ to the linear layer.\n",
        "\n",
        "$$\\hat{y}_{t+1} = f(d(y_t), s_t, z)$$\n",
        "\n",
        "Thus, our decoder now looks something like this:\n",
        "\n",
        "![](https://github.com/bentrevett/pytorch-seq2seq/blob/master/assets/seq2seq6.png?raw=1)\n",
        "\n",
        "Note, the initial hidden state, $s_0$, is still the context vector, $z$, so when generating the first token we are actually inputting two identical context vectors into the GRU.\n",
        "\n",
        "How do these two changes reduce the information compression? Well, hypothetically the decoder hidden states, $s_t$, no longer need to contain information about the source sequence as it is always available as an input. Thus, it only needs to contain information about what tokens it has generated so far. The addition of $y_t$ to the linear layer also means this layer can directly see what the token is, without having to get this information from the hidden state. \n",
        "\n",
        "However, this hypothesis is just a hypothesis, it is impossible to determine how the model actually uses the information provided to it (don't listen to anyone that says differently). Nevertheless, it is a solid intuition and the results seem to indicate that this modifications are a good idea!\n",
        "\n",
        "Within the implementation, we will pass $d(y_t)$ and $z$ to the GRU by concatenating them together, so the input dimensions to the GRU are now `emb_dim + hid_dim` (as context vector will be of size `hid_dim`). The linear layer will take $d(y_t), s_t$ and $z$ also by concatenating them together, hence the input dimensions are now `emb_dim + hid_dim*2`. We also don't pass a value of dropout to the GRU as it only uses a single layer.\n",
        "\n",
        "`forward` now takes a `context` argument. Inside of `forward`, we concatenate $y_t$ and $z$ as `emb_con` before feeding to the GRU, and we concatenate $d(y_t)$, $s_t$ and $z$ together as `output` before feeding it through the linear layer to receive our predictions, $\\hat{y}_{t+1}$."
      ]
    },
    {
      "cell_type": "code",
      "metadata": {
        "id": "wRA8hkiLEzFh"
      },
      "source": [
        "class Decoder(nn.Module):\n",
        "    def __init__(self, output_dim, emb_dim, hid_dim, dropout):\n",
        "        super().__init__()\n",
        "\n",
        "        self.hid_dim = hid_dim\n",
        "        self.output_dim = output_dim\n",
        "        \n",
        "        self.embedding = nn.Embedding(output_dim, emb_dim)\n",
        "        \n",
        "        self.rnn = nn.GRU(emb_dim + hid_dim, hid_dim)\n",
        "        \n",
        "        self.fc_out = nn.Linear(emb_dim + hid_dim * 2, output_dim)\n",
        "        \n",
        "        self.dropout = nn.Dropout(dropout)\n",
        "        \n",
        "    def forward(self, input, hidden, context):\n",
        "        \n",
        "        #input = [batch size]\n",
        "        #hidden = [n layers * n directions, batch size, hid dim]\n",
        "        #context = [n layers * n directions, batch size, hid dim]\n",
        "        \n",
        "        #n layers and n directions in the decoder will both always be 1, therefore:\n",
        "        #hidden = [1, batch size, hid dim]\n",
        "        #context = [1, batch size, hid dim]\n",
        "        \n",
        "        input = input.unsqueeze(0)\n",
        "        \n",
        "        #input = [1, batch size]\n",
        "        \n",
        "        embedded = self.dropout(self.embedding(input))\n",
        "        \n",
        "        #embedded = [1, batch size, emb dim]\n",
        "                \n",
        "        emb_con = torch.cat((embedded, context), dim = 2)\n",
        "            \n",
        "        #emb_con = [1, batch size, emb dim + hid dim]\n",
        "            \n",
        "        output, hidden = self.rnn(emb_con, hidden)\n",
        "        \n",
        "        #output = [seq len, batch size, hid dim * n directions]\n",
        "        #hidden = [n layers * n directions, batch size, hid dim]\n",
        "        \n",
        "        #seq len, n layers and n directions will always be 1 in the decoder, therefore:\n",
        "        #output = [1, batch size, hid dim]\n",
        "        #hidden = [1, batch size, hid dim]\n",
        "        \n",
        "        output = torch.cat((embedded.squeeze(0), hidden.squeeze(0), context.squeeze(0)), \n",
        "                           dim = 1)\n",
        "        \n",
        "        #output = [batch size, emb dim + hid dim * 2]\n",
        "        \n",
        "        prediction = self.fc_out(output)\n",
        "        \n",
        "        #prediction = [batch size, output dim]\n",
        "        \n",
        "        return prediction, hidden"
      ],
      "execution_count": 27,
      "outputs": []
    },
    {
      "cell_type": "markdown",
      "metadata": {
        "id": "wqR66FM2EzFj"
      },
      "source": [
        "## Seq2Seq Model\n",
        "\n",
        "Putting the encoder and decoder together, we get:\n",
        "\n",
        "![](https://github.com/bentrevett/pytorch-seq2seq/blob/master/assets/seq2seq7.png?raw=1)\n",
        "\n",
        "Again, in this implementation we need to ensure the hidden dimensions in both the encoder and the decoder are the same.\n",
        "\n",
        "Briefly going over all of the steps:\n",
        "- the `outputs` tensor is created to hold all predictions, $\\hat{Y}$\n",
        "- the source sequence, $X$, is fed into the encoder to receive a `context` vector\n",
        "- the initial decoder hidden state is set to be the `context` vector, $s_0 = z = h_T$\n",
        "- we use a batch of `<sos>` tokens as the first `input`, $y_1$\n",
        "- we then decode within a loop:\n",
        "  - inserting the input token $y_t$, previous hidden state, $s_{t-1}$, and the context vector, $z$, into the decoder\n",
        "  - receiving a prediction, $\\hat{y}_{t+1}$, and a new hidden state, $s_t$\n",
        "  - we then decide if we are going to teacher force or not, setting the next input as appropriate (either the ground truth next token in the target sequence or the highest predicted next token)"
      ]
    },
    {
      "cell_type": "code",
      "metadata": {
        "id": "FDyNrQ8VEzFk"
      },
      "source": [
        "class Seq2Seq(nn.Module):\n",
        "    def __init__(self, encoder, decoder, device):\n",
        "        super().__init__()\n",
        "        \n",
        "        self.encoder = encoder\n",
        "        self.decoder = decoder\n",
        "        self.device = device\n",
        "        \n",
        "        assert encoder.hid_dim == decoder.hid_dim, \\\n",
        "            \"Hidden dimensions of encoder and decoder must be equal!\"\n",
        "        \n",
        "    def forward(self, src, trg, teacher_forcing_ratio = 0.5):\n",
        "        \n",
        "        #src = [src len, batch size]\n",
        "        #trg = [trg len, batch size]\n",
        "        #teacher_forcing_ratio is probability to use teacher forcing\n",
        "        #e.g. if teacher_forcing_ratio is 0.75 we use ground-truth inputs 75% of the time\n",
        "        \n",
        "        batch_size = trg.shape[1]\n",
        "        trg_len = trg.shape[0]\n",
        "        trg_vocab_size = self.decoder.output_dim\n",
        "        \n",
        "        #tensor to store decoder outputs\n",
        "        outputs = torch.zeros(trg_len, batch_size, trg_vocab_size).to(self.device)\n",
        "        \n",
        "        #last hidden state of the encoder is the context\n",
        "        context = self.encoder(src)\n",
        "        \n",
        "        #context also used as the initial hidden state of the decoder\n",
        "        hidden = context\n",
        "        \n",
        "        #first input to the decoder is the <sos> tokens\n",
        "        input = trg[0,:]\n",
        "        \n",
        "        for t in range(1, trg_len):\n",
        "            \n",
        "            #insert input token embedding, previous hidden state and the context state\n",
        "            #receive output tensor (predictions) and new hidden state\n",
        "            output, hidden = self.decoder(input, hidden, context)\n",
        "            \n",
        "            #place predictions in a tensor holding predictions for each token\n",
        "            outputs[t] = output\n",
        "            \n",
        "            #decide if we are going to use teacher forcing or not\n",
        "            teacher_force = random.random() < teacher_forcing_ratio\n",
        "            \n",
        "            #get the highest predicted token from our predictions\n",
        "            top1 = output.argmax(1) \n",
        "            \n",
        "            #if teacher forcing, use actual next token as next input\n",
        "            #if not, use predicted token\n",
        "            input = trg[t] if teacher_force else top1\n",
        "\n",
        "        return outputs"
      ],
      "execution_count": 28,
      "outputs": []
    },
    {
      "cell_type": "markdown",
      "metadata": {
        "id": "uxVMMPUyEzFk"
      },
      "source": [
        "# Training the Seq2Seq Model\n",
        "\n",
        "The rest of this session is very similar to the previous one. \n",
        "\n",
        "We initialise our encoder, decoder and seq2seq model (placing it on the GPU if we have one). As before, the embedding dimensions and the amount of dropout used can be different between the encoder and the decoder, but the hidden dimensions must remain the same."
      ]
    },
    {
      "cell_type": "code",
      "metadata": {
        "id": "WDG6jOSuEzFk"
      },
      "source": [
        "INPUT_DIM = len(Questions_Third.vocab)\n",
        "OUTPUT_DIM = len(Answers_Third.vocab)\n",
        "ENC_EMB_DIM = 256\n",
        "DEC_EMB_DIM = 256\n",
        "HID_DIM = 512\n",
        "ENC_DROPOUT = 0.5\n",
        "DEC_DROPOUT = 0.5\n",
        "\n",
        "enc = Encoder(INPUT_DIM, ENC_EMB_DIM, HID_DIM, ENC_DROPOUT)\n",
        "dec = Decoder(OUTPUT_DIM, DEC_EMB_DIM, HID_DIM, DEC_DROPOUT)\n",
        "\n",
        "device = torch.device('cuda' if torch.cuda.is_available() else 'cpu')\n",
        "\n",
        "model = Seq2Seq(enc, dec, device).to(device)"
      ],
      "execution_count": 29,
      "outputs": []
    },
    {
      "cell_type": "markdown",
      "metadata": {
        "id": "RLIc1l6CEzFk"
      },
      "source": [
        "Next, we initialize our parameters. The paper states the parameters are initialized from a normal distribution with a mean of 0 and a standard deviation of 0.01, i.e. $\\mathcal{N}(0, 0.01)$. \n",
        "\n",
        "It also states we should initialize the recurrent parameters to a special initialization, however to keep things simple we'll also initialize them to $\\mathcal{N}(0, 0.01)$."
      ]
    },
    {
      "cell_type": "code",
      "metadata": {
        "id": "HgqMqq-oEzFk",
        "colab": {
          "base_uri": "https://localhost:8080/"
        },
        "outputId": "e46dc4cc-5ccb-4cff-feb9-cfd878670d5b"
      },
      "source": [
        "def init_weights(m):\n",
        "    for name, param in m.named_parameters():\n",
        "        nn.init.normal_(param.data, mean=0, std=0.01)\n",
        "        \n",
        "model.apply(init_weights)"
      ],
      "execution_count": 30,
      "outputs": [
        {
          "output_type": "execute_result",
          "data": {
            "text/plain": [
              "Seq2Seq(\n",
              "  (encoder): Encoder(\n",
              "    (embedding): Embedding(4443, 256)\n",
              "    (rnn): GRU(256, 512)\n",
              "    (dropout): Dropout(p=0.5, inplace=False)\n",
              "  )\n",
              "  (decoder): Decoder(\n",
              "    (embedding): Embedding(1812, 256)\n",
              "    (rnn): GRU(768, 512)\n",
              "    (fc_out): Linear(in_features=1280, out_features=1812, bias=True)\n",
              "    (dropout): Dropout(p=0.5, inplace=False)\n",
              "  )\n",
              ")"
            ]
          },
          "metadata": {
            "tags": []
          },
          "execution_count": 30
        }
      ]
    },
    {
      "cell_type": "markdown",
      "metadata": {
        "id": "hd1QoOsUEzFl"
      },
      "source": [
        "We print out the number of parameters.\n",
        "\n",
        "Even though we only have a single layer RNN for our encoder and decoder we actually have **more** parameters  than the last model. This is due to the increased size of the inputs to the GRU and the linear layer. However, it is not a significant amount of parameters and causes a minimal amount of increase in training time (~3 seconds per epoch extra)."
      ]
    },
    {
      "cell_type": "code",
      "metadata": {
        "id": "IggCwIBgEzFl",
        "colab": {
          "base_uri": "https://localhost:8080/"
        },
        "outputId": "164727eb-dc3e-4b1a-cc37-c683b11879ef"
      },
      "source": [
        "def count_parameters(model):\n",
        "    return sum(p.numel() for p in model.parameters() if p.requires_grad)\n",
        "\n",
        "print(f'The model has {count_parameters(model):,} trainable parameters')"
      ],
      "execution_count": 31,
      "outputs": [
        {
          "output_type": "stream",
          "text": [
            "The model has 7,074,324 trainable parameters\n"
          ],
          "name": "stdout"
        }
      ]
    },
    {
      "cell_type": "markdown",
      "metadata": {
        "id": "YiH54qzHEzFl"
      },
      "source": [
        "We initiaize our optimizer."
      ]
    },
    {
      "cell_type": "code",
      "metadata": {
        "id": "eO1_eoG7EzFl"
      },
      "source": [
        "optimizer = optim.Adam(model.parameters())"
      ],
      "execution_count": 32,
      "outputs": []
    },
    {
      "cell_type": "markdown",
      "metadata": {
        "id": "BwkV3FKlEzFl"
      },
      "source": [
        "We also initialize the loss function, making sure to ignore the loss on `<pad>` tokens."
      ]
    },
    {
      "cell_type": "code",
      "metadata": {
        "id": "H0DAbGbcEzFl"
      },
      "source": [
        "TRG_PAD_IDX = Answers_Third.vocab.stoi[Answers_Third.pad_token]\n",
        "\n",
        "criterion = nn.CrossEntropyLoss(ignore_index = TRG_PAD_IDX)"
      ],
      "execution_count": 33,
      "outputs": []
    },
    {
      "cell_type": "markdown",
      "metadata": {
        "id": "FTay7E9rEzFm"
      },
      "source": [
        "We then create the training loop..."
      ]
    },
    {
      "cell_type": "code",
      "metadata": {
        "id": "A5OYuoFdEzFm"
      },
      "source": [
        "def train(model, iterator, optimizer, criterion, clip):\n",
        "    \n",
        "    model.train()\n",
        "    \n",
        "    epoch_loss = 0\n",
        "    \n",
        "    for i, batch in enumerate(iterator):\n",
        "        \n",
        "        src = batch.questions_third\n",
        "        trg = batch.answers_third\n",
        "\n",
        "        src = src.permute(1, 0)\n",
        "        trg = trg.permute(1, 0)\n",
        "\n",
        "        optimizer.zero_grad()\n",
        "        \n",
        "        output = model(src, trg)\n",
        "        \n",
        "        #trg = [trg len, batch size]\n",
        "        #output = [trg len, batch size, output dim]\n",
        "        \n",
        "        output_dim = output.shape[-1]\n",
        "        \n",
        "        output = output[1:].view(-1, output_dim)\n",
        "        trg = trg[1:]\n",
        "        trg = torch.reshape(trg, (-1,)) #trg[1:].view(-1)\n",
        "        \n",
        "        #trg = [(trg len - 1) * batch size]\n",
        "        #output = [(trg len - 1) * batch size, output dim]\n",
        "        \n",
        "        loss = criterion(output, trg)\n",
        "        \n",
        "        loss.backward()\n",
        "        \n",
        "        torch.nn.utils.clip_grad_norm_(model.parameters(), clip)\n",
        "        \n",
        "        optimizer.step()\n",
        "        \n",
        "        epoch_loss += loss.item()\n",
        "        \n",
        "    return epoch_loss / len(iterator)"
      ],
      "execution_count": 34,
      "outputs": []
    },
    {
      "cell_type": "markdown",
      "metadata": {
        "id": "6rfUx5lhEzFm"
      },
      "source": [
        "...and the evaluation loop, remembering to set the model to `eval` mode and turn off teaching forcing."
      ]
    },
    {
      "cell_type": "code",
      "metadata": {
        "id": "Jw022pw0EzFm"
      },
      "source": [
        "def evaluate(model, iterator, criterion):\n",
        "    \n",
        "    model.eval()\n",
        "    \n",
        "    epoch_loss = 0\n",
        "    \n",
        "    with torch.no_grad():\n",
        "    \n",
        "        for i, batch in enumerate(iterator):\n",
        "\n",
        "            src = batch.questions_third\n",
        "            trg = batch.answers_third\n",
        "\n",
        "            src = src.permute(1, 0)\n",
        "            trg = trg.permute(1, 0)\n",
        "\n",
        "            output = model(src, trg, 0) #turn off teacher forcing\n",
        "            #print(\"output\", output.shape)\n",
        "            #trg = [trg len, batch size]\n",
        "            #output = [trg len, batch size, output dim]\n",
        "\n",
        "            output_dim = output.shape[-1]\n",
        "            \n",
        "            output = output[1:].view(-1, output_dim)\n",
        "            trg = trg[1:]#.view(-1)\n",
        "            trg = torch.reshape(trg, (-1,))\n",
        "\n",
        "            #trg = [(trg len - 1) * batch size]\n",
        "            #output = [(trg len - 1) * batch size, output dim]\n",
        "\n",
        "            loss = criterion(output, trg)\n",
        "\n",
        "            epoch_loss += loss.item()\n",
        "        \n",
        "    return epoch_loss / len(iterator)"
      ],
      "execution_count": 35,
      "outputs": []
    },
    {
      "cell_type": "markdown",
      "metadata": {
        "id": "E43h8dnQEzFm"
      },
      "source": [
        "We'll also define the function that calculates how long an epoch takes."
      ]
    },
    {
      "cell_type": "code",
      "metadata": {
        "id": "zTAmu3-EEzFm"
      },
      "source": [
        "def epoch_time(start_time, end_time):\n",
        "    elapsed_time = end_time - start_time\n",
        "    elapsed_mins = int(elapsed_time / 60)\n",
        "    elapsed_secs = int(elapsed_time - (elapsed_mins * 60))\n",
        "    return elapsed_mins, elapsed_secs"
      ],
      "execution_count": 36,
      "outputs": []
    },
    {
      "cell_type": "markdown",
      "metadata": {
        "id": "kbCGyO4ZEzFm"
      },
      "source": [
        "Then, we train our model, saving the parameters that give us the best validation loss."
      ]
    },
    {
      "cell_type": "code",
      "metadata": {
        "id": "jjFyRUK9EzFm",
        "colab": {
          "base_uri": "https://localhost:8080/"
        },
        "outputId": "12cec84f-9e80-43e9-ae00-0eaaff6f7d91"
      },
      "source": [
        "N_EPOCHS = 10\n",
        "CLIP = 1\n",
        "\n",
        "best_valid_loss = float('inf')\n",
        "\n",
        "for epoch in range(N_EPOCHS):\n",
        "    \n",
        "    start_time = time.time()\n",
        "    \n",
        "    train_loss = train(model, train_iterator_third, optimizer, criterion, CLIP)\n",
        "    valid_loss = evaluate(model, valid_iterator_third, criterion)\n",
        "    \n",
        "    end_time = time.time()\n",
        "    \n",
        "    epoch_mins, epoch_secs = epoch_time(start_time, end_time)\n",
        "    \n",
        "    if valid_loss < best_valid_loss:\n",
        "        best_valid_loss = valid_loss\n",
        "        torch.save(model.state_dict(), 'tut2-model7.pt')\n",
        "    \n",
        "    print(f'Epoch: {epoch+1:02} | Time: {epoch_mins}m {epoch_secs}s')\n",
        "    print(f'\\tTrain Loss: {train_loss:.3f} | Train PPL: {math.exp(train_loss):7.3f}')\n",
        "    print(f'\\t Val. Loss: {valid_loss:.3f} |  Val. PPL: {math.exp(valid_loss):7.3f}')"
      ],
      "execution_count": 37,
      "outputs": [
        {
          "output_type": "stream",
          "text": [
            "Epoch: 01 | Time: 1m 31s\n",
            "\tTrain Loss: 5.987 | Train PPL: 398.232\n",
            "\t Val. Loss: 4.100 |  Val. PPL:  60.316\n",
            "Epoch: 02 | Time: 1m 25s\n",
            "\tTrain Loss: 4.859 | Train PPL: 128.940\n",
            "\t Val. Loss: 3.886 |  Val. PPL:  48.696\n",
            "Epoch: 03 | Time: 1m 32s\n",
            "\tTrain Loss: 4.505 | Train PPL:  90.492\n",
            "\t Val. Loss: 3.671 |  Val. PPL:  39.301\n",
            "Epoch: 04 | Time: 1m 27s\n",
            "\tTrain Loss: 4.181 | Train PPL:  65.443\n",
            "\t Val. Loss: 3.597 |  Val. PPL:  36.477\n",
            "Epoch: 05 | Time: 1m 30s\n",
            "\tTrain Loss: 3.964 | Train PPL:  52.667\n",
            "\t Val. Loss: 3.608 |  Val. PPL:  36.890\n",
            "Epoch: 06 | Time: 1m 29s\n",
            "\tTrain Loss: 3.762 | Train PPL:  43.030\n",
            "\t Val. Loss: 3.560 |  Val. PPL:  35.153\n",
            "Epoch: 07 | Time: 1m 28s\n",
            "\tTrain Loss: 3.559 | Train PPL:  35.132\n",
            "\t Val. Loss: 3.659 |  Val. PPL:  38.831\n",
            "Epoch: 08 | Time: 1m 28s\n",
            "\tTrain Loss: 3.363 | Train PPL:  28.881\n",
            "\t Val. Loss: 3.687 |  Val. PPL:  39.921\n",
            "Epoch: 09 | Time: 1m 31s\n",
            "\tTrain Loss: 3.165 | Train PPL:  23.691\n",
            "\t Val. Loss: 3.755 |  Val. PPL:  42.745\n",
            "Epoch: 10 | Time: 1m 30s\n",
            "\tTrain Loss: 2.925 | Train PPL:  18.637\n",
            "\t Val. Loss: 3.828 |  Val. PPL:  45.975\n"
          ],
          "name": "stdout"
        }
      ]
    }
  ]
}