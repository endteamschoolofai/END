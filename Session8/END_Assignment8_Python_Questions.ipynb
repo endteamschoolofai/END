{
  "nbformat": 4,
  "nbformat_minor": 0,
  "metadata": {
    "colab": {
      "name": "END-Assignment8-Python Questions.ipynb",
      "provenance": [],
      "collapsed_sections": []
    },
    "kernelspec": {
      "name": "python3",
      "display_name": "Python 3"
    }
  },
  "cells": [
    {
      "cell_type": "code",
      "metadata": {
        "colab": {
          "base_uri": "https://localhost:8080/"
        },
        "id": "NeIFxWOsEi7O",
        "outputId": "9c9ae88e-5029-4462-c837-d2029a1da552"
      },
      "source": [
        "# Check if string is palindrome or not\n",
        "\n",
        "def isPalindrome(s):\n",
        "    return s == s[::-1]\n",
        "\n",
        "s = \"rtytr\"\n",
        "print(s)"
      ],
      "execution_count": null,
      "outputs": [
        {
          "output_type": "stream",
          "text": [
            "rtytr\n"
          ],
          "name": "stdout"
        }
      ]
    },
    {
      "cell_type": "code",
      "metadata": {
        "id": "meZwFYNkOz0C"
      },
      "source": [
        "# Given two lists, create a third  list by picking an odd-index element from the first list and even index element from the second list\n",
        "list1 = [1, 2, 3, 4, 5, 6]\n",
        "list2 = [7, 8, 9, 10, 11, 12, 13, 14]\n",
        "list3 = []\n",
        "\n",
        "odd = list1[1::2]\n",
        "even = list2[0::2]\n",
        "list3.extend(odd)\n",
        "list3.extend(even)\n"
      ],
      "execution_count": null,
      "outputs": []
    },
    {
      "cell_type": "code",
      "metadata": {
        "colab": {
          "base_uri": "https://localhost:8080/"
        },
        "id": "HTh8c1bSTUYx",
        "outputId": "33284ce7-67ad-4e5c-bda9-fb0285420d49"
      },
      "source": [
        "# Write a python function to check for duplicate elements in a list\n",
        "\n",
        "def checkDuplicate(inp):\n",
        "  seen = set()\n",
        "  duplicates = []\n",
        "  for e in inp:\n",
        "    if e in seen:\n",
        "      duplicates.append(e)\n",
        "    else:\n",
        "      seen.add(e)\n",
        "  return duplicates\n",
        "\n",
        "list1 = [3, 6,2, 5,7 ,7, 2, 6, 9]\n",
        "print(checkDuplicate(list1))\n",
        "\n"
      ],
      "execution_count": null,
      "outputs": [
        {
          "output_type": "stream",
          "text": [
            "[7, 2, 6]\n"
          ],
          "name": "stdout"
        }
      ]
    },
    {
      "cell_type": "code",
      "metadata": {
        "colab": {
          "base_uri": "https://localhost:8080/"
        },
        "id": "xbHBqI0Y5Wzq",
        "outputId": "a1f10bc2-f9d1-44dd-c00a-7de20ef7c241"
      },
      "source": [
        "# Write a python function to find smallest number in a list \n",
        "\n",
        "def findMin(inp):\n",
        "  min = inp[0]\n",
        "  for e in inp:\n",
        "    if e < min:\n",
        "      min = e\n",
        "  return min\n",
        "\n",
        "list1 = [4, 7, 9, 5, 6, 2, 8]\n",
        "print(findMin(list1))\n",
        "  "
      ],
      "execution_count": null,
      "outputs": [
        {
          "output_type": "stream",
          "text": [
            "2\n"
          ],
          "name": "stdout"
        }
      ]
    },
    {
      "cell_type": "code",
      "metadata": {
        "colab": {
          "base_uri": "https://localhost:8080/"
        },
        "id": "m0EYfiFeFt_y",
        "outputId": "70ca641f-76d7-4c8e-f0ad-38edd5da66a0"
      },
      "source": [
        "# Write a python function to find gcd of two numbers\n",
        "\n",
        "def gcd(a,b):\n",
        "    if a == 0:\n",
        "        return b\n",
        "    return gcd(b % a, a)\n",
        "\n",
        "num1 = 7\n",
        "num2 = 28\n",
        "print(gcd(num1, num2))    "
      ],
      "execution_count": null,
      "outputs": [
        {
          "output_type": "stream",
          "text": [
            "7\n"
          ],
          "name": "stdout"
        }
      ]
    },
    {
      "cell_type": "code",
      "metadata": {
        "colab": {
          "base_uri": "https://localhost:8080/"
        },
        "id": "CcoZS_DdGGkD",
        "outputId": "86d2df72-3f47-401a-d969-9969fa5731e8"
      },
      "source": [
        "# Given an array of integers, and a number ‘sum’, print the first pair of numbers in the array whose sum is equal to ‘sum’\n",
        "\n",
        "def findPair(arr, sum):\n",
        "  seen = set()\n",
        "  pairs = []\n",
        "\n",
        "  for a in arr:\n",
        "    temp = sum - a\n",
        "    if temp in seen:\n",
        "      pairs.append((a, temp))\n",
        "    else:\n",
        "      seen.add(a)\n",
        "\n",
        "  return pairs\n",
        "\n",
        "arr = [1, 5, 8, 3, 2, 9, -3]\n",
        "sum = 6 \n",
        "\n",
        "print(findPair(arr, sum))"
      ],
      "execution_count": null,
      "outputs": [
        {
          "output_type": "stream",
          "text": [
            "[(5, 1), (-3, 9)]\n"
          ],
          "name": "stdout"
        }
      ]
    },
    {
      "cell_type": "code",
      "metadata": {
        "colab": {
          "base_uri": "https://localhost:8080/"
        },
        "id": "Djc35w2VHan8",
        "outputId": "4a24c1d1-dd0e-44d2-84fd-74e29ef1c3c8"
      },
      "source": [
        "# Given an array, print the next greater element for every element in the same order as the input\n",
        "\n",
        "def printNGE(arr, n): \n",
        "  \n",
        "    s = list() \n",
        "    arr1 = [0 for i in range(n)] \n",
        "  \n",
        "    # iterating from n-1 to 0 \n",
        "    for i in range(n - 1, -1, -1):  \n",
        "      \n",
        "        # We will pop till we get the greater   \n",
        "        # element on top or stack gets empty \n",
        "        while (len(s) > 0 and s[-1] <= arr[i]): \n",
        "            s.pop() \n",
        "  \n",
        "        # if stack gots empty means there  \n",
        "        # is no element on right which is  \n",
        "        # greater than the current element. \n",
        "        # if not empty then the next greater  \n",
        "        # element is on top of stack \n",
        "        if (len(s) == 0): \n",
        "            arr1[i] = -1        \n",
        "        else: \n",
        "            arr1[i] = s[-1]      \n",
        "  \n",
        "        s.append(arr[i]) \n",
        "      \n",
        "    for i in range(n): \n",
        "        print(arr[i], \" ---> \", arr1[i] ) \n",
        "\n",
        "arr = [ 11, 13, 21, 3 ] \n",
        "n = len(arr) \n",
        "printNGE(arr, n) "
      ],
      "execution_count": null,
      "outputs": [
        {
          "output_type": "stream",
          "text": [
            "11  --->  13\n",
            "13  --->  21\n",
            "21  --->  -1\n",
            "3  --->  -1\n"
          ],
          "name": "stdout"
        }
      ]
    },
    {
      "cell_type": "code",
      "metadata": {
        "colab": {
          "base_uri": "https://localhost:8080/"
        },
        "id": "HjwHopSCMMee",
        "outputId": "854043b9-290a-43f5-f09e-3ddae6b3ddd4"
      },
      "source": [
        "# Write a python function to find the sum of contiguous subarray within a one-dimensional array of numbers which has the largest sum\n",
        "from sys import maxsize \n",
        "\n",
        "def maxSubArraySum(a,size): \n",
        "       \n",
        "    max_so_far = -maxsize - 1\n",
        "    max_ending_here = 0\n",
        "       \n",
        "    for i in range(0, size): \n",
        "        max_ending_here = max_ending_here + a[i] \n",
        "        if (max_so_far < max_ending_here): \n",
        "            max_so_far = max_ending_here \n",
        "  \n",
        "        if max_ending_here < 0: \n",
        "            max_ending_here = 0   \n",
        "    return max_so_far \n",
        "\n",
        "\n",
        "a = [-2, -3, 4, -1, -2, 1, 5, -3] \n",
        "print (\"Maximum contiguous sum is\", maxSubArraySum(a,len(a))) "
      ],
      "execution_count": null,
      "outputs": [
        {
          "output_type": "stream",
          "text": [
            "Maximum contiguous sum is 7\n"
          ],
          "name": "stdout"
        }
      ]
    },
    {
      "cell_type": "code",
      "metadata": {
        "colab": {
          "base_uri": "https://localhost:8080/"
        },
        "id": "vcVPeWdAQkz4",
        "outputId": "a3411b28-0d15-4c95-8451-9f0d782e8331"
      },
      "source": [
        "# Write a python function to find the Longest Common Subsequence in a pair of strings. Use dynamic programming\n",
        "\n",
        "def lcs(X , Y): \n",
        "    m = len(X) \n",
        "    n = len(Y) \n",
        "  \n",
        "    # declaring the array for storing the dp values \n",
        "    L = [[None]*(n+1) for i in range(m+1)] \n",
        "  \n",
        "    \"\"\"Following steps build L[m+1][n+1] in bottom up fashion \n",
        "    Note: L[i][j] contains length of LCS of X[0..i-1] \n",
        "    and Y[0..j-1]\"\"\"\n",
        "    for i in range(m+1): \n",
        "        for j in range(n+1): \n",
        "            if i == 0 or j == 0 : \n",
        "                L[i][j] = 0\n",
        "            elif X[i-1] == Y[j-1]: \n",
        "                L[i][j] = L[i-1][j-1]+1\n",
        "            else: \n",
        "                L[i][j] = max(L[i-1][j] , L[i][j-1]) \n",
        "  \n",
        "    # L[m][n] contains the length of LCS of X[0..n-1] & Y[0..m-1] \n",
        "    return L[m][n] \n",
        "  \n",
        "X = \"AGGTAB\"\n",
        "Y = \"GXTXAYB\"\n",
        "print (\"Length of LCS is \", lcs(X, Y))\n",
        "\n"
      ],
      "execution_count": null,
      "outputs": [
        {
          "output_type": "stream",
          "text": [
            "Length of LCS is  4\n"
          ],
          "name": "stdout"
        }
      ]
    },
    {
      "cell_type": "code",
      "metadata": {
        "colab": {
          "base_uri": "https://localhost:8080/"
        },
        "id": "IPd0beRPTQK1",
        "outputId": "5a20577d-a739-4144-a798-d13355d8b03b"
      },
      "source": [
        "# Write a python function to find the length of the Longest Common Anagram Subsequence\n",
        "\n",
        "  \n",
        "SIZE = 26\n",
        "\n",
        "def longCommomAnagramSubseq(str1, str2): \n",
        "  \n",
        "    # List for storing frequencies of each character \n",
        "    freq1 = [0] * SIZE \n",
        "    freq2 = [0] * SIZE\n",
        "    n1 = len(str1)\n",
        "    n2 = len(str2)\n",
        "    l = 0\n",
        "      \n",
        "    # calculate frequency of each character of 'str1[]' \n",
        "    for i in range(n1): \n",
        "        freq1[ord(str1[i]) - ord('a')] += 1\n",
        "      \n",
        "    # calculate frequency of each character of 'str2[]' \n",
        "    for i in range(n2) :  \n",
        "        freq2[ord(str2[i]) - ord('a')] += 1\n",
        "      \n",
        "    # for each character add its minimum frequency out of the two strings in 'len' \n",
        "    for i in range(SIZE):\n",
        "        l += min(freq1[i], freq2[i]) \n",
        "      \n",
        "    # required length \n",
        "    return l\n",
        "  \n",
        "str1 = \"abdacp\"\n",
        "str2 = \"ckamb\"\n",
        "print(\"Length = \",  longCommomAnagramSubseq(str1, str2)) \n"
      ],
      "execution_count": null,
      "outputs": [
        {
          "output_type": "stream",
          "text": [
            "Length =  3\n"
          ],
          "name": "stdout"
        }
      ]
    },
    {
      "cell_type": "code",
      "metadata": {
        "colab": {
          "base_uri": "https://localhost:8080/"
        },
        "id": "PnSNf0T-WsxZ",
        "outputId": "f63f9b45-790f-4a6f-cdd3-2638c18e801f"
      },
      "source": [
        "# Check for Balanced Brackets in an expression (well-formedness) using Stack\n",
        "def areBracketsBalanced(expr): \n",
        "    stack = [] \n",
        "  \n",
        "    # Traversing the Expression \n",
        "    for char in expr: \n",
        "        if char in [\"(\", \"{\", \"[\"]: \n",
        "  \n",
        "            # Push the element in the stack \n",
        "            stack.append(char) \n",
        "        else: \n",
        "  \n",
        "            # IF current character is not opening bracket, then it must be closing. \n",
        "            # So stack cannot be empty at this point. \n",
        "            if not stack: \n",
        "                return False\n",
        "            current_char = stack.pop() \n",
        "            if current_char == '(': \n",
        "                if char != \")\": \n",
        "                    return False\n",
        "            if current_char == '{': \n",
        "                if char != \"}\": \n",
        "                    return False\n",
        "            if current_char == '[': \n",
        "                if char != \"]\": \n",
        "                    return False\n",
        "  \n",
        "    # Check Empty Stack \n",
        "    if stack: \n",
        "        return False\n",
        "    return True\n",
        "\n",
        "\n",
        "expr = \"{()}[]\"\n",
        "if areBracketsBalanced(expr): \n",
        "    print(\"Balanced\") \n",
        "else: \n",
        "    print(\"Not Balanced\") "
      ],
      "execution_count": null,
      "outputs": [
        {
          "output_type": "stream",
          "text": [
            "Balanced\n"
          ],
          "name": "stdout"
        }
      ]
    },
    {
      "cell_type": "code",
      "metadata": {
        "colab": {
          "base_uri": "https://localhost:8080/"
        },
        "id": "YVk7htFTZoCZ",
        "outputId": "3210ff8f-cc88-4ed7-d143-878f0886803d"
      },
      "source": [
        "# Python program to print all permutations with duplicates allowed \n",
        "\n",
        "# def toString(List): \n",
        "#     return ''.join(List) \n",
        " \n",
        "# This function takes three parameters: \n",
        "# 1. String \n",
        "# 2. Starting index of the string \n",
        "# 3. Ending index of the string. \n",
        "def permute(a, l, r): \n",
        "    if l==r: \n",
        "        print (''.join(a)) \n",
        "    else: \n",
        "        for i in range(l,r+1): \n",
        "            a[l], a[i] = a[i], a[l] \n",
        "            permute(a, l+1, r) \n",
        "            a[l], a[i] = a[i], a[l] # backtrack \n",
        "\n",
        "string = \"ABC\"\n",
        "n = len(string) \n",
        "a = list(string) \n",
        "permute(a, 0, n-1) \n"
      ],
      "execution_count": null,
      "outputs": [
        {
          "output_type": "stream",
          "text": [
            "ABC\n",
            "ACB\n",
            "BAC\n",
            "BCA\n",
            "CBA\n",
            "CAB\n"
          ],
          "name": "stdout"
        }
      ]
    },
    {
      "cell_type": "code",
      "metadata": {
        "colab": {
          "base_uri": "https://localhost:8080/"
        },
        "id": "y4hoiZ8Pb7Le",
        "outputId": "c99c4404-864b-4fa8-b786-a1b84e853e67"
      },
      "source": [
        "# Longest Subsequence of a String containing only vowels\n",
        "\n",
        "def isVowel(x):   \n",
        "    # Returns true if x is vowel \n",
        "    return (x == 'a' or x == 'e'or x == 'i' or x == 'o' or x == 'u') \n",
        "      \n",
        "def longestVowelSubsequence(str):\n",
        "    answer = \"\" \n",
        "    n = len(str) \n",
        "   \n",
        "    for i in range(n): \n",
        "        if (isVowel(str[i])):\n",
        "            answer += str[i] \n",
        "  \n",
        "    return answer\n",
        "\n",
        "str = \"nirvanainfire\"\n",
        "print(longestVowelSubsequence(str)) "
      ],
      "execution_count": null,
      "outputs": [
        {
          "output_type": "stream",
          "text": [
            "iaaiie\n"
          ],
          "name": "stdout"
        }
      ]
    },
    {
      "cell_type": "code",
      "metadata": {
        "id": "m3CkcGpJkHHg"
      },
      "source": [
        "# Check whether two strings are anagram of each other\n",
        "\n",
        "def areAnagram(str1, str2):\n",
        "    n1 = len(str1)\n",
        "    n2 = len(str2)\n",
        " \n",
        "    if n1 != n2:\n",
        "        return False\n",
        " \n",
        "    # Sort both strings\n",
        "    str1 = sorted(str1)\n",
        "    str2 = sorted(str2)\n",
        " \n",
        "    # Compare sorted strings\n",
        "    for i in range(0, n1):\n",
        "        if str1[i] != str2[i]:\n",
        "            return False\n",
        " \n",
        "    return True\n"
      ],
      "execution_count": null,
      "outputs": []
    },
    {
      "cell_type": "code",
      "metadata": {
        "colab": {
          "base_uri": "https://localhost:8080/"
        },
        "id": "0Wxgt-yUxPRo",
        "outputId": "ed234600-a1ad-4852-8446-ae94a90375a7"
      },
      "source": [
        "# Sort an array containing 0 and 1 in O(n) time\n",
        "\n",
        "def segregate0and1(arr):\n",
        "    count = 0\n",
        "    n = len(arr)\n",
        "\n",
        "    for i in range(0, n) : \n",
        "        if (arr[i] == 0) : \n",
        "            count = count + 1\n",
        "  \n",
        "    for i in range(0, count) : \n",
        "        arr[i] = 0\n",
        "   \n",
        "    for i in range(count, n) : \n",
        "        arr[i] = 1\n",
        "\n",
        "arr = [ 0, 1, 0, 1, 1, 1 ]\n",
        "segregate0and1(arr)\n",
        "print(arr)"
      ],
      "execution_count": null,
      "outputs": [
        {
          "output_type": "stream",
          "text": [
            "[0, 0, 1, 1, 1, 1]\n"
          ],
          "name": "stdout"
        }
      ]
    },
    {
      "cell_type": "code",
      "metadata": {
        "colab": {
          "base_uri": "https://localhost:8080/"
        },
        "id": "zhLBqhbcJ4P2",
        "outputId": "6601064f-866a-4cd9-e998-374b548494ad"
      },
      "source": [
        "# Minimum number of subsets with distinct elements\n",
        "\n",
        "def subset(arr): \n",
        "    n = len(arr)      \n",
        "    # Traverse the input array and \n",
        "    # store frequencies of elements \n",
        "    mp = {i:0 for i in range(10)} \n",
        "    for i in range(n): \n",
        "        mp[arr[i]] += 1\n",
        "      \n",
        "    # Find the maximum value in map. \n",
        "    res = 0\n",
        "    for key, value in mp.items(): \n",
        "        res = max(res, value) \n",
        "  \n",
        "    return res \n",
        "\n",
        "arr = [5, 6, 9, 3, 4, 3, 4] \n",
        "print(subset(arr))"
      ],
      "execution_count": null,
      "outputs": [
        {
          "output_type": "stream",
          "text": [
            "2\n"
          ],
          "name": "stdout"
        }
      ]
    },
    {
      "cell_type": "code",
      "metadata": {
        "colab": {
          "base_uri": "https://localhost:8080/"
        },
        "id": "-e3vsrIaKpv7",
        "outputId": "0f5df214-0810-4b82-d0d0-d85b5af57a75"
      },
      "source": [
        "# Find a pair with the greatest product present in array\n",
        "\n",
        "from math import sqrt \n",
        "\n",
        "def findGreatest(arr): \n",
        "    n = len(arr)\n",
        "\n",
        "    # Store occurrences of all elements in hash array \n",
        "    m = dict() \n",
        "  \n",
        "    for i in arr: \n",
        "        m[i] = m.get(i, 0) + 1\n",
        "  \n",
        "    # Sort the array and traverse all elements from end. \n",
        "    arr=sorted(arr) \n",
        "  \n",
        "    for i in range(n - 1, 0, -1): \n",
        "          \n",
        "        # For every element, check if there is another element which divides it. \n",
        "        j = 0\n",
        "        while(j < i and arr[j] <= sqrt(arr[i])): \n",
        "            if (arr[i] % arr[j] == 0): \n",
        "                result = arr[i]//arr[j] \n",
        "  \n",
        "                # Check if the result value exists in array or not if yes the return arr[i] \n",
        "                if (result != arr[j] and (result in m.keys() )and m[result] > 0): \n",
        "                    return arr[i] \n",
        "  \n",
        "                # To handle the case like arr[i] = 4 and arr[j] = 2 \n",
        "                elif (result == arr[j] and (result in m.keys()) and m[result] > 1): \n",
        "                    return arr[i] \n",
        "  \n",
        "            j += 1\n",
        "  \n",
        "    return -1\n",
        "\n",
        "arr= [17, 2, 1, 15, 30] \n",
        "print(findGreatest(arr)) "
      ],
      "execution_count": null,
      "outputs": [
        {
          "output_type": "stream",
          "text": [
            "30\n"
          ],
          "name": "stdout"
        }
      ]
    },
    {
      "cell_type": "code",
      "metadata": {
        "id": "NOTsaJeLWzGT"
      },
      "source": [
        "# Partition an array of non-negative integers into two subsets such that average of both the subsets is equal\n",
        "\n",
        "\n"
      ],
      "execution_count": null,
      "outputs": []
    },
    {
      "cell_type": "code",
      "metadata": {
        "id": "GxXBzSS5j-6P"
      },
      "source": [
        "# Count of total anagram substrings\n"
      ],
      "execution_count": null,
      "outputs": []
    }
  ]
}