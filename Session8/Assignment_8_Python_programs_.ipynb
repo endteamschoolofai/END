{
  "nbformat": 4,
  "nbformat_minor": 0,
  "metadata": {
    "colab": {
      "name": "Assignment 8 - Python programs .ipynb",
      "provenance": [],
      "collapsed_sections": [],
      "authorship_tag": "ABX9TyPfQQSPqNWnHW+roHUS0Sl+",
      "include_colab_link": true
    },
    "kernelspec": {
      "name": "python3",
      "display_name": "Python 3"
    }
  },
  "cells": [
    {
      "cell_type": "markdown",
      "metadata": {
        "id": "view-in-github",
        "colab_type": "text"
      },
      "source": [
        "<a href=\"https://colab.research.google.com/github/endteamschoolofai/END/blob/main/Session8/Assignment_8_Python_programs_.ipynb\" target=\"_parent\"><img src=\"https://colab.research.google.com/assets/colab-badge.svg\" alt=\"Open In Colab\"/></a>"
      ]
    },
    {
      "cell_type": "code",
      "metadata": {
        "id": "d0vge2R0VPGh",
        "colab": {
          "base_uri": "https://localhost:8080/"
        },
        "outputId": "085cd551-8a8b-4413-d280-76c06a89015a"
      },
      "source": [
        "# write a Python program to check if year is a leap year or not\r\n",
        "\r\n",
        "year = 2000\r\n",
        "if (year % 4) == 0:\r\n",
        "   if (year % 100) == 0:\r\n",
        "       if (year % 400) == 0:\r\n",
        "           print(\"{0} is a leap year\".format(year))\r\n",
        "       else:\r\n",
        "           print(\"{0} is not a leap year\".format(year))\r\n",
        "   else:\r\n",
        "       print(\"{0} is a leap year\".format(year))\r\n",
        "else:\r\n",
        "   print(\"{0} is not a leap year\".format(year))"
      ],
      "execution_count": 1,
      "outputs": [
        {
          "output_type": "stream",
          "text": [
            "2000 is a leap year\n"
          ],
          "name": "stdout"
        }
      ]
    },
    {
      "cell_type": "code",
      "metadata": {
        "colab": {
          "base_uri": "https://localhost:8080/"
        },
        "id": "PRGy4K4U7QY-",
        "outputId": "c65228bc-a1c5-4ade-c5ad-b266f9e937cd"
      },
      "source": [
        "# write a Program to check if a number is prime or not\r\n",
        "\r\n",
        "num = 407\r\n",
        "if num > 1:\r\n",
        "   for i in range(2,num):\r\n",
        "       if (num % i) == 0:\r\n",
        "           print(num,\"is not a prime number\")\r\n",
        "           print(i,\"times\",num//i,\"is\",num)\r\n",
        "           break\r\n",
        "   else:\r\n",
        "       print(num,\"is a prime number\")\r\n",
        "else:\r\n",
        "   print(num,\"is not a prime number\")"
      ],
      "execution_count": 2,
      "outputs": [
        {
          "output_type": "stream",
          "text": [
            "407 is not a prime number\n",
            "11 times 37 is 407\n"
          ],
          "name": "stdout"
        }
      ]
    },
    {
      "cell_type": "code",
      "metadata": {
        "colab": {
          "base_uri": "https://localhost:8080/"
        },
        "id": "QphRaMCV8Cgn",
        "outputId": "94368480-28e2-4e7b-bbba-94461a67b006"
      },
      "source": [
        "# write a Program to count the number of each vowels\r\n",
        "\r\n",
        "vowels = 'aeiou'\r\n",
        "ip_str = 'Hello, have you tried our tutorial section yet?'\r\n",
        "ip_str = ip_str.casefold()\r\n",
        "count = {}.fromkeys(vowels,0)\r\n",
        "\r\n",
        "for char in ip_str:\r\n",
        "   if char in count:\r\n",
        "       count[char] += 1\r\n",
        "\r\n",
        "print(count)"
      ],
      "execution_count": 3,
      "outputs": [
        {
          "output_type": "stream",
          "text": [
            "{'a': 2, 'e': 5, 'i': 3, 'o': 5, 'u': 3}\n"
          ],
          "name": "stdout"
        }
      ]
    },
    {
      "cell_type": "code",
      "metadata": {
        "colab": {
          "base_uri": "https://localhost:8080/"
        },
        "id": "r0MRYfJI8NjD",
        "outputId": "f6cb430a-c9a0-47c8-87c7-08d167d80d51"
      },
      "source": [
        "# write a Program to perform different set operations like in mathematics\r\n",
        "\r\n",
        "E = {0, 2, 4, 6, 8};\r\n",
        "N = {1, 2, 3, 4, 5};\r\n",
        "print(\"Union of E and N is\",E | N)\r\n",
        "print(\"Intersection of E and N is\",E & N)\r\n",
        "print(\"Difference of E and N is\",E - N)\r\n",
        "print(\"Symmetric difference of E and N is\",E ^ N)"
      ],
      "execution_count": 4,
      "outputs": [
        {
          "output_type": "stream",
          "text": [
            "Union of E and N is {0, 1, 2, 3, 4, 5, 6, 8}\n",
            "Intersection of E and N is {2, 4}\n",
            "Difference of E and N is {0, 8, 6}\n",
            "Symmetric difference of E and N is {0, 1, 3, 5, 6, 8}\n"
          ],
          "name": "stdout"
        }
      ]
    },
    {
      "cell_type": "code",
      "metadata": {
        "colab": {
          "base_uri": "https://localhost:8080/"
        },
        "id": "RoHhjJfy8ail",
        "outputId": "0fa0c5c1-27c8-4d95-db47-25f540d6512e"
      },
      "source": [
        "# write a Python program to find the factorial of a number provided by the user.\r\n",
        "\r\n",
        "num = 7\r\n",
        "factorial = 1\r\n",
        "if num < 0:\r\n",
        "   print(\"Sorry, factorial does not exist for negative numbers\")\r\n",
        "elif num == 0:\r\n",
        "   print(\"The factorial of 0 is 1\")\r\n",
        "else:\r\n",
        "   for i in range(1,num + 1):\r\n",
        "       factorial = factorial*i\r\n",
        "   print(\"The factorial of\",num,\"is\",factorial)"
      ],
      "execution_count": 5,
      "outputs": [
        {
          "output_type": "stream",
          "text": [
            "The factorial of 7 is 5040\n"
          ],
          "name": "stdout"
        }
      ]
    },
    {
      "cell_type": "code",
      "metadata": {
        "colab": {
          "base_uri": "https://localhost:8080/"
        },
        "id": "fnVBGD4v8lEC",
        "outputId": "0a00e4c8-3ad7-417f-f640-22406a5b8021"
      },
      "source": [
        "# write Multiplication table (from 1 to 10) in Python\r\n",
        "\r\n",
        "num = 12\r\n",
        "for i in range(1, 11):\r\n",
        "   print(num, 'x', i, '=', num*i)"
      ],
      "execution_count": 6,
      "outputs": [
        {
          "output_type": "stream",
          "text": [
            "12 x 1 = 12\n",
            "12 x 2 = 24\n",
            "12 x 3 = 36\n",
            "12 x 4 = 48\n",
            "12 x 5 = 60\n",
            "12 x 6 = 72\n",
            "12 x 7 = 84\n",
            "12 x 8 = 96\n",
            "12 x 9 = 108\n",
            "12 x 10 = 120\n"
          ],
          "name": "stdout"
        }
      ]
    },
    {
      "cell_type": "code",
      "metadata": {
        "colab": {
          "base_uri": "https://localhost:8080/"
        },
        "id": "Jq2GTD0I8tVA",
        "outputId": "03e0e87e-16fe-4408-9f78-112759673962"
      },
      "source": [
        "# write a Python program to convert decimal into other number systems\r\n",
        "\r\n",
        "dec = 344\r\n",
        "print(\"The decimal value of\", dec, \"is:\")\r\n",
        "print(bin(dec), \"in binary.\")\r\n",
        "print(oct(dec), \"in octal.\")\r\n",
        "print(hex(dec), \"in hexadecimal.\")"
      ],
      "execution_count": 7,
      "outputs": [
        {
          "output_type": "stream",
          "text": [
            "The decimal value of 344 is:\n",
            "0b101011000 in binary.\n",
            "0o530 in octal.\n",
            "0x158 in hexadecimal.\n"
          ],
          "name": "stdout"
        }
      ]
    },
    {
      "cell_type": "code",
      "metadata": {
        "colab": {
          "base_uri": "https://localhost:8080/"
        },
        "id": "-ch8o_vO83Uv",
        "outputId": "3289a3d2-b50a-493e-870d-d4aab039c34c"
      },
      "source": [
        "# write a Python function to find H.C.F of two numbers\r\n",
        "\r\n",
        "def compute_hcf(x, y):\r\n",
        "    if x > y:\r\n",
        "        smaller = y\r\n",
        "    else:\r\n",
        "        smaller = x\r\n",
        "    for i in range(1, smaller+1):\r\n",
        "        if((x % i == 0) and (y % i == 0)):\r\n",
        "            hcf = i \r\n",
        "    return hcf\r\n",
        "\r\n",
        "num1 = 54 \r\n",
        "num2 = 24\r\n",
        "print(\"The H.C.F. is\", compute_hcf(num1, num2))"
      ],
      "execution_count": 8,
      "outputs": [
        {
          "output_type": "stream",
          "text": [
            "The H.C.F. is 6\n"
          ],
          "name": "stdout"
        }
      ]
    },
    {
      "cell_type": "code",
      "metadata": {
        "colab": {
          "base_uri": "https://localhost:8080/"
        },
        "id": "eyyyEVMS9ETo",
        "outputId": "2794d6e7-3cd2-4632-c95e-aa61bd68503e"
      },
      "source": [
        "# write Python function to find the L.C.M. of two input number\r\n",
        "\r\n",
        "def compute_lcm(x, y):\r\n",
        "   if x > y:\r\n",
        "       greater = x\r\n",
        "   else:\r\n",
        "       greater = y\r\n",
        "\r\n",
        "   while(True):\r\n",
        "       if((greater % x == 0) and (greater % y == 0)):\r\n",
        "           lcm = greater\r\n",
        "           break\r\n",
        "       greater += 1\r\n",
        "\r\n",
        "   return lcm\r\n",
        "\r\n",
        "num1 = 54\r\n",
        "num2 = 24\r\n",
        "print(\"The L.C.M. is\", compute_lcm(num1, num2))"
      ],
      "execution_count": 9,
      "outputs": [
        {
          "output_type": "stream",
          "text": [
            "The L.C.M. is 216\n"
          ],
          "name": "stdout"
        }
      ]
    },
    {
      "cell_type": "code",
      "metadata": {
        "colab": {
          "base_uri": "https://localhost:8080/"
        },
        "id": "fzcbM6Jz9QZt",
        "outputId": "d800f572-6d3d-462c-d140-39705e67128a"
      },
      "source": [
        "# write a Program to find the ASCII value of the given character\r\n",
        "\r\n",
        "c = 'p'\r\n",
        "print(\"The ASCII value of '\" + c + \"' is\", ord(c))"
      ],
      "execution_count": 10,
      "outputs": [
        {
          "output_type": "stream",
          "text": [
            "The ASCII value of 'p' is 112\n"
          ],
          "name": "stdout"
        }
      ]
    },
    {
      "cell_type": "code",
      "metadata": {
        "colab": {
          "base_uri": "https://localhost:8080/"
        },
        "id": "QT8jDQfh9V2a",
        "outputId": "22ba8374-9d02-4e25-e061-7db6187eb9a0"
      },
      "source": [
        "# write a Python program to display all the prime numbers within an interval\r\n",
        "\r\n",
        "lower = 900\r\n",
        "upper = 1000\r\n",
        "\r\n",
        "print(\"Prime numbers between\", lower, \"and\", upper, \"are:\")\r\n",
        "\r\n",
        "for num in range(lower, upper + 1):\r\n",
        "   # all prime numbers are greater than 1\r\n",
        "   if num > 1:\r\n",
        "       for i in range(2, num):\r\n",
        "           if (num % i) == 0:\r\n",
        "               break\r\n",
        "       else:\r\n",
        "           print(num)"
      ],
      "execution_count": 11,
      "outputs": [
        {
          "output_type": "stream",
          "text": [
            "Prime numbers between 900 and 1000 are:\n",
            "907\n",
            "911\n",
            "919\n",
            "929\n",
            "937\n",
            "941\n",
            "947\n",
            "953\n",
            "967\n",
            "971\n",
            "977\n",
            "983\n",
            "991\n",
            "997\n"
          ],
          "name": "stdout"
        }
      ]
    },
    {
      "cell_type": "code",
      "metadata": {
        "colab": {
          "base_uri": "https://localhost:8080/"
        },
        "id": "9J9Lj8GI9o3O",
        "outputId": "981a729f-4e6a-466f-c91e-738a47fbe530"
      },
      "source": [
        "# write a Python Program to Remove Punctuations From a String\r\n",
        "\r\n",
        "punctuations = '''!()-[]{};:'\"\\,<>./?@#$%^&*_~'''\r\n",
        "my_str = \"Hello!!!, he said ---and went.\"\r\n",
        "no_punct = \"\"\r\n",
        "for char in my_str:\r\n",
        "   if char not in punctuations:\r\n",
        "       no_punct = no_punct + char\r\n",
        "\r\n",
        "# display the unpunctuated string\r\n",
        "print(no_punct)"
      ],
      "execution_count": 12,
      "outputs": [
        {
          "output_type": "stream",
          "text": [
            "Hello he said and went\n"
          ],
          "name": "stdout"
        }
      ]
    },
    {
      "cell_type": "code",
      "metadata": {
        "colab": {
          "base_uri": "https://localhost:8080/"
        },
        "id": "6UmyvPQ2984W",
        "outputId": "1e946db0-95c8-49ed-c244-690f3eae7503"
      },
      "source": [
        "# write a Python program to check if the number is an Armstrong number or not\r\n",
        "\r\n",
        "# take input from the user\r\n",
        "num = 663\r\n",
        "sum = 0\r\n",
        "temp = num\r\n",
        "while temp > 0:\r\n",
        "   digit = temp % 10\r\n",
        "   sum += digit ** 3\r\n",
        "   temp //= 10\r\n",
        "\r\n",
        "if num == sum:\r\n",
        "   print(num,\"is an Armstrong number\")\r\n",
        "else:\r\n",
        "   print(num,\"is not an Armstrong number\")"
      ],
      "execution_count": 13,
      "outputs": [
        {
          "output_type": "stream",
          "text": [
            "663 is not an Armstrong number\n"
          ],
          "name": "stdout"
        }
      ]
    },
    {
      "cell_type": "code",
      "metadata": {
        "colab": {
          "base_uri": "https://localhost:8080/"
        },
        "id": "aq9YhkAA-d0_",
        "outputId": "9ad8ee17-17fc-4703-be29-04ac858a85df"
      },
      "source": [
        "# write a Python program to swap two variables\r\n",
        "\r\n",
        "x = 5\r\n",
        "y = 10\r\n",
        "temp = x\r\n",
        "x = y\r\n",
        "y = temp\r\n",
        "\r\n",
        "print('The value of x after swapping: {}'.format(x))\r\n",
        "print('The value of y after swapping: {}'.format(y))"
      ],
      "execution_count": 14,
      "outputs": [
        {
          "output_type": "stream",
          "text": [
            "The value of x after swapping: 10\n",
            "The value of y after swapping: 5\n"
          ],
          "name": "stdout"
        }
      ]
    },
    {
      "cell_type": "code",
      "metadata": {
        "colab": {
          "base_uri": "https://localhost:8080/"
        },
        "id": "ibUoasBT-ul3",
        "outputId": "f550c092-1cde-48d5-c45a-681f2ee69061"
      },
      "source": [
        "# write a python program to Display the powers of 2 using anonymous function\r\n",
        "\r\n",
        "terms = 15\r\n",
        "result = list(map(lambda x: 2 ** x, range(terms)))\r\n",
        "\r\n",
        "print(\"The total terms are:\",terms)\r\n",
        "for i in range(terms):\r\n",
        "   print(\"2 raised to power\",i,\"is\",result[i])"
      ],
      "execution_count": 15,
      "outputs": [
        {
          "output_type": "stream",
          "text": [
            "The total terms are: 15\n",
            "2 raised to power 0 is 1\n",
            "2 raised to power 1 is 2\n",
            "2 raised to power 2 is 4\n",
            "2 raised to power 3 is 8\n",
            "2 raised to power 4 is 16\n",
            "2 raised to power 5 is 32\n",
            "2 raised to power 6 is 64\n",
            "2 raised to power 7 is 128\n",
            "2 raised to power 8 is 256\n",
            "2 raised to power 9 is 512\n",
            "2 raised to power 10 is 1024\n",
            "2 raised to power 11 is 2048\n",
            "2 raised to power 12 is 4096\n",
            "2 raised to power 13 is 8192\n",
            "2 raised to power 14 is 16384\n"
          ],
          "name": "stdout"
        }
      ]
    },
    {
      "cell_type": "code",
      "metadata": {
        "colab": {
          "base_uri": "https://localhost:8080/"
        },
        "id": "a87lEUgt-7fq",
        "outputId": "cf869557-5bdd-4118-d561-5f72abfa9040"
      },
      "source": [
        "# write a Python program to find the sum of natural using recursive function\r\n",
        "\r\n",
        "def recur_sum(n):\r\n",
        "   if n <= 1:\r\n",
        "       return n\r\n",
        "   else:\r\n",
        "       return n + recur_sum(n-1)\r\n",
        "\r\n",
        "num = 16\r\n",
        "if num < 0:\r\n",
        "   print(\"Enter a positive number\")\r\n",
        "else:\r\n",
        "   print(\"The sum is\",recur_sum(num))"
      ],
      "execution_count": 16,
      "outputs": [
        {
          "output_type": "stream",
          "text": [
            "The sum is 136\n"
          ],
          "name": "stdout"
        }
      ]
    },
    {
      "cell_type": "code",
      "metadata": {
        "colab": {
          "base_uri": "https://localhost:8080/"
        },
        "id": "xiVyGoj1_E5v",
        "outputId": "b5aa438d-2451-4f68-dcca-e2bb3bd1bbe1"
      },
      "source": [
        "# write anonymous  function to find all the numbers divisible by 13 in the list.\r\n",
        "my_list = [12, 65, 54, 39, 102, 339, 221,]\r\n",
        "result = list(filter(lambda x: (x % 13 == 0), my_list))\r\n",
        "print(\"Numbers divisible by 13 are\",result)"
      ],
      "execution_count": 17,
      "outputs": [
        {
          "output_type": "stream",
          "text": [
            "Numbers divisible by 13 are [65, 39, 221]\n"
          ],
          "name": "stdout"
        }
      ]
    },
    {
      "cell_type": "code",
      "metadata": {
        "colab": {
          "base_uri": "https://localhost:8080/"
        },
        "id": "WIgjyJFa_Z6U",
        "outputId": "d83f8280-ccc8-40b4-9d71-39c8e7aa9959"
      },
      "source": [
        "# write a Program to transpose a matrix using a nested loop\r\n",
        "\r\n",
        "X = [[12,7],\r\n",
        "    [4 ,5],\r\n",
        "    [3 ,8]]\r\n",
        "\r\n",
        "result = [[0,0,0],\r\n",
        "         [0,0,0]]\r\n",
        "\r\n",
        "for i in range(len(X)):\r\n",
        "   for j in range(len(X[0])):\r\n",
        "       result[j][i] = X[i][j]\r\n",
        "\r\n",
        "for r in result:\r\n",
        "   print(r)"
      ],
      "execution_count": 18,
      "outputs": [
        {
          "output_type": "stream",
          "text": [
            "[12, 4, 3]\n",
            "[7, 5, 8]\n"
          ],
          "name": "stdout"
        }
      ]
    },
    {
      "cell_type": "code",
      "metadata": {
        "colab": {
          "base_uri": "https://localhost:8080/"
        },
        "id": "5Cz-7Eze_2Wa",
        "outputId": "d53ac231-5943-42f1-f8de-d3c2a4835e7b"
      },
      "source": [
        "# write a Program to multiply two matrices using nested loops\r\n",
        "\r\n",
        "X = [[12,7,3],\r\n",
        "    [4 ,5,6],\r\n",
        "    [7 ,8,9]]\r\n",
        "\r\n",
        "Y = [[5,8,1,2],\r\n",
        "    [6,7,3,0],\r\n",
        "    [4,5,9,1]]\r\n",
        "\r\n",
        "result = [[0,0,0,0],\r\n",
        "         [0,0,0,0],\r\n",
        "         [0,0,0,0]]\r\n",
        "\r\n",
        "for i in range(len(X)):\r\n",
        "   for j in range(len(Y[0])):\r\n",
        "       for k in range(len(Y)):\r\n",
        "           result[i][j] += X[i][k] * Y[k][j]\r\n",
        "\r\n",
        "for r in result:\r\n",
        "   print(r)"
      ],
      "execution_count": 19,
      "outputs": [
        {
          "output_type": "stream",
          "text": [
            "[114, 160, 60, 27]\n",
            "[74, 97, 73, 14]\n",
            "[119, 157, 112, 23]\n"
          ],
          "name": "stdout"
        }
      ]
    },
    {
      "cell_type": "code",
      "metadata": {
        "colab": {
          "base_uri": "https://localhost:8080/"
        },
        "id": "hWbIYy-AAEkU",
        "outputId": "69a58415-ef46-430d-8eec-128e54d15cea"
      },
      "source": [
        "# write a Program to add two matrices using nested loop\r\n",
        "\r\n",
        "X = [[12,7,3],\r\n",
        "    [4 ,5,6],\r\n",
        "    [7 ,8,9]]\r\n",
        "\r\n",
        "Y = [[5,8,1],\r\n",
        "    [6,7,3],\r\n",
        "    [4,5,9]]\r\n",
        "\r\n",
        "result = [[0,0,0],\r\n",
        "         [0,0,0],\r\n",
        "         [0,0,0]]\r\n",
        "\r\n",
        "# iterate through rows\r\n",
        "for i in range(len(X)):\r\n",
        "   # iterate through columns\r\n",
        "   for j in range(len(X[0])):\r\n",
        "       result[i][j] = X[i][j] + Y[i][j]\r\n",
        "\r\n",
        "for r in result:\r\n",
        "   print(r)"
      ],
      "execution_count": 20,
      "outputs": [
        {
          "output_type": "stream",
          "text": [
            "[17, 15, 4]\n",
            "[10, 12, 9]\n",
            "[11, 13, 18]\n"
          ],
          "name": "stdout"
        }
      ]
    },
    {
      "cell_type": "code",
      "metadata": {
        "colab": {
          "base_uri": "https://localhost:8080/"
        },
        "id": "qBqqicZtAHN6",
        "outputId": "4afd9ed6-6db6-4683-be15-8e6c3ef57364"
      },
      "source": [
        "# write a Python Program to find the area of triangle\r\n",
        "\r\n",
        "a = 5\r\n",
        "b = 6\r\n",
        "c = 7\r\n",
        "s = (a + b + c) / 2\r\n",
        "area = (s*(s-a)*(s-b)*(s-c)) ** 0.5\r\n",
        "print('The area of the triangle is %0.2f' %area)"
      ],
      "execution_count": 21,
      "outputs": [
        {
          "output_type": "stream",
          "text": [
            "The area of the triangle is 14.70\n"
          ],
          "name": "stdout"
        }
      ]
    },
    {
      "cell_type": "code",
      "metadata": {
        "colab": {
          "base_uri": "https://localhost:8080/"
        },
        "id": "QEzF5AiAAgXs",
        "outputId": "7f8d9374-0eb2-4025-9b89-82f1eb88e7e5"
      },
      "source": [
        "# write a python program to add two numbers\r\n",
        "\r\n",
        "num1 = 1.5\r\n",
        "num2 = 6.3\r\n",
        "sum = num1 + num2\r\n",
        "print('The sum of {0} and {1} is {2}'.format(num1, num2, sum))"
      ],
      "execution_count": 22,
      "outputs": [
        {
          "output_type": "stream",
          "text": [
            "The sum of 1.5 and 6.3 is 7.8\n"
          ],
          "name": "stdout"
        }
      ]
    },
    {
      "cell_type": "code",
      "metadata": {
        "colab": {
          "base_uri": "https://localhost:8080/"
        },
        "id": "AwQMUgpOAqKL",
        "outputId": "16b181ba-c3dd-476c-b6fb-dc44e41e40ec"
      },
      "source": [
        "# write a Program to sort alphabetically the words form a string provided by the user\r\n",
        "\r\n",
        "my_str = \"Hello this Is an Example With cased letters\"\r\n",
        "words = [word.lower() for word in my_str.split()]\r\n",
        "words.sort()\r\n",
        "print(\"The sorted words are:\")\r\n",
        "for word in words:\r\n",
        "   print(word)"
      ],
      "execution_count": 23,
      "outputs": [
        {
          "output_type": "stream",
          "text": [
            "The sorted words are:\n",
            "an\n",
            "cased\n",
            "example\n",
            "hello\n",
            "is\n",
            "letters\n",
            "this\n",
            "with\n"
          ],
          "name": "stdout"
        }
      ]
    },
    {
      "cell_type": "code",
      "metadata": {
        "colab": {
          "base_uri": "https://localhost:8080/"
        },
        "id": "S_n9-HVeA0wS",
        "outputId": "e817b5e1-11cf-4091-9874-27a3daeb3908"
      },
      "source": [
        "# write a Function to print binary number using recursion\r\n",
        "def convertToBinary(n):\r\n",
        "   if n > 1:\r\n",
        "       convertToBinary(n//2)\r\n",
        "   print(n % 2,end = '')\r\n",
        "dec = 34\r\n",
        "\r\n",
        "convertToBinary(dec)\r\n",
        "print()"
      ],
      "execution_count": 24,
      "outputs": [
        {
          "output_type": "stream",
          "text": [
            "100010\n"
          ],
          "name": "stdout"
        }
      ]
    },
    {
      "cell_type": "code",
      "metadata": {
        "colab": {
          "base_uri": "https://localhost:8080/"
        },
        "id": "IUs3iBS1BD71",
        "outputId": "c3652dbb-2521-42b5-87fd-d76bd5769cf8"
      },
      "source": [
        "# write a Python program to display the Fibonacci sequence\r\n",
        "\r\n",
        "def recur_fibo(n):\r\n",
        "   if n <= 1:\r\n",
        "       return n\r\n",
        "   else:\r\n",
        "       return(recur_fibo(n-1) + recur_fibo(n-2))\r\n",
        "\r\n",
        "nterms = 10\r\n",
        "if nterms <= 0:\r\n",
        "   print(\"Plese enter a positive integer\")\r\n",
        "else:\r\n",
        "   print(\"Fibonacci sequence:\")\r\n",
        "   for i in range(nterms):\r\n",
        "       print(recur_fibo(i))"
      ],
      "execution_count": 25,
      "outputs": [
        {
          "output_type": "stream",
          "text": [
            "Fibonacci sequence:\n",
            "0\n",
            "1\n",
            "1\n",
            "2\n",
            "3\n",
            "5\n",
            "8\n",
            "13\n",
            "21\n",
            "34\n"
          ],
          "name": "stdout"
        }
      ]
    },
    {
      "cell_type": "code",
      "metadata": {
        "colab": {
          "base_uri": "https://localhost:8080/"
        },
        "id": "o384RqLyC99a",
        "outputId": "a819faa6-2f84-414c-8ab0-d20f5c82babd"
      },
      "source": [
        "# write a Python function to Split the list and add the first part to the end\r\n",
        "\r\n",
        "def split(arr, n, k):  \r\n",
        "    for i in range(0, k):  \r\n",
        "        x = arr[0] \r\n",
        "        for j in range(0, n-1): \r\n",
        "            arr[j] = arr[j + 1] \r\n",
        "          \r\n",
        "        arr[n-1] = x \r\n",
        "          \r\n",
        "\r\n",
        "arr = [12, 10, 5, 6, 52, 36] \r\n",
        "n = len(arr) \r\n",
        "position = 2\r\n",
        "split(arr, n, position) \r\n",
        "  \r\n",
        "for i in range(0, n):  \r\n",
        "    print(arr[i], end = ' ') "
      ],
      "execution_count": 26,
      "outputs": [
        {
          "output_type": "stream",
          "text": [
            "5 6 52 36 12 10 "
          ],
          "name": "stdout"
        }
      ]
    },
    {
      "cell_type": "code",
      "metadata": {
        "colab": {
          "base_uri": "https://localhost:8080/"
        },
        "id": "naoHEZlGC9mv",
        "outputId": "591b7b35-44c4-494e-a8a8-4cec79b1e02d"
      },
      "source": [
        "# write a Python Program for Sum of cubes of first n natural numbers\r\n",
        "\r\n",
        "def sumOfSeries(n): \r\n",
        "    sum = 0\r\n",
        "    for i in range(1, n+1): \r\n",
        "        sum +=i*i*i \r\n",
        "          \r\n",
        "    return sum\r\n",
        "n = 5\r\n",
        "print(sumOfSeries(n)) "
      ],
      "execution_count": 27,
      "outputs": [
        {
          "output_type": "stream",
          "text": [
            "225\n"
          ],
          "name": "stdout"
        }
      ]
    },
    {
      "cell_type": "code",
      "metadata": {
        "colab": {
          "base_uri": "https://localhost:8080/"
        },
        "id": "pgU_xK8HEMnU",
        "outputId": "66645866-d6d1-4c53-9051-d7671baec722"
      },
      "source": [
        "#write a Python Program for list rotation\r\n",
        "\r\n",
        "def leftRotate(arr, d, n): \r\n",
        "    for i in range(d): \r\n",
        "        temp = arr[0] \r\n",
        "        for i in range(n-1): \r\n",
        "            arr[i] = arr[i+1] \r\n",
        "        arr[n-1] = temp \r\n",
        "\r\n",
        "arr = [1, 2, 3, 4, 5, 6, 7] \r\n",
        "leftRotate(arr, 2, 7) \r\n",
        "for i in range(7): \r\n",
        "    print (\"%d\"% arr[i],end=\" \")  "
      ],
      "execution_count": 28,
      "outputs": [
        {
          "output_type": "stream",
          "text": [
            "3 4 5 6 7 1 2 "
          ],
          "name": "stdout"
        }
      ]
    },
    {
      "cell_type": "code",
      "metadata": {
        "colab": {
          "base_uri": "https://localhost:8080/"
        },
        "id": "lqdz91keF4V1",
        "outputId": "653b2429-9fd7-4fc2-a17f-4acba87d9814"
      },
      "source": [
        "# write a python program to Check if given list is Monotonic \r\n",
        "def isMonotonic(A): \r\n",
        "    return (all(A[i] <= A[i + 1] for i in range(len(A) - 1)) or\r\n",
        "            all(A[i] >= A[i + 1] for i in range(len(A) - 1))) \r\n",
        "A = [6, 5, 4, 4] \r\n",
        "print(isMonotonic(A)) "
      ],
      "execution_count": 29,
      "outputs": [
        {
          "output_type": "stream",
          "text": [
            "True\n"
          ],
          "name": "stdout"
        }
      ]
    },
    {
      "cell_type": "code",
      "metadata": {
        "colab": {
          "base_uri": "https://localhost:8080/"
        },
        "id": "v46g-J2PGI1Z",
        "outputId": "d0d26841-07bb-4967-8257-4c369485175a"
      },
      "source": [
        "# write a Python Program to find largest element in a list\r\n",
        "def largest(arr,n): \r\n",
        "    max = arr[0] \r\n",
        "    for i in range(1, n): \r\n",
        "        if arr[i] > max: \r\n",
        "            max = arr[i] \r\n",
        "    return max\r\n",
        "  \r\n",
        "arr = [10, 324, 45, 90, 9808] \r\n",
        "n = len(arr) \r\n",
        "Ans = largest(arr,n) \r\n",
        "print (\"Largest in given array is\",Ans) "
      ],
      "execution_count": 30,
      "outputs": [
        {
          "output_type": "stream",
          "text": [
            "Largest in given array is 9808\n"
          ],
          "name": "stdout"
        }
      ]
    },
    {
      "cell_type": "code",
      "metadata": {
        "colab": {
          "base_uri": "https://localhost:8080/"
        },
        "id": "queQNXzWHdf7",
        "outputId": "0d381a40-d245-41de-97f8-2c2fbf233cc1"
      },
      "source": [
        "#write a python program for tuple multiplication\r\n",
        "test_tup1 = (10, 4, 5, 6) \r\n",
        "test_tup2 = (5, 6, 7, 5) \r\n",
        "print(\"The original tuple 1 : \" + str(test_tup1)) \r\n",
        "print(\"The original tuple 2 : \" + str(test_tup2)) \r\n",
        "\r\n",
        "res = tuple(ele1 * ele2 for ele1, ele2 in zip(test_tup1, test_tup2)) \r\n",
        "print(\"The multiplied tuple : \" + str(res)) "
      ],
      "execution_count": 31,
      "outputs": [
        {
          "output_type": "stream",
          "text": [
            "The original tuple 1 : (10, 4, 5, 6)\n",
            "The original tuple 2 : (5, 6, 7, 5)\n",
            "The multiplied tuple : (50, 24, 35, 30)\n"
          ],
          "name": "stdout"
        }
      ]
    },
    {
      "cell_type": "code",
      "metadata": {
        "colab": {
          "base_uri": "https://localhost:8080/"
        },
        "id": "aun1UAkEH8oV",
        "outputId": "ebbac666-b96a-49d0-f6ac-75aa5fddfd45"
      },
      "source": [
        "#write a python program for Tuple list cross multiplication\r\n",
        "\r\n",
        "test_list1 = [(2, 4), (6, 7), (5, 1)] \r\n",
        "test_list2 = [(5, 4), (8, 10), (8, 14)] \r\n",
        "  \r\n",
        "print(\"The original list 1 : \" + str(test_list1)) \r\n",
        "print(\"The original list 2 : \" + str(test_list2)) \r\n",
        "\r\n",
        "res = [(x[0] * y[0], x[1] * y[1]) for x, y in zip(test_list1, test_list2)] \r\n",
        "\r\n",
        "print(\"The multiplication across lists is : \" + str(res)) "
      ],
      "execution_count": 32,
      "outputs": [
        {
          "output_type": "stream",
          "text": [
            "The original list 1 : [(2, 4), (6, 7), (5, 1)]\n",
            "The original list 2 : [(5, 4), (8, 10), (8, 14)]\n",
            "The multiplication across lists is : [(10, 16), (48, 70), (40, 14)]\n"
          ],
          "name": "stdout"
        }
      ]
    }
  ]
}